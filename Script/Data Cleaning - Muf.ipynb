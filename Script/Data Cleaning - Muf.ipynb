{
 "cells": [
  {
   "cell_type": "markdown",
   "metadata": {},
   "source": [
    "# Data Cleaning\n",
    "### Muf Tayebaly"
   ]
  },
  {
   "cell_type": "code",
   "execution_count": 35,
   "metadata": {},
   "outputs": [],
   "source": [
    "#imports\n",
    "import pandas as pd\n",
    "import numpy as np\n",
    "import pickle as pk\n",
    "import string\n",
    "import nltk\n",
    "from nltk.corpus import stopwords\n",
    "from nltk.corpus import wordnet\n",
    "from nltk import word_tokenize, pos_tag\n",
    "from nltk.stem import WordNetLemmatizer\n",
    "import string\n",
    "import re\n",
    "from random import randint\n",
    "from collections import defaultdict"
   ]
  },
  {
   "cell_type": "markdown",
   "metadata": {},
   "source": [
    "### Download nltk reference data if not already available"
   ]
  },
  {
   "cell_type": "code",
   "execution_count": 15,
   "metadata": {},
   "outputs": [
    {
     "name": "stderr",
     "output_type": "stream",
     "text": [
      "[nltk_data] Downloading package stopwords to\n",
      "[nltk_data]     C:\\Users\\XBBNWBL\\AppData\\Roaming\\nltk_data...\n",
      "[nltk_data]   Unzipping corpora\\stopwords.zip.\n"
     ]
    },
    {
     "data": {
      "text/plain": [
       "True"
      ]
     },
     "execution_count": 15,
     "metadata": {},
     "output_type": "execute_result"
    }
   ],
   "source": [
    "#nltk.download('wordnet')\n",
    "#nltk.download('punkt')\n",
    "#nltk.download('averaged_perceptron_tagger')\n",
    "#nltk.download('stopwords')"
   ]
  },
  {
   "cell_type": "code",
   "execution_count": 3,
   "metadata": {},
   "outputs": [
    {
     "data": {
      "text/html": [
       "<div>\n",
       "<style scoped>\n",
       "    .dataframe tbody tr th:only-of-type {\n",
       "        vertical-align: middle;\n",
       "    }\n",
       "\n",
       "    .dataframe tbody tr th {\n",
       "        vertical-align: top;\n",
       "    }\n",
       "\n",
       "    .dataframe thead th {\n",
       "        text-align: right;\n",
       "    }\n",
       "</style>\n",
       "<table border=\"1\" class=\"dataframe\">\n",
       "  <thead>\n",
       "    <tr style=\"text-align: right;\">\n",
       "      <th></th>\n",
       "      <th>content_id</th>\n",
       "      <th>content_body_clean</th>\n",
       "      <th>content_title_clean</th>\n",
       "      <th>label</th>\n",
       "      <th>economy</th>\n",
       "      <th>topic2</th>\n",
       "      <th>science</th>\n",
       "      <th>mention_Trump</th>\n",
       "      <th>mention_Clinton</th>\n",
       "      <th>mention_Democrat</th>\n",
       "      <th>...</th>\n",
       "      <th>mention_terrorist</th>\n",
       "      <th>mention_attack</th>\n",
       "      <th>mention_NRA</th>\n",
       "      <th>mention_sanctuary</th>\n",
       "      <th>mention_socialist</th>\n",
       "      <th>mention_fascist</th>\n",
       "      <th>mention_communist</th>\n",
       "      <th>mention_nationalist</th>\n",
       "      <th>mention_2A</th>\n",
       "      <th>content_source_desc</th>\n",
       "    </tr>\n",
       "  </thead>\n",
       "  <tbody>\n",
       "    <tr>\n",
       "      <td>0</td>\n",
       "      <td>60</td>\n",
       "      <td>Republicans in Congress are at a make or break...</td>\n",
       "      <td>Tax reform now -- failure to act could mean mi...</td>\n",
       "      <td>9</td>\n",
       "      <td>1</td>\n",
       "      <td>0</td>\n",
       "      <td>0</td>\n",
       "      <td>1</td>\n",
       "      <td>0</td>\n",
       "      <td>0</td>\n",
       "      <td>...</td>\n",
       "      <td>0</td>\n",
       "      <td>0</td>\n",
       "      <td>0</td>\n",
       "      <td>0</td>\n",
       "      <td>0</td>\n",
       "      <td>0</td>\n",
       "      <td>0</td>\n",
       "      <td>0</td>\n",
       "      <td>0</td>\n",
       "      <td>Fox News</td>\n",
       "    </tr>\n",
       "    <tr>\n",
       "      <td>1</td>\n",
       "      <td>61</td>\n",
       "      <td>The Constitution authorizes Congress to tax Am...</td>\n",
       "      <td>Tax reform -- America needs a tax code that's ...</td>\n",
       "      <td>9</td>\n",
       "      <td>1</td>\n",
       "      <td>0</td>\n",
       "      <td>0</td>\n",
       "      <td>1</td>\n",
       "      <td>0</td>\n",
       "      <td>0</td>\n",
       "      <td>...</td>\n",
       "      <td>0</td>\n",
       "      <td>0</td>\n",
       "      <td>0</td>\n",
       "      <td>0</td>\n",
       "      <td>0</td>\n",
       "      <td>0</td>\n",
       "      <td>0</td>\n",
       "      <td>0</td>\n",
       "      <td>0</td>\n",
       "      <td>Fox News</td>\n",
       "    </tr>\n",
       "    <tr>\n",
       "      <td>2</td>\n",
       "      <td>66</td>\n",
       "      <td>A long-mothballed, unfinished casino-hotel on ...</td>\n",
       "      <td>Long-mothballed Las Vegas Strip casino-hotel s...</td>\n",
       "      <td>0</td>\n",
       "      <td>1</td>\n",
       "      <td>0</td>\n",
       "      <td>0</td>\n",
       "      <td>0</td>\n",
       "      <td>0</td>\n",
       "      <td>0</td>\n",
       "      <td>...</td>\n",
       "      <td>0</td>\n",
       "      <td>0</td>\n",
       "      <td>0</td>\n",
       "      <td>0</td>\n",
       "      <td>0</td>\n",
       "      <td>0</td>\n",
       "      <td>0</td>\n",
       "      <td>0</td>\n",
       "      <td>0</td>\n",
       "      <td>Fox News</td>\n",
       "    </tr>\n",
       "    <tr>\n",
       "      <td>3</td>\n",
       "      <td>80</td>\n",
       "      <td>If taxing foreign earnings that have already a...</td>\n",
       "      <td>Trump Tax Plan May Free Up Corporate Dollars, ...</td>\n",
       "      <td>3</td>\n",
       "      <td>1</td>\n",
       "      <td>0</td>\n",
       "      <td>0</td>\n",
       "      <td>1</td>\n",
       "      <td>0</td>\n",
       "      <td>0</td>\n",
       "      <td>...</td>\n",
       "      <td>0</td>\n",
       "      <td>0</td>\n",
       "      <td>0</td>\n",
       "      <td>0</td>\n",
       "      <td>0</td>\n",
       "      <td>0</td>\n",
       "      <td>0</td>\n",
       "      <td>0</td>\n",
       "      <td>0</td>\n",
       "      <td>The New York Times</td>\n",
       "    </tr>\n",
       "    <tr>\n",
       "      <td>4</td>\n",
       "      <td>82</td>\n",
       "      <td>Hurricane Harvey has already taken an enormous...</td>\n",
       "      <td>Hurricane Harvey is a humanitarian disaster. I...</td>\n",
       "      <td>5</td>\n",
       "      <td>1</td>\n",
       "      <td>0</td>\n",
       "      <td>0</td>\n",
       "      <td>0</td>\n",
       "      <td>0</td>\n",
       "      <td>0</td>\n",
       "      <td>...</td>\n",
       "      <td>0</td>\n",
       "      <td>0</td>\n",
       "      <td>0</td>\n",
       "      <td>0</td>\n",
       "      <td>0</td>\n",
       "      <td>0</td>\n",
       "      <td>0</td>\n",
       "      <td>0</td>\n",
       "      <td>0</td>\n",
       "      <td>Vox</td>\n",
       "    </tr>\n",
       "  </tbody>\n",
       "</table>\n",
       "<p>5 rows × 32 columns</p>\n",
       "</div>"
      ],
      "text/plain": [
       "   content_id                                 content_body_clean  \\\n",
       "0          60  Republicans in Congress are at a make or break...   \n",
       "1          61  The Constitution authorizes Congress to tax Am...   \n",
       "2          66  A long-mothballed, unfinished casino-hotel on ...   \n",
       "3          80  If taxing foreign earnings that have already a...   \n",
       "4          82  Hurricane Harvey has already taken an enormous...   \n",
       "\n",
       "                                 content_title_clean  label  economy  topic2  \\\n",
       "0  Tax reform now -- failure to act could mean mi...      9        1       0   \n",
       "1  Tax reform -- America needs a tax code that's ...      9        1       0   \n",
       "2  Long-mothballed Las Vegas Strip casino-hotel s...      0        1       0   \n",
       "3  Trump Tax Plan May Free Up Corporate Dollars, ...      3        1       0   \n",
       "4  Hurricane Harvey is a humanitarian disaster. I...      5        1       0   \n",
       "\n",
       "   science  mention_Trump  mention_Clinton  mention_Democrat  ...  \\\n",
       "0        0              1                0                 0  ...   \n",
       "1        0              1                0                 0  ...   \n",
       "2        0              0                0                 0  ...   \n",
       "3        0              1                0                 0  ...   \n",
       "4        0              0                0                 0  ...   \n",
       "\n",
       "   mention_terrorist  mention_attack  mention_NRA  mention_sanctuary  \\\n",
       "0                  0               0            0                  0   \n",
       "1                  0               0            0                  0   \n",
       "2                  0               0            0                  0   \n",
       "3                  0               0            0                  0   \n",
       "4                  0               0            0                  0   \n",
       "\n",
       "   mention_socialist  mention_fascist  mention_communist  mention_nationalist  \\\n",
       "0                  0                0                  0                    0   \n",
       "1                  0                0                  0                    0   \n",
       "2                  0                0                  0                    0   \n",
       "3                  0                0                  0                    0   \n",
       "4                  0                0                  0                    0   \n",
       "\n",
       "   mention_2A  content_source_desc  \n",
       "0           0             Fox News  \n",
       "1           0             Fox News  \n",
       "2           0             Fox News  \n",
       "3           0   The New York Times  \n",
       "4           0                  Vox  \n",
       "\n",
       "[5 rows x 32 columns]"
      ]
     },
     "execution_count": 3,
     "metadata": {},
     "output_type": "execute_result"
    }
   ],
   "source": [
    "#read data\n",
    "raw_data = pd.read_csv(\"Data/knight_data_articles.csv\")\n",
    "raw_data.head()"
   ]
  },
  {
   "cell_type": "code",
   "execution_count": 4,
   "metadata": {},
   "outputs": [
    {
     "data": {
      "text/plain": [
       "(1914, 32)"
      ]
     },
     "execution_count": 4,
     "metadata": {},
     "output_type": "execute_result"
    }
   ],
   "source": [
    "#get shape of articles\n",
    "raw_data.shape"
   ]
  },
  {
   "cell_type": "code",
   "execution_count": 6,
   "metadata": {},
   "outputs": [
    {
     "name": "stdout",
     "output_type": "stream",
     "text": [
      "Random row: 1544\n",
      "‘Unbelievable’: Heart Stents Fail to Ease Chest Pain\n",
      "A procedure used to relieve chest pain in hundreds of thousands of heart patients each year is useless for many of them, researchers reported on Wednesday.  Their study focused on the insertion of stents, tiny wire cages, to open blocked arteries. The devices are lifesaving when used to open arteries in patients in the throes of a heart attack.  But they are most often used in patients who have a blocked artery and chest pain that occurs, for example, walking up a hill or going up stairs. Sometimes patients get stents when they have no pain at all, just blockages.  Heart disease is still the leading killer of Americans — 790,000 people have heart attacks each year — and stenting is a mainstay treatment in virtually every hospital. More than 500,000 heart patients worldwide have stents inserted each year to relieve chest pain, according to the researchers. Other estimates are far higher.\n"
     ]
    }
   ],
   "source": [
    "#article sample\n",
    "random_article = randint(0,1914)\n",
    "print(\"Random row:\",random_article)\n",
    "print(raw_data[\"content_title_clean\"].iloc[random_article])\n",
    "print(raw_data[\"content_body_clean\"].iloc[random_article])"
   ]
  },
  {
   "cell_type": "code",
   "execution_count": 9,
   "metadata": {},
   "outputs": [],
   "source": [
    "#clean data\n",
    "def clean_data(text):\n",
    "    #remove punctuation, digits, extra stuff. make lowercase\n",
    "    text = text.lower()\n",
    "    text = re.sub('\\[.*?\\]', '', text)\n",
    "    text = re.sub('[%s]' % re.escape(string.punctuation), '', text)\n",
    "    text = re.sub('\\w*\\d\\w*', '', text)\n",
    "    text = re.sub('[‘’“”…]', '', text)\n",
    "    #lemma it - include POS tag in order to lemma it better\n",
    "    tag_map = defaultdict(lambda : wordnet.NOUN)\n",
    "    tag_map['J'] = wordnet.ADJ\n",
    "    tag_map['V'] = wordnet.VERB\n",
    "    tag_map['R'] = wordnet.ADV\n",
    "    lemmatizer = WordNetLemmatizer()\n",
    "    textTokens = word_tokenize(text)\n",
    "    text = [lemmatizer.lemmatize(tok, tag_map[tag[0]]) for tok, tag in pos_tag(textTokens)]\n",
    "    return \" \".join(text)"
   ]
  },
  {
   "cell_type": "code",
   "execution_count": 8,
   "metadata": {},
   "outputs": [
    {
     "data": {
      "text/plain": [
       "'a procedure use to relieve chest pain in hundred of thousand of heart patient each year be useless for many of them researcher report on wednesday their study focus on the insertion of stent tiny wire cage to open blocked artery the device be lifesaving when use to open artery in patient in the throe of a heart attack but they be most often use in patient who have a block artery and chest pain that occur for example walk up a hill or go up stair sometimes patient get stent when they have no pain at all just blockage heart disease be still the lead killer of american — people have heart attack each year — and stenting be a mainstay treatment in virtually every hospital more than heart patient worldwide have stent insert each year to relieve chest pain accord to the researcher other estimate be far high'"
      ]
     },
     "execution_count": 8,
     "metadata": {},
     "output_type": "execute_result"
    }
   ],
   "source": [
    "clean_data(raw_data[\"content_body_clean\"].iloc[random_article])"
   ]
  },
  {
   "cell_type": "code",
   "execution_count": 10,
   "metadata": {},
   "outputs": [
    {
     "data": {
      "text/plain": [
       "'a procedure use to relieve chest pain in hundred of thousand of heart patient each year be useless for many of them researcher report on wednesday their study focus on the insertion of stent tiny wire cage to open blocked artery the device be lifesaving when use to open artery in patient in the throe of a heart attack but they be most often use in patient who have a block artery and chest pain that occur for example walk up a hill or go up stair sometimes patient get stent when they have no pain at all just blockage heart disease be still the lead killer of american — people have heart attack each year — and stenting be a mainstay treatment in virtually every hospital more than heart patient worldwide have stent insert each year to relieve chest pain accord to the researcher other estimate be far high'"
      ]
     },
     "execution_count": 10,
     "metadata": {},
     "output_type": "execute_result"
    }
   ],
   "source": [
    "#create corpus\n",
    "corpus_data = raw_data\n",
    "corpus_data[\"content_body_clean\"] = corpus_data[\"content_body_clean\"].apply(clean_data)\n",
    "corpus_data[\"content_body_clean\"].iloc[random_article]"
   ]
  },
  {
   "cell_type": "markdown",
   "metadata": {},
   "source": [
    "### Save corpus as pickle"
   ]
  },
  {
   "cell_type": "code",
   "execution_count": 12,
   "metadata": {},
   "outputs": [],
   "source": [
    "corpus_data.to_pickle(\"Data/muf_articles_corpus.pkl\")"
   ]
  },
  {
   "cell_type": "markdown",
   "metadata": {},
   "source": [
    "## Article Term Matrix"
   ]
  },
  {
   "cell_type": "code",
   "execution_count": 36,
   "metadata": {},
   "outputs": [],
   "source": [
    "from sklearn.feature_extraction.text import CountVectorizer\n",
    "cv = CountVectorizer(stop_words=stopwords.words('english'))"
   ]
  },
  {
   "cell_type": "code",
   "execution_count": 37,
   "metadata": {},
   "outputs": [
    {
     "data": {
      "text/plain": [
       "(1914, 34393)"
      ]
     },
     "execution_count": 37,
     "metadata": {},
     "output_type": "execute_result"
    }
   ],
   "source": [
    "data_cv = cv.fit_transform(corpus_data[\"content_body_clean\"])\n",
    "data_atm = pd.DataFrame(data_cv.toarray(), columns=cv.get_feature_names())\n",
    "data_atm.shape"
   ]
  },
  {
   "cell_type": "code",
   "execution_count": 41,
   "metadata": {},
   "outputs": [],
   "source": [
    "data_atm.to_pickle(\"Data/muf_articles_atm.pkl\")"
   ]
  },
  {
   "cell_type": "code",
   "execution_count": null,
   "metadata": {},
   "outputs": [],
   "source": []
  }
 ],
 "metadata": {
  "kernelspec": {
   "display_name": "Python 3",
   "language": "python",
   "name": "python3"
  },
  "language_info": {
   "codemirror_mode": {
    "name": "ipython",
    "version": 3
   },
   "file_extension": ".py",
   "mimetype": "text/x-python",
   "name": "python",
   "nbconvert_exporter": "python",
   "pygments_lexer": "ipython3",
   "version": "3.7.4"
  }
 },
 "nbformat": 4,
 "nbformat_minor": 2
}
