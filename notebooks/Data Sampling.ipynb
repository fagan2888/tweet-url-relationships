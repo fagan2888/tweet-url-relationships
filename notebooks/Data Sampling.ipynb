{
 "cells": [
  {
   "cell_type": "markdown",
   "metadata": {},
   "source": [
    "**File List and Descriptions:**\n",
    "\n",
    "**article_dates.csv**: File created by Muf and Daniel that contains the dates that the articles were released (some of the dates are in earlier years than 2017 which is likely the original published date and the articles may have seen an update in 2017 which we cannot track)   \n",
    "**knight_data_ratings.csv**: Contains the ratings for an article given by each user. Also indicates whether the rating was blind or non-blind   \n",
    "**readers.csv**: Attributes about users who provided the ratings. Age group, gender, political affiliation, etc   \n",
    "**knight_data_articles.csv**: Contains the article content, title, source and some field derived from the content   \n",
    "**knight_data_urls.csv**: Contains the article content, title, source URL   \n"
   ]
  },
  {
   "cell_type": "markdown",
   "metadata": {},
   "source": [
    "### Imports"
   ]
  },
  {
   "cell_type": "code",
   "execution_count": 197,
   "metadata": {},
   "outputs": [],
   "source": [
    "import pandas as pd\n",
    "import seaborn as sns\n",
    "import matplotlib.pyplot as plt\n",
    "import math\n",
    "import datetime"
   ]
  },
  {
   "cell_type": "markdown",
   "metadata": {},
   "source": [
    "### Helper Functions"
   ]
  },
  {
   "cell_type": "code",
   "execution_count": 280,
   "metadata": {},
   "outputs": [],
   "source": [
    "def train_test_split_latest(df, date_field='date', test_size=0.2):\n",
    "    df = df.sort_values(date_field, ascending=False)\n",
    "    test_count = math.ceil(len(df) * test_size)\n",
    "    return df[test_count:], df[:test_count]"
   ]
  },
  {
   "cell_type": "code",
   "execution_count": 282,
   "metadata": {},
   "outputs": [],
   "source": [
    "def get_source_breakup(df, source_field='content_source_desc'):\n",
    "    source_counts = df.groupby(source_field)['content_id'].count().reset_index()\n",
    "    source_counts = source_counts.rename({'content_id':'article_counts'}, axis=1)\n",
    "    source_counts['article_perc'] = source_counts['article_counts']/source_counts['article_counts'].sum()\n",
    "    return source_counts"
   ]
  },
  {
   "cell_type": "code",
   "execution_count": 267,
   "metadata": {},
   "outputs": [],
   "source": [
    "def train_test_split_latest_source(df, date_field='date', source_field='content_source_desc', test_size=0.2):\n",
    "    train_all = pd.DataFrame()\n",
    "    test_all = pd.DataFrame()\n",
    "    for source in df[source_field].unique():\n",
    "        df_source = df[df[source_field]==source]\n",
    "        train, test = train_test_split_latest(df_source, date_field=date_field, test_size=test_size)\n",
    "        train_all = train_all.append(train)\n",
    "        test_all = test_all.append(test)\n",
    "        \n",
    "    return train_all, test_all"
   ]
  },
  {
   "cell_type": "code",
   "execution_count": 358,
   "metadata": {},
   "outputs": [],
   "source": [
    "def train_test_split_source(df, test_source, source_field='content_source_desc', test_size=0.2):\n",
    "    if test_source not in df[source_field].unique():\n",
    "        raise ValueError(f\"Source must be in {df[source_field].unique()}\")\n",
    "    train = df[df[source_field]!=test_source]\n",
    "    test = df[df[source_field]==test_source]\n",
    "    return train, test"
   ]
  },
  {
   "cell_type": "markdown",
   "metadata": {},
   "source": [
    "### Reading Input Files"
   ]
  },
  {
   "cell_type": "code",
   "execution_count": 297,
   "metadata": {},
   "outputs": [],
   "source": [
    "article_dates = pd.read_csv('../data/raw/article_dates.csv')\n",
    "article_dates = article_dates.drop(['Unnamed: 0'], axis=1)\n",
    "article_dates['date'] = article_dates.apply(lambda x:datetime.date(year=x['year'], month=x['month'], day=x['day']).strftime(\"%Y-%m-%d\"), axis=1)"
   ]
  },
  {
   "cell_type": "code",
   "execution_count": 298,
   "metadata": {},
   "outputs": [],
   "source": [
    "data_articles = pd.read_csv('../data/raw/knight_data_articles.csv')"
   ]
  },
  {
   "cell_type": "code",
   "execution_count": 299,
   "metadata": {},
   "outputs": [],
   "source": [
    "article_dates_source = pd.merge(article_dates, data_articles[['content_id', 'content_source_desc', 'content_title_clean', 'content_body_clean']], on='content_id', how='inner')"
   ]
  },
  {
   "cell_type": "code",
   "execution_count": 300,
   "metadata": {},
   "outputs": [],
   "source": [
    "article_ratings = pd.read_csv('../data/raw/knight_data_ratings.csv')"
   ]
  },
  {
   "cell_type": "code",
   "execution_count": 301,
   "metadata": {},
   "outputs": [],
   "source": [
    "article_rating_counts = article_ratings.groupby(['content_id', 'blind'])['rating_scale_response'].count().reset_index()"
   ]
  },
  {
   "cell_type": "code",
   "execution_count": 302,
   "metadata": {},
   "outputs": [],
   "source": [
    "article_rating_counts = article_rating_counts.rename({'rating_scale_response':'rating_counts'}, axis=1)\n",
    "article_rating_counts['blind'] = article_rating_counts['blind'].map({0:'Non Blind', 1:'Blind'})\n",
    "article_rating_counts = pd.pivot_table(article_rating_counts, index='content_id', columns='blind').reset_index()\n",
    "article_rating_counts.columns = ['content_id', 'blind_count', 'non_blind_count']\n",
    "article_rating_counts = article_rating_counts.fillna(0)"
   ]
  },
  {
   "cell_type": "markdown",
   "metadata": {},
   "source": [
    "Filtering out only articles that have at least one blind rating"
   ]
  },
  {
   "cell_type": "code",
   "execution_count": 303,
   "metadata": {},
   "outputs": [],
   "source": [
    "articles_blind = article_rating_counts[article_rating_counts['blind_count']>0]"
   ]
  },
  {
   "cell_type": "code",
   "execution_count": 304,
   "metadata": {},
   "outputs": [],
   "source": [
    "articles_info = pd.merge(article_dates_source, articles_blind, on='content_id', how='inner')"
   ]
  },
  {
   "cell_type": "markdown",
   "metadata": {},
   "source": [
    "### Splitting test by selecting the latest articles"
   ]
  },
  {
   "cell_type": "code",
   "execution_count": 305,
   "metadata": {},
   "outputs": [],
   "source": [
    "train_date, test_date = train_test_split_latest(articles_info, test_size=0.2)"
   ]
  },
  {
   "cell_type": "markdown",
   "metadata": {},
   "source": [
    "#### Writing out train and test files"
   ]
  },
  {
   "cell_type": "code",
   "execution_count": 336,
   "metadata": {},
   "outputs": [],
   "source": [
    "train_date.to_csv('../data/temp/sampling/latest/articles_train.csv')\n",
    "test_date.to_csv('../data/temp/sampling/latest/articles_test.csv')"
   ]
  },
  {
   "cell_type": "markdown",
   "metadata": {},
   "source": [
    "#### Checking breakup of the datasets by source"
   ]
  },
  {
   "cell_type": "code",
   "execution_count": 319,
   "metadata": {},
   "outputs": [],
   "source": [
    "train_source = get_source_breakup(train_date)\n",
    "train_source['type'] = 'train'"
   ]
  },
  {
   "cell_type": "code",
   "execution_count": 320,
   "metadata": {},
   "outputs": [],
   "source": [
    "test_source = get_source_breakup(test_date)\n",
    "test_source['type'] = 'test'"
   ]
  },
  {
   "cell_type": "code",
   "execution_count": 321,
   "metadata": {},
   "outputs": [],
   "source": [
    "overall_source = get_source_breakup(articles_info)\n",
    "overall_source['type'] = 'overall'"
   ]
  },
  {
   "cell_type": "code",
   "execution_count": 322,
   "metadata": {},
   "outputs": [],
   "source": [
    "all_source = pd.concat([overall_source, train_source, test_source])"
   ]
  },
  {
   "cell_type": "code",
   "execution_count": 323,
   "metadata": {},
   "outputs": [
    {
     "data": {
      "image/png": "[encoded data removed]",
      "text/plain": [
       "<Figure size 734.4x432 with 1 Axes>"
      ]
     },
     "metadata": {
      "needs_background": "light"
     },
     "output_type": "display_data"
    }
   ],
   "source": [
    "sns.catplot(data=all_source, x='content_source_desc', y='article_perc', hue='type', kind='bar', height=6, aspect=1.7, legend=False)\n",
    "plt.xticks(rotation=90)\n",
    "plt.xlabel('Source', fontsize=14)\n",
    "plt.ylabel('% of Articles', fontsize=14)\n",
    "plt.legend(title='Type')\n",
    "plt.show()"
   ]
  },
  {
   "cell_type": "markdown",
   "metadata": {},
   "source": [
    "### Splitting test by selecting latest within each source"
   ]
  },
  {
   "cell_type": "code",
   "execution_count": 324,
   "metadata": {},
   "outputs": [],
   "source": [
    "train_date_source, test_date_source = train_test_split_latest_source(articles_info, test_size=0.2)"
   ]
  },
  {
   "cell_type": "markdown",
   "metadata": {},
   "source": [
    "#### Writing out train and test files"
   ]
  },
  {
   "cell_type": "code",
   "execution_count": 343,
   "metadata": {},
   "outputs": [],
   "source": [
    "train_date_source.to_csv('../data/temp/sampling/latest_source/articles_train.csv')\n",
    "test_date_source.to_csv('../data/temp/sampling/latest_source/articles_test.csv')"
   ]
  },
  {
   "cell_type": "markdown",
   "metadata": {},
   "source": [
    "#### Checking breakup of the datasets by source"
   ]
  },
  {
   "cell_type": "code",
   "execution_count": 325,
   "metadata": {},
   "outputs": [],
   "source": [
    "train_source = get_source_breakup(train_date_source)\n",
    "train_source['type'] = 'train'"
   ]
  },
  {
   "cell_type": "code",
   "execution_count": 326,
   "metadata": {},
   "outputs": [],
   "source": [
    "test_source = get_source_breakup(test_date_source)\n",
    "test_source['type'] = 'test'"
   ]
  },
  {
   "cell_type": "code",
   "execution_count": 327,
   "metadata": {},
   "outputs": [],
   "source": [
    "overall_source = get_source_breakup(articles_info)\n",
    "overall_source['type'] = 'overall'"
   ]
  },
  {
   "cell_type": "code",
   "execution_count": 328,
   "metadata": {},
   "outputs": [],
   "source": [
    "all_source = pd.concat([overall_source, train_source, test_source])"
   ]
  },
  {
   "cell_type": "code",
   "execution_count": 329,
   "metadata": {},
   "outputs": [
    {
     "data": {
      "image/png": "[encoded data removed]",
      "text/plain": [
       "<Figure size 734.4x432 with 1 Axes>"
      ]
     },
     "metadata": {
      "needs_background": "light"
     },
     "output_type": "display_data"
    }
   ],
   "source": [
    "sns.catplot(data=all_source, x='content_source_desc', y='article_perc', hue='type', kind='bar', height=6, aspect=1.7, legend=False)\n",
    "plt.xticks(rotation=90)\n",
    "plt.xlabel('Source', fontsize=14)\n",
    "plt.ylabel('% of Articles', fontsize=14)\n",
    "plt.legend(title='Type')\n",
    "plt.show()"
   ]
  },
  {
   "cell_type": "markdown",
   "metadata": {},
   "source": [
    "### Splitting by Source"
   ]
  },
  {
   "cell_type": "markdown",
   "metadata": {},
   "source": [
    "#### Writing out train and test files"
   ]
  },
  {
   "cell_type": "markdown",
   "metadata": {},
   "source": [
    "#### AP"
   ]
  },
  {
   "cell_type": "code",
   "execution_count": 359,
   "metadata": {},
   "outputs": [],
   "source": [
    "train_src, test_src = train_test_split_source(articles_info, 'Associated Press News')"
   ]
  },
  {
   "cell_type": "code",
   "execution_count": 368,
   "metadata": {},
   "outputs": [],
   "source": [
    "train_date_source.to_csv('../data/temp/sampling/source/ap/articles_train.csv')\n",
    "test_date_source.to_csv('../data/temp/sampling/source/ap/rticles_test.csv')"
   ]
  },
  {
   "cell_type": "markdown",
   "metadata": {},
   "source": [
    "#### NYT"
   ]
  },
  {
   "cell_type": "code",
   "execution_count": 380,
   "metadata": {},
   "outputs": [],
   "source": [
    "train_src, test_src = train_test_split_source(articles_info, 'The New York Times')"
   ]
  },
  {
   "cell_type": "code",
   "execution_count": 383,
   "metadata": {},
   "outputs": [],
   "source": [
    "train_date_source.to_csv('../data/temp/sampling/source/nyt/articles_train.csv')\n",
    "test_date_source.to_csv('../data/temp/sampling/source/nyt/rticles_test.csv')"
   ]
  },
  {
   "cell_type": "markdown",
   "metadata": {},
   "source": [
    "### General Distribution of articles by source"
   ]
  },
  {
   "cell_type": "code",
   "execution_count": 366,
   "metadata": {},
   "outputs": [
    {
     "data": {
      "image/png": "[encoded data removed]",
      "text/plain": [
       "<Figure size 864x432 with 1 Axes>"
      ]
     },
     "metadata": {
      "needs_background": "light"
     },
     "output_type": "display_data"
    }
   ],
   "source": [
    "plt.figure(figsize=(12,6))\n",
    "sns.barplot(data=source_counts, x='content_source_desc', y='article_perc', edgecolor='k', color='#1f77b4')\n",
    "plt.xticks(rotation=90)\n",
    "plt.xlabel('Source', fontsize=14)\n",
    "plt.ylabel('% of Articles', fontsize=14)\n",
    "plt.show()"
   ]
  }
 ],
 "metadata": {
  "kernelspec": {
   "display_name": "capstone",
   "language": "python",
   "name": "capstone"
  },
  "language_info": {
   "codemirror_mode": {
    "name": "ipython",
    "version": 3
   },
   "file_extension": ".py",
   "mimetype": "text/x-python",
   "name": "python",
   "nbconvert_exporter": "python",
   "pygments_lexer": "ipython3",
   "version": "3.8.1"
  }
 },
 "nbformat": 4,
 "nbformat_minor": 2
}
