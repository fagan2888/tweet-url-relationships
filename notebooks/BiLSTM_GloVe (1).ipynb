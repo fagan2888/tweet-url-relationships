{
  "nbformat": 4,
  "nbformat_minor": 0,
  "metadata": {
    "colab": {
      "name": "BiLSTM_GloVe.ipynb",
      "provenance": [],
      "collapsed_sections": []
    },
    "kernelspec": {
      "name": "python3",
      "display_name": "Python 3"
    },
    "accelerator": "GPU"
  },
  "cells": [
    {
      "cell_type": "code",
      "metadata": {
        "id": "lIiBZfRYwNQf",
        "colab_type": "code",
        "outputId": "85502181-9068-4ce1-a9b1-db459a225554",
        "colab": {
          "base_uri": "https://localhost:8080/",
          "height": 884
        }
      },
      "source": [
        "!pip install tensorflow==2.0.0"
      ],
      "execution_count": 0,
      "outputs": [
        {
          "output_type": "stream",
          "text": [
            "Collecting tensorflow==2.0.0\n",
            "\u001b[?25l  Downloading https://files.pythonhosted.org/packages/46/0f/7bd55361168bb32796b360ad15a25de6966c9c1beb58a8e30c01c8279862/tensorflow-2.0.0-cp36-cp36m-manylinux2010_x86_64.whl (86.3MB)\n",
            "\u001b[K     |████████████████████████████████| 86.3MB 51kB/s \n",
            "\u001b[?25hRequirement already satisfied: numpy<2.0,>=1.16.0 in /usr/local/lib/python3.6/dist-packages (from tensorflow==2.0.0) (1.17.5)\n",
            "Collecting tensorboard<2.1.0,>=2.0.0\n",
            "\u001b[?25l  Downloading https://files.pythonhosted.org/packages/76/54/99b9d5d52d5cb732f099baaaf7740403e83fe6b0cedde940fabd2b13d75a/tensorboard-2.0.2-py3-none-any.whl (3.8MB)\n",
            "\u001b[K     |████████████████████████████████| 3.8MB 34.4MB/s \n",
            "\u001b[?25hRequirement already satisfied: google-pasta>=0.1.6 in /usr/local/lib/python3.6/dist-packages (from tensorflow==2.0.0) (0.1.8)\n",
            "Requirement already satisfied: wrapt>=1.11.1 in /usr/local/lib/python3.6/dist-packages (from tensorflow==2.0.0) (1.11.2)\n",
            "Requirement already satisfied: grpcio>=1.8.6 in /usr/local/lib/python3.6/dist-packages (from tensorflow==2.0.0) (1.27.1)\n",
            "Requirement already satisfied: six>=1.10.0 in /usr/local/lib/python3.6/dist-packages (from tensorflow==2.0.0) (1.12.0)\n",
            "Requirement already satisfied: wheel>=0.26 in /usr/local/lib/python3.6/dist-packages (from tensorflow==2.0.0) (0.34.2)\n",
            "Requirement already satisfied: astor>=0.6.0 in /usr/local/lib/python3.6/dist-packages (from tensorflow==2.0.0) (0.8.1)\n",
            "Requirement already satisfied: gast==0.2.2 in /usr/local/lib/python3.6/dist-packages (from tensorflow==2.0.0) (0.2.2)\n",
            "Requirement already satisfied: termcolor>=1.1.0 in /usr/local/lib/python3.6/dist-packages (from tensorflow==2.0.0) (1.1.0)\n",
            "Requirement already satisfied: absl-py>=0.7.0 in /usr/local/lib/python3.6/dist-packages (from tensorflow==2.0.0) (0.9.0)\n",
            "Requirement already satisfied: keras-applications>=1.0.8 in /usr/local/lib/python3.6/dist-packages (from tensorflow==2.0.0) (1.0.8)\n",
            "Requirement already satisfied: opt-einsum>=2.3.2 in /usr/local/lib/python3.6/dist-packages (from tensorflow==2.0.0) (3.1.0)\n",
            "Requirement already satisfied: keras-preprocessing>=1.0.5 in /usr/local/lib/python3.6/dist-packages (from tensorflow==2.0.0) (1.1.0)\n",
            "Requirement already satisfied: protobuf>=3.6.1 in /usr/local/lib/python3.6/dist-packages (from tensorflow==2.0.0) (3.10.0)\n",
            "Collecting tensorflow-estimator<2.1.0,>=2.0.0\n",
            "\u001b[?25l  Downloading https://files.pythonhosted.org/packages/fc/08/8b927337b7019c374719145d1dceba21a8bb909b93b1ad6f8fb7d22c1ca1/tensorflow_estimator-2.0.1-py2.py3-none-any.whl (449kB)\n",
            "\u001b[K     |████████████████████████████████| 450kB 37.8MB/s \n",
            "\u001b[?25hRequirement already satisfied: google-auth<2,>=1.6.3 in /usr/local/lib/python3.6/dist-packages (from tensorboard<2.1.0,>=2.0.0->tensorflow==2.0.0) (1.7.2)\n",
            "Requirement already satisfied: requests<3,>=2.21.0 in /usr/local/lib/python3.6/dist-packages (from tensorboard<2.1.0,>=2.0.0->tensorflow==2.0.0) (2.21.0)\n",
            "Requirement already satisfied: werkzeug>=0.11.15 in /usr/local/lib/python3.6/dist-packages (from tensorboard<2.1.0,>=2.0.0->tensorflow==2.0.0) (1.0.0)\n",
            "Requirement already satisfied: markdown>=2.6.8 in /usr/local/lib/python3.6/dist-packages (from tensorboard<2.1.0,>=2.0.0->tensorflow==2.0.0) (3.2.1)\n",
            "Requirement already satisfied: google-auth-oauthlib<0.5,>=0.4.1 in /usr/local/lib/python3.6/dist-packages (from tensorboard<2.1.0,>=2.0.0->tensorflow==2.0.0) (0.4.1)\n",
            "Requirement already satisfied: setuptools>=41.0.0 in /usr/local/lib/python3.6/dist-packages (from tensorboard<2.1.0,>=2.0.0->tensorflow==2.0.0) (45.1.0)\n",
            "Requirement already satisfied: h5py in /usr/local/lib/python3.6/dist-packages (from keras-applications>=1.0.8->tensorflow==2.0.0) (2.8.0)\n",
            "Requirement already satisfied: rsa<4.1,>=3.1.4 in /usr/local/lib/python3.6/dist-packages (from google-auth<2,>=1.6.3->tensorboard<2.1.0,>=2.0.0->tensorflow==2.0.0) (4.0)\n",
            "Requirement already satisfied: cachetools<3.2,>=2.0.0 in /usr/local/lib/python3.6/dist-packages (from google-auth<2,>=1.6.3->tensorboard<2.1.0,>=2.0.0->tensorflow==2.0.0) (3.1.1)\n",
            "Requirement already satisfied: pyasn1-modules>=0.2.1 in /usr/local/lib/python3.6/dist-packages (from google-auth<2,>=1.6.3->tensorboard<2.1.0,>=2.0.0->tensorflow==2.0.0) (0.2.8)\n",
            "Requirement already satisfied: certifi>=2017.4.17 in /usr/local/lib/python3.6/dist-packages (from requests<3,>=2.21.0->tensorboard<2.1.0,>=2.0.0->tensorflow==2.0.0) (2019.11.28)\n",
            "Requirement already satisfied: urllib3<1.25,>=1.21.1 in /usr/local/lib/python3.6/dist-packages (from requests<3,>=2.21.0->tensorboard<2.1.0,>=2.0.0->tensorflow==2.0.0) (1.24.3)\n",
            "Requirement already satisfied: chardet<3.1.0,>=3.0.2 in /usr/local/lib/python3.6/dist-packages (from requests<3,>=2.21.0->tensorboard<2.1.0,>=2.0.0->tensorflow==2.0.0) (3.0.4)\n",
            "Requirement already satisfied: idna<2.9,>=2.5 in /usr/local/lib/python3.6/dist-packages (from requests<3,>=2.21.0->tensorboard<2.1.0,>=2.0.0->tensorflow==2.0.0) (2.8)\n",
            "Requirement already satisfied: requests-oauthlib>=0.7.0 in /usr/local/lib/python3.6/dist-packages (from google-auth-oauthlib<0.5,>=0.4.1->tensorboard<2.1.0,>=2.0.0->tensorflow==2.0.0) (1.3.0)\n",
            "Requirement already satisfied: pyasn1>=0.1.3 in /usr/local/lib/python3.6/dist-packages (from rsa<4.1,>=3.1.4->google-auth<2,>=1.6.3->tensorboard<2.1.0,>=2.0.0->tensorflow==2.0.0) (0.4.8)\n",
            "Requirement already satisfied: oauthlib>=3.0.0 in /usr/local/lib/python3.6/dist-packages (from requests-oauthlib>=0.7.0->google-auth-oauthlib<0.5,>=0.4.1->tensorboard<2.1.0,>=2.0.0->tensorflow==2.0.0) (3.1.0)\n",
            "Installing collected packages: tensorboard, tensorflow-estimator, tensorflow\n",
            "  Found existing installation: tensorboard 1.15.0\n",
            "    Uninstalling tensorboard-1.15.0:\n",
            "      Successfully uninstalled tensorboard-1.15.0\n",
            "  Found existing installation: tensorflow-estimator 1.15.1\n",
            "    Uninstalling tensorflow-estimator-1.15.1:\n",
            "      Successfully uninstalled tensorflow-estimator-1.15.1\n",
            "  Found existing installation: tensorflow 1.15.0\n",
            "    Uninstalling tensorflow-1.15.0:\n",
            "      Successfully uninstalled tensorflow-1.15.0\n",
            "Successfully installed tensorboard-2.0.2 tensorflow-2.0.0 tensorflow-estimator-2.0.1\n"
          ],
          "name": "stdout"
        }
      ]
    },
    {
      "cell_type": "code",
      "metadata": {
        "id": "zKDhm-uwwjht",
        "colab_type": "code",
        "outputId": "e65e4af9-ff75-4cb9-ca81-7ed65cf18c3a",
        "colab": {
          "base_uri": "https://localhost:8080/",
          "height": 34
        }
      },
      "source": [
        "import os\n",
        "import nltk\n",
        "from sklearn.model_selection import StratifiedShuffleSplit, train_test_split\n",
        "from matplotlib import pyplot as plt\n",
        "import json\n",
        "import tensorflow as tf\n",
        "from keras.preprocessing.text import Tokenizer\n",
        "from tensorflow.keras.preprocessing.sequence import pad_sequences\n",
        "import numpy as np\n",
        "import pandas as pd\n",
        "import csv\n",
        "import zipfile"
      ],
      "execution_count": 0,
      "outputs": [
        {
          "output_type": "stream",
          "text": [
            "Using TensorFlow backend.\n"
          ],
          "name": "stderr"
        }
      ]
    },
    {
      "cell_type": "code",
      "metadata": {
        "id": "2XdC_tk4qofz",
        "colab_type": "code",
        "colab": {}
      },
      "source": [
        ""
      ],
      "execution_count": 0,
      "outputs": []
    },
    {
      "cell_type": "code",
      "metadata": {
        "id": "MUC1GduCxDc0",
        "colab_type": "code",
        "outputId": "b3bd479f-ccde-44e4-fcaf-be97c2017a94",
        "colab": {
          "base_uri": "https://localhost:8080/",
          "height": 34
        }
      },
      "source": [
        "tf.__version__"
      ],
      "execution_count": 0,
      "outputs": [
        {
          "output_type": "execute_result",
          "data": {
            "text/plain": [
              "'2.0.0'"
            ]
          },
          "metadata": {
            "tags": []
          },
          "execution_count": 3
        }
      ]
    },
    {
      "cell_type": "code",
      "metadata": {
        "id": "XZxgvwnnxGMG",
        "colab_type": "code",
        "outputId": "5e91337f-9570-4043-a252-e17f426cc942",
        "colab": {
          "base_uri": "https://localhost:8080/",
          "height": 204
        }
      },
      "source": [
        "!wget https://storage.googleapis.com/columbia_landmarks/glove_50.zip  \\\n",
        "    -O /tmp/RawData1.zip"
      ],
      "execution_count": 0,
      "outputs": [
        {
          "output_type": "stream",
          "text": [
            "--2020-02-22 13:30:31--  https://storage.googleapis.com/columbia_landmarks/glove_50.zip\n",
            "Resolving storage.googleapis.com (storage.googleapis.com)... 173.194.76.128, 2a00:1450:400c:c0c::80\n",
            "Connecting to storage.googleapis.com (storage.googleapis.com)|173.194.76.128|:443... connected.\n",
            "HTTP request sent, awaiting response... 200 OK\n",
            "Length: 209323095 (200M) [application/zip]\n",
            "Saving to: ‘/tmp/RawData1.zip’\n",
            "\n",
            "/tmp/RawData1.zip   100%[===================>] 199.63M  55.5MB/s    in 3.6s    \n",
            "\n",
            "2020-02-22 13:30:36 (55.5 MB/s) - ‘/tmp/RawData1.zip’ saved [209323095/209323095]\n",
            "\n"
          ],
          "name": "stdout"
        }
      ]
    },
    {
      "cell_type": "code",
      "metadata": {
        "id": "SB2EDhc7-bXz",
        "colab_type": "code",
        "colab": {}
      },
      "source": [
        "local_zip = '/tmp/RawData1.zip'\n",
        "zip_ref = zipfile.ZipFile(local_zip, 'r')\n",
        "zip_ref.extractall('/tmp')\n",
        "zip_ref.close()"
      ],
      "execution_count": 0,
      "outputs": []
    },
    {
      "cell_type": "code",
      "metadata": {
        "id": "y3oAFJ7W9tyN",
        "colab_type": "code",
        "outputId": "b0e1bf24-7f3b-48d0-95ac-ca0c1178361d",
        "colab": {
          "base_uri": "https://localhost:8080/",
          "height": 119
        }
      },
      "source": [
        "!ls -al /tmp"
      ],
      "execution_count": 0,
      "outputs": [
        {
          "output_type": "stream",
          "text": [
            "total 703352\n",
            "drwxrwxrwt 1 root root      4096 Feb 22 13:30 .\n",
            "drwxr-xr-x 1 root root      4096 Feb 22 13:26 ..\n",
            "-rw-r--r-- 1 root root 510887943 Feb 22 13:30 glove.twitter.27B.50d.txt\n",
            "drwxr-xr-x 2 root root      4096 Feb 22 13:30 __MACOSX\n",
            "-rw-r--r-- 1 root root 209323095 Feb 20 05:05 RawData1.zip\n"
          ],
          "name": "stdout"
        }
      ]
    },
    {
      "cell_type": "code",
      "metadata": {
        "id": "TI-_Zydhy-ZC",
        "colab_type": "code",
        "outputId": "9d45d78f-9020-400d-a3a4-24ea430af406",
        "colab": {
          "base_uri": "https://localhost:8080/",
          "height": 34
        }
      },
      "source": [
        "embeddings_index = {}\n",
        "f = open('/tmp/glove.twitter.27B.50d.txt')\n",
        "for line in f:\n",
        "    values = line.split()\n",
        "    word = values[0]\n",
        "    coefs = np.asarray(values[1:], dtype='float32')\n",
        "    embeddings_index[word] = coefs\n",
        "f.close()\n",
        "\n",
        "print('Found %s word vectors.' % len(embeddings_index))"
      ],
      "execution_count": 0,
      "outputs": [
        {
          "output_type": "stream",
          "text": [
            "Found 1193514 word vectors.\n"
          ],
          "name": "stdout"
        }
      ]
    },
    {
      "cell_type": "code",
      "metadata": {
        "id": "kgjZao-TzB2t",
        "colab_type": "code",
        "outputId": "fa4a6d6f-6a49-4ae4-da4d-a5cd445f88e2",
        "colab": {
          "base_uri": "https://localhost:8080/",
          "height": 391
        }
      },
      "source": [
        "!wget https://raw.githubusercontent.com/harish-cu/tweet-url-relationships/master/data/temp/sampling_blind/latest/articles_train.csv\n",
        "!wget https://raw.githubusercontent.com/harish-cu/tweet-url-relationships/master/data/temp/sampling_blind/latest/articles_test.csv"
      ],
      "execution_count": 0,
      "outputs": [
        {
          "output_type": "stream",
          "text": [
            "--2020-02-22 13:31:16--  https://raw.githubusercontent.com/harish-cu/tweet-url-relationships/master/data/temp/sampling_blind/latest/articles_train.csv\n",
            "Resolving raw.githubusercontent.com (raw.githubusercontent.com)... 151.101.0.133, 151.101.64.133, 151.101.128.133, ...\n",
            "Connecting to raw.githubusercontent.com (raw.githubusercontent.com)|151.101.0.133|:443... connected.\n",
            "HTTP request sent, awaiting response... 200 OK\n",
            "Length: 6523814 (6.2M) [text/plain]\n",
            "Saving to: ‘articles_train.csv’\n",
            "\n",
            "articles_train.csv  100%[===================>]   6.22M  --.-KB/s    in 0.07s   \n",
            "\n",
            "2020-02-22 13:31:17 (95.2 MB/s) - ‘articles_train.csv’ saved [6523814/6523814]\n",
            "\n",
            "--2020-02-22 13:31:18--  https://raw.githubusercontent.com/harish-cu/tweet-url-relationships/master/data/temp/sampling_blind/latest/articles_test.csv\n",
            "Resolving raw.githubusercontent.com (raw.githubusercontent.com)... 151.101.0.133, 151.101.64.133, 151.101.128.133, ...\n",
            "Connecting to raw.githubusercontent.com (raw.githubusercontent.com)|151.101.0.133|:443... connected.\n",
            "HTTP request sent, awaiting response... 200 OK\n",
            "Length: 1509129 (1.4M) [text/plain]\n",
            "Saving to: ‘articles_test.csv’\n",
            "\n",
            "articles_test.csv   100%[===================>]   1.44M  --.-KB/s    in 0.04s   \n",
            "\n",
            "2020-02-22 13:31:18 (40.4 MB/s) - ‘articles_test.csv’ saved [1509129/1509129]\n",
            "\n"
          ],
          "name": "stdout"
        }
      ]
    },
    {
      "cell_type": "code",
      "metadata": {
        "id": "GzpAtFuDFi-U",
        "colab_type": "code",
        "outputId": "97970cde-3d9b-4aa0-e1cf-91da8dab315a",
        "colab": {
          "base_uri": "https://localhost:8080/",
          "height": 136
        }
      },
      "source": [
        "!ls -al"
      ],
      "execution_count": 0,
      "outputs": [
        {
          "output_type": "stream",
          "text": [
            "total 7864\n",
            "drwxr-xr-x 1 root root    4096 Feb 22 13:31 .\n",
            "drwxr-xr-x 1 root root    4096 Feb 22 13:26 ..\n",
            "-rw-r--r-- 1 root root 1509129 Feb 22 13:31 articles_test.csv\n",
            "-rw-r--r-- 1 root root 6523814 Feb 22 13:31 articles_train.csv\n",
            "drwxr-xr-x 1 root root    4096 Feb 19 17:12 .config\n",
            "drwxr-xr-x 1 root root    4096 Feb  5 18:37 sample_data\n"
          ],
          "name": "stdout"
        }
      ]
    },
    {
      "cell_type": "code",
      "metadata": {
        "id": "jAj5YaFRFrLT",
        "colab_type": "code",
        "colab": {}
      },
      "source": [
        "df_train = pd.read_csv('articles_train.csv')\n",
        "df_test = pd.read_csv('articles_test.csv')"
      ],
      "execution_count": 0,
      "outputs": []
    },
    {
      "cell_type": "code",
      "metadata": {
        "id": "5qpvhlILFttV",
        "colab_type": "code",
        "colab": {}
      },
      "source": [
        "text = df_train['content_body_clean']"
      ],
      "execution_count": 0,
      "outputs": []
    },
    {
      "cell_type": "code",
      "metadata": {
        "id": "iT_4qhpSJttf",
        "colab_type": "code",
        "outputId": "3f4710f1-b2d6-4975-ea61-3e80bae8599f",
        "colab": {
          "base_uri": "https://localhost:8080/",
          "height": 34
        }
      },
      "source": [
        "type(text)"
      ],
      "execution_count": 0,
      "outputs": [
        {
          "output_type": "execute_result",
          "data": {
            "text/plain": [
              "pandas.core.series.Series"
            ]
          },
          "metadata": {
            "tags": []
          },
          "execution_count": 12
        }
      ]
    },
    {
      "cell_type": "code",
      "metadata": {
        "id": "Dgkn6mAAF97P",
        "colab_type": "code",
        "colab": {}
      },
      "source": [
        "t = Tokenizer()\n",
        "t.fit_on_texts(text)\n",
        "\n",
        "sequence_length = 500\n",
        "\n",
        "\n",
        "train = t.texts_to_sequences(text)\n",
        "num_words = len(t.word_index)+1\n",
        "max_features = num_words\n",
        "x_train = pad_sequences(train, maxlen=sequence_length, padding='post')\n",
        "y_train = np.array(df_train['blind_mean_rating']/5)"
      ],
      "execution_count": 0,
      "outputs": []
    },
    {
      "cell_type": "code",
      "metadata": {
        "id": "5MIuYqAMJzR7",
        "colab_type": "code",
        "outputId": "e92e78be-ed70-40e8-bad5-10c76a0129df",
        "colab": {
          "base_uri": "https://localhost:8080/",
          "height": 34
        }
      },
      "source": [
        "len(train)\n",
        "# !wc -l articles_train.csv\n",
        "# tokenized[0]\n",
        "\n",
        "\n",
        "# i = len(train[0])\n",
        "# for j in range(len(train)):\n",
        "#   if len(train[j]) > i:\n",
        "#     i = len(train[j])\n",
        "#     print(i)\n",
        "\n",
        "i = len(x_train[0])\n",
        "for j in range(len(x_train)):\n",
        "  if len(x_train[j]) > i:\n",
        "    i = len(x_train[j])\n",
        "print(i)\n"
      ],
      "execution_count": 0,
      "outputs": [
        {
          "output_type": "stream",
          "text": [
            "500\n"
          ],
          "name": "stdout"
        }
      ]
    },
    {
      "cell_type": "code",
      "metadata": {
        "id": "dY8GYGSsJkSj",
        "colab_type": "code",
        "colab": {}
      },
      "source": [
        "y_train = np.array(df_train['blind_mean_rating']/5)"
      ],
      "execution_count": 0,
      "outputs": []
    },
    {
      "cell_type": "code",
      "metadata": {
        "id": "-Nus75S9of3w",
        "colab_type": "code",
        "outputId": "c7f13687-9968-4eb0-ff16-e27829d54533",
        "colab": {
          "base_uri": "https://localhost:8080/",
          "height": 34
        }
      },
      "source": [
        "y_train[0]"
      ],
      "execution_count": 0,
      "outputs": [
        {
          "output_type": "execute_result",
          "data": {
            "text/plain": [
              "0.6355555555555555"
            ]
          },
          "metadata": {
            "tags": []
          },
          "execution_count": 16
        }
      ]
    },
    {
      "cell_type": "code",
      "metadata": {
        "id": "C5_nJgBymfpl",
        "colab_type": "code",
        "outputId": "4e10d48e-d91d-427b-c268-bcf55547b0a9",
        "colab": {
          "base_uri": "https://localhost:8080/",
          "height": 34
        }
      },
      "source": [
        "word_index = t.word_index\n",
        "print('Found %s unique tokens.' % len(word_index))"
      ],
      "execution_count": 0,
      "outputs": [
        {
          "output_type": "stream",
          "text": [
            "Found 38128 unique tokens.\n"
          ],
          "name": "stdout"
        }
      ]
    },
    {
      "cell_type": "code",
      "metadata": {
        "id": "5fuaN6OdowvV",
        "colab_type": "code",
        "colab": {}
      },
      "source": [
        ""
      ],
      "execution_count": 0,
      "outputs": []
    },
    {
      "cell_type": "code",
      "metadata": {
        "id": "v5H3aucRowyW",
        "colab_type": "code",
        "outputId": "7de740b5-91f1-432d-d571-7443eb27d0cf",
        "colab": {
          "base_uri": "https://localhost:8080/",
          "height": 34
        }
      },
      "source": [
        "\n",
        "print(num_words)\n",
        "\n",
        "embedding_dim = 50\n",
        "\n",
        "# first create a matrix of zeros, this is our embedding matrix\n",
        "embedding_matrix = np.zeros((num_words, embedding_dim))\n",
        "\n",
        "# for each word in out tokenizer lets try to find that work in our w2v model\n",
        "for word, i in word_index.items():\n",
        "    if i > max_features:\n",
        "        continue\n",
        "    embedding_vector = embeddings_index.get(word)\n",
        "    if embedding_vector is not None:\n",
        "        # we found the word - add that words vector to the matrix\n",
        "        embedding_matrix[i] = embedding_vector\n",
        "    else:\n",
        "        # doesn't exist, assign a random vector\n",
        "        embedding_matrix[i] = np.random.randn(embedding_dim)"
      ],
      "execution_count": 0,
      "outputs": [
        {
          "output_type": "stream",
          "text": [
            "38129\n"
          ],
          "name": "stdout"
        }
      ]
    },
    {
      "cell_type": "code",
      "metadata": {
        "id": "fJ46oQ0c0gGa",
        "colab_type": "code",
        "colab": {}
      },
      "source": [
        "from keras.initializers import Constant"
      ],
      "execution_count": 0,
      "outputs": []
    },
    {
      "cell_type": "code",
      "metadata": {
        "id": "Aio8nElILcOe",
        "colab_type": "code",
        "outputId": "6c0962ca-e025-4273-ccd6-1646511fc8a3",
        "colab": {
          "base_uri": "https://localhost:8080/",
          "height": 289
        }
      },
      "source": [
        "model = tf.keras.models.Sequential()\n",
        "model.add(tf.keras.layers.Embedding(num_words,\n",
        "                    embedding_dim,\n",
        "                    embeddings_initializer=Constant(embedding_matrix),\n",
        "                    input_length=sequence_length,\n",
        "                    trainable=True))\n",
        "# model.add(tf.keras.layers.Bidirectional(tf.keras.layers.LSTM(64, return_sequences=True)))\n",
        "model.add(tf.keras.layers.Bidirectional(tf.keras.layers.LSTM(64)))\n",
        "model.add(tf.keras.layers.Dense(64, activation='relu'))\n",
        "model.add(tf.keras.layers.Dense(1, activation='sigmoid'))\n",
        "model.compile('adam', loss='mse')\n",
        "model.summary()\n",
        "\n",
        "# model.add(Dropout(0.25))\n",
        "# model.add(Dense(units=5, activation='softmax'))\n",
        "# model.compile(loss = 'categorical_crossentropy', optimizer='adam',metrics = ['accuracy'])\n",
        "# print(model.summary())\n",
        "# model = Sequential()\n",
        "# model.add(Bidirectional(LSTM(20, return_sequences=True), input_shape=(n_timesteps, 1)))\n",
        "# model.add(TimeDistributed(Dense(1, activation='sigmoid')))\n",
        "# model.compile(loss='binary_crossentropy', optimizer='adam', metrics=['accuracy'])\n",
        "# # train LSTM"
      ],
      "execution_count": 0,
      "outputs": [
        {
          "output_type": "stream",
          "text": [
            "Model: \"sequential\"\n",
            "_________________________________________________________________\n",
            "Layer (type)                 Output Shape              Param #   \n",
            "=================================================================\n",
            "embedding (Embedding)        (None, 500, 50)           1906450   \n",
            "_________________________________________________________________\n",
            "bidirectional (Bidirectional (None, 128)               58880     \n",
            "_________________________________________________________________\n",
            "dense (Dense)                (None, 64)                8256      \n",
            "_________________________________________________________________\n",
            "dense_1 (Dense)              (None, 1)                 65        \n",
            "=================================================================\n",
            "Total params: 1,973,651\n",
            "Trainable params: 1,973,651\n",
            "Non-trainable params: 0\n",
            "_________________________________________________________________\n"
          ],
          "name": "stdout"
        }
      ]
    },
    {
      "cell_type": "code",
      "metadata": {
        "id": "wunuPbEIqgYY",
        "colab_type": "code",
        "outputId": "50607a86-a74e-4555-c277-7b5eb79e8390",
        "colab": {
          "base_uri": "https://localhost:8080/",
          "height": 1000
        }
      },
      "source": [
        "history = model.fit(x_train, y_train, epochs=200, validation_split=0.2)"
      ],
      "execution_count": 0,
      "outputs": [
        {
          "output_type": "stream",
          "text": [
            "Train on 1040 samples, validate on 261 samples\n",
            "Epoch 1/200\n",
            "1040/1040 [==============================] - 26s 25ms/sample - loss: 0.0332 - val_loss: 0.0384\n",
            "Epoch 2/200\n",
            "1040/1040 [==============================] - 21s 21ms/sample - loss: 0.0283 - val_loss: 0.0383\n",
            "Epoch 3/200\n",
            "1040/1040 [==============================] - 22s 21ms/sample - loss: 0.0254 - val_loss: 0.0380\n",
            "Epoch 4/200\n",
            "1040/1040 [==============================] - 22s 21ms/sample - loss: 0.0223 - val_loss: 0.0397\n",
            "Epoch 5/200\n",
            "1040/1040 [==============================] - 22s 21ms/sample - loss: 0.0192 - val_loss: 0.0406\n",
            "Epoch 6/200\n",
            "1040/1040 [==============================] - 22s 21ms/sample - loss: 0.0153 - val_loss: 0.0428\n",
            "Epoch 7/200\n",
            "1040/1040 [==============================] - 22s 21ms/sample - loss: 0.0111 - val_loss: 0.0458\n",
            "Epoch 8/200\n",
            "1040/1040 [==============================] - 22s 21ms/sample - loss: 0.0076 - val_loss: 0.0476\n",
            "Epoch 9/200\n",
            "1040/1040 [==============================] - 22s 21ms/sample - loss: 0.0059 - val_loss: 0.0501\n",
            "Epoch 10/200\n",
            "1040/1040 [==============================] - 22s 21ms/sample - loss: 0.0040 - val_loss: 0.0476\n",
            "Epoch 11/200\n",
            "1040/1040 [==============================] - 22s 21ms/sample - loss: 0.0028 - val_loss: 0.0493\n",
            "Epoch 12/200\n",
            "1040/1040 [==============================] - 22s 21ms/sample - loss: 0.0019 - val_loss: 0.0508\n",
            "Epoch 13/200\n",
            "1040/1040 [==============================] - 22s 21ms/sample - loss: 0.0016 - val_loss: 0.0504\n",
            "Epoch 14/200\n",
            "1040/1040 [==============================] - 22s 21ms/sample - loss: 0.0014 - val_loss: 0.0513\n",
            "Epoch 15/200\n",
            "1040/1040 [==============================] - 22s 21ms/sample - loss: 0.0012 - val_loss: 0.0504\n",
            "Epoch 16/200\n",
            "1040/1040 [==============================] - 22s 21ms/sample - loss: 9.9730e-04 - val_loss: 0.0516\n",
            "Epoch 17/200\n",
            "1040/1040 [==============================] - 22s 21ms/sample - loss: 8.7196e-04 - val_loss: 0.0509\n",
            "Epoch 18/200\n",
            "1040/1040 [==============================] - 22s 21ms/sample - loss: 8.2135e-04 - val_loss: 0.0519\n",
            "Epoch 19/200\n",
            "1040/1040 [==============================] - 22s 21ms/sample - loss: 7.4456e-04 - val_loss: 0.0519\n",
            "Epoch 20/200\n",
            "1040/1040 [==============================] - 22s 21ms/sample - loss: 6.2284e-04 - val_loss: 0.0520\n",
            "Epoch 21/200\n",
            "1040/1040 [==============================] - 22s 21ms/sample - loss: 6.6550e-04 - val_loss: 0.0524\n",
            "Epoch 22/200\n",
            "1040/1040 [==============================] - 22s 21ms/sample - loss: 8.0516e-04 - val_loss: 0.0518\n",
            "Epoch 23/200\n",
            "1040/1040 [==============================] - 23s 22ms/sample - loss: 8.4567e-04 - val_loss: 0.0518\n",
            "Epoch 24/200\n",
            "1040/1040 [==============================] - 22s 21ms/sample - loss: 8.4974e-04 - val_loss: 0.0513\n",
            "Epoch 25/200\n",
            "1040/1040 [==============================] - 23s 22ms/sample - loss: 8.2684e-04 - val_loss: 0.0523\n",
            "Epoch 26/200\n",
            "1040/1040 [==============================] - 22s 21ms/sample - loss: 9.2452e-04 - val_loss: 0.0511\n",
            "Epoch 27/200\n",
            "1040/1040 [==============================] - 22s 21ms/sample - loss: 8.8668e-04 - val_loss: 0.0511\n",
            "Epoch 28/200\n",
            "1040/1040 [==============================] - 22s 21ms/sample - loss: 8.5224e-04 - val_loss: 0.0504\n",
            "Epoch 29/200\n",
            "1040/1040 [==============================] - 22s 21ms/sample - loss: 6.5893e-04 - val_loss: 0.0507\n",
            "Epoch 30/200\n",
            "1040/1040 [==============================] - 22s 21ms/sample - loss: 5.7857e-04 - val_loss: 0.0508\n",
            "Epoch 31/200\n",
            "1040/1040 [==============================] - 22s 21ms/sample - loss: 6.8065e-04 - val_loss: 0.0509\n",
            "Epoch 32/200\n",
            "1040/1040 [==============================] - 22s 21ms/sample - loss: 9.3054e-04 - val_loss: 0.0521\n",
            "Epoch 33/200\n",
            "1040/1040 [==============================] - 22s 21ms/sample - loss: 9.4188e-04 - val_loss: 0.0506\n",
            "Epoch 34/200\n",
            "1040/1040 [==============================] - 22s 21ms/sample - loss: 7.6784e-04 - val_loss: 0.0500\n",
            "Epoch 35/200\n",
            "1040/1040 [==============================] - 22s 21ms/sample - loss: 6.0944e-04 - val_loss: 0.0497\n",
            "Epoch 36/200\n",
            "1040/1040 [==============================] - 22s 21ms/sample - loss: 6.2266e-04 - val_loss: 0.0510\n",
            "Epoch 37/200\n",
            "1040/1040 [==============================] - 22s 21ms/sample - loss: 5.8017e-04 - val_loss: 0.0503\n",
            "Epoch 38/200\n",
            "1040/1040 [==============================] - 22s 21ms/sample - loss: 5.1849e-04 - val_loss: 0.0508\n",
            "Epoch 39/200\n",
            "1040/1040 [==============================] - 22s 21ms/sample - loss: 5.6031e-04 - val_loss: 0.0509\n",
            "Epoch 40/200\n",
            "1040/1040 [==============================] - 22s 21ms/sample - loss: 5.9270e-04 - val_loss: 0.0507\n",
            "Epoch 41/200\n",
            "1040/1040 [==============================] - 22s 21ms/sample - loss: 5.6886e-04 - val_loss: 0.0511\n",
            "Epoch 42/200\n",
            "1040/1040 [==============================] - 22s 21ms/sample - loss: 5.1568e-04 - val_loss: 0.0499\n",
            "Epoch 43/200\n",
            "1040/1040 [==============================] - 22s 21ms/sample - loss: 4.7549e-04 - val_loss: 0.0510\n",
            "Epoch 44/200\n",
            "1040/1040 [==============================] - 22s 21ms/sample - loss: 4.3061e-04 - val_loss: 0.0503\n",
            "Epoch 45/200\n",
            "1040/1040 [==============================] - 22s 21ms/sample - loss: 4.6611e-04 - val_loss: 0.0501\n",
            "Epoch 46/200\n",
            "1040/1040 [==============================] - 22s 21ms/sample - loss: 5.1439e-04 - val_loss: 0.0504\n",
            "Epoch 47/200\n",
            "1040/1040 [==============================] - 22s 21ms/sample - loss: 5.4497e-04 - val_loss: 0.0498\n",
            "Epoch 48/200\n",
            "1040/1040 [==============================] - 22s 21ms/sample - loss: 5.2818e-04 - val_loss: 0.0499\n",
            "Epoch 49/200\n",
            "1040/1040 [==============================] - 22s 21ms/sample - loss: 4.7046e-04 - val_loss: 0.0508\n",
            "Epoch 50/200\n",
            "1040/1040 [==============================] - 22s 21ms/sample - loss: 4.7169e-04 - val_loss: 0.0507\n",
            "Epoch 51/200\n",
            "1040/1040 [==============================] - 22s 21ms/sample - loss: 4.7409e-04 - val_loss: 0.0506\n",
            "Epoch 52/200\n",
            "1040/1040 [==============================] - 22s 21ms/sample - loss: 4.6290e-04 - val_loss: 0.0500\n",
            "Epoch 53/200\n",
            "1040/1040 [==============================] - 22s 21ms/sample - loss: 4.6519e-04 - val_loss: 0.0501\n",
            "Epoch 54/200\n",
            "1040/1040 [==============================] - 22s 21ms/sample - loss: 5.0441e-04 - val_loss: 0.0503\n",
            "Epoch 55/200\n",
            "1040/1040 [==============================] - 22s 21ms/sample - loss: 4.9523e-04 - val_loss: 0.0496\n",
            "Epoch 56/200\n",
            "1040/1040 [==============================] - 22s 21ms/sample - loss: 4.8609e-04 - val_loss: 0.0499\n",
            "Epoch 57/200\n",
            "1040/1040 [==============================] - 22s 21ms/sample - loss: 4.5676e-04 - val_loss: 0.0497\n",
            "Epoch 58/200\n",
            "1040/1040 [==============================] - 22s 21ms/sample - loss: 4.2391e-04 - val_loss: 0.0501\n",
            "Epoch 59/200\n",
            "1040/1040 [==============================] - 22s 21ms/sample - loss: 4.3077e-04 - val_loss: 0.0498\n",
            "Epoch 60/200\n",
            "1040/1040 [==============================] - 22s 21ms/sample - loss: 5.1680e-04 - val_loss: 0.0509\n",
            "Epoch 61/200\n",
            "1040/1040 [==============================] - 22s 21ms/sample - loss: 5.5509e-04 - val_loss: 0.0494\n",
            "Epoch 62/200\n",
            "1040/1040 [==============================] - 22s 21ms/sample - loss: 5.5796e-04 - val_loss: 0.0491\n",
            "Epoch 63/200\n",
            "1040/1040 [==============================] - 22s 21ms/sample - loss: 4.8104e-04 - val_loss: 0.0490\n",
            "Epoch 64/200\n",
            "1040/1040 [==============================] - 22s 21ms/sample - loss: 5.0996e-04 - val_loss: 0.0496\n",
            "Epoch 65/200\n",
            "1040/1040 [==============================] - 22s 21ms/sample - loss: 5.3545e-04 - val_loss: 0.0487\n",
            "Epoch 66/200\n",
            "1040/1040 [==============================] - 22s 21ms/sample - loss: 5.3455e-04 - val_loss: 0.0482\n",
            "Epoch 67/200\n",
            "1040/1040 [==============================] - 22s 21ms/sample - loss: 6.5848e-04 - val_loss: 0.0490\n",
            "Epoch 68/200\n",
            "1040/1040 [==============================] - 21s 21ms/sample - loss: 7.2089e-04 - val_loss: 0.0484\n",
            "Epoch 69/200\n",
            "1040/1040 [==============================] - 22s 21ms/sample - loss: 6.5581e-04 - val_loss: 0.0482\n",
            "Epoch 70/200\n",
            "1040/1040 [==============================] - 22s 21ms/sample - loss: 6.2713e-04 - val_loss: 0.0480\n",
            "Epoch 71/200\n",
            "1040/1040 [==============================] - 22s 21ms/sample - loss: 5.5268e-04 - val_loss: 0.0481\n",
            "Epoch 72/200\n",
            "1040/1040 [==============================] - 22s 21ms/sample - loss: 4.6843e-04 - val_loss: 0.0483\n",
            "Epoch 73/200\n",
            "1040/1040 [==============================] - 22s 21ms/sample - loss: 3.9529e-04 - val_loss: 0.0472\n",
            "Epoch 74/200\n",
            "1040/1040 [==============================] - 22s 21ms/sample - loss: 3.7600e-04 - val_loss: 0.0480\n",
            "Epoch 75/200\n",
            "1040/1040 [==============================] - 22s 21ms/sample - loss: 3.8587e-04 - val_loss: 0.0480\n",
            "Epoch 76/200\n",
            "1040/1040 [==============================] - 21s 21ms/sample - loss: 3.8139e-04 - val_loss: 0.0481\n",
            "Epoch 77/200\n",
            "1040/1040 [==============================] - 22s 21ms/sample - loss: 3.7646e-04 - val_loss: 0.0475\n",
            "Epoch 78/200\n",
            "1040/1040 [==============================] - 22s 21ms/sample - loss: 3.9417e-04 - val_loss: 0.0483\n",
            "Epoch 79/200\n",
            "1040/1040 [==============================] - 22s 21ms/sample - loss: 3.7358e-04 - val_loss: 0.0482\n",
            "Epoch 80/200\n",
            "1040/1040 [==============================] - 22s 21ms/sample - loss: 3.8281e-04 - val_loss: 0.0474\n",
            "Epoch 81/200\n",
            "1040/1040 [==============================] - 22s 21ms/sample - loss: 3.8194e-04 - val_loss: 0.0477\n",
            "Epoch 82/200\n",
            "1040/1040 [==============================] - 22s 21ms/sample - loss: 3.6467e-04 - val_loss: 0.0476\n",
            "Epoch 83/200\n",
            "1040/1040 [==============================] - 22s 21ms/sample - loss: 3.5403e-04 - val_loss: 0.0476\n",
            "Epoch 84/200\n",
            "1040/1040 [==============================] - 22s 21ms/sample - loss: 3.6889e-04 - val_loss: 0.0475\n",
            "Epoch 85/200\n",
            "1040/1040 [==============================] - 22s 21ms/sample - loss: 3.6443e-04 - val_loss: 0.0480\n",
            "Epoch 86/200\n",
            "1040/1040 [==============================] - 22s 21ms/sample - loss: 3.8766e-04 - val_loss: 0.0477\n",
            "Epoch 87/200\n",
            "1040/1040 [==============================] - 22s 21ms/sample - loss: 3.9255e-04 - val_loss: 0.0477\n",
            "Epoch 88/200\n",
            "1040/1040 [==============================] - 22s 21ms/sample - loss: 3.7961e-04 - val_loss: 0.0476\n",
            "Epoch 89/200\n",
            "1040/1040 [==============================] - 22s 21ms/sample - loss: 3.8595e-04 - val_loss: 0.0480\n",
            "Epoch 90/200\n",
            "1040/1040 [==============================] - 22s 21ms/sample - loss: 4.0110e-04 - val_loss: 0.0467\n",
            "Epoch 91/200\n",
            "1040/1040 [==============================] - 22s 21ms/sample - loss: 4.5042e-04 - val_loss: 0.0470\n",
            "Epoch 92/200\n",
            "1040/1040 [==============================] - 22s 21ms/sample - loss: 4.7942e-04 - val_loss: 0.0469\n",
            "Epoch 93/200\n",
            "1040/1040 [==============================] - 22s 21ms/sample - loss: 4.6462e-04 - val_loss: 0.0473\n",
            "Epoch 94/200\n",
            "1040/1040 [==============================] - 22s 21ms/sample - loss: 4.1795e-04 - val_loss: 0.0470\n",
            "Epoch 95/200\n",
            "1040/1040 [==============================] - 22s 21ms/sample - loss: 4.2211e-04 - val_loss: 0.0475\n",
            "Epoch 96/200\n",
            "1040/1040 [==============================] - 22s 21ms/sample - loss: 4.6466e-04 - val_loss: 0.0473\n",
            "Epoch 97/200\n",
            "1040/1040 [==============================] - 22s 21ms/sample - loss: 5.1189e-04 - val_loss: 0.0459\n",
            "Epoch 98/200\n",
            "1040/1040 [==============================] - 22s 21ms/sample - loss: 5.7908e-04 - val_loss: 0.0474\n",
            "Epoch 99/200\n",
            "1040/1040 [==============================] - 22s 21ms/sample - loss: 5.3091e-04 - val_loss: 0.0473\n",
            "Epoch 100/200\n",
            "1040/1040 [==============================] - 22s 21ms/sample - loss: 4.3912e-04 - val_loss: 0.0467\n",
            "Epoch 101/200\n",
            "1040/1040 [==============================] - 22s 21ms/sample - loss: 4.3888e-04 - val_loss: 0.0481\n",
            "Epoch 102/200\n",
            "1040/1040 [==============================] - 23s 22ms/sample - loss: 4.1634e-04 - val_loss: 0.0465\n",
            "Epoch 103/200\n",
            "1040/1040 [==============================] - 23s 22ms/sample - loss: 3.8232e-04 - val_loss: 0.0472\n",
            "Epoch 104/200\n",
            "1040/1040 [==============================] - 22s 22ms/sample - loss: 3.5691e-04 - val_loss: 0.0461\n",
            "Epoch 105/200\n",
            "1040/1040 [==============================] - 23s 22ms/sample - loss: 3.5689e-04 - val_loss: 0.0471\n",
            "Epoch 106/200\n",
            "1040/1040 [==============================] - 23s 22ms/sample - loss: 3.2630e-04 - val_loss: 0.0466\n",
            "Epoch 107/200\n",
            "1040/1040 [==============================] - 23s 22ms/sample - loss: 3.3920e-04 - val_loss: 0.0465\n",
            "Epoch 108/200\n",
            "1040/1040 [==============================] - 23s 22ms/sample - loss: 3.8105e-04 - val_loss: 0.0465\n",
            "Epoch 109/200\n",
            "1040/1040 [==============================] - 23s 22ms/sample - loss: 3.6187e-04 - val_loss: 0.0466\n",
            "Epoch 110/200\n",
            "1040/1040 [==============================] - 23s 22ms/sample - loss: 3.5626e-04 - val_loss: 0.0467\n",
            "Epoch 111/200\n",
            "1040/1040 [==============================] - 23s 22ms/sample - loss: 3.5836e-04 - val_loss: 0.0470\n",
            "Epoch 112/200\n",
            "1040/1040 [==============================] - 22s 21ms/sample - loss: 3.5609e-04 - val_loss: 0.0466\n",
            "Epoch 113/200\n",
            "1040/1040 [==============================] - 22s 21ms/sample - loss: 3.5445e-04 - val_loss: 0.0459\n",
            "Epoch 114/200\n",
            "1040/1040 [==============================] - 22s 21ms/sample - loss: 3.5842e-04 - val_loss: 0.0466\n",
            "Epoch 115/200\n",
            "1040/1040 [==============================] - 22s 21ms/sample - loss: 3.7081e-04 - val_loss: 0.0458\n",
            "Epoch 116/200\n",
            "1040/1040 [==============================] - 22s 21ms/sample - loss: 3.9048e-04 - val_loss: 0.0462\n",
            "Epoch 117/200\n",
            "1040/1040 [==============================] - 22s 21ms/sample - loss: 3.4388e-04 - val_loss: 0.0465\n",
            "Epoch 118/200\n",
            "1040/1040 [==============================] - 22s 21ms/sample - loss: 3.4383e-04 - val_loss: 0.0458\n",
            "Epoch 119/200\n",
            "1040/1040 [==============================] - 22s 21ms/sample - loss: 3.8540e-04 - val_loss: 0.0464\n",
            "Epoch 120/200\n",
            "1040/1040 [==============================] - 22s 21ms/sample - loss: 4.4056e-04 - val_loss: 0.0465\n",
            "Epoch 121/200\n",
            "1040/1040 [==============================] - 22s 21ms/sample - loss: 4.1735e-04 - val_loss: 0.0455\n",
            "Epoch 122/200\n",
            "1040/1040 [==============================] - 22s 21ms/sample - loss: 3.8857e-04 - val_loss: 0.0461\n",
            "Epoch 123/200\n",
            "1040/1040 [==============================] - 22s 21ms/sample - loss: 3.8572e-04 - val_loss: 0.0462\n",
            "Epoch 124/200\n",
            "1040/1040 [==============================] - 22s 21ms/sample - loss: 3.5758e-04 - val_loss: 0.0467\n",
            "Epoch 125/200\n",
            "1040/1040 [==============================] - 22s 21ms/sample - loss: 3.4355e-04 - val_loss: 0.0453\n",
            "Epoch 126/200\n",
            "1040/1040 [==============================] - 22s 21ms/sample - loss: 3.0646e-04 - val_loss: 0.0456\n",
            "Epoch 127/200\n",
            "1040/1040 [==============================] - 22s 21ms/sample - loss: 3.2231e-04 - val_loss: 0.0458\n",
            "Epoch 128/200\n",
            "1040/1040 [==============================] - 22s 21ms/sample - loss: 3.2919e-04 - val_loss: 0.0459\n",
            "Epoch 129/200\n",
            "1040/1040 [==============================] - 22s 21ms/sample - loss: 3.5533e-04 - val_loss: 0.0466\n",
            "Epoch 130/200\n",
            "1040/1040 [==============================] - 22s 21ms/sample - loss: 3.7406e-04 - val_loss: 0.0455\n",
            "Epoch 131/200\n",
            "1040/1040 [==============================] - 22s 21ms/sample - loss: 3.6400e-04 - val_loss: 0.0456\n",
            "Epoch 132/200\n",
            "1040/1040 [==============================] - 22s 21ms/sample - loss: 3.8761e-04 - val_loss: 0.0460\n",
            "Epoch 133/200\n",
            "1040/1040 [==============================] - 22s 21ms/sample - loss: 3.6216e-04 - val_loss: 0.0451\n",
            "Epoch 134/200\n",
            "1040/1040 [==============================] - 22s 21ms/sample - loss: 3.5350e-04 - val_loss: 0.0462\n",
            "Epoch 135/200\n",
            "1040/1040 [==============================] - 22s 21ms/sample - loss: 3.5500e-04 - val_loss: 0.0450\n",
            "Epoch 136/200\n",
            "1040/1040 [==============================] - 22s 21ms/sample - loss: 3.7947e-04 - val_loss: 0.0457\n",
            "Epoch 137/200\n",
            "1040/1040 [==============================] - 22s 21ms/sample - loss: 3.6036e-04 - val_loss: 0.0453\n",
            "Epoch 138/200\n",
            "1040/1040 [==============================] - 22s 21ms/sample - loss: 3.2707e-04 - val_loss: 0.0457\n",
            "Epoch 139/200\n",
            "1040/1040 [==============================] - 22s 21ms/sample - loss: 3.2068e-04 - val_loss: 0.0453\n",
            "Epoch 140/200\n",
            "1040/1040 [==============================] - 22s 21ms/sample - loss: 3.0511e-04 - val_loss: 0.0459\n",
            "Epoch 141/200\n",
            "1040/1040 [==============================] - 22s 21ms/sample - loss: 3.0040e-04 - val_loss: 0.0449\n",
            "Epoch 142/200\n",
            "1040/1040 [==============================] - 22s 21ms/sample - loss: 3.1563e-04 - val_loss: 0.0453\n",
            "Epoch 143/200\n",
            "1040/1040 [==============================] - 22s 21ms/sample - loss: 3.2286e-04 - val_loss: 0.0453\n",
            "Epoch 144/200\n",
            "1040/1040 [==============================] - 22s 21ms/sample - loss: 3.3845e-04 - val_loss: 0.0458\n",
            "Epoch 145/200\n",
            "1040/1040 [==============================] - 22s 21ms/sample - loss: 3.2935e-04 - val_loss: 0.0447\n",
            "Epoch 146/200\n",
            "1040/1040 [==============================] - 22s 21ms/sample - loss: 3.4241e-04 - val_loss: 0.0450\n",
            "Epoch 147/200\n",
            "1040/1040 [==============================] - 22s 21ms/sample - loss: 3.3746e-04 - val_loss: 0.0455\n",
            "Epoch 148/200\n",
            "1040/1040 [==============================] - 22s 21ms/sample - loss: 3.4178e-04 - val_loss: 0.0455\n",
            "Epoch 149/200\n",
            "1040/1040 [==============================] - 22s 21ms/sample - loss: 3.8468e-04 - val_loss: 0.0453\n",
            "Epoch 150/200\n",
            "1040/1040 [==============================] - 22s 21ms/sample - loss: 3.8469e-04 - val_loss: 0.0450\n",
            "Epoch 151/200\n",
            "1040/1040 [==============================] - 22s 21ms/sample - loss: 3.5796e-04 - val_loss: 0.0448\n",
            "Epoch 152/200\n",
            "1040/1040 [==============================] - 22s 21ms/sample - loss: 3.5481e-04 - val_loss: 0.0449\n",
            "Epoch 153/200\n",
            "1040/1040 [==============================] - 22s 21ms/sample - loss: 3.3687e-04 - val_loss: 0.0447\n",
            "Epoch 154/200\n",
            "1040/1040 [==============================] - 22s 21ms/sample - loss: 3.4281e-04 - val_loss: 0.0451\n",
            "Epoch 155/200\n",
            "1040/1040 [==============================] - 22s 21ms/sample - loss: 3.6670e-04 - val_loss: 0.0450\n",
            "Epoch 156/200\n",
            "1040/1040 [==============================] - 22s 21ms/sample - loss: 3.4465e-04 - val_loss: 0.0449\n",
            "Epoch 157/200\n",
            "1040/1040 [==============================] - 22s 21ms/sample - loss: 3.4648e-04 - val_loss: 0.0445\n",
            "Epoch 158/200\n",
            "1040/1040 [==============================] - 22s 21ms/sample - loss: 3.5768e-04 - val_loss: 0.0448\n",
            "Epoch 159/200\n",
            "1040/1040 [==============================] - 22s 21ms/sample - loss: 3.6213e-04 - val_loss: 0.0451\n",
            "Epoch 160/200\n",
            "1040/1040 [==============================] - 22s 21ms/sample - loss: 3.4614e-04 - val_loss: 0.0444\n",
            "Epoch 161/200\n",
            "1040/1040 [==============================] - 22s 21ms/sample - loss: 3.2930e-04 - val_loss: 0.0445\n",
            "Epoch 162/200\n",
            "1040/1040 [==============================] - 22s 21ms/sample - loss: 3.3417e-04 - val_loss: 0.0446\n",
            "Epoch 163/200\n",
            "1040/1040 [==============================] - 22s 21ms/sample - loss: 3.1820e-04 - val_loss: 0.0446\n",
            "Epoch 164/200\n",
            "1040/1040 [==============================] - 22s 21ms/sample - loss: 3.1446e-04 - val_loss: 0.0448\n",
            "Epoch 165/200\n",
            "1040/1040 [==============================] - 22s 21ms/sample - loss: 3.0237e-04 - val_loss: 0.0446\n",
            "Epoch 166/200\n",
            "1040/1040 [==============================] - 22s 21ms/sample - loss: 3.2193e-04 - val_loss: 0.0440\n",
            "Epoch 167/200\n",
            "1040/1040 [==============================] - 22s 21ms/sample - loss: 3.1604e-04 - val_loss: 0.0443\n",
            "Epoch 168/200\n",
            "1040/1040 [==============================] - 22s 21ms/sample - loss: 3.1968e-04 - val_loss: 0.0445\n",
            "Epoch 169/200\n",
            "1040/1040 [==============================] - 22s 21ms/sample - loss: 3.2834e-04 - val_loss: 0.0444\n",
            "Epoch 170/200\n",
            "1040/1040 [==============================] - 22s 21ms/sample - loss: 3.1820e-04 - val_loss: 0.0439\n",
            "Epoch 171/200\n",
            "1040/1040 [==============================] - 22s 21ms/sample - loss: 3.3155e-04 - val_loss: 0.0438\n",
            "Epoch 172/200\n",
            "1040/1040 [==============================] - 22s 21ms/sample - loss: 3.3284e-04 - val_loss: 0.0440\n",
            "Epoch 173/200\n",
            "1040/1040 [==============================] - 22s 21ms/sample - loss: 3.2975e-04 - val_loss: 0.0440\n",
            "Epoch 174/200\n",
            "1040/1040 [==============================] - 22s 21ms/sample - loss: 3.2839e-04 - val_loss: 0.0445\n",
            "Epoch 175/200\n",
            "1040/1040 [==============================] - 22s 21ms/sample - loss: 3.2574e-04 - val_loss: 0.0447\n",
            "Epoch 176/200\n",
            "1040/1040 [==============================] - 22s 21ms/sample - loss: 3.2881e-04 - val_loss: 0.0442\n",
            "Epoch 177/200\n",
            "1040/1040 [==============================] - 22s 21ms/sample - loss: 3.2756e-04 - val_loss: 0.0444\n",
            "Epoch 178/200\n",
            "1040/1040 [==============================] - 22s 21ms/sample - loss: 3.1795e-04 - val_loss: 0.0442\n",
            "Epoch 179/200\n",
            "1040/1040 [==============================] - 22s 21ms/sample - loss: 3.0765e-04 - val_loss: 0.0443\n",
            "Epoch 180/200\n",
            "1040/1040 [==============================] - 22s 21ms/sample - loss: 3.0646e-04 - val_loss: 0.0441\n",
            "Epoch 181/200\n",
            "1040/1040 [==============================] - 22s 22ms/sample - loss: 2.9890e-04 - val_loss: 0.0435\n",
            "Epoch 182/200\n",
            "1040/1040 [==============================] - 23s 22ms/sample - loss: 3.0985e-04 - val_loss: 0.0440\n",
            "Epoch 183/200\n",
            "1040/1040 [==============================] - 23s 22ms/sample - loss: 3.0810e-04 - val_loss: 0.0439\n",
            "Epoch 184/200\n",
            "1040/1040 [==============================] - 23s 22ms/sample - loss: 3.4170e-04 - val_loss: 0.0433\n",
            "Epoch 185/200\n",
            "1040/1040 [==============================] - 23s 22ms/sample - loss: 3.5600e-04 - val_loss: 0.0443\n",
            "Epoch 186/200\n",
            "1040/1040 [==============================] - 23s 22ms/sample - loss: 3.6322e-04 - val_loss: 0.0441\n",
            "Epoch 187/200\n",
            "1040/1040 [==============================] - 23s 22ms/sample - loss: 3.6290e-04 - val_loss: 0.0438\n",
            "Epoch 188/200\n",
            "1040/1040 [==============================] - 23s 22ms/sample - loss: 3.5018e-04 - val_loss: 0.0434\n",
            "Epoch 189/200\n",
            "1040/1040 [==============================] - 23s 22ms/sample - loss: 3.5185e-04 - val_loss: 0.0434\n",
            "Epoch 190/200\n",
            "1040/1040 [==============================] - 22s 22ms/sample - loss: 3.2907e-04 - val_loss: 0.0444\n",
            "Epoch 191/200\n",
            "1040/1040 [==============================] - 22s 21ms/sample - loss: 3.4563e-04 - val_loss: 0.0442\n",
            "Epoch 192/200\n",
            "1040/1040 [==============================] - 22s 21ms/sample - loss: 3.4503e-04 - val_loss: 0.0442\n",
            "Epoch 193/200\n",
            "1040/1040 [==============================] - 22s 21ms/sample - loss: 2.9128e-04 - val_loss: 0.0438\n",
            "Epoch 194/200\n",
            "1040/1040 [==============================] - 22s 21ms/sample - loss: 2.9242e-04 - val_loss: 0.0439\n",
            "Epoch 195/200\n",
            "1040/1040 [==============================] - 22s 21ms/sample - loss: 2.8152e-04 - val_loss: 0.0438\n",
            "Epoch 196/200\n",
            "1040/1040 [==============================] - 22s 21ms/sample - loss: 2.8934e-04 - val_loss: 0.0436\n",
            "Epoch 197/200\n",
            "1040/1040 [==============================] - 22s 21ms/sample - loss: 2.9565e-04 - val_loss: 0.0440\n",
            "Epoch 198/200\n",
            "1040/1040 [==============================] - 22s 21ms/sample - loss: 2.9331e-04 - val_loss: 0.0436\n",
            "Epoch 199/200\n",
            "1040/1040 [==============================] - 22s 21ms/sample - loss: 2.8989e-04 - val_loss: 0.0441\n",
            "Epoch 200/200\n",
            "1040/1040 [==============================] - 22s 21ms/sample - loss: 3.2086e-04 - val_loss: 0.0433\n"
          ],
          "name": "stdout"
        }
      ]
    },
    {
      "cell_type": "code",
      "metadata": {
        "id": "5N70_CpN2M77",
        "colab_type": "code",
        "colab": {}
      },
      "source": [
        "test = t.texts_to_sequences(df_test['content_body_clean'])\n",
        "x_test = pad_sequences(test, maxlen=sequence_length, padding='post')\n",
        "y_test = np.array(df_test['blind_mean_rating']/5)"
      ],
      "execution_count": 0,
      "outputs": []
    },
    {
      "cell_type": "code",
      "metadata": {
        "id": "W_rxt-r74td0",
        "colab_type": "code",
        "outputId": "85ad6416-4bd6-4b41-884f-bc9262becd36",
        "colab": {
          "base_uri": "https://localhost:8080/",
          "height": 71
        }
      },
      "source": [
        "loss = model.evaluate(x_test, y_test)\n",
        "print('Model Test Loss: {0:.4f}'.format(loss))"
      ],
      "execution_count": 0,
      "outputs": [
        {
          "output_type": "stream",
          "text": [
            "\r326/1 [====================================================================================================================================================================================================================================================================================================================================================================================================================================================================================================================================================================================================================================================================================================================================================================================================================================================================================================================================================================================================================================================================================================================================================================================================================================================================================================================================================================================================================================================================================================================================================================================================================================================================================================================================================================================================================================================================================================================================================================================================================================================================================================================================================================================================================================================================================================================================================================================================================================================================================================================================================================================================================================================================================================================================================================================================================================================================================================================================================================================================================================================================================================================================================================================================================================================================================================================================================================================================================================================================================================================================================================================================================================================================================================================================================================================================================================================================================================================================================================================================================================================================================================================================================================================================================================================================================================================================================================================================================================================================================================================================================================================================================================================================================================================================================================================================================================================================================================================================================================================================================================================================================================================================================================================================================================================================================================================================================================================================================================================================================================================================================================================================================================================================================================================================================================================================================================================================================================================================================================================================================================================================================================================================================================================================================================================================================================================================================================================================================================================================================================================================================================================================================================================================================================================================================================================================================================================================================================================================================================================================================================================================================================================================================================================================================================================================================================================================================================================================================================================================================================================================================================================================================================================================================================================================================================================================================================================================================================================================================================================================================================================================================================================================================================================================================================================================================================================================================================================================================================================================================================================================================================================================================================================================================================================================================================================================================================================================================================================================================================================================================================================================================================================================================================================================================================================================================================================================================================================================================================================================================================================================================================================================================================================================================================================================================================================================================================================================================================================================================================================================================================================================================================================================================================================] - 1s 4ms/sample - loss: 0.0353\n",
            "Model Test Loss: 0.0399\n"
          ],
          "name": "stdout"
        }
      ]
    },
    {
      "cell_type": "code",
      "metadata": {
        "id": "EGlTa8GL4th7",
        "colab_type": "code",
        "outputId": "6775d8bc-ca39-4380-bc82-80b621f1bf76",
        "colab": {
          "base_uri": "https://localhost:8080/",
          "height": 281
        }
      },
      "source": [
        "import matplotlib.pyplot as plt\n",
        "loss = history.history['loss']\n",
        "val_loss = history.history['val_loss']\n",
        "epochs = range(len(loss))\n",
        "plt.plot(epochs, loss, 'b')\n",
        "plt.plot(epochs, val_loss, 'r')\n",
        "plt.title('Training and validation loss')\n",
        "plt.show()"
      ],
      "execution_count": 0,
      "outputs": [
        {
          "output_type": "display_data",
          "data": {
            "image/png": "[encoded data removed]",
            "text/plain": [
              "<Figure size 432x288 with 1 Axes>"
            ]
          },
          "metadata": {
            "tags": []
          }
        }
      ]
    },
    {
      "cell_type": "code",
      "metadata": {
        "id": "2CsrDwSZ6yaF",
        "colab_type": "code",
        "colab": {}
      },
      "source": [
        "y_pred = model.predict(x_test)"
      ],
      "execution_count": 0,
      "outputs": []
    },
    {
      "cell_type": "code",
      "metadata": {
        "id": "O8CCigPOZ3KR",
        "colab_type": "code",
        "outputId": "7f5f39c3-1f89-4b3c-97c6-ec0da18488ab",
        "colab": {
          "base_uri": "https://localhost:8080/",
          "height": 265
        }
      },
      "source": [
        "### Fit on test data\n",
        "y_pred = model.predict(x_test) \n",
        "plt.plot(y_test*5, y_pred*5, '.')\n",
        "\n",
        "# # plot a line, a perfit predict would all fall on this line\n",
        "x = np.linspace(0, 5)\n",
        "y = x\n",
        "plt.plot(x, y)\n",
        "plt.show()"
      ],
      "execution_count": 0,
      "outputs": [
        {
          "output_type": "display_data",
          "data": {
            "image/png": "[encoded data removed]",
            "text/plain": [
              "<Figure size 432x288 with 1 Axes>"
            ]
          },
          "metadata": {
            "tags": []
          }
        }
      ]
    },
    {
      "cell_type": "code",
      "metadata": {
        "id": "QLGgoE-waESN",
        "colab_type": "code",
        "outputId": "92f94b58-3e80-4a82-8fa3-c36ffa77262c",
        "colab": {
          "base_uri": "https://localhost:8080/",
          "height": 265
        }
      },
      "source": [
        "### Fit on training data\n",
        "\n",
        "y_pred = model.predict(x_train) \n",
        "plt.plot(y_train*5, y_pred*5, '.')\n",
        "\n",
        "# # plot a line, a perfit predict would all fall on this line\n",
        "x = np.linspace(0, 5)\n",
        "y = x\n",
        "plt.plot(x, y)\n",
        "plt.show()"
      ],
      "execution_count": 0,
      "outputs": [
        {
          "output_type": "display_data",
          "data": {
            "image/png": "[encoded data removed]",
            "text/plain": [
              "<Figure size 432x288 with 1 Axes>"
            ]
          },
          "metadata": {
            "tags": []
          }
        }
      ]
    },
    {
      "cell_type": "code",
      "metadata": {
        "id": "0lZwO7eDadLR",
        "colab_type": "code",
        "colab": {}
      },
      "source": [
        ""
      ],
      "execution_count": 0,
      "outputs": []
    }
  ]
}