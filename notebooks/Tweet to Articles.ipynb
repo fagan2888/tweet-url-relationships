{
  "nbformat": 4,
  "nbformat_minor": 0,
  "metadata": {
    "kernelspec": {
      "name": "python3",
      "display_name": "Python 3"
    },
    "language_info": {
      "codemirror_mode": {
        "name": "ipython",
        "version": 3
      },
      "file_extension": ".py",
      "mimetype": "text/x-python",
      "name": "python",
      "nbconvert_exporter": "python",
      "pygments_lexer": "ipython3",
      "version": "3.7.4"
    },
    "colab": {
      "name": "Tweet to Articles.ipynb",
      "provenance": [],
      "toc_visible": true
    },
    "accelerator": "GPU"
  },
  "cells": [
    {
      "cell_type": "markdown",
      "metadata": {
        "id": "QzZmsh165ZFd",
        "colab_type": "text"
      },
      "source": [
        "# Twitter Data processing"
      ]
    },
    {
      "cell_type": "code",
      "metadata": {
        "id": "PdQ9nCaO5ZFf",
        "colab_type": "code",
        "colab": {}
      },
      "source": [
        "import pandas as pd\n",
        "import numpy as np\n",
        "import pickle as pk"
      ],
      "execution_count": 0,
      "outputs": []
    },
    {
      "cell_type": "code",
      "metadata": {
        "id": "FW342WdoYkXO",
        "colab_type": "code",
        "colab": {
          "base_uri": "https://localhost:8080/",
          "height": 122
        },
        "outputId": "d9a14f55-a8db-43b9-a170-6a600ef8699e"
      },
      "source": [
        "from google.colab import drive\n",
        "drive.mount('/content/drive')"
      ],
      "execution_count": 2,
      "outputs": [
        {
          "output_type": "stream",
          "text": [
            "Go to this URL in a browser: https://accounts.google.com/o/oauth2/auth?client_id=947318989803-6bn6qk8qdgf4n4g3pfee6491hc0brc4i.apps.googleusercontent.com&redirect_uri=urn%3aietf%3awg%3aoauth%3a2.0%3aoob&response_type=code&scope=email%20https%3a%2f%2fwww.googleapis.com%2fauth%2fdocs.test%20https%3a%2f%2fwww.googleapis.com%2fauth%2fdrive%20https%3a%2f%2fwww.googleapis.com%2fauth%2fdrive.photos.readonly%20https%3a%2f%2fwww.googleapis.com%2fauth%2fpeopleapi.readonly\n",
            "\n",
            "Enter your authorization code:\n",
            "··········\n",
            "Mounted at /content/drive\n"
          ],
          "name": "stdout"
        }
      ]
    },
    {
      "cell_type": "code",
      "metadata": {
        "id": "8RIosm9M5fs4",
        "colab_type": "code",
        "outputId": "42aeb830-e97b-4b7b-d864-e990d3d98245",
        "colab": {
          "base_uri": "https://localhost:8080/",
          "height": 204
        }
      },
      "source": [
        "!wget http://muftayebaly.com/dropbox/all.csv"
      ],
      "execution_count": 3,
      "outputs": [
        {
          "output_type": "stream",
          "text": [
            "--2020-04-06 01:06:04--  http://muftayebaly.com/dropbox/all.csv\n",
            "Resolving muftayebaly.com (muftayebaly.com)... 107.180.20.85\n",
            "Connecting to muftayebaly.com (muftayebaly.com)|107.180.20.85|:80... connected.\n",
            "HTTP request sent, awaiting response... 200 OK\n",
            "Length: 55905549 (53M) [text/csv]\n",
            "Saving to: ‘all.csv’\n",
            "\n",
            "all.csv             100%[===================>]  53.32M  11.9MB/s    in 6.6s    \n",
            "\n",
            "2020-04-06 01:06:11 (8.03 MB/s) - ‘all.csv’ saved [55905549/55905549]\n",
            "\n"
          ],
          "name": "stdout"
        }
      ]
    },
    {
      "cell_type": "code",
      "metadata": {
        "id": "7Pilz_Vo6Tbx",
        "colab_type": "code",
        "outputId": "c00b073e-d4a4-46e9-a875-dd38dc9f1fb3",
        "colab": {
          "base_uri": "https://localhost:8080/",
          "height": 224
        }
      },
      "source": [
        "!wget https://raw.githubusercontent.com/harish-cu/tweet-url-relationships/master/data/raw/knight_data_articles.csv"
      ],
      "execution_count": 4,
      "outputs": [
        {
          "output_type": "stream",
          "text": [
            "--2020-04-06 01:06:18--  https://raw.githubusercontent.com/harish-cu/tweet-url-relationships/master/data/raw/knight_data_articles.csv\n",
            "Resolving raw.githubusercontent.com (raw.githubusercontent.com)... 151.101.0.133, 151.101.64.133, 151.101.128.133, ...\n",
            "Connecting to raw.githubusercontent.com (raw.githubusercontent.com)|151.101.0.133|:443... connected.\n",
            "HTTP request sent, awaiting response... 200 OK\n",
            "Length: 9186850 (8.8M) [text/plain]\n",
            "Saving to: ‘knight_data_articles.csv’\n",
            "\n",
            "knight_data_article 100%[===================>]   8.76M  --.-KB/s    in 0.04s   \n",
            "\n",
            "2020-04-06 01:06:20 (220 MB/s) - ‘knight_data_articles.csv’ saved [9186850/9186850]\n",
            "\n"
          ],
          "name": "stdout"
        }
      ]
    },
    {
      "cell_type": "code",
      "metadata": {
        "id": "-b4vob0d6Ym0",
        "colab_type": "code",
        "outputId": "68d51c89-5b2c-49e8-bf79-17c57bc05a49",
        "colab": {
          "base_uri": "https://localhost:8080/",
          "height": 224
        }
      },
      "source": [
        "!wget https://raw.githubusercontent.com/harish-cu/tweet-url-relationships/master/data/raw/knight_data_urls.csv"
      ],
      "execution_count": 5,
      "outputs": [
        {
          "output_type": "stream",
          "text": [
            "--2020-04-06 01:06:25--  https://raw.githubusercontent.com/harish-cu/tweet-url-relationships/master/data/raw/knight_data_urls.csv\n",
            "Resolving raw.githubusercontent.com (raw.githubusercontent.com)... 151.101.0.133, 151.101.64.133, 151.101.128.133, ...\n",
            "Connecting to raw.githubusercontent.com (raw.githubusercontent.com)|151.101.0.133|:443... connected.\n",
            "HTTP request sent, awaiting response... 200 OK\n",
            "Length: 9199526 (8.8M) [text/plain]\n",
            "Saving to: ‘knight_data_urls.csv’\n",
            "\n",
            "knight_data_urls.cs 100%[===================>]   8.77M  --.-KB/s    in 0.06s   \n",
            "\n",
            "2020-04-06 01:06:27 (152 MB/s) - ‘knight_data_urls.csv’ saved [9199526/9199526]\n",
            "\n"
          ],
          "name": "stdout"
        }
      ]
    },
    {
      "cell_type": "code",
      "metadata": {
        "id": "GATYp9kP5ZFo",
        "colab_type": "code",
        "outputId": "282eebfc-9431-498a-a001-2a81160f29d9",
        "colab": {
          "base_uri": "https://localhost:8080/",
          "height": 394
        }
      },
      "source": [
        "raw_data = pd.read_csv(\"knight_data_articles.csv\")\n",
        "raw_data.head()"
      ],
      "execution_count": 6,
      "outputs": [
        {
          "output_type": "execute_result",
          "data": {
            "text/html": [
              "<div>\n",
              "<style scoped>\n",
              "    .dataframe tbody tr th:only-of-type {\n",
              "        vertical-align: middle;\n",
              "    }\n",
              "\n",
              "    .dataframe tbody tr th {\n",
              "        vertical-align: top;\n",
              "    }\n",
              "\n",
              "    .dataframe thead th {\n",
              "        text-align: right;\n",
              "    }\n",
              "</style>\n",
              "<table border=\"1\" class=\"dataframe\">\n",
              "  <thead>\n",
              "    <tr style=\"text-align: right;\">\n",
              "      <th></th>\n",
              "      <th>content_id</th>\n",
              "      <th>content_body_clean</th>\n",
              "      <th>content_title_clean</th>\n",
              "      <th>label</th>\n",
              "      <th>economy</th>\n",
              "      <th>topic2</th>\n",
              "      <th>science</th>\n",
              "      <th>mention_Trump</th>\n",
              "      <th>mention_Clinton</th>\n",
              "      <th>mention_Democrat</th>\n",
              "      <th>mention_Republican</th>\n",
              "      <th>mention_GOP</th>\n",
              "      <th>mention_Administration</th>\n",
              "      <th>mention_political</th>\n",
              "      <th>mention_voters</th>\n",
              "      <th>mention_campaign</th>\n",
              "      <th>mention_climate</th>\n",
              "      <th>mention_abortion</th>\n",
              "      <th>mention_immigration</th>\n",
              "      <th>mention_trade</th>\n",
              "      <th>mention_immigrants</th>\n",
              "      <th>mention_border</th>\n",
              "      <th>mention_terrorist</th>\n",
              "      <th>mention_attack</th>\n",
              "      <th>mention_NRA</th>\n",
              "      <th>mention_sanctuary</th>\n",
              "      <th>mention_socialist</th>\n",
              "      <th>mention_fascist</th>\n",
              "      <th>mention_communist</th>\n",
              "      <th>mention_nationalist</th>\n",
              "      <th>mention_2A</th>\n",
              "      <th>content_source_desc</th>\n",
              "    </tr>\n",
              "  </thead>\n",
              "  <tbody>\n",
              "    <tr>\n",
              "      <th>0</th>\n",
              "      <td>60</td>\n",
              "      <td>Republicans in Congress are at a make or break...</td>\n",
              "      <td>Tax reform now -- failure to act could mean mi...</td>\n",
              "      <td>9</td>\n",
              "      <td>1</td>\n",
              "      <td>0</td>\n",
              "      <td>0</td>\n",
              "      <td>1</td>\n",
              "      <td>0</td>\n",
              "      <td>0</td>\n",
              "      <td>1</td>\n",
              "      <td>1</td>\n",
              "      <td>0</td>\n",
              "      <td>1</td>\n",
              "      <td>0</td>\n",
              "      <td>1</td>\n",
              "      <td>0</td>\n",
              "      <td>0</td>\n",
              "      <td>0</td>\n",
              "      <td>0</td>\n",
              "      <td>0</td>\n",
              "      <td>0</td>\n",
              "      <td>0</td>\n",
              "      <td>0</td>\n",
              "      <td>0</td>\n",
              "      <td>0</td>\n",
              "      <td>0</td>\n",
              "      <td>0</td>\n",
              "      <td>0</td>\n",
              "      <td>0</td>\n",
              "      <td>0</td>\n",
              "      <td>Fox News</td>\n",
              "    </tr>\n",
              "    <tr>\n",
              "      <th>1</th>\n",
              "      <td>61</td>\n",
              "      <td>The Constitution authorizes Congress to tax Am...</td>\n",
              "      <td>Tax reform -- America needs a tax code that's ...</td>\n",
              "      <td>9</td>\n",
              "      <td>1</td>\n",
              "      <td>0</td>\n",
              "      <td>0</td>\n",
              "      <td>1</td>\n",
              "      <td>0</td>\n",
              "      <td>0</td>\n",
              "      <td>0</td>\n",
              "      <td>0</td>\n",
              "      <td>0</td>\n",
              "      <td>0</td>\n",
              "      <td>0</td>\n",
              "      <td>0</td>\n",
              "      <td>0</td>\n",
              "      <td>0</td>\n",
              "      <td>0</td>\n",
              "      <td>0</td>\n",
              "      <td>0</td>\n",
              "      <td>0</td>\n",
              "      <td>0</td>\n",
              "      <td>0</td>\n",
              "      <td>0</td>\n",
              "      <td>0</td>\n",
              "      <td>0</td>\n",
              "      <td>0</td>\n",
              "      <td>0</td>\n",
              "      <td>0</td>\n",
              "      <td>0</td>\n",
              "      <td>Fox News</td>\n",
              "    </tr>\n",
              "    <tr>\n",
              "      <th>2</th>\n",
              "      <td>66</td>\n",
              "      <td>A long-mothballed, unfinished casino-hotel on ...</td>\n",
              "      <td>Long-mothballed Las Vegas Strip casino-hotel s...</td>\n",
              "      <td>0</td>\n",
              "      <td>1</td>\n",
              "      <td>0</td>\n",
              "      <td>0</td>\n",
              "      <td>0</td>\n",
              "      <td>0</td>\n",
              "      <td>0</td>\n",
              "      <td>0</td>\n",
              "      <td>0</td>\n",
              "      <td>0</td>\n",
              "      <td>0</td>\n",
              "      <td>0</td>\n",
              "      <td>0</td>\n",
              "      <td>0</td>\n",
              "      <td>0</td>\n",
              "      <td>0</td>\n",
              "      <td>0</td>\n",
              "      <td>0</td>\n",
              "      <td>0</td>\n",
              "      <td>0</td>\n",
              "      <td>0</td>\n",
              "      <td>0</td>\n",
              "      <td>0</td>\n",
              "      <td>0</td>\n",
              "      <td>0</td>\n",
              "      <td>0</td>\n",
              "      <td>0</td>\n",
              "      <td>0</td>\n",
              "      <td>Fox News</td>\n",
              "    </tr>\n",
              "    <tr>\n",
              "      <th>3</th>\n",
              "      <td>80</td>\n",
              "      <td>If taxing foreign earnings that have already a...</td>\n",
              "      <td>Trump Tax Plan May Free Up Corporate Dollars, ...</td>\n",
              "      <td>3</td>\n",
              "      <td>1</td>\n",
              "      <td>0</td>\n",
              "      <td>0</td>\n",
              "      <td>1</td>\n",
              "      <td>0</td>\n",
              "      <td>0</td>\n",
              "      <td>0</td>\n",
              "      <td>0</td>\n",
              "      <td>0</td>\n",
              "      <td>0</td>\n",
              "      <td>0</td>\n",
              "      <td>0</td>\n",
              "      <td>0</td>\n",
              "      <td>0</td>\n",
              "      <td>1</td>\n",
              "      <td>0</td>\n",
              "      <td>0</td>\n",
              "      <td>0</td>\n",
              "      <td>0</td>\n",
              "      <td>0</td>\n",
              "      <td>0</td>\n",
              "      <td>0</td>\n",
              "      <td>0</td>\n",
              "      <td>0</td>\n",
              "      <td>0</td>\n",
              "      <td>0</td>\n",
              "      <td>0</td>\n",
              "      <td>The New York Times</td>\n",
              "    </tr>\n",
              "    <tr>\n",
              "      <th>4</th>\n",
              "      <td>82</td>\n",
              "      <td>Hurricane Harvey has already taken an enormous...</td>\n",
              "      <td>Hurricane Harvey is a humanitarian disaster. I...</td>\n",
              "      <td>5</td>\n",
              "      <td>1</td>\n",
              "      <td>0</td>\n",
              "      <td>0</td>\n",
              "      <td>0</td>\n",
              "      <td>0</td>\n",
              "      <td>0</td>\n",
              "      <td>0</td>\n",
              "      <td>0</td>\n",
              "      <td>0</td>\n",
              "      <td>0</td>\n",
              "      <td>0</td>\n",
              "      <td>0</td>\n",
              "      <td>0</td>\n",
              "      <td>0</td>\n",
              "      <td>0</td>\n",
              "      <td>0</td>\n",
              "      <td>0</td>\n",
              "      <td>0</td>\n",
              "      <td>0</td>\n",
              "      <td>0</td>\n",
              "      <td>0</td>\n",
              "      <td>0</td>\n",
              "      <td>0</td>\n",
              "      <td>0</td>\n",
              "      <td>0</td>\n",
              "      <td>0</td>\n",
              "      <td>0</td>\n",
              "      <td>Vox</td>\n",
              "    </tr>\n",
              "  </tbody>\n",
              "</table>\n",
              "</div>"
            ],
            "text/plain": [
              "   content_id  ... content_source_desc\n",
              "0          60  ...            Fox News\n",
              "1          61  ...            Fox News\n",
              "2          66  ...            Fox News\n",
              "3          80  ...  The New York Times\n",
              "4          82  ...                 Vox\n",
              "\n",
              "[5 rows x 32 columns]"
            ]
          },
          "metadata": {
            "tags": []
          },
          "execution_count": 6
        }
      ]
    },
    {
      "cell_type": "code",
      "metadata": {
        "id": "pNhNnFQL5ZFv",
        "colab_type": "code",
        "outputId": "099e07a3-df32-4550-d14e-da3acc3f1611",
        "colab": {
          "base_uri": "https://localhost:8080/",
          "height": 289
        }
      },
      "source": [
        "raw_urls = pd.read_csv(\"knight_data_urls.csv\")\n",
        "raw_urls.head()"
      ],
      "execution_count": 7,
      "outputs": [
        {
          "output_type": "execute_result",
          "data": {
            "text/html": [
              "<div>\n",
              "<style scoped>\n",
              "    .dataframe tbody tr th:only-of-type {\n",
              "        vertical-align: middle;\n",
              "    }\n",
              "\n",
              "    .dataframe tbody tr th {\n",
              "        vertical-align: top;\n",
              "    }\n",
              "\n",
              "    .dataframe thead th {\n",
              "        text-align: right;\n",
              "    }\n",
              "</style>\n",
              "<table border=\"1\" class=\"dataframe\">\n",
              "  <thead>\n",
              "    <tr style=\"text-align: right;\">\n",
              "      <th></th>\n",
              "      <th>content_title_clean</th>\n",
              "      <th>content_body_clean</th>\n",
              "      <th>content_src_url</th>\n",
              "      <th>content_id</th>\n",
              "    </tr>\n",
              "  </thead>\n",
              "  <tbody>\n",
              "    <tr>\n",
              "      <th>0</th>\n",
              "      <td>Tax reform now -- failure to act could mean mi...</td>\n",
              "      <td>Republicans in Congress are at a make or break...</td>\n",
              "      <td>http://www.foxnews.com//opinion/2017/08/30/tax...</td>\n",
              "      <td>60</td>\n",
              "    </tr>\n",
              "    <tr>\n",
              "      <th>1</th>\n",
              "      <td>Tax reform -- America needs a tax code that's ...</td>\n",
              "      <td>The Constitution authorizes Congress to tax Am...</td>\n",
              "      <td>http://www.foxnews.com//opinion/2017/08/30/tax...</td>\n",
              "      <td>61</td>\n",
              "    </tr>\n",
              "    <tr>\n",
              "      <th>2</th>\n",
              "      <td>Long-mothballed Las Vegas Strip casino-hotel s...</td>\n",
              "      <td>A long-mothballed, unfinished casino-hotel on ...</td>\n",
              "      <td>http://www.foxnews.com//us/2017/08/29/long-mot...</td>\n",
              "      <td>66</td>\n",
              "    </tr>\n",
              "    <tr>\n",
              "      <th>3</th>\n",
              "      <td>Trump Tax Plan May Free Up Corporate Dollars, ...</td>\n",
              "      <td>If taxing foreign earnings that have already a...</td>\n",
              "      <td>https://www.nytimes.com/2017/08/29/business/ec...</td>\n",
              "      <td>80</td>\n",
              "    </tr>\n",
              "    <tr>\n",
              "      <th>4</th>\n",
              "      <td>Hurricane Harvey is a humanitarian disaster. I...</td>\n",
              "      <td>Hurricane Harvey has already taken an enormous...</td>\n",
              "      <td>https://www.vox.com/policy-and-politics/2017/8...</td>\n",
              "      <td>82</td>\n",
              "    </tr>\n",
              "  </tbody>\n",
              "</table>\n",
              "</div>"
            ],
            "text/plain": [
              "                                 content_title_clean  ... content_id\n",
              "0  Tax reform now -- failure to act could mean mi...  ...         60\n",
              "1  Tax reform -- America needs a tax code that's ...  ...         61\n",
              "2  Long-mothballed Las Vegas Strip casino-hotel s...  ...         66\n",
              "3  Trump Tax Plan May Free Up Corporate Dollars, ...  ...         80\n",
              "4  Hurricane Harvey is a humanitarian disaster. I...  ...         82\n",
              "\n",
              "[5 rows x 4 columns]"
            ]
          },
          "metadata": {
            "tags": []
          },
          "execution_count": 7
        }
      ]
    },
    {
      "cell_type": "code",
      "metadata": {
        "scrolled": true,
        "id": "tfGVCdYq5ZGE",
        "colab_type": "code",
        "outputId": "b6a9b390-142e-4e06-b385-ed7cd6ede7b1",
        "colab": {
          "base_uri": "https://localhost:8080/",
          "height": 762
        }
      },
      "source": [
        "raw_tweets = pd.read_csv(\"all.csv\")\n",
        "raw_tweets"
      ],
      "execution_count": 8,
      "outputs": [
        {
          "output_type": "execute_result",
          "data": {
            "text/html": [
              "<div>\n",
              "<style scoped>\n",
              "    .dataframe tbody tr th:only-of-type {\n",
              "        vertical-align: middle;\n",
              "    }\n",
              "\n",
              "    .dataframe tbody tr th {\n",
              "        vertical-align: top;\n",
              "    }\n",
              "\n",
              "    .dataframe thead th {\n",
              "        text-align: right;\n",
              "    }\n",
              "</style>\n",
              "<table border=\"1\" class=\"dataframe\">\n",
              "  <thead>\n",
              "    <tr style=\"text-align: right;\">\n",
              "      <th></th>\n",
              "      <th>tweet_id</th>\n",
              "      <th>tweet_text</th>\n",
              "      <th>user_id</th>\n",
              "      <th>tweet_time</th>\n",
              "      <th>no_favs</th>\n",
              "      <th>no_retweets</th>\n",
              "      <th>urls</th>\n",
              "    </tr>\n",
              "  </thead>\n",
              "  <tbody>\n",
              "    <tr>\n",
              "      <th>0</th>\n",
              "      <td>851485433003421701</td>\n",
              "      <td>#Trump’s border wall would be an ecological an...</td>\n",
              "      <td>613521891</td>\n",
              "      <td>2017-04-10T17:22:01.000Z</td>\n",
              "      <td>0</td>\n",
              "      <td>0</td>\n",
              "      <td>https://www.vox.com/energy-and-environment/201...</td>\n",
              "    </tr>\n",
              "    <tr>\n",
              "      <th>1</th>\n",
              "      <td>851514117374398464</td>\n",
              "      <td>#Trump’s border wall would be an ecological an...</td>\n",
              "      <td>222481411</td>\n",
              "      <td>2017-04-10T19:16:00.000Z</td>\n",
              "      <td>0</td>\n",
              "      <td>0</td>\n",
              "      <td>https://www.vox.com/energy-and-environment/201...</td>\n",
              "    </tr>\n",
              "    <tr>\n",
              "      <th>2</th>\n",
              "      <td>855009400670617600</td>\n",
              "      <td>The research and experts are clear: Tougher bo...</td>\n",
              "      <td>2347049341</td>\n",
              "      <td>2017-04-20T10:45:01.000Z</td>\n",
              "      <td>0</td>\n",
              "      <td>0</td>\n",
              "      <td>https://www.vox.com/policy-and-politics/2017/4...</td>\n",
              "    </tr>\n",
              "    <tr>\n",
              "      <th>3</th>\n",
              "      <td>855009683542728704</td>\n",
              "      <td>Hmmmmmm https://t.co/y3fNx7KuJT</td>\n",
              "      <td>243580387</td>\n",
              "      <td>2017-04-20T10:46:08.000Z</td>\n",
              "      <td>0</td>\n",
              "      <td>0</td>\n",
              "      <td>https://www.vox.com/policy-and-politics/2017/4...</td>\n",
              "    </tr>\n",
              "    <tr>\n",
              "      <th>4</th>\n",
              "      <td>855011873183342592</td>\n",
              "      <td>(psst! It was never about drugs. It's always b...</td>\n",
              "      <td>17889654</td>\n",
              "      <td>2017-04-20T10:54:50.000Z</td>\n",
              "      <td>0</td>\n",
              "      <td>0</td>\n",
              "      <td>https://www.vox.com/policy-and-politics/2017/4...</td>\n",
              "    </tr>\n",
              "    <tr>\n",
              "      <th>...</th>\n",
              "      <td>...</td>\n",
              "      <td>...</td>\n",
              "      <td>...</td>\n",
              "      <td>...</td>\n",
              "      <td>...</td>\n",
              "      <td>...</td>\n",
              "      <td>...</td>\n",
              "    </tr>\n",
              "    <tr>\n",
              "      <th>201868</th>\n",
              "      <td>930566176907853824</td>\n",
              "      <td>Big increase in investment hastening arrival o...</td>\n",
              "      <td>454368263</td>\n",
              "      <td>2017-11-14T22:40:40.000Z</td>\n",
              "      <td>0</td>\n",
              "      <td>0</td>\n",
              "      <td>https://www.nytimes.com/2017/11/13/business/se...</td>\n",
              "    </tr>\n",
              "    <tr>\n",
              "      <th>201869</th>\n",
              "      <td>930571261775876097</td>\n",
              "      <td>As readers of https://t.co/ajmt36bUQU already ...</td>\n",
              "      <td>61681958</td>\n",
              "      <td>2017-11-14T23:00:52.000Z</td>\n",
              "      <td>0</td>\n",
              "      <td>0</td>\n",
              "      <td>https://tytnetwork.com/Investigates/; https://...</td>\n",
              "    </tr>\n",
              "    <tr>\n",
              "      <th>201870</th>\n",
              "      <td>930573435343908864</td>\n",
              "      <td>We’ve been reporting on what FedEx and UPS are...</td>\n",
              "      <td>905632398511046656</td>\n",
              "      <td>2017-11-14T23:09:30.000Z</td>\n",
              "      <td>0</td>\n",
              "      <td>0</td>\n",
              "      <td>https://www.nytimes.com/2017/11/13/business/se...</td>\n",
              "    </tr>\n",
              "    <tr>\n",
              "      <th>201871</th>\n",
              "      <td>930582220800233473</td>\n",
              "      <td>Self-Driving Trucks May Be Closer Than They Ap...</td>\n",
              "      <td>831215040</td>\n",
              "      <td>2017-11-14T23:44:25.000Z</td>\n",
              "      <td>0</td>\n",
              "      <td>0</td>\n",
              "      <td>https://www.nytimes.com/2017/11/13/business/se...</td>\n",
              "    </tr>\n",
              "    <tr>\n",
              "      <th>201872</th>\n",
              "      <td>930585398471901184</td>\n",
              "      <td>When it comes to #selfdriving vehicles, trucks...</td>\n",
              "      <td>1149663985</td>\n",
              "      <td>2017-11-14T23:57:03.000Z</td>\n",
              "      <td>0</td>\n",
              "      <td>0</td>\n",
              "      <td>https://www.nytimes.com/2017/11/13/business/se...</td>\n",
              "    </tr>\n",
              "  </tbody>\n",
              "</table>\n",
              "<p>201873 rows × 7 columns</p>\n",
              "</div>"
            ],
            "text/plain": [
              "                  tweet_id  ...                                               urls\n",
              "0       851485433003421701  ...  https://www.vox.com/energy-and-environment/201...\n",
              "1       851514117374398464  ...  https://www.vox.com/energy-and-environment/201...\n",
              "2       855009400670617600  ...  https://www.vox.com/policy-and-politics/2017/4...\n",
              "3       855009683542728704  ...  https://www.vox.com/policy-and-politics/2017/4...\n",
              "4       855011873183342592  ...  https://www.vox.com/policy-and-politics/2017/4...\n",
              "...                    ...  ...                                                ...\n",
              "201868  930566176907853824  ...  https://www.nytimes.com/2017/11/13/business/se...\n",
              "201869  930571261775876097  ...  https://tytnetwork.com/Investigates/; https://...\n",
              "201870  930573435343908864  ...  https://www.nytimes.com/2017/11/13/business/se...\n",
              "201871  930582220800233473  ...  https://www.nytimes.com/2017/11/13/business/se...\n",
              "201872  930585398471901184  ...  https://www.nytimes.com/2017/11/13/business/se...\n",
              "\n",
              "[201873 rows x 7 columns]"
            ]
          },
          "metadata": {
            "tags": []
          },
          "execution_count": 8
        }
      ]
    },
    {
      "cell_type": "code",
      "metadata": {
        "id": "Q8-Ycnj5Zdqh",
        "colab_type": "code",
        "colab": {}
      },
      "source": [
        "import os\n",
        "import shutil"
      ],
      "execution_count": 0,
      "outputs": []
    },
    {
      "cell_type": "code",
      "metadata": {
        "id": "fIR291sjZdtR",
        "colab_type": "code",
        "colab": {}
      },
      "source": [
        "os.makedirs('drive/My Drive/capstone')"
      ],
      "execution_count": 0,
      "outputs": []
    },
    {
      "cell_type": "code",
      "metadata": {
        "id": "e29EROm4aZLz",
        "colab_type": "code",
        "colab": {
          "base_uri": "https://localhost:8080/",
          "height": 34
        },
        "outputId": "440330b7-3712-4f10-98d4-f8288ff9d432"
      },
      "source": [
        "shutil.copy('knight_data_articles.csv','drive/My Drive/capstone')"
      ],
      "execution_count": 13,
      "outputs": [
        {
          "output_type": "execute_result",
          "data": {
            "text/plain": [
              "'drive/My Drive/capstone/knight_data_articles.csv'"
            ]
          },
          "metadata": {
            "tags": []
          },
          "execution_count": 13
        }
      ]
    },
    {
      "cell_type": "code",
      "metadata": {
        "id": "AHM7AuFKcFB6",
        "colab_type": "code",
        "colab": {}
      },
      "source": [
        "lst = ['one','two']\n",
        "savedf = pd.DataFrame(data={\"col1\": lst})\n",
        "savedf.to_csv(\"drive/My Drive/capstone/test1.csv\", sep=',',index=False)"
      ],
      "execution_count": 0,
      "outputs": []
    },
    {
      "cell_type": "code",
      "metadata": {
        "id": "rpckVHhncV1k",
        "colab_type": "code",
        "colab": {
          "base_uri": "https://localhost:8080/",
          "height": 111
        },
        "outputId": "e644dfe1-a8de-4665-fa57-8c96b2ac4402"
      },
      "source": [
        "saveddf = pd.read_csv('drive/My Drive/capstone/test1.csv')\n",
        "saveddf"
      ],
      "execution_count": 16,
      "outputs": [
        {
          "output_type": "execute_result",
          "data": {
            "text/html": [
              "<div>\n",
              "<style scoped>\n",
              "    .dataframe tbody tr th:only-of-type {\n",
              "        vertical-align: middle;\n",
              "    }\n",
              "\n",
              "    .dataframe tbody tr th {\n",
              "        vertical-align: top;\n",
              "    }\n",
              "\n",
              "    .dataframe thead th {\n",
              "        text-align: right;\n",
              "    }\n",
              "</style>\n",
              "<table border=\"1\" class=\"dataframe\">\n",
              "  <thead>\n",
              "    <tr style=\"text-align: right;\">\n",
              "      <th></th>\n",
              "      <th>col1</th>\n",
              "    </tr>\n",
              "  </thead>\n",
              "  <tbody>\n",
              "    <tr>\n",
              "      <th>0</th>\n",
              "      <td>one</td>\n",
              "    </tr>\n",
              "    <tr>\n",
              "      <th>1</th>\n",
              "      <td>two</td>\n",
              "    </tr>\n",
              "  </tbody>\n",
              "</table>\n",
              "</div>"
            ],
            "text/plain": [
              "  col1\n",
              "0  one\n",
              "1  two"
            ]
          },
          "metadata": {
            "tags": []
          },
          "execution_count": 16
        }
      ]
    },
    {
      "cell_type": "markdown",
      "metadata": {
        "id": "4qvlyYlh5ZGI",
        "colab_type": "text"
      },
      "source": [
        "## Add content id to tweet data"
      ]
    },
    {
      "cell_type": "code",
      "metadata": {
        "id": "iV1Si2iT5ZGI",
        "colab_type": "code",
        "colab": {}
      },
      "source": [
        "cid=[]\n",
        "\n",
        "for index, row in raw_tweets.iterrows():\n",
        "    appended=False\n",
        "    for i, r in raw_urls.iterrows():\n",
        "        if row['urls'] == r['content_src_url']:\n",
        "            cid.append(r['content_id'])\n",
        "            appended=True\n",
        "            break\n",
        "    if appended is False:\n",
        "        cid.append('blank')\n",
        "\n",
        "savedf = pd.DataFrame(data={\"cid\": cid})\n",
        "savedf.to_csv(\"drive/My Drive/capstone/tweetCidList.csv\", sep=',',index=False)"
      ],
      "execution_count": 0,
      "outputs": []
    },
    {
      "cell_type": "code",
      "metadata": {
        "id": "jCqqAwbw5ZGM",
        "colab_type": "code",
        "colab": {}
      },
      "source": [
        "ciddf = pd.read_csv(\"drive/My Drive/capstone/tweetCidList.csv\")"
      ],
      "execution_count": 0,
      "outputs": []
    },
    {
      "cell_type": "code",
      "metadata": {
        "id": "TfhqB1B4DrCC",
        "colab_type": "code",
        "colab": {
          "base_uri": "https://localhost:8080/",
          "height": 34
        },
        "outputId": "b9d6a01e-6cc8-467b-f74f-3a49cba6818b"
      },
      "source": [
        "ciddf.shape"
      ],
      "execution_count": 13,
      "outputs": [
        {
          "output_type": "execute_result",
          "data": {
            "text/plain": [
              "(201873, 1)"
            ]
          },
          "metadata": {
            "tags": []
          },
          "execution_count": 13
        }
      ]
    },
    {
      "cell_type": "code",
      "metadata": {
        "id": "V0VT9lTODiNI",
        "colab_type": "code",
        "colab": {
          "base_uri": "https://localhost:8080/",
          "height": 419
        },
        "outputId": "edfd26dd-5741-4746-a083-a4176a0c4425"
      },
      "source": [
        "ciddf[ciddf['cid']=='blank']"
      ],
      "execution_count": 12,
      "outputs": [
        {
          "output_type": "execute_result",
          "data": {
            "text/html": [
              "<div>\n",
              "<style scoped>\n",
              "    .dataframe tbody tr th:only-of-type {\n",
              "        vertical-align: middle;\n",
              "    }\n",
              "\n",
              "    .dataframe tbody tr th {\n",
              "        vertical-align: top;\n",
              "    }\n",
              "\n",
              "    .dataframe thead th {\n",
              "        text-align: right;\n",
              "    }\n",
              "</style>\n",
              "<table border=\"1\" class=\"dataframe\">\n",
              "  <thead>\n",
              "    <tr style=\"text-align: right;\">\n",
              "      <th></th>\n",
              "      <th>cid</th>\n",
              "    </tr>\n",
              "  </thead>\n",
              "  <tbody>\n",
              "    <tr>\n",
              "      <th>30</th>\n",
              "      <td>blank</td>\n",
              "    </tr>\n",
              "    <tr>\n",
              "      <th>69</th>\n",
              "      <td>blank</td>\n",
              "    </tr>\n",
              "    <tr>\n",
              "      <th>85</th>\n",
              "      <td>blank</td>\n",
              "    </tr>\n",
              "    <tr>\n",
              "      <th>162</th>\n",
              "      <td>blank</td>\n",
              "    </tr>\n",
              "    <tr>\n",
              "      <th>297</th>\n",
              "      <td>blank</td>\n",
              "    </tr>\n",
              "    <tr>\n",
              "      <th>...</th>\n",
              "      <td>...</td>\n",
              "    </tr>\n",
              "    <tr>\n",
              "      <th>201686</th>\n",
              "      <td>blank</td>\n",
              "    </tr>\n",
              "    <tr>\n",
              "      <th>201715</th>\n",
              "      <td>blank</td>\n",
              "    </tr>\n",
              "    <tr>\n",
              "      <th>201850</th>\n",
              "      <td>blank</td>\n",
              "    </tr>\n",
              "    <tr>\n",
              "      <th>201861</th>\n",
              "      <td>blank</td>\n",
              "    </tr>\n",
              "    <tr>\n",
              "      <th>201869</th>\n",
              "      <td>blank</td>\n",
              "    </tr>\n",
              "  </tbody>\n",
              "</table>\n",
              "<p>35327 rows × 1 columns</p>\n",
              "</div>"
            ],
            "text/plain": [
              "          cid\n",
              "30      blank\n",
              "69      blank\n",
              "85      blank\n",
              "162     blank\n",
              "297     blank\n",
              "...       ...\n",
              "201686  blank\n",
              "201715  blank\n",
              "201850  blank\n",
              "201861  blank\n",
              "201869  blank\n",
              "\n",
              "[35327 rows x 1 columns]"
            ]
          },
          "metadata": {
            "tags": []
          },
          "execution_count": 12
        }
      ]
    },
    {
      "cell_type": "code",
      "metadata": {
        "id": "z-zqMcxREP5p",
        "colab_type": "code",
        "colab": {
          "base_uri": "https://localhost:8080/",
          "height": 51
        },
        "outputId": "f65f7bcf-c100-4ea8-9b88-51191ebaed64"
      },
      "source": [
        "raw_tweets['urls'].iloc[201686].split(';')"
      ],
      "execution_count": 20,
      "outputs": [
        {
          "output_type": "execute_result",
          "data": {
            "text/plain": [
              "['https://www.nytimes.com/2017/11/13/business/self-driving-trucks.html',\n",
              " ' http://tweetedtimes.com/bethlah']"
            ]
          },
          "metadata": {
            "tags": []
          },
          "execution_count": 20
        }
      ]
    },
    {
      "cell_type": "code",
      "metadata": {
        "id": "p67TLA4qU7Do",
        "colab_type": "code",
        "colab": {
          "base_uri": "https://localhost:8080/",
          "height": 34
        },
        "outputId": "9dc8b8c0-2602-4694-8650-1998d9ac5058"
      },
      "source": [
        "ciddf['cid'][201686]"
      ],
      "execution_count": 21,
      "outputs": [
        {
          "output_type": "execute_result",
          "data": {
            "text/plain": [
              "'blank'"
            ]
          },
          "metadata": {
            "tags": []
          },
          "execution_count": 21
        }
      ]
    },
    {
      "cell_type": "code",
      "metadata": {
        "id": "2l1CokQsJmhg",
        "colab_type": "code",
        "colab": {}
      },
      "source": [
        "for index, row in ciddf[ciddf['cid']=='blank'].iterrows():\n",
        "  try:\n",
        "    links = raw_tweets['urls'].iloc[index].split(';')\n",
        "    for link in links:\n",
        "      appended=False\n",
        "      for i, r in raw_urls.iterrows():\n",
        "        if link == r['content_src_url']:\n",
        "            ciddf['cid'][index] = r['content_id']\n",
        "            appended=True\n",
        "            break\n",
        "      if appended:\n",
        "        break\n",
        "  except Exception:\n",
        "    pass"
      ],
      "execution_count": 0,
      "outputs": []
    },
    {
      "cell_type": "code",
      "metadata": {
        "id": "v9obrp2HVNPw",
        "colab_type": "code",
        "colab": {}
      },
      "source": [
        "ciddf.to_csv(\"drive/My Drive/capstone/tweetCidList2.csv\", sep=',',index=False)"
      ],
      "execution_count": 0,
      "outputs": []
    },
    {
      "cell_type": "code",
      "metadata": {
        "id": "GmcnEguXtBkb",
        "colab_type": "code",
        "colab": {
          "base_uri": "https://localhost:8080/",
          "height": 419
        },
        "outputId": "055771b2-5a23-44b8-88b4-e8455fad2341"
      },
      "source": [
        "ciddf[ciddf['cid']=='blank']"
      ],
      "execution_count": 25,
      "outputs": [
        {
          "output_type": "execute_result",
          "data": {
            "text/html": [
              "<div>\n",
              "<style scoped>\n",
              "    .dataframe tbody tr th:only-of-type {\n",
              "        vertical-align: middle;\n",
              "    }\n",
              "\n",
              "    .dataframe tbody tr th {\n",
              "        vertical-align: top;\n",
              "    }\n",
              "\n",
              "    .dataframe thead th {\n",
              "        text-align: right;\n",
              "    }\n",
              "</style>\n",
              "<table border=\"1\" class=\"dataframe\">\n",
              "  <thead>\n",
              "    <tr style=\"text-align: right;\">\n",
              "      <th></th>\n",
              "      <th>cid</th>\n",
              "    </tr>\n",
              "  </thead>\n",
              "  <tbody>\n",
              "    <tr>\n",
              "      <th>30</th>\n",
              "      <td>blank</td>\n",
              "    </tr>\n",
              "    <tr>\n",
              "      <th>69</th>\n",
              "      <td>blank</td>\n",
              "    </tr>\n",
              "    <tr>\n",
              "      <th>297</th>\n",
              "      <td>blank</td>\n",
              "    </tr>\n",
              "    <tr>\n",
              "      <th>343</th>\n",
              "      <td>blank</td>\n",
              "    </tr>\n",
              "    <tr>\n",
              "      <th>494</th>\n",
              "      <td>blank</td>\n",
              "    </tr>\n",
              "    <tr>\n",
              "      <th>...</th>\n",
              "      <td>...</td>\n",
              "    </tr>\n",
              "    <tr>\n",
              "      <th>201639</th>\n",
              "      <td>blank</td>\n",
              "    </tr>\n",
              "    <tr>\n",
              "      <th>201648</th>\n",
              "      <td>blank</td>\n",
              "    </tr>\n",
              "    <tr>\n",
              "      <th>201651</th>\n",
              "      <td>blank</td>\n",
              "    </tr>\n",
              "    <tr>\n",
              "      <th>201850</th>\n",
              "      <td>blank</td>\n",
              "    </tr>\n",
              "    <tr>\n",
              "      <th>201869</th>\n",
              "      <td>blank</td>\n",
              "    </tr>\n",
              "  </tbody>\n",
              "</table>\n",
              "<p>31678 rows × 1 columns</p>\n",
              "</div>"
            ],
            "text/plain": [
              "          cid\n",
              "30      blank\n",
              "69      blank\n",
              "297     blank\n",
              "343     blank\n",
              "494     blank\n",
              "...       ...\n",
              "201639  blank\n",
              "201648  blank\n",
              "201651  blank\n",
              "201850  blank\n",
              "201869  blank\n",
              "\n",
              "[31678 rows x 1 columns]"
            ]
          },
          "metadata": {
            "tags": []
          },
          "execution_count": 25
        }
      ]
    },
    {
      "cell_type": "code",
      "metadata": {
        "id": "5ICeyvPCtSfU",
        "colab_type": "code",
        "colab": {
          "base_uri": "https://localhost:8080/",
          "height": 51
        },
        "outputId": "bba87599-0a91-4e63-bfbe-ae800a50e9d2"
      },
      "source": [
        "raw_tweets['urls'].iloc[30].split(';')"
      ],
      "execution_count": 26,
      "outputs": [
        {
          "output_type": "execute_result",
          "data": {
            "text/plain": [
              "['https://www.vox.com/',\n",
              " ' https://www.vox.com/science-and-health/2017/5/8/15454832/fentanyl-carfentanil-opioid-epidemic']"
            ]
          },
          "metadata": {
            "tags": []
          },
          "execution_count": 26
        }
      ]
    },
    {
      "cell_type": "code",
      "metadata": {
        "id": "ItFeDAIuugC1",
        "colab_type": "code",
        "colab": {}
      },
      "source": [
        "for index, row in ciddf[ciddf['cid']=='blank'].iterrows():\n",
        "  try:\n",
        "    links = raw_tweets['urls'].iloc[index].split(';')\n",
        "    for link in links:\n",
        "      appended=False\n",
        "      for i, r in raw_urls.iterrows():\n",
        "        if link.lstrip().rstrip() == r['content_src_url']:\n",
        "            ciddf['cid'][index] = r['content_id']\n",
        "            appended=True\n",
        "            break\n",
        "      if appended:\n",
        "        break\n",
        "  except Exception:\n",
        "    pass\n"
      ],
      "execution_count": 0,
      "outputs": []
    },
    {
      "cell_type": "code",
      "metadata": {
        "id": "E3oXZS-I_t2b",
        "colab_type": "code",
        "colab": {}
      },
      "source": [
        "ciddf.to_csv(\"drive/My Drive/capstone/tweetCidList3.csv\", sep=',',index=False)"
      ],
      "execution_count": 0,
      "outputs": []
    },
    {
      "cell_type": "code",
      "metadata": {
        "id": "-x7JbAG_D947",
        "colab_type": "code",
        "colab": {
          "base_uri": "https://localhost:8080/",
          "height": 419
        },
        "outputId": "4385d9e1-6645-4894-f4f5-081fa454bbed"
      },
      "source": [
        "ciddf[ciddf['cid']=='blank']"
      ],
      "execution_count": 33,
      "outputs": [
        {
          "output_type": "execute_result",
          "data": {
            "text/html": [
              "<div>\n",
              "<style scoped>\n",
              "    .dataframe tbody tr th:only-of-type {\n",
              "        vertical-align: middle;\n",
              "    }\n",
              "\n",
              "    .dataframe tbody tr th {\n",
              "        vertical-align: top;\n",
              "    }\n",
              "\n",
              "    .dataframe thead th {\n",
              "        text-align: right;\n",
              "    }\n",
              "</style>\n",
              "<table border=\"1\" class=\"dataframe\">\n",
              "  <thead>\n",
              "    <tr style=\"text-align: right;\">\n",
              "      <th></th>\n",
              "      <th>cid</th>\n",
              "    </tr>\n",
              "  </thead>\n",
              "  <tbody>\n",
              "    <tr>\n",
              "      <th>494</th>\n",
              "      <td>blank</td>\n",
              "    </tr>\n",
              "    <tr>\n",
              "      <th>828</th>\n",
              "      <td>blank</td>\n",
              "    </tr>\n",
              "    <tr>\n",
              "      <th>2902</th>\n",
              "      <td>blank</td>\n",
              "    </tr>\n",
              "    <tr>\n",
              "      <th>3131</th>\n",
              "      <td>blank</td>\n",
              "    </tr>\n",
              "    <tr>\n",
              "      <th>3138</th>\n",
              "      <td>blank</td>\n",
              "    </tr>\n",
              "    <tr>\n",
              "      <th>...</th>\n",
              "      <td>...</td>\n",
              "    </tr>\n",
              "    <tr>\n",
              "      <th>201567</th>\n",
              "      <td>blank</td>\n",
              "    </tr>\n",
              "    <tr>\n",
              "      <th>201568</th>\n",
              "      <td>blank</td>\n",
              "    </tr>\n",
              "    <tr>\n",
              "      <th>201639</th>\n",
              "      <td>blank</td>\n",
              "    </tr>\n",
              "    <tr>\n",
              "      <th>201648</th>\n",
              "      <td>blank</td>\n",
              "    </tr>\n",
              "    <tr>\n",
              "      <th>201651</th>\n",
              "      <td>blank</td>\n",
              "    </tr>\n",
              "  </tbody>\n",
              "</table>\n",
              "<p>30293 rows × 1 columns</p>\n",
              "</div>"
            ],
            "text/plain": [
              "          cid\n",
              "494     blank\n",
              "828     blank\n",
              "2902    blank\n",
              "3131    blank\n",
              "3138    blank\n",
              "...       ...\n",
              "201567  blank\n",
              "201568  blank\n",
              "201639  blank\n",
              "201648  blank\n",
              "201651  blank\n",
              "\n",
              "[30293 rows x 1 columns]"
            ]
          },
          "metadata": {
            "tags": []
          },
          "execution_count": 33
        }
      ]
    },
    {
      "cell_type": "code",
      "metadata": {
        "id": "xaR7It1CEdsD",
        "colab_type": "code",
        "colab": {
          "base_uri": "https://localhost:8080/",
          "height": 34
        },
        "outputId": "a69b9ba0-7cc6-453e-f96d-52938955dd43"
      },
      "source": [
        "raw_tweets['urls'].iloc[201567].split(';')"
      ],
      "execution_count": 39,
      "outputs": [
        {
          "output_type": "execute_result",
          "data": {
            "text/plain": [
              "['https://www.apnews.com/0fc9159418e14366980bf2651133f4f9/His-Asia-trip-winding-down,-Trump-meets-with-allies']"
            ]
          },
          "metadata": {
            "tags": []
          },
          "execution_count": 39
        }
      ]
    },
    {
      "cell_type": "code",
      "metadata": {
        "id": "s2WiXuEyJ82b",
        "colab_type": "code",
        "colab": {}
      },
      "source": [
        "import re"
      ],
      "execution_count": 0,
      "outputs": []
    },
    {
      "cell_type": "code",
      "metadata": {
        "id": "hpnxWy7-KAUN",
        "colab_type": "code",
        "colab": {
          "base_uri": "https://localhost:8080/",
          "height": 34
        },
        "outputId": "a3fc87cc-1997-40a4-e706-51c3abeea564"
      },
      "source": [
        "teststr='http://ansdjadkj 12312 sjdf skfsd/23/sfdssd'\n",
        "re.sub('[0-9]','',teststr)\n",
        "teststr.replace('http://','').replace('ans','CHANGED')"
      ],
      "execution_count": 43,
      "outputs": [
        {
          "output_type": "execute_result",
          "data": {
            "text/plain": [
              "'CHANGEDdjadkj 12312 sjdf skfsd/23/sfdssd'"
            ]
          },
          "metadata": {
            "tags": []
          },
          "execution_count": 43
        }
      ]
    },
    {
      "cell_type": "code",
      "metadata": {
        "id": "hBkyGryIMKej",
        "colab_type": "code",
        "colab": {}
      },
      "source": [
        "for index, row in ciddf[ciddf['cid']=='blank'].iterrows():\n",
        "  try:\n",
        "    links = raw_tweets['urls'].iloc[index].split(';')\n",
        "    for link in links:\n",
        "      appended=False\n",
        "      link = re.sub('[0-9]','',link)\n",
        "      for i, r in raw_urls.iterrows():\n",
        "        if link.lstrip().rstrip().replace('http://','').replace('https://','') == r['content_src_url'].replace('http://','').replace('https://',''):\n",
        "            ciddf['cid'][index] = r['content_id']\n",
        "            appended=True\n",
        "            break\n",
        "      if appended:\n",
        "        break\n",
        "  except Exception:\n",
        "    pass\n"
      ],
      "execution_count": 0,
      "outputs": []
    },
    {
      "cell_type": "code",
      "metadata": {
        "id": "RNycaMJ2MuNc",
        "colab_type": "code",
        "colab": {}
      },
      "source": [
        "ciddf.to_csv(\"drive/My Drive/capstone/tweetCidList4.csv\", sep=',',index=False)"
      ],
      "execution_count": 0,
      "outputs": []
    }
  ]
}