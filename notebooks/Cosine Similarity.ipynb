{
 "cells": [
  {
   "cell_type": "code",
   "execution_count": 1,
   "metadata": {},
   "outputs": [
    {
     "name": "stderr",
     "output_type": "stream",
     "text": [
      "unable to import 'smart_open.gcs', disabling that module\n"
     ]
    }
   ],
   "source": [
    "import pandas as pd\n",
    "import re\n",
    "import textblob\n",
    "from gensim import corpora\n",
    "from gensim import similarities\n",
    "import time"
   ]
  },
  {
   "cell_type": "code",
   "execution_count": 2,
   "metadata": {},
   "outputs": [],
   "source": [
    "pd.set_option('display.max_colwidth', 500)"
   ]
  },
  {
   "cell_type": "code",
   "execution_count": 3,
   "metadata": {},
   "outputs": [],
   "source": [
    "tweets = pd.read_csv('../data/raw/all.csv')"
   ]
  },
  {
   "cell_type": "code",
   "execution_count": 4,
   "metadata": {},
   "outputs": [
    {
     "data": {
      "text/html": [
       "<div>\n",
       "<style scoped>\n",
       "    .dataframe tbody tr th:only-of-type {\n",
       "        vertical-align: middle;\n",
       "    }\n",
       "\n",
       "    .dataframe tbody tr th {\n",
       "        vertical-align: top;\n",
       "    }\n",
       "\n",
       "    .dataframe thead th {\n",
       "        text-align: right;\n",
       "    }\n",
       "</style>\n",
       "<table border=\"1\" class=\"dataframe\">\n",
       "  <thead>\n",
       "    <tr style=\"text-align: right;\">\n",
       "      <th></th>\n",
       "      <th>tweet_id</th>\n",
       "      <th>tweet_text</th>\n",
       "      <th>user_id</th>\n",
       "      <th>tweet_time</th>\n",
       "      <th>no_favs</th>\n",
       "      <th>no_retweets</th>\n",
       "      <th>urls</th>\n",
       "    </tr>\n",
       "  </thead>\n",
       "  <tbody>\n",
       "    <tr>\n",
       "      <th>0</th>\n",
       "      <td>851485433003421701</td>\n",
       "      <td>#Trump’s border wall would be an ecological and financial disaster for the U.S. https://t.co/lGSc8X53Vg</td>\n",
       "      <td>613521891</td>\n",
       "      <td>2017-04-10T17:22:01.000Z</td>\n",
       "      <td>0</td>\n",
       "      <td>0</td>\n",
       "      <td>https://www.vox.com/energy-and-environment/2017/4/10/14471304/trump-border-wall-animals</td>\n",
       "    </tr>\n",
       "    <tr>\n",
       "      <th>1</th>\n",
       "      <td>851514117374398464</td>\n",
       "      <td>#Trump’s border wall would be an ecological and financial disaster for the U.S. https://t.co/v1TW467479</td>\n",
       "      <td>222481411</td>\n",
       "      <td>2017-04-10T19:16:00.000Z</td>\n",
       "      <td>0</td>\n",
       "      <td>0</td>\n",
       "      <td>https://www.vox.com/energy-and-environment/2017/4/10/14471304/trump-border-wall-animals</td>\n",
       "    </tr>\n",
       "  </tbody>\n",
       "</table>\n",
       "</div>"
      ],
      "text/plain": [
       "             tweet_id  \\\n",
       "0  851485433003421701   \n",
       "1  851514117374398464   \n",
       "\n",
       "                                                                                                tweet_text  \\\n",
       "0  #Trump’s border wall would be an ecological and financial disaster for the U.S. https://t.co/lGSc8X53Vg   \n",
       "1  #Trump’s border wall would be an ecological and financial disaster for the U.S. https://t.co/v1TW467479   \n",
       "\n",
       "     user_id                tweet_time  no_favs  no_retweets  \\\n",
       "0  613521891  2017-04-10T17:22:01.000Z        0            0   \n",
       "1  222481411  2017-04-10T19:16:00.000Z        0            0   \n",
       "\n",
       "                                                                                      urls  \n",
       "0  https://www.vox.com/energy-and-environment/2017/4/10/14471304/trump-border-wall-animals  \n",
       "1  https://www.vox.com/energy-and-environment/2017/4/10/14471304/trump-border-wall-animals  "
      ]
     },
     "execution_count": 4,
     "metadata": {},
     "output_type": "execute_result"
    }
   ],
   "source": [
    "tweets[:2]"
   ]
  },
  {
   "cell_type": "markdown",
   "metadata": {},
   "source": [
    "#### Identify URLs"
   ]
  },
  {
   "cell_type": "code",
   "execution_count": 5,
   "metadata": {},
   "outputs": [
    {
     "data": {
      "text/plain": [
       "['https://t.co/lGSc8X53Vg',\n",
       " 'https://t.co/lGSc8X53Vg',\n",
       " 'https://t.co/lGSc8X53Vg']"
      ]
     },
     "execution_count": 5,
     "metadata": {},
     "output_type": "execute_result"
    }
   ],
   "source": [
    "re.findall(r'https?://[www\\.]?\\w*\\.[\\w/$]*', 'https://t.co/lGSc8X53Vg #Trump’s border wall https://t.co/lGSc8X53Vg would be an ecological and financial disaster for the U.S. https://t.co/lGSc8X53Vg')"
   ]
  },
  {
   "cell_type": "markdown",
   "metadata": {},
   "source": [
    "#### Replace with URL tag"
   ]
  },
  {
   "cell_type": "code",
   "execution_count": 6,
   "metadata": {},
   "outputs": [
    {
     "data": {
      "text/plain": [
       "'<URL> #Trump’s border wall <URL> would be an ecological and financial disaster for the U.S. <URL>'"
      ]
     },
     "execution_count": 6,
     "metadata": {},
     "output_type": "execute_result"
    }
   ],
   "source": [
    "re.sub(r'https?://[www\\.]?\\w*\\.[\\w/$]*', '<URL>', 'https://t.co/lGSc8X53Vg #Trump’s border wall https://t.co/lGSc8X53Vg would be an ecological and financial disaster for the U.S. https://t.co/lGSc8X53Vg')"
   ]
  },
  {
   "cell_type": "code",
   "execution_count": 7,
   "metadata": {},
   "outputs": [],
   "source": [
    "tweets['tweet_text_url_token'] = \\\n",
    "tweets['tweet_text'].apply(lambda x:re.sub(r'(https?://[www\\.]?\\w*\\.[\\w/$]*)', '<URL>', x))\n",
    "\n",
    "tweets['tweet_urls'] = \\\n",
    "tweets['tweet_text'].apply(lambda x:re.findall(r'(https?://[www\\.]?\\w*\\.[\\w/$]*)', x))"
   ]
  },
  {
   "cell_type": "code",
   "execution_count": 9,
   "metadata": {},
   "outputs": [],
   "source": [
    "docs = tweets[:5]"
   ]
  },
  {
   "cell_type": "code",
   "execution_count": 11,
   "metadata": {},
   "outputs": [
    {
     "data": {
      "text/html": [
       "<div>\n",
       "<style scoped>\n",
       "    .dataframe tbody tr th:only-of-type {\n",
       "        vertical-align: middle;\n",
       "    }\n",
       "\n",
       "    .dataframe tbody tr th {\n",
       "        vertical-align: top;\n",
       "    }\n",
       "\n",
       "    .dataframe thead th {\n",
       "        text-align: right;\n",
       "    }\n",
       "</style>\n",
       "<table border=\"1\" class=\"dataframe\">\n",
       "  <thead>\n",
       "    <tr style=\"text-align: right;\">\n",
       "      <th></th>\n",
       "      <th>tweet_id</th>\n",
       "      <th>tweet_text</th>\n",
       "      <th>user_id</th>\n",
       "      <th>tweet_time</th>\n",
       "      <th>no_favs</th>\n",
       "      <th>no_retweets</th>\n",
       "      <th>urls</th>\n",
       "      <th>tweet_text_url_token</th>\n",
       "      <th>tweet_urls</th>\n",
       "    </tr>\n",
       "  </thead>\n",
       "  <tbody>\n",
       "    <tr>\n",
       "      <th>0</th>\n",
       "      <td>851485433003421701</td>\n",
       "      <td>#Trump’s border wall would be an ecological and financial disaster for the U.S. https://t.co/lGSc8X53Vg</td>\n",
       "      <td>613521891</td>\n",
       "      <td>2017-04-10T17:22:01.000Z</td>\n",
       "      <td>0</td>\n",
       "      <td>0</td>\n",
       "      <td>https://www.vox.com/energy-and-environment/2017/4/10/14471304/trump-border-wall-animals</td>\n",
       "      <td>#Trump’s border wall would be an ecological and financial disaster for the U.S. &lt;URL&gt;</td>\n",
       "      <td>[https://t.co/lGSc8X53Vg]</td>\n",
       "    </tr>\n",
       "    <tr>\n",
       "      <th>1</th>\n",
       "      <td>851514117374398464</td>\n",
       "      <td>#Trump’s border wall would be an ecological and financial disaster for the U.S. https://t.co/v1TW467479</td>\n",
       "      <td>222481411</td>\n",
       "      <td>2017-04-10T19:16:00.000Z</td>\n",
       "      <td>0</td>\n",
       "      <td>0</td>\n",
       "      <td>https://www.vox.com/energy-and-environment/2017/4/10/14471304/trump-border-wall-animals</td>\n",
       "      <td>#Trump’s border wall would be an ecological and financial disaster for the U.S. &lt;URL&gt;</td>\n",
       "      <td>[https://t.co/v1TW467479]</td>\n",
       "    </tr>\n",
       "    <tr>\n",
       "      <th>2</th>\n",
       "      <td>855009400670617600</td>\n",
       "      <td>The research and experts are clear: Tougher border security measures do not actually stop drug trafficking https://t.co/ClfsLDuDCO</td>\n",
       "      <td>2347049341</td>\n",
       "      <td>2017-04-20T10:45:01.000Z</td>\n",
       "      <td>0</td>\n",
       "      <td>0</td>\n",
       "      <td>https://www.vox.com/policy-and-politics/2017/4/19/15326286/trump-wall-opioid-epidemic</td>\n",
       "      <td>The research and experts are clear: Tougher border security measures do not actually stop drug trafficking &lt;URL&gt;</td>\n",
       "      <td>[https://t.co/ClfsLDuDCO]</td>\n",
       "    </tr>\n",
       "    <tr>\n",
       "      <th>3</th>\n",
       "      <td>855009683542728704</td>\n",
       "      <td>Hmmmmmm https://t.co/y3fNx7KuJT</td>\n",
       "      <td>243580387</td>\n",
       "      <td>2017-04-20T10:46:08.000Z</td>\n",
       "      <td>0</td>\n",
       "      <td>0</td>\n",
       "      <td>https://www.vox.com/policy-and-politics/2017/4/19/15326286/trump-wall-opioid-epidemic</td>\n",
       "      <td>Hmmmmmm &lt;URL&gt;</td>\n",
       "      <td>[https://t.co/y3fNx7KuJT]</td>\n",
       "    </tr>\n",
       "    <tr>\n",
       "      <th>4</th>\n",
       "      <td>855011873183342592</td>\n",
       "      <td>(psst! It was never about drugs. It's always been about brown people. They holler DRUGS! to distract from their horrible racism) https://t.co/cMeFEnipLW</td>\n",
       "      <td>17889654</td>\n",
       "      <td>2017-04-20T10:54:50.000Z</td>\n",
       "      <td>0</td>\n",
       "      <td>0</td>\n",
       "      <td>https://www.vox.com/policy-and-politics/2017/4/19/15326286/trump-wall-opioid-epidemic</td>\n",
       "      <td>(psst! It was never about drugs. It's always been about brown people. They holler DRUGS! to distract from their horrible racism) &lt;URL&gt;</td>\n",
       "      <td>[https://t.co/cMeFEnipLW]</td>\n",
       "    </tr>\n",
       "  </tbody>\n",
       "</table>\n",
       "</div>"
      ],
      "text/plain": [
       "             tweet_id  \\\n",
       "0  851485433003421701   \n",
       "1  851514117374398464   \n",
       "2  855009400670617600   \n",
       "3  855009683542728704   \n",
       "4  855011873183342592   \n",
       "\n",
       "                                                                                                                                                 tweet_text  \\\n",
       "0                                                   #Trump’s border wall would be an ecological and financial disaster for the U.S. https://t.co/lGSc8X53Vg   \n",
       "1                                                   #Trump’s border wall would be an ecological and financial disaster for the U.S. https://t.co/v1TW467479   \n",
       "2                        The research and experts are clear: Tougher border security measures do not actually stop drug trafficking https://t.co/ClfsLDuDCO   \n",
       "3                                                                                                                           Hmmmmmm https://t.co/y3fNx7KuJT   \n",
       "4  (psst! It was never about drugs. It's always been about brown people. They holler DRUGS! to distract from their horrible racism) https://t.co/cMeFEnipLW   \n",
       "\n",
       "      user_id                tweet_time  no_favs  no_retweets  \\\n",
       "0   613521891  2017-04-10T17:22:01.000Z        0            0   \n",
       "1   222481411  2017-04-10T19:16:00.000Z        0            0   \n",
       "2  2347049341  2017-04-20T10:45:01.000Z        0            0   \n",
       "3   243580387  2017-04-20T10:46:08.000Z        0            0   \n",
       "4    17889654  2017-04-20T10:54:50.000Z        0            0   \n",
       "\n",
       "                                                                                      urls  \\\n",
       "0  https://www.vox.com/energy-and-environment/2017/4/10/14471304/trump-border-wall-animals   \n",
       "1  https://www.vox.com/energy-and-environment/2017/4/10/14471304/trump-border-wall-animals   \n",
       "2    https://www.vox.com/policy-and-politics/2017/4/19/15326286/trump-wall-opioid-epidemic   \n",
       "3    https://www.vox.com/policy-and-politics/2017/4/19/15326286/trump-wall-opioid-epidemic   \n",
       "4    https://www.vox.com/policy-and-politics/2017/4/19/15326286/trump-wall-opioid-epidemic   \n",
       "\n",
       "                                                                                                                     tweet_text_url_token  \\\n",
       "0                                                   #Trump’s border wall would be an ecological and financial disaster for the U.S. <URL>   \n",
       "1                                                   #Trump’s border wall would be an ecological and financial disaster for the U.S. <URL>   \n",
       "2                        The research and experts are clear: Tougher border security measures do not actually stop drug trafficking <URL>   \n",
       "3                                                                                                                           Hmmmmmm <URL>   \n",
       "4  (psst! It was never about drugs. It's always been about brown people. They holler DRUGS! to distract from their horrible racism) <URL>   \n",
       "\n",
       "                  tweet_urls  \n",
       "0  [https://t.co/lGSc8X53Vg]  \n",
       "1  [https://t.co/v1TW467479]  \n",
       "2  [https://t.co/ClfsLDuDCO]  \n",
       "3  [https://t.co/y3fNx7KuJT]  \n",
       "4  [https://t.co/cMeFEnipLW]  "
      ]
     },
     "execution_count": 11,
     "metadata": {},
     "output_type": "execute_result"
    }
   ],
   "source": [
    "docs"
   ]
  },
  {
   "cell_type": "code",
   "execution_count": 12,
   "metadata": {},
   "outputs": [],
   "source": [
    "def create_docs(source):\n",
    "    return_dict = {}\n",
    "    for idx,row in source.iterrows():\n",
    "        return_dict[row['tweet_id']] = [word for word in row['tweet_text_url_token'].lower().split()]\n",
    "        \n",
    "    return return_dict"
   ]
  },
  {
   "cell_type": "code",
   "execution_count": 13,
   "metadata": {},
   "outputs": [],
   "source": [
    "tweets_dict = create_docs(docs)"
   ]
  },
  {
   "cell_type": "code",
   "execution_count": 14,
   "metadata": {},
   "outputs": [
    {
     "data": {
      "text/plain": [
       "['#trump’s',\n",
       " 'border',\n",
       " 'wall',\n",
       " 'would',\n",
       " 'be',\n",
       " 'an',\n",
       " 'ecological',\n",
       " 'and',\n",
       " 'financial',\n",
       " 'disaster',\n",
       " 'for',\n",
       " 'the',\n",
       " 'u.s.',\n",
       " '<url>']"
      ]
     },
     "execution_count": 14,
     "metadata": {},
     "output_type": "execute_result"
    }
   ],
   "source": [
    "tweets_dict[851485433003421701]"
   ]
  },
  {
   "cell_type": "code",
   "execution_count": 15,
   "metadata": {},
   "outputs": [],
   "source": [
    "# for idx,row in docs.iterrows():\n",
    "#     print(row['tweet_id'])"
   ]
  },
  {
   "cell_type": "code",
   "execution_count": 16,
   "metadata": {},
   "outputs": [],
   "source": [
    "def create_dictionary_corpus(source_dict):\n",
    "    dictionary = corpora.Dictionary()\n",
    "    corpus = []\n",
    "    \n",
    "    for key, doc in source_dict.items():\n",
    "        texts = [doc]\n",
    "        dictionary.add_documents(texts)\n",
    "        corpus.append(dictionary.doc2bow(texts[0]))\n",
    "        \n",
    "    return dictionary, corpus\n"
   ]
  },
  {
   "cell_type": "code",
   "execution_count": 18,
   "metadata": {},
   "outputs": [],
   "source": [
    "dictionary, corpus = create_dictionary_corpus(tweets_dict)"
   ]
  },
  {
   "cell_type": "code",
   "execution_count": 19,
   "metadata": {},
   "outputs": [],
   "source": [
    "index = similarities.MatrixSimilarity(corpus)"
   ]
  },
  {
   "cell_type": "code",
   "execution_count": 20,
   "metadata": {},
   "outputs": [],
   "source": [
    "sims = index[corpus]"
   ]
  },
  {
   "cell_type": "code",
   "execution_count": 21,
   "metadata": {},
   "outputs": [
    {
     "data": {
      "text/plain": [
       "array([[0.99999994, 0.99999994, 0.2592815 , 0.18898223, 0.05455447],\n",
       "       [0.99999994, 0.99999994, 0.2592815 , 0.18898223, 0.05455447],\n",
       "       [0.2592815 , 0.2592815 , 0.99999994, 0.17149858, 0.04950738],\n",
       "       [0.18898223, 0.18898223, 0.17149858, 0.99999994, 0.14433756],\n",
       "       [0.05455447, 0.05455447, 0.04950738, 0.14433756, 0.99999994]],\n",
       "      dtype=float32)"
      ]
     },
     "execution_count": 21,
     "metadata": {},
     "output_type": "execute_result"
    }
   ],
   "source": [
    "sims"
   ]
  },
  {
   "cell_type": "code",
   "execution_count": null,
   "metadata": {},
   "outputs": [],
   "source": []
  },
  {
   "cell_type": "markdown",
   "metadata": {},
   "source": [
    "### On bigger dataset"
   ]
  },
  {
   "cell_type": "code",
   "execution_count": 22,
   "metadata": {},
   "outputs": [
    {
     "data": {
      "text/plain": [
       "201873"
      ]
     },
     "execution_count": 22,
     "metadata": {},
     "output_type": "execute_result"
    }
   ],
   "source": [
    "len(tweets)"
   ]
  },
  {
   "cell_type": "code",
   "execution_count": 23,
   "metadata": {},
   "outputs": [],
   "source": [
    "docs = tweets[:2000]"
   ]
  },
  {
   "cell_type": "code",
   "execution_count": 24,
   "metadata": {},
   "outputs": [],
   "source": [
    "tweets_dict = create_docs(docs)"
   ]
  },
  {
   "cell_type": "code",
   "execution_count": 25,
   "metadata": {},
   "outputs": [
    {
     "name": "stdout",
     "output_type": "stream",
     "text": [
      "---- 0.13380193710327148 seconds ----\n"
     ]
    }
   ],
   "source": [
    "start_time = time.time()\n",
    "dictionary, corpus = create_dictionary_corpus(tweets_dict)\n",
    "print(\"---- %s seconds ----\" % (time.time() - start_time ))"
   ]
  },
  {
   "cell_type": "code",
   "execution_count": 26,
   "metadata": {},
   "outputs": [
    {
     "name": "stdout",
     "output_type": "stream",
     "text": [
      "---- 0.07704401016235352 seconds ----\n"
     ]
    }
   ],
   "source": [
    "start_time = time.time()\n",
    "index = similarities.MatrixSimilarity(corpus)\n",
    "print(\"---- %s seconds ----\" % (time.time() - start_time ))"
   ]
  },
  {
   "cell_type": "code",
   "execution_count": 27,
   "metadata": {},
   "outputs": [],
   "source": [
    "sims = index[corpus]"
   ]
  },
  {
   "cell_type": "code",
   "execution_count": 29,
   "metadata": {},
   "outputs": [
    {
     "data": {
      "text/plain": [
       "(2000, 2000)"
      ]
     },
     "execution_count": 29,
     "metadata": {},
     "output_type": "execute_result"
    }
   ],
   "source": [
    "sims.shape"
   ]
  },
  {
   "cell_type": "code",
   "execution_count": null,
   "metadata": {},
   "outputs": [],
   "source": []
  }
 ],
 "metadata": {
  "kernelspec": {
   "display_name": "Python 3",
   "language": "python",
   "name": "python3"
  },
  "language_info": {
   "codemirror_mode": {
    "name": "ipython",
    "version": 3
   },
   "file_extension": ".py",
   "mimetype": "text/x-python",
   "name": "python",
   "nbconvert_exporter": "python",
   "pygments_lexer": "ipython3",
   "version": "3.7.6"
  }
 },
 "nbformat": 4,
 "nbformat_minor": 4
}
