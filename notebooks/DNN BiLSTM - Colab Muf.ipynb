{
  "nbformat": 4,
  "nbformat_minor": 0,
  "metadata": {
    "kernelspec": {
      "name": "python3",
      "display_name": "Python 3"
    },
    "language_info": {
      "codemirror_mode": {
        "name": "ipython",
        "version": 3
      },
      "file_extension": ".py",
      "mimetype": "text/x-python",
      "name": "python",
      "nbconvert_exporter": "python",
      "pygments_lexer": "ipython3",
      "version": "3.7.4"
    },
    "colab": {
      "name": "DNN BiLSTM - Colab Muf.ipynb",
      "provenance": [],
      "toc_visible": true
    },
    "accelerator": "GPU"
  },
  "cells": [
    {
      "cell_type": "markdown",
      "metadata": {
        "id": "9NU1PC2Hh7K8",
        "colab_type": "text"
      },
      "source": [
        "# BERT & TF"
      ]
    },
    {
      "cell_type": "code",
      "metadata": {
        "id": "_y3z5DSIilh_",
        "colab_type": "code",
        "colab": {
          "base_uri": "https://localhost:8080/",
          "height": 615
        },
        "outputId": "939be424-8871-4378-9b16-b79df905500a"
      },
      "source": [
        "!pip install tensorflow==2.0.0"
      ],
      "execution_count": 1,
      "outputs": [
        {
          "output_type": "stream",
          "text": [
            "Requirement already satisfied: tensorflow==2.0.0 in /usr/local/lib/python3.6/dist-packages (2.0.0)\n",
            "Requirement already satisfied: termcolor>=1.1.0 in /usr/local/lib/python3.6/dist-packages (from tensorflow==2.0.0) (1.1.0)\n",
            "Requirement already satisfied: opt-einsum>=2.3.2 in /usr/local/lib/python3.6/dist-packages (from tensorflow==2.0.0) (3.1.0)\n",
            "Requirement already satisfied: absl-py>=0.7.0 in /usr/local/lib/python3.6/dist-packages (from tensorflow==2.0.0) (0.9.0)\n",
            "Requirement already satisfied: google-pasta>=0.1.6 in /usr/local/lib/python3.6/dist-packages (from tensorflow==2.0.0) (0.1.8)\n",
            "Requirement already satisfied: numpy<2.0,>=1.16.0 in /usr/local/lib/python3.6/dist-packages (from tensorflow==2.0.0) (1.17.5)\n",
            "Requirement already satisfied: wheel>=0.26 in /usr/local/lib/python3.6/dist-packages (from tensorflow==2.0.0) (0.34.2)\n",
            "Requirement already satisfied: six>=1.10.0 in /usr/local/lib/python3.6/dist-packages (from tensorflow==2.0.0) (1.12.0)\n",
            "Requirement already satisfied: protobuf>=3.6.1 in /usr/local/lib/python3.6/dist-packages (from tensorflow==2.0.0) (3.10.0)\n",
            "Requirement already satisfied: astor>=0.6.0 in /usr/local/lib/python3.6/dist-packages (from tensorflow==2.0.0) (0.8.1)\n",
            "Requirement already satisfied: keras-applications>=1.0.8 in /usr/local/lib/python3.6/dist-packages (from tensorflow==2.0.0) (1.0.8)\n",
            "Requirement already satisfied: keras-preprocessing>=1.0.5 in /usr/local/lib/python3.6/dist-packages (from tensorflow==2.0.0) (1.1.0)\n",
            "Requirement already satisfied: tensorflow-estimator<2.1.0,>=2.0.0 in /usr/local/lib/python3.6/dist-packages (from tensorflow==2.0.0) (2.0.1)\n",
            "Requirement already satisfied: wrapt>=1.11.1 in /usr/local/lib/python3.6/dist-packages (from tensorflow==2.0.0) (1.11.2)\n",
            "Requirement already satisfied: grpcio>=1.8.6 in /usr/local/lib/python3.6/dist-packages (from tensorflow==2.0.0) (1.27.1)\n",
            "Requirement already satisfied: gast==0.2.2 in /usr/local/lib/python3.6/dist-packages (from tensorflow==2.0.0) (0.2.2)\n",
            "Requirement already satisfied: tensorboard<2.1.0,>=2.0.0 in /usr/local/lib/python3.6/dist-packages (from tensorflow==2.0.0) (2.0.2)\n",
            "Requirement already satisfied: setuptools in /usr/local/lib/python3.6/dist-packages (from protobuf>=3.6.1->tensorflow==2.0.0) (45.1.0)\n",
            "Requirement already satisfied: h5py in /usr/local/lib/python3.6/dist-packages (from keras-applications>=1.0.8->tensorflow==2.0.0) (2.8.0)\n",
            "Requirement already satisfied: werkzeug>=0.11.15 in /usr/local/lib/python3.6/dist-packages (from tensorboard<2.1.0,>=2.0.0->tensorflow==2.0.0) (1.0.0)\n",
            "Requirement already satisfied: google-auth-oauthlib<0.5,>=0.4.1 in /usr/local/lib/python3.6/dist-packages (from tensorboard<2.1.0,>=2.0.0->tensorflow==2.0.0) (0.4.1)\n",
            "Requirement already satisfied: requests<3,>=2.21.0 in /usr/local/lib/python3.6/dist-packages (from tensorboard<2.1.0,>=2.0.0->tensorflow==2.0.0) (2.21.0)\n",
            "Requirement already satisfied: markdown>=2.6.8 in /usr/local/lib/python3.6/dist-packages (from tensorboard<2.1.0,>=2.0.0->tensorflow==2.0.0) (3.2.1)\n",
            "Requirement already satisfied: google-auth<2,>=1.6.3 in /usr/local/lib/python3.6/dist-packages (from tensorboard<2.1.0,>=2.0.0->tensorflow==2.0.0) (1.7.2)\n",
            "Requirement already satisfied: requests-oauthlib>=0.7.0 in /usr/local/lib/python3.6/dist-packages (from google-auth-oauthlib<0.5,>=0.4.1->tensorboard<2.1.0,>=2.0.0->tensorflow==2.0.0) (1.3.0)\n",
            "Requirement already satisfied: certifi>=2017.4.17 in /usr/local/lib/python3.6/dist-packages (from requests<3,>=2.21.0->tensorboard<2.1.0,>=2.0.0->tensorflow==2.0.0) (2019.11.28)\n",
            "Requirement already satisfied: idna<2.9,>=2.5 in /usr/local/lib/python3.6/dist-packages (from requests<3,>=2.21.0->tensorboard<2.1.0,>=2.0.0->tensorflow==2.0.0) (2.8)\n",
            "Requirement already satisfied: urllib3<1.25,>=1.21.1 in /usr/local/lib/python3.6/dist-packages (from requests<3,>=2.21.0->tensorboard<2.1.0,>=2.0.0->tensorflow==2.0.0) (1.24.3)\n",
            "Requirement already satisfied: chardet<3.1.0,>=3.0.2 in /usr/local/lib/python3.6/dist-packages (from requests<3,>=2.21.0->tensorboard<2.1.0,>=2.0.0->tensorflow==2.0.0) (3.0.4)\n",
            "Requirement already satisfied: cachetools<3.2,>=2.0.0 in /usr/local/lib/python3.6/dist-packages (from google-auth<2,>=1.6.3->tensorboard<2.1.0,>=2.0.0->tensorflow==2.0.0) (3.1.1)\n",
            "Requirement already satisfied: rsa<4.1,>=3.1.4 in /usr/local/lib/python3.6/dist-packages (from google-auth<2,>=1.6.3->tensorboard<2.1.0,>=2.0.0->tensorflow==2.0.0) (4.0)\n",
            "Requirement already satisfied: pyasn1-modules>=0.2.1 in /usr/local/lib/python3.6/dist-packages (from google-auth<2,>=1.6.3->tensorboard<2.1.0,>=2.0.0->tensorflow==2.0.0) (0.2.8)\n",
            "Requirement already satisfied: oauthlib>=3.0.0 in /usr/local/lib/python3.6/dist-packages (from requests-oauthlib>=0.7.0->google-auth-oauthlib<0.5,>=0.4.1->tensorboard<2.1.0,>=2.0.0->tensorflow==2.0.0) (3.1.0)\n",
            "Requirement already satisfied: pyasn1>=0.1.3 in /usr/local/lib/python3.6/dist-packages (from rsa<4.1,>=3.1.4->google-auth<2,>=1.6.3->tensorboard<2.1.0,>=2.0.0->tensorflow==2.0.0) (0.4.8)\n"
          ],
          "name": "stdout"
        }
      ]
    },
    {
      "cell_type": "code",
      "metadata": {
        "id": "u7LA1PrPh7LC",
        "colab_type": "code",
        "colab": {
          "base_uri": "https://localhost:8080/",
          "height": 34
        },
        "outputId": "90ebc3b7-2999-48d1-d390-1b15a6d471a5"
      },
      "source": [
        "import tensorflow as tf\n",
        "import pandas as pd\n",
        "import tensorflow_hub as hub\n",
        "import os\n",
        "import re\n",
        "import numpy as np\n",
        "import pickle as pk\n",
        "import string\n",
        "import nltk\n",
        "from nltk.corpus import stopwords\n",
        "from nltk.corpus import wordnet\n",
        "from nltk import word_tokenize, pos_tag\n",
        "from nltk.stem import WordNetLemmatizer\n",
        "from tqdm import tqdm_notebook\n",
        "from collections import defaultdict\n",
        "from tensorflow.keras import backend as K\n",
        "from sklearn.model_selection import train_test_split\n",
        "import matplotlib.pyplot as plt\n",
        "\n",
        "# Params for bert model and tokenization\n",
        "bert_path = \"https://tfhub.dev/google/bert_uncased_L-12_H-768_A-12/1\"\n",
        "\n",
        "tf.__version__"
      ],
      "execution_count": 4,
      "outputs": [
        {
          "output_type": "execute_result",
          "data": {
            "text/plain": [
              "'2.1.0'"
            ]
          },
          "metadata": {
            "tags": []
          },
          "execution_count": 4
        }
      ]
    },
    {
      "cell_type": "code",
      "metadata": {
        "id": "4WIsv69PjJka",
        "colab_type": "code",
        "colab": {
          "base_uri": "https://localhost:8080/",
          "height": 204
        },
        "outputId": "5539e91b-e559-4dd8-c005-df45908638bc"
      },
      "source": [
        "nltk.download('wordnet')\n",
        "nltk.download('punkt')\n",
        "nltk.download('averaged_perceptron_tagger')\n",
        "nltk.download('stopwords')"
      ],
      "execution_count": 5,
      "outputs": [
        {
          "output_type": "stream",
          "text": [
            "[nltk_data] Downloading package wordnet to /root/nltk_data...\n",
            "[nltk_data]   Package wordnet is already up-to-date!\n",
            "[nltk_data] Downloading package punkt to /root/nltk_data...\n",
            "[nltk_data]   Package punkt is already up-to-date!\n",
            "[nltk_data] Downloading package averaged_perceptron_tagger to\n",
            "[nltk_data]     /root/nltk_data...\n",
            "[nltk_data]   Package averaged_perceptron_tagger is already up-to-\n",
            "[nltk_data]       date!\n",
            "[nltk_data] Downloading package stopwords to /root/nltk_data...\n",
            "[nltk_data]   Package stopwords is already up-to-date!\n"
          ],
          "name": "stdout"
        },
        {
          "output_type": "execute_result",
          "data": {
            "text/plain": [
              "True"
            ]
          },
          "metadata": {
            "tags": []
          },
          "execution_count": 5
        }
      ]
    },
    {
      "cell_type": "markdown",
      "metadata": {
        "id": "XjPLt0VIh7LL",
        "colab_type": "text"
      },
      "source": [
        "### Load Data - Latest Data Split - Blind"
      ]
    },
    {
      "cell_type": "code",
      "metadata": {
        "id": "_Q8PbnOFiYrj",
        "colab_type": "code",
        "colab": {
          "base_uri": "https://localhost:8080/",
          "height": 391
        },
        "outputId": "99b81d96-e56d-4d64-8032-722e6bfc1c7b"
      },
      "source": [
        "!wget https://raw.githubusercontent.com/harish-cu/tweet-url-relationships/master/data/temp/sampling_blind/latest/articles_train.csv\n",
        "!wget https://raw.githubusercontent.com/harish-cu/tweet-url-relationships/master/data/temp/sampling_blind/latest/articles_test.csv"
      ],
      "execution_count": 6,
      "outputs": [
        {
          "output_type": "stream",
          "text": [
            "--2020-02-27 20:21:21--  https://raw.githubusercontent.com/harish-cu/tweet-url-relationships/master/data/temp/sampling_blind/latest/articles_train.csv\n",
            "Resolving raw.githubusercontent.com (raw.githubusercontent.com)... 151.101.0.133, 151.101.64.133, 151.101.128.133, ...\n",
            "Connecting to raw.githubusercontent.com (raw.githubusercontent.com)|151.101.0.133|:443... connected.\n",
            "HTTP request sent, awaiting response... 200 OK\n",
            "Length: 6523814 (6.2M) [text/plain]\n",
            "Saving to: ‘articles_train.csv.1’\n",
            "\n",
            "\rarticles_train.csv.   0%[                    ]       0  --.-KB/s               \rarticles_train.csv.  71%[=============>      ]   4.42M  21.9MB/s               \rarticles_train.csv. 100%[===================>]   6.22M  25.4MB/s    in 0.2s    \n",
            "\n",
            "2020-02-27 20:21:21 (25.4 MB/s) - ‘articles_train.csv.1’ saved [6523814/6523814]\n",
            "\n",
            "--2020-02-27 20:21:23--  https://raw.githubusercontent.com/harish-cu/tweet-url-relationships/master/data/temp/sampling_blind/latest/articles_test.csv\n",
            "Resolving raw.githubusercontent.com (raw.githubusercontent.com)... 151.101.0.133, 151.101.64.133, 151.101.128.133, ...\n",
            "Connecting to raw.githubusercontent.com (raw.githubusercontent.com)|151.101.0.133|:443... connected.\n",
            "HTTP request sent, awaiting response... 200 OK\n",
            "Length: 1509129 (1.4M) [text/plain]\n",
            "Saving to: ‘articles_test.csv.1’\n",
            "\n",
            "articles_test.csv.1 100%[===================>]   1.44M  --.-KB/s    in 0.1s    \n",
            "\n",
            "2020-02-27 20:21:24 (10.7 MB/s) - ‘articles_test.csv.1’ saved [1509129/1509129]\n",
            "\n"
          ],
          "name": "stdout"
        }
      ]
    },
    {
      "cell_type": "code",
      "metadata": {
        "id": "lfoPK5Zfh7LN",
        "colab_type": "code",
        "colab": {}
      },
      "source": [
        "data_train = pd.read_csv(\"articles_train.csv\")\n",
        "data_test = pd.read_csv(\"articles_test.csv\")"
      ],
      "execution_count": 0,
      "outputs": []
    },
    {
      "cell_type": "code",
      "metadata": {
        "scrolled": false,
        "id": "ljVs1smeh7LV",
        "colab_type": "code",
        "colab": {
          "base_uri": "https://localhost:8080/",
          "height": 357
        },
        "outputId": "24b42c79-7019-48b7-8380-c03d0a4d3a8a"
      },
      "source": [
        "data_train.head()"
      ],
      "execution_count": 8,
      "outputs": [
        {
          "output_type": "execute_result",
          "data": {
            "text/html": [
              "<div>\n",
              "<style scoped>\n",
              "    .dataframe tbody tr th:only-of-type {\n",
              "        vertical-align: middle;\n",
              "    }\n",
              "\n",
              "    .dataframe tbody tr th {\n",
              "        vertical-align: top;\n",
              "    }\n",
              "\n",
              "    .dataframe thead th {\n",
              "        text-align: right;\n",
              "    }\n",
              "</style>\n",
              "<table border=\"1\" class=\"dataframe\">\n",
              "  <thead>\n",
              "    <tr style=\"text-align: right;\">\n",
              "      <th></th>\n",
              "      <th>content_id</th>\n",
              "      <th>month</th>\n",
              "      <th>day</th>\n",
              "      <th>year</th>\n",
              "      <th>date</th>\n",
              "      <th>content_source_desc</th>\n",
              "      <th>content_title_clean</th>\n",
              "      <th>content_body_clean</th>\n",
              "      <th>blind_mean_rating</th>\n",
              "      <th>blind_rating_count</th>\n",
              "      <th>blind_ratings</th>\n",
              "    </tr>\n",
              "  </thead>\n",
              "  <tbody>\n",
              "    <tr>\n",
              "      <th>0</th>\n",
              "      <td>2932</td>\n",
              "      <td>11</td>\n",
              "      <td>2</td>\n",
              "      <td>2017</td>\n",
              "      <td>2017-11-02</td>\n",
              "      <td>The New York Times</td>\n",
              "      <td>A Tax Cut That Lifts the Economy? Opinions Are...</td>\n",
              "      <td>Yet if the House plan resolves some longstandi...</td>\n",
              "      <td>3.177778</td>\n",
              "      <td>45</td>\n",
              "      <td>[4.5, 1.5, 0.5, 4.5, 1.0, 4.0, 3.5, 3.5, 1.5, ...</td>\n",
              "    </tr>\n",
              "    <tr>\n",
              "      <th>1</th>\n",
              "      <td>2870</td>\n",
              "      <td>11</td>\n",
              "      <td>1</td>\n",
              "      <td>2017</td>\n",
              "      <td>2017-11-01</td>\n",
              "      <td>Fox News</td>\n",
              "      <td>Tom Tancredo enters Colorado governor's race, ...</td>\n",
              "      <td>Former U.S. Rep. Tom Tancredo announced Tuesda...</td>\n",
              "      <td>2.375000</td>\n",
              "      <td>16</td>\n",
              "      <td>[3.5, 4.0, 3.0, 2.5, 0.5, 3.0, 0.5, 0.5, 4.5, ...</td>\n",
              "    </tr>\n",
              "    <tr>\n",
              "      <th>2</th>\n",
              "      <td>2869</td>\n",
              "      <td>11</td>\n",
              "      <td>1</td>\n",
              "      <td>2017</td>\n",
              "      <td>2017-11-01</td>\n",
              "      <td>The New York Times</td>\n",
              "      <td>Panel Recommends Opioid Solutions but Puts No ...</td>\n",
              "      <td>President Trump’s bipartisan commission on th...</td>\n",
              "      <td>3.916667</td>\n",
              "      <td>6</td>\n",
              "      <td>[5.0, 4.0, 4.5, 3.5, 2.0, 4.5]</td>\n",
              "    </tr>\n",
              "    <tr>\n",
              "      <th>3</th>\n",
              "      <td>2864</td>\n",
              "      <td>11</td>\n",
              "      <td>1</td>\n",
              "      <td>2017</td>\n",
              "      <td>2017-11-01</td>\n",
              "      <td>Fox News</td>\n",
              "      <td>Trump vows to end non merit-base immigration, ...</td>\n",
              "      <td>President Trump vowed Wednesday to scrap the f...</td>\n",
              "      <td>2.100000</td>\n",
              "      <td>5</td>\n",
              "      <td>[2.0, 2.5, 4.0, 0.5, 1.5]</td>\n",
              "    </tr>\n",
              "    <tr>\n",
              "      <th>4</th>\n",
              "      <td>2868</td>\n",
              "      <td>11</td>\n",
              "      <td>1</td>\n",
              "      <td>2017</td>\n",
              "      <td>2017-11-01</td>\n",
              "      <td>Breitbart</td>\n",
              "      <td>WATCH: Congress Holds Hearing on Banning Abort...</td>\n",
              "      <td>Congress will hold a hearing Wednesday on a bi...</td>\n",
              "      <td>2.428571</td>\n",
              "      <td>21</td>\n",
              "      <td>[2.0, 1.0, 0.5, 1.0, 3.5, 5.0, 2.0, 0.5, 2.5, ...</td>\n",
              "    </tr>\n",
              "  </tbody>\n",
              "</table>\n",
              "</div>"
            ],
            "text/plain": [
              "   content_id  ...                                      blind_ratings\n",
              "0        2932  ...  [4.5, 1.5, 0.5, 4.5, 1.0, 4.0, 3.5, 3.5, 1.5, ...\n",
              "1        2870  ...  [3.5, 4.0, 3.0, 2.5, 0.5, 3.0, 0.5, 0.5, 4.5, ...\n",
              "2        2869  ...                     [5.0, 4.0, 4.5, 3.5, 2.0, 4.5]\n",
              "3        2864  ...                          [2.0, 2.5, 4.0, 0.5, 1.5]\n",
              "4        2868  ...  [2.0, 1.0, 0.5, 1.0, 3.5, 5.0, 2.0, 0.5, 2.5, ...\n",
              "\n",
              "[5 rows x 11 columns]"
            ]
          },
          "metadata": {
            "tags": []
          },
          "execution_count": 8
        }
      ]
    },
    {
      "cell_type": "code",
      "metadata": {
        "id": "kqTLhtyTh7Ld",
        "colab_type": "code",
        "colab": {}
      },
      "source": [
        "#clean data\n",
        "def clean_data(text):\n",
        "    #remove punctuation, digits, extra stuff. make lowercase\n",
        "    text = text.lower()\n",
        "    text = re.sub('\\[.*?\\]', '', text)\n",
        "    text = re.sub('[%s]' % re.escape(string.punctuation), '', text)\n",
        "    text = re.sub('\\w*\\d\\w*', '', text)\n",
        "    text = re.sub('[‘’“”…]', '', text)\n",
        "    #lemma it - include POS tag in order to lemma it better\n",
        "    tag_map = defaultdict(lambda : wordnet.NOUN)\n",
        "    tag_map['J'] = wordnet.ADJ\n",
        "    tag_map['V'] = wordnet.VERB\n",
        "    tag_map['R'] = wordnet.ADV\n",
        "    lemmatizer = WordNetLemmatizer()\n",
        "    textTokens = word_tokenize(text)\n",
        "    #remove stopwords\n",
        "    word_tokens_nostop = [w for w in textTokens if not w in stopwords.words('english')] \n",
        "    #now lemma\n",
        "    text = [lemmatizer.lemmatize(tok, tag_map[tag[0]]) for tok, tag in pos_tag(word_tokens_nostop)]\n",
        "    return \" \".join(text)"
      ],
      "execution_count": 0,
      "outputs": []
    },
    {
      "cell_type": "markdown",
      "metadata": {
        "id": "nuMlrQk8h7Lj",
        "colab_type": "text"
      },
      "source": [
        "### Get clean body"
      ]
    },
    {
      "cell_type": "code",
      "metadata": {
        "id": "8YD8Ptykh7Ll",
        "colab_type": "code",
        "colab": {}
      },
      "source": [
        "clean_body_train = data_train[\"content_body_clean\"].apply(clean_data)\n",
        "y_train = data_train['blind_mean_rating']"
      ],
      "execution_count": 0,
      "outputs": []
    },
    {
      "cell_type": "code",
      "metadata": {
        "id": "eNpg-Tzmh7Lq",
        "colab_type": "code",
        "colab": {}
      },
      "source": [
        "clean_body_test = data_test[\"content_body_clean\"].apply(clean_data)\n",
        "y_test = data_test['blind_mean_rating']"
      ],
      "execution_count": 0,
      "outputs": []
    },
    {
      "cell_type": "code",
      "metadata": {
        "id": "1inwDo-TEkmr",
        "colab_type": "code",
        "colab": {}
      },
      "source": [
        "source_train = pd.get_dummies(data_train['content_source_desc'])\n",
        "source_test = pd.get_dummies(data_test['content_source_desc'])"
      ],
      "execution_count": 0,
      "outputs": []
    },
    {
      "cell_type": "code",
      "metadata": {
        "id": "I615oN4MRtFV",
        "colab_type": "code",
        "colab": {
          "base_uri": "https://localhost:8080/",
          "height": 34
        },
        "outputId": "04e07018-572b-4df5-d00c-1fba67fb5439"
      },
      "source": [
        "source_train.shape"
      ],
      "execution_count": 56,
      "outputs": [
        {
          "output_type": "execute_result",
          "data": {
            "text/plain": [
              "(1301, 7)"
            ]
          },
          "metadata": {
            "tags": []
          },
          "execution_count": 56
        }
      ]
    },
    {
      "cell_type": "markdown",
      "metadata": {
        "id": "lPkA44LOh7Lw",
        "colab_type": "text"
      },
      "source": [
        "### Split train and val"
      ]
    },
    {
      "cell_type": "code",
      "metadata": {
        "id": "v4yhPWPfh7Ly",
        "colab_type": "code",
        "colab": {}
      },
      "source": [
        "X_train, X_val, y_train_t, y_val, source_train_t, source_val = train_test_split(clean_body_train, y_train, source_train, test_size=0.15, shuffle=True, random_state=3)"
      ],
      "execution_count": 0,
      "outputs": []
    },
    {
      "cell_type": "code",
      "metadata": {
        "id": "wRcCyE65h7L2",
        "colab_type": "code",
        "colab": {}
      },
      "source": [
        "y_train_std = np.array(list(y_train_t))\n",
        "y_val_std = np.array(list(y_val))\n",
        "y_test_std = np.array(list(y_test))"
      ],
      "execution_count": 0,
      "outputs": []
    },
    {
      "cell_type": "markdown",
      "metadata": {
        "id": "f_fK6XDAh7L_",
        "colab_type": "text"
      },
      "source": [
        "### Word2Vec Embeddings"
      ]
    },
    {
      "cell_type": "code",
      "metadata": {
        "id": "BLUb7s6ih7MA",
        "colab_type": "code",
        "colab": {}
      },
      "source": [
        "EMBED_DIM = 64"
      ],
      "execution_count": 0,
      "outputs": []
    },
    {
      "cell_type": "code",
      "metadata": {
        "id": "jxLTYVQNh7MF",
        "colab_type": "code",
        "colab": {}
      },
      "source": [
        "train_body = []\n",
        "articles = list(clean_body_train)\n",
        "\n",
        "for article in articles:\n",
        "    art_tokens = word_tokenize(article)\n",
        "    train_body.append(art_tokens)"
      ],
      "execution_count": 0,
      "outputs": []
    },
    {
      "cell_type": "code",
      "metadata": {
        "id": "pDv_oADth7MJ",
        "colab_type": "code",
        "colab": {
          "base_uri": "https://localhost:8080/",
          "height": 34
        },
        "outputId": "a68f4d4b-6e60-4f3f-ff72-beb56595deb6"
      },
      "source": [
        "len(train_body)"
      ],
      "execution_count": 18,
      "outputs": [
        {
          "output_type": "execute_result",
          "data": {
            "text/plain": [
              "1301"
            ]
          },
          "metadata": {
            "tags": []
          },
          "execution_count": 18
        }
      ]
    },
    {
      "cell_type": "code",
      "metadata": {
        "id": "pNU6CGaph7MP",
        "colab_type": "code",
        "colab": {
          "base_uri": "https://localhost:8080/",
          "height": 34
        },
        "outputId": "dbe51d69-6e1b-41b5-cb62-14730db04d1a"
      },
      "source": [
        "import gensim\n",
        "\n",
        "# train word2vec model\n",
        "modelw2 = gensim.models.Word2Vec(sentences=train_body, size=EMBED_DIM, window=5, workers=4, min_count=1)\n",
        "# vocab size\n",
        "total_words = list(modelw2.wv.vocab)\n",
        "print(\"Vocab size\",len(total_words))"
      ],
      "execution_count": 23,
      "outputs": [
        {
          "output_type": "stream",
          "text": [
            "Vocab size 29377\n"
          ],
          "name": "stdout"
        }
      ]
    },
    {
      "cell_type": "code",
      "metadata": {
        "id": "h0THCAQyh7MU",
        "colab_type": "code",
        "colab": {
          "base_uri": "https://localhost:8080/",
          "height": 241
        },
        "outputId": "39bca2a3-cf9a-4890-c885-37cab81a7f13"
      },
      "source": [
        "modelw2.wv.most_similar('president')"
      ],
      "execution_count": 24,
      "outputs": [
        {
          "output_type": "stream",
          "text": [
            "/usr/local/lib/python3.6/dist-packages/gensim/matutils.py:737: FutureWarning: Conversion of the second argument of issubdtype from `int` to `np.signedinteger` is deprecated. In future, it will be treated as `np.int64 == np.dtype(int).type`.\n",
            "  if np.issubdtype(vec.dtype, np.int):\n"
          ],
          "name": "stderr"
        },
        {
          "output_type": "execute_result",
          "data": {
            "text/plain": [
              "[('donald', 0.9625521302223206),\n",
              " ('crosshairs', 0.9520652294158936),\n",
              " ('barack', 0.9438176155090332),\n",
              " ('realdonaldtrump', 0.9421208500862122),\n",
              " ('obama', 0.9360212087631226),\n",
              " ('entitled', 0.9358915090560913),\n",
              " ('j', 0.9347019195556641),\n",
              " ('sought', 0.9333324432373047),\n",
              " ('jinpings', 0.9332197904586792),\n",
              " ('decertify', 0.9320161938667297)]"
            ]
          },
          "metadata": {
            "tags": []
          },
          "execution_count": 24
        }
      ]
    },
    {
      "cell_type": "code",
      "metadata": {
        "id": "wvUm_HGLh7MZ",
        "colab_type": "code",
        "colab": {
          "base_uri": "https://localhost:8080/",
          "height": 187
        },
        "outputId": "90099efd-0610-4026-b68e-c13ed51eee53"
      },
      "source": [
        "modelw2.wv.most_similar_cosmul(positive=['health','president'], negative=['trump'])"
      ],
      "execution_count": 19,
      "outputs": [
        {
          "output_type": "execute_result",
          "data": {
            "text/plain": [
              "[('affordable', 0.9835430383682251),\n",
              " ('act', 0.9657101035118103),\n",
              " ('nanoscale', 0.9609741568565369),\n",
              " ('tiffany', 0.9591258764266968),\n",
              " ('dirtcheap', 0.9574180245399475),\n",
              " ('stafford', 0.955498456954956),\n",
              " ('intensive', 0.9533867835998535),\n",
              " ('singlepayer', 0.9483208656311035),\n",
              " ('sabotaged', 0.9457362294197083),\n",
              " ('legislatures', 0.9407923817634583)]"
            ]
          },
          "metadata": {
            "tags": []
          },
          "execution_count": 19
        }
      ]
    },
    {
      "cell_type": "code",
      "metadata": {
        "id": "lyouo1Rkh7Mf",
        "colab_type": "code",
        "colab": {
          "base_uri": "https://localhost:8080/",
          "height": 71
        },
        "outputId": "b8737e33-e9e4-42ed-e181-7cecfeb5ce9d"
      },
      "source": [
        "modelw2.wv.save_word2vec_format('word2vec_embed.txt',binary=False)"
      ],
      "execution_count": 20,
      "outputs": [
        {
          "output_type": "stream",
          "text": [
            "/usr/local/lib/python3.6/dist-packages/smart_open/smart_open_lib.py:402: UserWarning: This function is deprecated, use smart_open.open instead. See the migration notes for details: https://github.com/RaRe-Technologies/smart_open/blob/master/README.rst#migrating-to-the-new-open-function\n",
            "  'See the migration notes for details: %s' % _MIGRATION_NOTES_URL\n"
          ],
          "name": "stderr"
        }
      ]
    },
    {
      "cell_type": "code",
      "metadata": {
        "id": "QRV05aHVh7Mj",
        "colab_type": "code",
        "colab": {}
      },
      "source": [
        "embeddings_index = {}\n",
        "f = open(os.path.join('','word2vec_embed.txt'), encoding=\"utf-8\")\n",
        "for line in f:\n",
        "    values = line.split()\n",
        "    word = values[0]\n",
        "    coefs = np.asarray(values[1:])\n",
        "    embeddings_index[word] = coefs\n",
        "f.close()"
      ],
      "execution_count": 0,
      "outputs": []
    },
    {
      "cell_type": "markdown",
      "metadata": {
        "id": "-wu2j_cFh7Mp",
        "colab_type": "text"
      },
      "source": [
        "### Tokenize, Sequence, Pad"
      ]
    },
    {
      "cell_type": "code",
      "metadata": {
        "id": "UDXAD_Z1h7Mr",
        "colab_type": "code",
        "colab": {
          "base_uri": "https://localhost:8080/",
          "height": 34
        },
        "outputId": "37bae08d-8cf1-4ea7-e68e-a1dd1a761fad"
      },
      "source": [
        "VOCAB_SIZE = 29377\n",
        "\n",
        "tokenizer = tf.keras.preprocessing.text.Tokenizer(num_words=VOCAB_SIZE)\n",
        "tokenizer.fit_on_texts(clean_body_train)\n",
        "\n",
        "# Note, the tokenizer's word_index will not respect VOCAB_SIZE.\n",
        "# but, that parameter will be respected in later methods,\n",
        "# (for example, when you call text_to_sequences).\n",
        "# Also note that '0' is a reserved index for padding.\n",
        "word_index = tokenizer.word_index\n",
        "print(\"Word index\", len(word_index))"
      ],
      "execution_count": 26,
      "outputs": [
        {
          "output_type": "stream",
          "text": [
            "Word index 29377\n"
          ],
          "name": "stdout"
        }
      ]
    },
    {
      "cell_type": "code",
      "metadata": {
        "id": "Xs-9pRvkh7Mu",
        "colab_type": "code",
        "colab": {}
      },
      "source": [
        "# Use the texts_to_sequences utility to vectorize your training, \n",
        "# validation, and test questions. \n",
        "sequences_train = tokenizer.texts_to_sequences(X_train)\n",
        "sequences_val = tokenizer.texts_to_sequences(X_val)\n",
        "sequences_test = tokenizer.texts_to_sequences(clean_body_test)"
      ],
      "execution_count": 0,
      "outputs": []
    },
    {
      "cell_type": "markdown",
      "metadata": {
        "id": "iAQ--Bbgh7My",
        "colab_type": "text"
      },
      "source": [
        "### Choose max sequence length"
      ]
    },
    {
      "cell_type": "code",
      "metadata": {
        "id": "oXLtCazWh7M0",
        "colab_type": "code",
        "colab": {
          "base_uri": "https://localhost:8080/",
          "height": 85
        },
        "outputId": "852ae940-e083-486e-ee80-d5f38c4f4c65"
      },
      "source": [
        "train_word_lengths = []\n",
        "for w in sequences_train:\n",
        "    train_word_lengths.append(len(w))\n",
        "words_length = np.array(train_word_lengths)\n",
        "\n",
        "print(\"# of Words in the 90 percentile:\",np.percentile(words_length, 90))\n",
        "print(\"# of Words in the 95 percentile:\",np.percentile(words_length, 95))\n",
        "print(\"# of Words in the 99 percentile:\",np.percentile(words_length, 99))\n",
        "print(\"# of Words in the 100 percentile:\",np.percentile(words_length, 100))"
      ],
      "execution_count": 28,
      "outputs": [
        {
          "output_type": "stream",
          "text": [
            "# of Words in the 90 percentile: 764.6\n",
            "# of Words in the 95 percentile: 1103.6\n",
            "# of Words in the 99 percentile: 1894.2000000000035\n",
            "# of Words in the 100 percentile: 9317.0\n"
          ],
          "name": "stdout"
        }
      ]
    },
    {
      "cell_type": "code",
      "metadata": {
        "id": "TiRR-EPIh7M3",
        "colab_type": "code",
        "colab": {}
      },
      "source": [
        "MAX_SEQ_LEN = 2000"
      ],
      "execution_count": 0,
      "outputs": []
    },
    {
      "cell_type": "markdown",
      "metadata": {
        "id": "-LNVgOD4h7M6",
        "colab_type": "text"
      },
      "source": [
        "### Pad"
      ]
    },
    {
      "cell_type": "code",
      "metadata": {
        "id": "PyCj7LXFh7M7",
        "colab_type": "code",
        "colab": {}
      },
      "source": [
        "padded_train = tf.keras.preprocessing.sequence.pad_sequences(sequences_train, maxlen=MAX_SEQ_LEN)\n",
        "padded_val = tf.keras.preprocessing.sequence.pad_sequences(sequences_val, maxlen=MAX_SEQ_LEN)\n",
        "padded_test = tf.keras.preprocessing.sequence.pad_sequences(sequences_test, maxlen=MAX_SEQ_LEN)"
      ],
      "execution_count": 0,
      "outputs": []
    },
    {
      "cell_type": "code",
      "metadata": {
        "id": "DFBrdSvvh7M-",
        "colab_type": "code",
        "colab": {
          "base_uri": "https://localhost:8080/",
          "height": 34
        },
        "outputId": "b6badc6e-9283-40c1-e3f6-223337a69f07"
      },
      "source": [
        "len(padded_train[0])"
      ],
      "execution_count": 31,
      "outputs": [
        {
          "output_type": "execute_result",
          "data": {
            "text/plain": [
              "2000"
            ]
          },
          "metadata": {
            "tags": []
          },
          "execution_count": 31
        }
      ]
    },
    {
      "cell_type": "markdown",
      "metadata": {
        "id": "gPlmYzkJh7NB",
        "colab_type": "text"
      },
      "source": [
        "### Map embeddings to tokenizer"
      ]
    },
    {
      "cell_type": "code",
      "metadata": {
        "id": "4m5puA__h7ND",
        "colab_type": "code",
        "colab": {}
      },
      "source": [
        "num_words = len(word_index) + 1\n",
        "embedding_matrix = np.zeros((num_words,EMBED_DIM))\n",
        "\n",
        "for word, i in word_index.items():\n",
        "    if i > num_words:\n",
        "        continue\n",
        "    embedding_vector = embeddings_index.get(word)\n",
        "    if embedding_vector is not None:\n",
        "        # words not found in embedding index will be 0s\n",
        "        embedding_matrix[i] = embedding_vector"
      ],
      "execution_count": 0,
      "outputs": []
    },
    {
      "cell_type": "markdown",
      "metadata": {
        "id": "Nn5cwloDh7NH",
        "colab_type": "text"
      },
      "source": [
        "### Initial LSTM model"
      ]
    },
    {
      "cell_type": "code",
      "metadata": {
        "id": "OMw3yK1Vh7NJ",
        "colab_type": "code",
        "colab": {}
      },
      "source": [
        "from tensorflow.keras.layers import Dense, Embedding, Flatten, Input, LSTM, GRU, Bidirectional, Dropout\n",
        "#from tensorflow.keras.layers.embeddings import Embedding\n",
        "from tensorflow.keras.models import Model, Sequential\n",
        "from tensorflow.keras.initializers import Constant"
      ],
      "execution_count": 0,
      "outputs": []
    },
    {
      "cell_type": "code",
      "metadata": {
        "id": "ES-08PE5h7NO",
        "colab_type": "code",
        "colab": {
          "base_uri": "https://localhost:8080/",
          "height": 360
        },
        "outputId": "c4e06124-405e-4848-b673-989f79910ab8"
      },
      "source": [
        "model = Sequential()\n",
        "embedding_layer = Embedding(input_dim=num_words,\n",
        "                            output_dim=EMBED_DIM,\n",
        "                            embeddings_initializer=Constant(embedding_matrix),\n",
        "                            input_length=MAX_SEQ_LEN,\n",
        "                            trainable=False\n",
        "                           )\n",
        "model.add(embedding_layer)\n",
        "#model.add(Flatten())\n",
        "model.add(Bidirectional(LSTM(64)))\n",
        "#model.add(GRU(units=32, dropout=0.2, recurrent_dropout=0.2))\n",
        "model.add(Dense(64, activation=\"relu\"))\n",
        "model.add(Dropout(0.2))\n",
        "model.add(Dense(1, activation=None))\n",
        "\n",
        "model.summary()\n",
        "\n",
        "\"\"\"[\n",
        "    tf.keras.layers.Embedding(input_dim=VOCAB_SIZE, output_dim=64, input_length=MAX_SEQ_LEN),\n",
        "    tf.keras.layers.Bidirectional(tf.keras.layers.LSTM(64)),\n",
        "    tf.keras.layers.Dense(64, activation=\"relu\"),\n",
        "    tf.keras.layers.Dense(1, activation=\"sigmoid\")\n",
        "]\"\"\""
      ],
      "execution_count": 34,
      "outputs": [
        {
          "output_type": "stream",
          "text": [
            "Model: \"sequential\"\n",
            "_________________________________________________________________\n",
            "Layer (type)                 Output Shape              Param #   \n",
            "=================================================================\n",
            "embedding (Embedding)        (None, 2000, 64)          1880192   \n",
            "_________________________________________________________________\n",
            "bidirectional (Bidirectional (None, 128)               66048     \n",
            "_________________________________________________________________\n",
            "dense (Dense)                (None, 64)                8256      \n",
            "_________________________________________________________________\n",
            "dropout (Dropout)            (None, 64)                0         \n",
            "_________________________________________________________________\n",
            "dense_1 (Dense)              (None, 1)                 65        \n",
            "=================================================================\n",
            "Total params: 1,954,561\n",
            "Trainable params: 74,369\n",
            "Non-trainable params: 1,880,192\n",
            "_________________________________________________________________\n"
          ],
          "name": "stdout"
        },
        {
          "output_type": "execute_result",
          "data": {
            "text/plain": [
              "'[\\n    tf.keras.layers.Embedding(input_dim=VOCAB_SIZE, output_dim=64, input_length=MAX_SEQ_LEN),\\n    tf.keras.layers.Bidirectional(tf.keras.layers.LSTM(64)),\\n    tf.keras.layers.Dense(64, activation=\"relu\"),\\n    tf.keras.layers.Dense(1, activation=\"sigmoid\")\\n]'"
            ]
          },
          "metadata": {
            "tags": []
          },
          "execution_count": 34
        }
      ]
    },
    {
      "cell_type": "code",
      "metadata": {
        "id": "aM5Cp5Rbh7NV",
        "colab_type": "code",
        "colab": {}
      },
      "source": [
        "model.compile(loss='mse', optimizer='adam', metrics=['mse'])\n",
        "\n",
        "earlyStopping = tf.keras.callbacks.EarlyStopping(monitor='val_mse', patience=11, verbose=0, mode='min')\n",
        "cp_save = tf.keras.callbacks.ModelCheckpoint('model-e{epoch:03d}.ckpt', \n",
        "                                             save_best_only=True, monitor='val_mse', mode='min')"
      ],
      "execution_count": 0,
      "outputs": []
    },
    {
      "cell_type": "code",
      "metadata": {
        "id": "cD4NhOp6s3Gf",
        "colab_type": "code",
        "colab": {}
      },
      "source": [
        "!rm -rf 'model-e001.ckpt'\n",
        "!rm -rf 'model-e002.ckpt'\n",
        "!rm -rf 'model-e007.ckpt'\n",
        "!rm -rf 'model-e009.ckpt'\n",
        "!rm -rf 'model-e012.ckpt'"
      ],
      "execution_count": 0,
      "outputs": []
    },
    {
      "cell_type": "code",
      "metadata": {
        "id": "CtdysyFSh7NY",
        "colab_type": "code",
        "colab": {
          "base_uri": "https://localhost:8080/",
          "height": 1000
        },
        "outputId": "1b4f2c1b-1f45-45f6-bc33-039a24aba3e5"
      },
      "source": [
        "history = model.fit(padded_train, y_train_std, \n",
        "                     epochs=100, \n",
        "                     verbose=2, \n",
        "                     callbacks=[earlyStopping, cp_save],\n",
        "                     validation_data=(padded_val,y_val_std))"
      ],
      "execution_count": 48,
      "outputs": [
        {
          "output_type": "stream",
          "text": [
            "Train on 1105 samples, validate on 196 samples\n",
            "Epoch 1/100\n",
            "WARNING:tensorflow:From /usr/local/lib/python3.6/dist-packages/tensorflow_core/python/ops/resource_variable_ops.py:1786: calling BaseResourceVariable.__init__ (from tensorflow.python.ops.resource_variable_ops) with constraint is deprecated and will be removed in a future version.\n",
            "Instructions for updating:\n",
            "If using Keras pass *_constraint arguments to layers.\n",
            "INFO:tensorflow:Assets written to: model-e001.ckpt/assets\n",
            "1105/1105 - 28s - loss: 3.4436 - mse: 3.4436 - val_loss: 0.6866 - val_mse: 0.6866\n",
            "Epoch 2/100\n",
            "INFO:tensorflow:Assets written to: model-e002.ckpt/assets\n",
            "1105/1105 - 20s - loss: 1.0008 - mse: 1.0008 - val_loss: 0.6709 - val_mse: 0.6709\n",
            "Epoch 3/100\n",
            "INFO:tensorflow:Assets written to: model-e003.ckpt/assets\n",
            "1105/1105 - 20s - loss: 0.9900 - mse: 0.9900 - val_loss: 0.6440 - val_mse: 0.6440\n",
            "Epoch 4/100\n",
            "1105/1105 - 5s - loss: 0.9444 - mse: 0.9444 - val_loss: 0.6684 - val_mse: 0.6684\n",
            "Epoch 5/100\n",
            "INFO:tensorflow:Assets written to: model-e005.ckpt/assets\n",
            "1105/1105 - 20s - loss: 0.9386 - mse: 0.9386 - val_loss: 0.6197 - val_mse: 0.6197\n",
            "Epoch 6/100\n",
            "INFO:tensorflow:Assets written to: model-e006.ckpt/assets\n",
            "1105/1105 - 21s - loss: 0.9260 - mse: 0.9260 - val_loss: 0.6144 - val_mse: 0.6144\n",
            "Epoch 7/100\n",
            "INFO:tensorflow:Assets written to: model-e007.ckpt/assets\n",
            "1105/1105 - 20s - loss: 0.9108 - mse: 0.9108 - val_loss: 0.6081 - val_mse: 0.6081\n",
            "Epoch 8/100\n",
            "1105/1105 - 5s - loss: 0.8645 - mse: 0.8645 - val_loss: 0.6146 - val_mse: 0.6146\n",
            "Epoch 9/100\n",
            "INFO:tensorflow:Assets written to: model-e009.ckpt/assets\n",
            "1105/1105 - 20s - loss: 0.9119 - mse: 0.9119 - val_loss: 0.6039 - val_mse: 0.6039\n",
            "Epoch 10/100\n",
            "1105/1105 - 5s - loss: 0.8648 - mse: 0.8648 - val_loss: 0.6308 - val_mse: 0.6308\n",
            "Epoch 11/100\n",
            "1105/1105 - 5s - loss: 0.9110 - mse: 0.9110 - val_loss: 0.6058 - val_mse: 0.6058\n",
            "Epoch 12/100\n",
            "INFO:tensorflow:Assets written to: model-e012.ckpt/assets\n",
            "1105/1105 - 20s - loss: 0.8878 - mse: 0.8878 - val_loss: 0.6006 - val_mse: 0.6006\n",
            "Epoch 13/100\n",
            "INFO:tensorflow:Assets written to: model-e013.ckpt/assets\n",
            "1105/1105 - 20s - loss: 0.8510 - mse: 0.8510 - val_loss: 0.5893 - val_mse: 0.5893\n",
            "Epoch 14/100\n",
            "1105/1105 - 5s - loss: 0.8644 - mse: 0.8644 - val_loss: 0.6286 - val_mse: 0.6286\n",
            "Epoch 15/100\n",
            "1105/1105 - 5s - loss: 0.8475 - mse: 0.8475 - val_loss: 0.6453 - val_mse: 0.6453\n",
            "Epoch 16/100\n",
            "1105/1105 - 5s - loss: 0.8537 - mse: 0.8537 - val_loss: 0.7029 - val_mse: 0.7029\n",
            "Epoch 17/100\n",
            "1105/1105 - 5s - loss: 0.8352 - mse: 0.8352 - val_loss: 0.6159 - val_mse: 0.6159\n",
            "Epoch 18/100\n",
            "1105/1105 - 5s - loss: 0.8119 - mse: 0.8119 - val_loss: 0.6260 - val_mse: 0.6260\n",
            "Epoch 19/100\n",
            "1105/1105 - 5s - loss: 0.8200 - mse: 0.8200 - val_loss: 0.6160 - val_mse: 0.6160\n",
            "Epoch 20/100\n",
            "1105/1105 - 5s - loss: 0.8586 - mse: 0.8586 - val_loss: 0.7074 - val_mse: 0.7074\n",
            "Epoch 21/100\n",
            "1105/1105 - 5s - loss: 0.8882 - mse: 0.8882 - val_loss: 0.6428 - val_mse: 0.6428\n",
            "Epoch 22/100\n",
            "1105/1105 - 5s - loss: 0.8086 - mse: 0.8086 - val_loss: 0.6100 - val_mse: 0.6100\n",
            "Epoch 23/100\n",
            "1105/1105 - 5s - loss: 0.8281 - mse: 0.8281 - val_loss: 0.6181 - val_mse: 0.6181\n",
            "Epoch 24/100\n",
            "1105/1105 - 5s - loss: 0.7634 - mse: 0.7634 - val_loss: 0.6218 - val_mse: 0.6218\n"
          ],
          "name": "stdout"
        }
      ]
    },
    {
      "cell_type": "code",
      "metadata": {
        "id": "M6mipRgfh7Ne",
        "colab_type": "code",
        "colab": {}
      },
      "source": [
        "#plotting accuracy and loss as a function of epochs to ensure no overfitting\n",
        "def plot(history):\n",
        "    # The history object contains results on the training and test\n",
        "    # sets for each epoch\n",
        "    acc = history.history['mse']\n",
        "    val_acc = history.history['val_mse']\n",
        "    loss = history.history['loss']\n",
        "    val_loss = history.history['val_loss']\n",
        "\n",
        "    # Get the number of epochs\n",
        "    epochs = range(len(acc))\n",
        "\n",
        "    plt.title('Training and validation accuracy')\n",
        "    plt.plot(epochs, acc, color='blue', label='Train')\n",
        "    plt.plot(epochs, val_acc, color='orange', label='Val')\n",
        "    plt.xlabel('Epoch')\n",
        "    plt.ylabel('MSE')\n",
        "    plt.legend()\n",
        "\n",
        "    #_ = plt.figure()\n",
        "    #plt.title('Training and validation loss')\n",
        "    #plt.plot(epochs, loss, color='blue', label='Train')\n",
        "    #plt.plot(epochs, val_loss, color='orange', label='Val')\n",
        "    #plt.xlabel('Epoch')\n",
        "    #plt.ylabel('Loss')\n",
        "    #plt.legend()"
      ],
      "execution_count": 0,
      "outputs": []
    },
    {
      "cell_type": "code",
      "metadata": {
        "id": "PurQdXbbJblY",
        "colab_type": "code",
        "colab": {
          "base_uri": "https://localhost:8080/",
          "height": 295
        },
        "outputId": "e05d46f4-44ed-4d3d-9013-21d6f08c5d92"
      },
      "source": [
        "plot(history)"
      ],
      "execution_count": 50,
      "outputs": [
        {
          "output_type": "display_data",
          "data": {
            "image/png": "[encoded data removed]",
            "text/plain": [
              "<Figure size 432x288 with 1 Axes>"
            ]
          },
          "metadata": {
            "tags": []
          }
        }
      ]
    },
    {
      "cell_type": "markdown",
      "metadata": {
        "id": "1ME44_jqsPOw",
        "colab_type": "text"
      },
      "source": [
        "### Testing"
      ]
    },
    {
      "cell_type": "code",
      "metadata": {
        "id": "e8P0zsNTsQ76",
        "colab_type": "code",
        "colab": {}
      },
      "source": [
        "model1_best = tf.keras.models.load_model('model-e013.ckpt')"
      ],
      "execution_count": 0,
      "outputs": []
    },
    {
      "cell_type": "code",
      "metadata": {
        "id": "idPKXvbptDqz",
        "colab_type": "code",
        "colab": {
          "base_uri": "https://localhost:8080/",
          "height": 34
        },
        "outputId": "0fe9a58d-85e5-4900-95e6-e102d284c9cf"
      },
      "source": [
        "test1 = 0\n",
        "test_accuracy = tf.keras.metrics.MeanSquaredError(name='test_mse')\n",
        "\n",
        "pred1 = model1_best.predict(x=padded_test)\n",
        "# Record metrics after each batch\n",
        "test_accuracy(y_test_std, pred1)\n",
        "test1 = test_accuracy.result()\n",
        "print(test1)"
      ],
      "execution_count": 60,
      "outputs": [
        {
          "output_type": "stream",
          "text": [
            "tf.Tensor(0.9644372, shape=(), dtype=float32)\n"
          ],
          "name": "stdout"
        }
      ]
    },
    {
      "cell_type": "markdown",
      "metadata": {
        "id": "vd7UqFxIbMPI",
        "colab_type": "text"
      },
      "source": [
        "## Model 2 - With Source"
      ]
    },
    {
      "cell_type": "code",
      "metadata": {
        "id": "yATjMr9xbLU4",
        "colab_type": "code",
        "colab": {
          "base_uri": "https://localhost:8080/",
          "height": 374
        },
        "outputId": "c242a27c-806b-41a6-eb74-3861d7bc27c9"
      },
      "source": [
        "body_input = Input(shape=(MAX_SEQ_LEN,), dtype='int32')\n",
        "embedded_body = Embedding(input_dim=num_words,\n",
        "                            output_dim=EMBED_DIM,\n",
        "                            embeddings_initializer=Constant(embedding_matrix),\n",
        "                            input_length=MAX_SEQ_LEN,\n",
        "                            trainable=False\n",
        "                           )(body_input)\n",
        "\n",
        "source_train_tr = np.array(source_train_t)\n",
        "source_val_te = np.array(source_val)\n",
        "source_train_input = Input(shape=source_train_t.shape, dtype='int32')\n",
        "\n",
        "merged = tf.keras.layers.concatenate([embedded_body, source_train_input])\n",
        "\n",
        "encoded_body = Bidirectional(LSTM(64))(merged)\n",
        "\n",
        "# Optionally, add a small dense layer\n",
        "dense = Dense(64, activation=\"relu\")(encoded_body)\n",
        "\n",
        "# Next, add a binary classifier on top\n",
        "output = Dense(1, activation=None)(dense)\n",
        "\n",
        "# Your final model\n",
        "model2 = Model(inputs=[body_input, source_train_input], outputs=output)\n",
        "\n",
        "model2.summary()"
      ],
      "execution_count": 58,
      "outputs": [
        {
          "output_type": "error",
          "ename": "ValueError",
          "evalue": "ignored",
          "traceback": [
            "\u001b[0;31m---------------------------------------------------------------------------\u001b[0m",
            "\u001b[0;31mValueError\u001b[0m                                Traceback (most recent call last)",
            "\u001b[0;32m<ipython-input-58-c1375b90bae0>\u001b[0m in \u001b[0;36m<module>\u001b[0;34m()\u001b[0m\n\u001b[1;32m     11\u001b[0m \u001b[0msource_train_input\u001b[0m \u001b[0;34m=\u001b[0m \u001b[0mInput\u001b[0m\u001b[0;34m(\u001b[0m\u001b[0mshape\u001b[0m\u001b[0;34m=\u001b[0m\u001b[0msource_train_t\u001b[0m\u001b[0;34m.\u001b[0m\u001b[0mshape\u001b[0m\u001b[0;34m,\u001b[0m \u001b[0mdtype\u001b[0m\u001b[0;34m=\u001b[0m\u001b[0;34m'int32'\u001b[0m\u001b[0;34m)\u001b[0m\u001b[0;34m\u001b[0m\u001b[0;34m\u001b[0m\u001b[0m\n\u001b[1;32m     12\u001b[0m \u001b[0;34m\u001b[0m\u001b[0m\n\u001b[0;32m---> 13\u001b[0;31m \u001b[0mmerged\u001b[0m \u001b[0;34m=\u001b[0m \u001b[0mtf\u001b[0m\u001b[0;34m.\u001b[0m\u001b[0mkeras\u001b[0m\u001b[0;34m.\u001b[0m\u001b[0mlayers\u001b[0m\u001b[0;34m.\u001b[0m\u001b[0mconcatenate\u001b[0m\u001b[0;34m(\u001b[0m\u001b[0;34m[\u001b[0m\u001b[0membedded_body\u001b[0m\u001b[0;34m,\u001b[0m \u001b[0msource_train_input\u001b[0m\u001b[0;34m]\u001b[0m\u001b[0;34m)\u001b[0m\u001b[0;34m\u001b[0m\u001b[0;34m\u001b[0m\u001b[0m\n\u001b[0m\u001b[1;32m     14\u001b[0m \u001b[0;34m\u001b[0m\u001b[0m\n\u001b[1;32m     15\u001b[0m \u001b[0mencoded_body\u001b[0m \u001b[0;34m=\u001b[0m \u001b[0mBidirectional\u001b[0m\u001b[0;34m(\u001b[0m\u001b[0mLSTM\u001b[0m\u001b[0;34m(\u001b[0m\u001b[0;36m64\u001b[0m\u001b[0;34m)\u001b[0m\u001b[0;34m)\u001b[0m\u001b[0;34m(\u001b[0m\u001b[0mmerged\u001b[0m\u001b[0;34m)\u001b[0m\u001b[0;34m\u001b[0m\u001b[0;34m\u001b[0m\u001b[0m\n",
            "\u001b[0;32m/usr/local/lib/python3.6/dist-packages/tensorflow_core/python/keras/layers/merge.py\u001b[0m in \u001b[0;36mconcatenate\u001b[0;34m(inputs, axis, **kwargs)\u001b[0m\n\u001b[1;32m    714\u001b[0m       \u001b[0mA\u001b[0m \u001b[0mtensor\u001b[0m\u001b[0;34m,\u001b[0m \u001b[0mthe\u001b[0m \u001b[0mconcatenation\u001b[0m \u001b[0mof\u001b[0m \u001b[0mthe\u001b[0m \u001b[0minputs\u001b[0m \u001b[0malongside\u001b[0m \u001b[0maxis\u001b[0m\u001b[0;31m \u001b[0m\u001b[0;31m`\u001b[0m\u001b[0maxis\u001b[0m\u001b[0;31m`\u001b[0m\u001b[0;34m.\u001b[0m\u001b[0;34m\u001b[0m\u001b[0;34m\u001b[0m\u001b[0m\n\u001b[1;32m    715\u001b[0m   \"\"\"\n\u001b[0;32m--> 716\u001b[0;31m   \u001b[0;32mreturn\u001b[0m \u001b[0mConcatenate\u001b[0m\u001b[0;34m(\u001b[0m\u001b[0maxis\u001b[0m\u001b[0;34m=\u001b[0m\u001b[0maxis\u001b[0m\u001b[0;34m,\u001b[0m \u001b[0;34m**\u001b[0m\u001b[0mkwargs\u001b[0m\u001b[0;34m)\u001b[0m\u001b[0;34m(\u001b[0m\u001b[0minputs\u001b[0m\u001b[0;34m)\u001b[0m\u001b[0;34m\u001b[0m\u001b[0;34m\u001b[0m\u001b[0m\n\u001b[0m\u001b[1;32m    717\u001b[0m \u001b[0;34m\u001b[0m\u001b[0m\n\u001b[1;32m    718\u001b[0m \u001b[0;34m\u001b[0m\u001b[0m\n",
            "\u001b[0;32m/usr/local/lib/python3.6/dist-packages/tensorflow_core/python/keras/engine/base_layer.py\u001b[0m in \u001b[0;36m__call__\u001b[0;34m(self, inputs, *args, **kwargs)\u001b[0m\n\u001b[1;32m    746\u001b[0m           \u001b[0;31m# Build layer if applicable (if the `build` method has been\u001b[0m\u001b[0;34m\u001b[0m\u001b[0;34m\u001b[0m\u001b[0;34m\u001b[0m\u001b[0m\n\u001b[1;32m    747\u001b[0m           \u001b[0;31m# overridden).\u001b[0m\u001b[0;34m\u001b[0m\u001b[0;34m\u001b[0m\u001b[0;34m\u001b[0m\u001b[0m\n\u001b[0;32m--> 748\u001b[0;31m           \u001b[0mself\u001b[0m\u001b[0;34m.\u001b[0m\u001b[0m_maybe_build\u001b[0m\u001b[0;34m(\u001b[0m\u001b[0minputs\u001b[0m\u001b[0;34m)\u001b[0m\u001b[0;34m\u001b[0m\u001b[0;34m\u001b[0m\u001b[0m\n\u001b[0m\u001b[1;32m    749\u001b[0m           \u001b[0mcast_inputs\u001b[0m \u001b[0;34m=\u001b[0m \u001b[0mself\u001b[0m\u001b[0;34m.\u001b[0m\u001b[0m_maybe_cast_inputs\u001b[0m\u001b[0;34m(\u001b[0m\u001b[0minputs\u001b[0m\u001b[0;34m)\u001b[0m\u001b[0;34m\u001b[0m\u001b[0;34m\u001b[0m\u001b[0m\n\u001b[1;32m    750\u001b[0m \u001b[0;34m\u001b[0m\u001b[0m\n",
            "\u001b[0;32m/usr/local/lib/python3.6/dist-packages/tensorflow_core/python/keras/engine/base_layer.py\u001b[0m in \u001b[0;36m_maybe_build\u001b[0;34m(self, inputs)\u001b[0m\n\u001b[1;32m   2114\u001b[0m         \u001b[0;31m# operations.\u001b[0m\u001b[0;34m\u001b[0m\u001b[0;34m\u001b[0m\u001b[0;34m\u001b[0m\u001b[0m\n\u001b[1;32m   2115\u001b[0m         \u001b[0;32mwith\u001b[0m \u001b[0mtf_utils\u001b[0m\u001b[0;34m.\u001b[0m\u001b[0mmaybe_init_scope\u001b[0m\u001b[0;34m(\u001b[0m\u001b[0mself\u001b[0m\u001b[0;34m)\u001b[0m\u001b[0;34m:\u001b[0m\u001b[0;34m\u001b[0m\u001b[0;34m\u001b[0m\u001b[0m\n\u001b[0;32m-> 2116\u001b[0;31m           \u001b[0mself\u001b[0m\u001b[0;34m.\u001b[0m\u001b[0mbuild\u001b[0m\u001b[0;34m(\u001b[0m\u001b[0minput_shapes\u001b[0m\u001b[0;34m)\u001b[0m\u001b[0;34m\u001b[0m\u001b[0;34m\u001b[0m\u001b[0m\n\u001b[0m\u001b[1;32m   2117\u001b[0m       \u001b[0;31m# We must set self.built since user defined build functions are not\u001b[0m\u001b[0;34m\u001b[0m\u001b[0;34m\u001b[0m\u001b[0;34m\u001b[0m\u001b[0m\n\u001b[1;32m   2118\u001b[0m       \u001b[0;31m# constrained to set self.built.\u001b[0m\u001b[0;34m\u001b[0m\u001b[0;34m\u001b[0m\u001b[0;34m\u001b[0m\u001b[0m\n",
            "\u001b[0;32m/usr/local/lib/python3.6/dist-packages/tensorflow_core/python/keras/utils/tf_utils.py\u001b[0m in \u001b[0;36mwrapper\u001b[0;34m(instance, input_shape)\u001b[0m\n\u001b[1;32m    304\u001b[0m     \u001b[0;32mif\u001b[0m \u001b[0minput_shape\u001b[0m \u001b[0;32mis\u001b[0m \u001b[0;32mnot\u001b[0m \u001b[0;32mNone\u001b[0m\u001b[0;34m:\u001b[0m\u001b[0;34m\u001b[0m\u001b[0;34m\u001b[0m\u001b[0m\n\u001b[1;32m    305\u001b[0m       \u001b[0minput_shape\u001b[0m \u001b[0;34m=\u001b[0m \u001b[0mconvert_shapes\u001b[0m\u001b[0;34m(\u001b[0m\u001b[0minput_shape\u001b[0m\u001b[0;34m,\u001b[0m \u001b[0mto_tuples\u001b[0m\u001b[0;34m=\u001b[0m\u001b[0;32mTrue\u001b[0m\u001b[0;34m)\u001b[0m\u001b[0;34m\u001b[0m\u001b[0;34m\u001b[0m\u001b[0m\n\u001b[0;32m--> 306\u001b[0;31m     \u001b[0moutput_shape\u001b[0m \u001b[0;34m=\u001b[0m \u001b[0mfn\u001b[0m\u001b[0;34m(\u001b[0m\u001b[0minstance\u001b[0m\u001b[0;34m,\u001b[0m \u001b[0minput_shape\u001b[0m\u001b[0;34m)\u001b[0m\u001b[0;34m\u001b[0m\u001b[0;34m\u001b[0m\u001b[0m\n\u001b[0m\u001b[1;32m    307\u001b[0m     \u001b[0;31m# Return shapes from `fn` as TensorShapes.\u001b[0m\u001b[0;34m\u001b[0m\u001b[0;34m\u001b[0m\u001b[0;34m\u001b[0m\u001b[0m\n\u001b[1;32m    308\u001b[0m     \u001b[0;32mif\u001b[0m \u001b[0moutput_shape\u001b[0m \u001b[0;32mis\u001b[0m \u001b[0;32mnot\u001b[0m \u001b[0;32mNone\u001b[0m\u001b[0;34m:\u001b[0m\u001b[0;34m\u001b[0m\u001b[0;34m\u001b[0m\u001b[0m\n",
            "\u001b[0;32m/usr/local/lib/python3.6/dist-packages/tensorflow_core/python/keras/layers/merge.py\u001b[0m in \u001b[0;36mbuild\u001b[0;34m(self, input_shape)\u001b[0m\n\u001b[1;32m    399\u001b[0m                            if shape[axis] is not None])\n\u001b[1;32m    400\u001b[0m         \u001b[0;32mif\u001b[0m \u001b[0mlen\u001b[0m\u001b[0;34m(\u001b[0m\u001b[0munique_dims\u001b[0m\u001b[0;34m)\u001b[0m \u001b[0;34m>\u001b[0m \u001b[0;36m1\u001b[0m\u001b[0;34m:\u001b[0m\u001b[0;34m\u001b[0m\u001b[0;34m\u001b[0m\u001b[0m\n\u001b[0;32m--> 401\u001b[0;31m           \u001b[0;32mraise\u001b[0m \u001b[0mValueError\u001b[0m\u001b[0;34m(\u001b[0m\u001b[0merr_msg\u001b[0m\u001b[0;34m)\u001b[0m\u001b[0;34m\u001b[0m\u001b[0;34m\u001b[0m\u001b[0m\n\u001b[0m\u001b[1;32m    402\u001b[0m \u001b[0;34m\u001b[0m\u001b[0m\n\u001b[1;32m    403\u001b[0m   \u001b[0;32mdef\u001b[0m \u001b[0m_merge_function\u001b[0m\u001b[0;34m(\u001b[0m\u001b[0mself\u001b[0m\u001b[0;34m,\u001b[0m \u001b[0minputs\u001b[0m\u001b[0;34m)\u001b[0m\u001b[0;34m:\u001b[0m\u001b[0;34m\u001b[0m\u001b[0;34m\u001b[0m\u001b[0m\n",
            "\u001b[0;31mValueError\u001b[0m: A `Concatenate` layer requires inputs with matching shapes except for the concat axis. Got inputs shapes: [(None, 2000, 64), (None, 1105, 7)]"
          ]
        }
      ]
    }
  ]
}