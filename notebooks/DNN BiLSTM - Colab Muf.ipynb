{
  "nbformat": 4,
  "nbformat_minor": 0,
  "metadata": {
    "kernelspec": {
      "name": "python3",
      "display_name": "Python 3"
    },
    "language_info": {
      "codemirror_mode": {
        "name": "ipython",
        "version": 3
      },
      "file_extension": ".py",
      "mimetype": "text/x-python",
      "name": "python",
      "nbconvert_exporter": "python",
      "pygments_lexer": "ipython3",
      "version": "3.7.4"
    },
    "colab": {
      "name": "DNN BiLSTM - Colab Muf.ipynb",
      "provenance": [],
      "toc_visible": true
    },
    "accelerator": "GPU"
  },
  "cells": [
    {
      "cell_type": "markdown",
      "metadata": {
        "id": "9NU1PC2Hh7K8",
        "colab_type": "text"
      },
      "source": [
        "# BERT & TF"
      ]
    },
    {
      "cell_type": "code",
      "metadata": {
        "id": "_y3z5DSIilh_",
        "colab_type": "code",
        "outputId": "03c0b927-3b50-49f1-b2da-0e5b06c9cf84",
        "colab": {
          "base_uri": "https://localhost:8080/",
          "height": 938
        }
      },
      "source": [
        "!pip install tensorflow==2.1.0"
      ],
      "execution_count": 1,
      "outputs": [
        {
          "output_type": "stream",
          "text": [
            "Collecting tensorflow==2.1.0\n",
            "\u001b[?25l  Downloading https://files.pythonhosted.org/packages/85/d4/c0cd1057b331bc38b65478302114194bd8e1b9c2bbc06e300935c0e93d90/tensorflow-2.1.0-cp36-cp36m-manylinux2010_x86_64.whl (421.8MB)\n",
            "\u001b[K     |████████████████████████████████| 421.8MB 40kB/s \n",
            "\u001b[?25hRequirement already satisfied: keras-preprocessing>=1.1.0 in /usr/local/lib/python3.6/dist-packages (from tensorflow==2.1.0) (1.1.0)\n",
            "Collecting tensorflow-estimator<2.2.0,>=2.1.0rc0\n",
            "\u001b[?25l  Downloading https://files.pythonhosted.org/packages/18/90/b77c328a1304437ab1310b463e533fa7689f4bfc41549593056d812fab8e/tensorflow_estimator-2.1.0-py2.py3-none-any.whl (448kB)\n",
            "\u001b[K     |████████████████████████████████| 450kB 37.9MB/s \n",
            "\u001b[?25hRequirement already satisfied: six>=1.12.0 in /usr/local/lib/python3.6/dist-packages (from tensorflow==2.1.0) (1.12.0)\n",
            "Requirement already satisfied: termcolor>=1.1.0 in /usr/local/lib/python3.6/dist-packages (from tensorflow==2.1.0) (1.1.0)\n",
            "Requirement already satisfied: protobuf>=3.8.0 in /usr/local/lib/python3.6/dist-packages (from tensorflow==2.1.0) (3.10.0)\n",
            "Collecting tensorboard<2.2.0,>=2.1.0\n",
            "\u001b[?25l  Downloading https://files.pythonhosted.org/packages/d9/41/bbf49b61370e4f4d245d4c6051dfb6db80cec672605c91b1652ac8cc3d38/tensorboard-2.1.1-py3-none-any.whl (3.8MB)\n",
            "\u001b[K     |████████████████████████████████| 3.9MB 40.2MB/s \n",
            "\u001b[?25hRequirement already satisfied: astor>=0.6.0 in /usr/local/lib/python3.6/dist-packages (from tensorflow==2.1.0) (0.8.1)\n",
            "Requirement already satisfied: grpcio>=1.8.6 in /usr/local/lib/python3.6/dist-packages (from tensorflow==2.1.0) (1.24.3)\n",
            "Requirement already satisfied: wheel>=0.26; python_version >= \"3\" in /usr/local/lib/python3.6/dist-packages (from tensorflow==2.1.0) (0.34.2)\n",
            "Requirement already satisfied: numpy<2.0,>=1.16.0 in /usr/local/lib/python3.6/dist-packages (from tensorflow==2.1.0) (1.18.2)\n",
            "Requirement already satisfied: google-pasta>=0.1.6 in /usr/local/lib/python3.6/dist-packages (from tensorflow==2.1.0) (0.2.0)\n",
            "Requirement already satisfied: absl-py>=0.7.0 in /usr/local/lib/python3.6/dist-packages (from tensorflow==2.1.0) (0.9.0)\n",
            "Requirement already satisfied: scipy==1.4.1; python_version >= \"3\" in /usr/local/lib/python3.6/dist-packages (from tensorflow==2.1.0) (1.4.1)\n",
            "Requirement already satisfied: wrapt>=1.11.1 in /usr/local/lib/python3.6/dist-packages (from tensorflow==2.1.0) (1.12.1)\n",
            "Requirement already satisfied: gast==0.2.2 in /usr/local/lib/python3.6/dist-packages (from tensorflow==2.1.0) (0.2.2)\n",
            "Requirement already satisfied: opt-einsum>=2.3.2 in /usr/local/lib/python3.6/dist-packages (from tensorflow==2.1.0) (3.2.0)\n",
            "Requirement already satisfied: keras-applications>=1.0.8 in /usr/local/lib/python3.6/dist-packages (from tensorflow==2.1.0) (1.0.8)\n",
            "Requirement already satisfied: setuptools in /usr/local/lib/python3.6/dist-packages (from protobuf>=3.8.0->tensorflow==2.1.0) (46.0.0)\n",
            "Requirement already satisfied: markdown>=2.6.8 in /usr/local/lib/python3.6/dist-packages (from tensorboard<2.2.0,>=2.1.0->tensorflow==2.1.0) (3.2.1)\n",
            "Requirement already satisfied: requests<3,>=2.21.0 in /usr/local/lib/python3.6/dist-packages (from tensorboard<2.2.0,>=2.1.0->tensorflow==2.1.0) (2.21.0)\n",
            "Requirement already satisfied: werkzeug>=0.11.15 in /usr/local/lib/python3.6/dist-packages (from tensorboard<2.2.0,>=2.1.0->tensorflow==2.1.0) (1.0.0)\n",
            "Requirement already satisfied: google-auth<2,>=1.6.3 in /usr/local/lib/python3.6/dist-packages (from tensorboard<2.2.0,>=2.1.0->tensorflow==2.1.0) (1.7.2)\n",
            "Requirement already satisfied: google-auth-oauthlib<0.5,>=0.4.1 in /usr/local/lib/python3.6/dist-packages (from tensorboard<2.2.0,>=2.1.0->tensorflow==2.1.0) (0.4.1)\n",
            "Requirement already satisfied: h5py in /usr/local/lib/python3.6/dist-packages (from keras-applications>=1.0.8->tensorflow==2.1.0) (2.8.0)\n",
            "Requirement already satisfied: chardet<3.1.0,>=3.0.2 in /usr/local/lib/python3.6/dist-packages (from requests<3,>=2.21.0->tensorboard<2.2.0,>=2.1.0->tensorflow==2.1.0) (3.0.4)\n",
            "Requirement already satisfied: certifi>=2017.4.17 in /usr/local/lib/python3.6/dist-packages (from requests<3,>=2.21.0->tensorboard<2.2.0,>=2.1.0->tensorflow==2.1.0) (2019.11.28)\n",
            "Requirement already satisfied: idna<2.9,>=2.5 in /usr/local/lib/python3.6/dist-packages (from requests<3,>=2.21.0->tensorboard<2.2.0,>=2.1.0->tensorflow==2.1.0) (2.8)\n",
            "Requirement already satisfied: urllib3<1.25,>=1.21.1 in /usr/local/lib/python3.6/dist-packages (from requests<3,>=2.21.0->tensorboard<2.2.0,>=2.1.0->tensorflow==2.1.0) (1.24.3)\n",
            "Requirement already satisfied: rsa<4.1,>=3.1.4 in /usr/local/lib/python3.6/dist-packages (from google-auth<2,>=1.6.3->tensorboard<2.2.0,>=2.1.0->tensorflow==2.1.0) (4.0)\n",
            "Requirement already satisfied: cachetools<3.2,>=2.0.0 in /usr/local/lib/python3.6/dist-packages (from google-auth<2,>=1.6.3->tensorboard<2.2.0,>=2.1.0->tensorflow==2.1.0) (3.1.1)\n",
            "Requirement already satisfied: pyasn1-modules>=0.2.1 in /usr/local/lib/python3.6/dist-packages (from google-auth<2,>=1.6.3->tensorboard<2.2.0,>=2.1.0->tensorflow==2.1.0) (0.2.8)\n",
            "Requirement already satisfied: requests-oauthlib>=0.7.0 in /usr/local/lib/python3.6/dist-packages (from google-auth-oauthlib<0.5,>=0.4.1->tensorboard<2.2.0,>=2.1.0->tensorflow==2.1.0) (1.3.0)\n",
            "Requirement already satisfied: pyasn1>=0.1.3 in /usr/local/lib/python3.6/dist-packages (from rsa<4.1,>=3.1.4->google-auth<2,>=1.6.3->tensorboard<2.2.0,>=2.1.0->tensorflow==2.1.0) (0.4.8)\n",
            "Requirement already satisfied: oauthlib>=3.0.0 in /usr/local/lib/python3.6/dist-packages (from requests-oauthlib>=0.7.0->google-auth-oauthlib<0.5,>=0.4.1->tensorboard<2.2.0,>=2.1.0->tensorflow==2.1.0) (3.1.0)\n",
            "\u001b[31mERROR: tensorflow-federated 0.12.0 has requirement tensorflow-addons~=0.7.0, but you'll have tensorflow-addons 0.8.3 which is incompatible.\u001b[0m\n",
            "Installing collected packages: tensorflow-estimator, tensorboard, tensorflow\n",
            "  Found existing installation: tensorflow-estimator 1.15.1\n",
            "    Uninstalling tensorflow-estimator-1.15.1:\n",
            "      Successfully uninstalled tensorflow-estimator-1.15.1\n",
            "  Found existing installation: tensorboard 1.15.0\n",
            "    Uninstalling tensorboard-1.15.0:\n",
            "      Successfully uninstalled tensorboard-1.15.0\n",
            "  Found existing installation: tensorflow 1.15.0\n",
            "    Uninstalling tensorflow-1.15.0:\n",
            "      Successfully uninstalled tensorflow-1.15.0\n",
            "Successfully installed tensorboard-2.1.1 tensorflow-2.1.0 tensorflow-estimator-2.1.0\n"
          ],
          "name": "stdout"
        }
      ]
    },
    {
      "cell_type": "code",
      "metadata": {
        "id": "u7LA1PrPh7LC",
        "colab_type": "code",
        "outputId": "28ca6286-167f-428f-afd3-c4288fae774f",
        "colab": {
          "base_uri": "https://localhost:8080/",
          "height": 34
        }
      },
      "source": [
        "import tensorflow as tf\n",
        "import pandas as pd\n",
        "import tensorflow_hub as hub\n",
        "import os\n",
        "import re\n",
        "import numpy as np\n",
        "import pickle as pk\n",
        "import string\n",
        "import nltk\n",
        "from nltk.corpus import stopwords\n",
        "from nltk.corpus import wordnet\n",
        "from nltk import word_tokenize, pos_tag\n",
        "from nltk.stem import WordNetLemmatizer\n",
        "from tqdm import tqdm_notebook\n",
        "from collections import defaultdict\n",
        "from tensorflow.keras import backend as K\n",
        "from sklearn.model_selection import train_test_split\n",
        "import matplotlib.pyplot as plt\n",
        "from scipy import stats\n",
        "\n",
        "# Params for bert model and tokenization\n",
        "bert_path = \"https://tfhub.dev/google/bert_uncased_L-12_H-768_A-12/1\"\n",
        "\n",
        "tf.__version__"
      ],
      "execution_count": 2,
      "outputs": [
        {
          "output_type": "execute_result",
          "data": {
            "text/plain": [
              "'2.1.0'"
            ]
          },
          "metadata": {
            "tags": []
          },
          "execution_count": 2
        }
      ]
    },
    {
      "cell_type": "code",
      "metadata": {
        "id": "4WIsv69PjJka",
        "colab_type": "code",
        "outputId": "22d45a1c-1060-45ce-9982-8b2299d96096",
        "colab": {
          "base_uri": "https://localhost:8080/",
          "height": 187
        }
      },
      "source": [
        "nltk.download('wordnet')\n",
        "nltk.download('punkt')\n",
        "nltk.download('averaged_perceptron_tagger')\n",
        "nltk.download('stopwords')"
      ],
      "execution_count": 3,
      "outputs": [
        {
          "output_type": "stream",
          "text": [
            "[nltk_data] Downloading package wordnet to /root/nltk_data...\n",
            "[nltk_data]   Unzipping corpora/wordnet.zip.\n",
            "[nltk_data] Downloading package punkt to /root/nltk_data...\n",
            "[nltk_data]   Unzipping tokenizers/punkt.zip.\n",
            "[nltk_data] Downloading package averaged_perceptron_tagger to\n",
            "[nltk_data]     /root/nltk_data...\n",
            "[nltk_data]   Unzipping taggers/averaged_perceptron_tagger.zip.\n",
            "[nltk_data] Downloading package stopwords to /root/nltk_data...\n",
            "[nltk_data]   Unzipping corpora/stopwords.zip.\n"
          ],
          "name": "stdout"
        },
        {
          "output_type": "execute_result",
          "data": {
            "text/plain": [
              "True"
            ]
          },
          "metadata": {
            "tags": []
          },
          "execution_count": 3
        }
      ]
    },
    {
      "cell_type": "markdown",
      "metadata": {
        "id": "XjPLt0VIh7LL",
        "colab_type": "text"
      },
      "source": [
        "### Load Data - Latest Data Split - Blind"
      ]
    },
    {
      "cell_type": "code",
      "metadata": {
        "id": "_Q8PbnOFiYrj",
        "colab_type": "code",
        "outputId": "ad77dbd5-fcbd-4c83-9171-63ed85aa03a8",
        "colab": {
          "base_uri": "https://localhost:8080/",
          "height": 578
        }
      },
      "source": [
        "!wget https://raw.githubusercontent.com/harish-cu/tweet-url-relationships/master/data/temp/sampling_blind/latest/articles_train.csv\n",
        "!wget https://raw.githubusercontent.com/harish-cu/tweet-url-relationships/master/data/temp/sampling_blind/latest/articles_test.csv\n",
        "!wget https://raw.githubusercontent.com/harish-cu/tweet-url-relationships/master/data/processed/article_topics_6.csv"
      ],
      "execution_count": 4,
      "outputs": [
        {
          "output_type": "stream",
          "text": [
            "--2020-03-21 17:51:19--  https://raw.githubusercontent.com/harish-cu/tweet-url-relationships/master/data/temp/sampling_blind/latest/articles_train.csv\n",
            "Resolving raw.githubusercontent.com (raw.githubusercontent.com)... 151.101.0.133, 151.101.64.133, 151.101.128.133, ...\n",
            "Connecting to raw.githubusercontent.com (raw.githubusercontent.com)|151.101.0.133|:443... connected.\n",
            "HTTP request sent, awaiting response... 200 OK\n",
            "Length: 6523814 (6.2M) [text/plain]\n",
            "Saving to: ‘articles_train.csv’\n",
            "\n",
            "articles_train.csv  100%[===================>]   6.22M  15.0MB/s    in 0.4s    \n",
            "\n",
            "2020-03-21 17:51:21 (15.0 MB/s) - ‘articles_train.csv’ saved [6523814/6523814]\n",
            "\n",
            "--2020-03-21 17:51:22--  https://raw.githubusercontent.com/harish-cu/tweet-url-relationships/master/data/temp/sampling_blind/latest/articles_test.csv\n",
            "Resolving raw.githubusercontent.com (raw.githubusercontent.com)... 151.101.0.133, 151.101.64.133, 151.101.128.133, ...\n",
            "Connecting to raw.githubusercontent.com (raw.githubusercontent.com)|151.101.0.133|:443... connected.\n",
            "HTTP request sent, awaiting response... 200 OK\n",
            "Length: 1509129 (1.4M) [text/plain]\n",
            "Saving to: ‘articles_test.csv’\n",
            "\n",
            "articles_test.csv   100%[===================>]   1.44M  8.79MB/s    in 0.2s    \n",
            "\n",
            "2020-03-21 17:51:23 (8.79 MB/s) - ‘articles_test.csv’ saved [1509129/1509129]\n",
            "\n",
            "--2020-03-21 17:51:25--  https://raw.githubusercontent.com/harish-cu/tweet-url-relationships/master/data/processed/article_topics_6.csv\n",
            "Resolving raw.githubusercontent.com (raw.githubusercontent.com)... 151.101.0.133, 151.101.64.133, 151.101.128.133, ...\n",
            "Connecting to raw.githubusercontent.com (raw.githubusercontent.com)|151.101.0.133|:443... connected.\n",
            "HTTP request sent, awaiting response... 200 OK\n",
            "Length: 6035965 (5.8M) [text/plain]\n",
            "Saving to: ‘article_topics_6.csv’\n",
            "\n",
            "article_topics_6.cs 100%[===================>]   5.76M  15.5MB/s    in 0.4s    \n",
            "\n",
            "2020-03-21 17:51:27 (15.5 MB/s) - ‘article_topics_6.csv’ saved [6035965/6035965]\n",
            "\n"
          ],
          "name": "stdout"
        }
      ]
    },
    {
      "cell_type": "code",
      "metadata": {
        "id": "lfoPK5Zfh7LN",
        "colab_type": "code",
        "colab": {}
      },
      "source": [
        "data_train = pd.read_csv(\"articles_train.csv\")\n",
        "data_test = pd.read_csv(\"articles_test.csv\")\n",
        "data_topics = pd.read_csv(\"article_topics_6.csv\")"
      ],
      "execution_count": 0,
      "outputs": []
    },
    {
      "cell_type": "code",
      "metadata": {
        "scrolled": false,
        "id": "ljVs1smeh7LV",
        "colab_type": "code",
        "outputId": "bcd10613-c160-4bd2-9c5b-a89cb1e06d65",
        "colab": {
          "base_uri": "https://localhost:8080/",
          "height": 289
        }
      },
      "source": [
        "data_train.head()"
      ],
      "execution_count": 6,
      "outputs": [
        {
          "output_type": "execute_result",
          "data": {
            "text/html": [
              "<div>\n",
              "<style scoped>\n",
              "    .dataframe tbody tr th:only-of-type {\n",
              "        vertical-align: middle;\n",
              "    }\n",
              "\n",
              "    .dataframe tbody tr th {\n",
              "        vertical-align: top;\n",
              "    }\n",
              "\n",
              "    .dataframe thead th {\n",
              "        text-align: right;\n",
              "    }\n",
              "</style>\n",
              "<table border=\"1\" class=\"dataframe\">\n",
              "  <thead>\n",
              "    <tr style=\"text-align: right;\">\n",
              "      <th></th>\n",
              "      <th>content_id</th>\n",
              "      <th>month</th>\n",
              "      <th>day</th>\n",
              "      <th>year</th>\n",
              "      <th>date</th>\n",
              "      <th>content_source_desc</th>\n",
              "      <th>content_title_clean</th>\n",
              "      <th>content_body_clean</th>\n",
              "      <th>blind_mean_rating</th>\n",
              "      <th>blind_rating_count</th>\n",
              "      <th>blind_ratings</th>\n",
              "    </tr>\n",
              "  </thead>\n",
              "  <tbody>\n",
              "    <tr>\n",
              "      <th>0</th>\n",
              "      <td>2932</td>\n",
              "      <td>11</td>\n",
              "      <td>2</td>\n",
              "      <td>2017</td>\n",
              "      <td>2017-11-02</td>\n",
              "      <td>The New York Times</td>\n",
              "      <td>A Tax Cut That Lifts the Economy? Opinions Are...</td>\n",
              "      <td>Yet if the House plan resolves some longstandi...</td>\n",
              "      <td>3.177778</td>\n",
              "      <td>45</td>\n",
              "      <td>[4.5, 1.5, 0.5, 4.5, 1.0, 4.0, 3.5, 3.5, 1.5, ...</td>\n",
              "    </tr>\n",
              "    <tr>\n",
              "      <th>1</th>\n",
              "      <td>2870</td>\n",
              "      <td>11</td>\n",
              "      <td>1</td>\n",
              "      <td>2017</td>\n",
              "      <td>2017-11-01</td>\n",
              "      <td>Fox News</td>\n",
              "      <td>Tom Tancredo enters Colorado governor's race, ...</td>\n",
              "      <td>Former U.S. Rep. Tom Tancredo announced Tuesda...</td>\n",
              "      <td>2.375000</td>\n",
              "      <td>16</td>\n",
              "      <td>[3.5, 4.0, 3.0, 2.5, 0.5, 3.0, 0.5, 0.5, 4.5, ...</td>\n",
              "    </tr>\n",
              "    <tr>\n",
              "      <th>2</th>\n",
              "      <td>2869</td>\n",
              "      <td>11</td>\n",
              "      <td>1</td>\n",
              "      <td>2017</td>\n",
              "      <td>2017-11-01</td>\n",
              "      <td>The New York Times</td>\n",
              "      <td>Panel Recommends Opioid Solutions but Puts No ...</td>\n",
              "      <td>President Trump’s bipartisan commission on th...</td>\n",
              "      <td>3.916667</td>\n",
              "      <td>6</td>\n",
              "      <td>[5.0, 4.0, 4.5, 3.5, 2.0, 4.5]</td>\n",
              "    </tr>\n",
              "    <tr>\n",
              "      <th>3</th>\n",
              "      <td>2864</td>\n",
              "      <td>11</td>\n",
              "      <td>1</td>\n",
              "      <td>2017</td>\n",
              "      <td>2017-11-01</td>\n",
              "      <td>Fox News</td>\n",
              "      <td>Trump vows to end non merit-base immigration, ...</td>\n",
              "      <td>President Trump vowed Wednesday to scrap the f...</td>\n",
              "      <td>2.100000</td>\n",
              "      <td>5</td>\n",
              "      <td>[2.0, 2.5, 4.0, 0.5, 1.5]</td>\n",
              "    </tr>\n",
              "    <tr>\n",
              "      <th>4</th>\n",
              "      <td>2868</td>\n",
              "      <td>11</td>\n",
              "      <td>1</td>\n",
              "      <td>2017</td>\n",
              "      <td>2017-11-01</td>\n",
              "      <td>Breitbart</td>\n",
              "      <td>WATCH: Congress Holds Hearing on Banning Abort...</td>\n",
              "      <td>Congress will hold a hearing Wednesday on a bi...</td>\n",
              "      <td>2.428571</td>\n",
              "      <td>21</td>\n",
              "      <td>[2.0, 1.0, 0.5, 1.0, 3.5, 5.0, 2.0, 0.5, 2.5, ...</td>\n",
              "    </tr>\n",
              "  </tbody>\n",
              "</table>\n",
              "</div>"
            ],
            "text/plain": [
              "   content_id  ...                                      blind_ratings\n",
              "0        2932  ...  [4.5, 1.5, 0.5, 4.5, 1.0, 4.0, 3.5, 3.5, 1.5, ...\n",
              "1        2870  ...  [3.5, 4.0, 3.0, 2.5, 0.5, 3.0, 0.5, 0.5, 4.5, ...\n",
              "2        2869  ...                     [5.0, 4.0, 4.5, 3.5, 2.0, 4.5]\n",
              "3        2864  ...                          [2.0, 2.5, 4.0, 0.5, 1.5]\n",
              "4        2868  ...  [2.0, 1.0, 0.5, 1.0, 3.5, 5.0, 2.0, 0.5, 2.5, ...\n",
              "\n",
              "[5 rows x 11 columns]"
            ]
          },
          "metadata": {
            "tags": []
          },
          "execution_count": 6
        }
      ]
    },
    {
      "cell_type": "code",
      "metadata": {
        "id": "kqTLhtyTh7Ld",
        "colab_type": "code",
        "colab": {}
      },
      "source": [
        "#clean data\n",
        "def clean_data(text):\n",
        "    #remove punctuation, digits, extra stuff. make lowercase\n",
        "    text = text.lower()\n",
        "    text = re.sub('\\[.*?\\]', '', text)\n",
        "    text = re.sub('[%s]' % re.escape(string.punctuation), '', text)\n",
        "    text = re.sub('\\w*\\d\\w*', '', text)\n",
        "    text = re.sub('[‘’“”…]', '', text)\n",
        "    #lemma it - include POS tag in order to lemma it better\n",
        "    tag_map = defaultdict(lambda : wordnet.NOUN)\n",
        "    tag_map['J'] = wordnet.ADJ\n",
        "    tag_map['V'] = wordnet.VERB\n",
        "    tag_map['R'] = wordnet.ADV\n",
        "    lemmatizer = WordNetLemmatizer()\n",
        "    textTokens = word_tokenize(text)\n",
        "    #remove stopwords\n",
        "    word_tokens_nostop = [w for w in textTokens if not w in stopwords.words('english')] \n",
        "    #now lemma\n",
        "    text = [lemmatizer.lemmatize(tok, tag_map[tag[0]]) for tok, tag in pos_tag(word_tokens_nostop)]\n",
        "    return \" \".join(text)"
      ],
      "execution_count": 0,
      "outputs": []
    },
    {
      "cell_type": "markdown",
      "metadata": {
        "id": "nuMlrQk8h7Lj",
        "colab_type": "text"
      },
      "source": [
        "### Get clean body"
      ]
    },
    {
      "cell_type": "code",
      "metadata": {
        "id": "8YD8Ptykh7Ll",
        "colab_type": "code",
        "colab": {}
      },
      "source": [
        "clean_body_train = data_train[\"content_body_clean\"].apply(clean_data)\n",
        "y_train = data_train['blind_mean_rating']\n",
        "\n",
        "clean_body_test = data_test[\"content_body_clean\"].apply(clean_data)\n",
        "y_test = data_test['blind_mean_rating']"
      ],
      "execution_count": 0,
      "outputs": []
    },
    {
      "cell_type": "code",
      "metadata": {
        "id": "1inwDo-TEkmr",
        "colab_type": "code",
        "colab": {}
      },
      "source": [
        "source_train = pd.get_dummies(data_train['content_source_desc'])\n",
        "source_test = pd.get_dummies(data_test['content_source_desc'])"
      ],
      "execution_count": 0,
      "outputs": []
    },
    {
      "cell_type": "code",
      "metadata": {
        "id": "I615oN4MRtFV",
        "colab_type": "code",
        "outputId": "340fcbff-ffc6-42a1-cce0-d58dfd27a2b1",
        "colab": {
          "base_uri": "https://localhost:8080/",
          "height": 34
        }
      },
      "source": [
        "source_train.shape"
      ],
      "execution_count": 10,
      "outputs": [
        {
          "output_type": "execute_result",
          "data": {
            "text/plain": [
              "(1301, 7)"
            ]
          },
          "metadata": {
            "tags": []
          },
          "execution_count": 10
        }
      ]
    },
    {
      "cell_type": "code",
      "metadata": {
        "id": "JWQTv8scPFu3",
        "colab_type": "code",
        "colab": {}
      },
      "source": [
        "topics_train = pd.DataFrame(columns=['topic'])\n",
        "for index, row in data_train.iterrows():\n",
        "  topics_train = topics_train.append({'topic':data_topics[data_topics['content_id']==row['content_id']]['topic'].values[0]}, ignore_index=True)\n",
        "topics_test = pd.DataFrame(columns=['topic'])\n",
        "for index, row in data_test.iterrows():\n",
        "  topics_test = topics_test.append({'topic':data_topics[data_topics['content_id']==row['content_id']]['topic'].values[0]}, ignore_index=True)"
      ],
      "execution_count": 0,
      "outputs": []
    },
    {
      "cell_type": "code",
      "metadata": {
        "id": "pPxnYkw5PFyi",
        "colab_type": "code",
        "colab": {}
      },
      "source": [
        "topic_train = pd.get_dummies(topics_train['topic'])\n",
        "topic_test = pd.get_dummies(topics_test['topic'])"
      ],
      "execution_count": 0,
      "outputs": []
    },
    {
      "cell_type": "code",
      "metadata": {
        "id": "eotR-ApaPFsf",
        "colab_type": "code",
        "outputId": "38fbeac2-6e7b-4540-d926-a8e226cee167",
        "colab": {
          "base_uri": "https://localhost:8080/",
          "height": 204
        }
      },
      "source": [
        "topic_train.head()"
      ],
      "execution_count": 13,
      "outputs": [
        {
          "output_type": "execute_result",
          "data": {
            "text/html": [
              "<div>\n",
              "<style scoped>\n",
              "    .dataframe tbody tr th:only-of-type {\n",
              "        vertical-align: middle;\n",
              "    }\n",
              "\n",
              "    .dataframe tbody tr th {\n",
              "        vertical-align: top;\n",
              "    }\n",
              "\n",
              "    .dataframe thead th {\n",
              "        text-align: right;\n",
              "    }\n",
              "</style>\n",
              "<table border=\"1\" class=\"dataframe\">\n",
              "  <thead>\n",
              "    <tr style=\"text-align: right;\">\n",
              "      <th></th>\n",
              "      <th>Economy</th>\n",
              "      <th>Policy</th>\n",
              "      <th>Politics</th>\n",
              "      <th>Public Health</th>\n",
              "      <th>Scandal</th>\n",
              "      <th>Technology</th>\n",
              "    </tr>\n",
              "  </thead>\n",
              "  <tbody>\n",
              "    <tr>\n",
              "      <th>0</th>\n",
              "      <td>0</td>\n",
              "      <td>1</td>\n",
              "      <td>0</td>\n",
              "      <td>0</td>\n",
              "      <td>0</td>\n",
              "      <td>0</td>\n",
              "    </tr>\n",
              "    <tr>\n",
              "      <th>1</th>\n",
              "      <td>0</td>\n",
              "      <td>0</td>\n",
              "      <td>1</td>\n",
              "      <td>0</td>\n",
              "      <td>0</td>\n",
              "      <td>0</td>\n",
              "    </tr>\n",
              "    <tr>\n",
              "      <th>2</th>\n",
              "      <td>0</td>\n",
              "      <td>0</td>\n",
              "      <td>0</td>\n",
              "      <td>1</td>\n",
              "      <td>0</td>\n",
              "      <td>0</td>\n",
              "    </tr>\n",
              "    <tr>\n",
              "      <th>3</th>\n",
              "      <td>0</td>\n",
              "      <td>0</td>\n",
              "      <td>1</td>\n",
              "      <td>0</td>\n",
              "      <td>0</td>\n",
              "      <td>0</td>\n",
              "    </tr>\n",
              "    <tr>\n",
              "      <th>4</th>\n",
              "      <td>0</td>\n",
              "      <td>0</td>\n",
              "      <td>0</td>\n",
              "      <td>0</td>\n",
              "      <td>1</td>\n",
              "      <td>0</td>\n",
              "    </tr>\n",
              "  </tbody>\n",
              "</table>\n",
              "</div>"
            ],
            "text/plain": [
              "   Economy  Policy  Politics  Public Health  Scandal  Technology\n",
              "0        0       1         0              0        0           0\n",
              "1        0       0         1              0        0           0\n",
              "2        0       0         0              1        0           0\n",
              "3        0       0         1              0        0           0\n",
              "4        0       0         0              0        1           0"
            ]
          },
          "metadata": {
            "tags": []
          },
          "execution_count": 13
        }
      ]
    },
    {
      "cell_type": "markdown",
      "metadata": {
        "id": "lPkA44LOh7Lw",
        "colab_type": "text"
      },
      "source": [
        "### Split train and val"
      ]
    },
    {
      "cell_type": "code",
      "metadata": {
        "id": "v4yhPWPfh7Ly",
        "colab_type": "code",
        "colab": {}
      },
      "source": [
        "X_train, X_val, y_train_t, y_val, source_train_t, source_val, topic_train_t, topic_val = train_test_split(clean_body_train, y_train, source_train, topic_train, \n",
        "                                                                                                          test_size=0.15, shuffle=True, random_state=3)"
      ],
      "execution_count": 0,
      "outputs": []
    },
    {
      "cell_type": "code",
      "metadata": {
        "id": "wRcCyE65h7L2",
        "colab_type": "code",
        "colab": {}
      },
      "source": [
        "y_train_std = np.array(list(y_train_t))\n",
        "y_val_std = np.array(list(y_val))\n",
        "y_test_std = np.array(list(y_test))"
      ],
      "execution_count": 0,
      "outputs": []
    },
    {
      "cell_type": "markdown",
      "metadata": {
        "id": "f_fK6XDAh7L_",
        "colab_type": "text"
      },
      "source": [
        "### Word2Vec Embeddings"
      ]
    },
    {
      "cell_type": "code",
      "metadata": {
        "id": "BLUb7s6ih7MA",
        "colab_type": "code",
        "colab": {}
      },
      "source": [
        "EMBED_DIM = 64"
      ],
      "execution_count": 0,
      "outputs": []
    },
    {
      "cell_type": "code",
      "metadata": {
        "id": "jxLTYVQNh7MF",
        "colab_type": "code",
        "colab": {}
      },
      "source": [
        "train_body = []\n",
        "articles = list(clean_body_train)\n",
        "\n",
        "for article in articles:\n",
        "    art_tokens = word_tokenize(article)\n",
        "    train_body.append(art_tokens)"
      ],
      "execution_count": 0,
      "outputs": []
    },
    {
      "cell_type": "code",
      "metadata": {
        "id": "pDv_oADth7MJ",
        "colab_type": "code",
        "outputId": "0a6a6ec9-53fa-4763-cfcd-4639617ca7b4",
        "colab": {
          "base_uri": "https://localhost:8080/",
          "height": 34
        }
      },
      "source": [
        "len(train_body)"
      ],
      "execution_count": 18,
      "outputs": [
        {
          "output_type": "execute_result",
          "data": {
            "text/plain": [
              "1301"
            ]
          },
          "metadata": {
            "tags": []
          },
          "execution_count": 18
        }
      ]
    },
    {
      "cell_type": "code",
      "metadata": {
        "id": "pNU6CGaph7MP",
        "colab_type": "code",
        "outputId": "0fd2eb44-e252-4eb6-8087-1b28d26868c4",
        "colab": {
          "base_uri": "https://localhost:8080/",
          "height": 34
        }
      },
      "source": [
        "import gensim\n",
        "\n",
        "# train word2vec model\n",
        "modelw2 = gensim.models.Word2Vec(sentences=train_body, size=EMBED_DIM, window=5, workers=4, min_count=1)\n",
        "# vocab size\n",
        "total_words = list(modelw2.wv.vocab)\n",
        "print(\"Vocab size\",len(total_words))"
      ],
      "execution_count": 19,
      "outputs": [
        {
          "output_type": "stream",
          "text": [
            "Vocab size 29377\n"
          ],
          "name": "stdout"
        }
      ]
    },
    {
      "cell_type": "code",
      "metadata": {
        "id": "h0THCAQyh7MU",
        "colab_type": "code",
        "outputId": "1b418bd9-e911-4c6e-fb2e-47a91225f51c",
        "colab": {
          "base_uri": "https://localhost:8080/",
          "height": 241
        }
      },
      "source": [
        "modelw2.wv.most_similar('president')"
      ],
      "execution_count": 20,
      "outputs": [
        {
          "output_type": "stream",
          "text": [
            "/usr/local/lib/python3.6/dist-packages/gensim/matutils.py:737: FutureWarning: Conversion of the second argument of issubdtype from `int` to `np.signedinteger` is deprecated. In future, it will be treated as `np.int64 == np.dtype(int).type`.\n",
            "  if np.issubdtype(vec.dtype, np.int):\n"
          ],
          "name": "stderr"
        },
        {
          "output_type": "execute_result",
          "data": {
            "text/plain": [
              "[('donald', 0.9596737623214722),\n",
              " ('barack', 0.9400345683097839),\n",
              " ('realdonaldtrump', 0.9392275214195251),\n",
              " ('obama', 0.9374566078186035),\n",
              " ('mr', 0.9373486042022705),\n",
              " ('bush', 0.9371553063392639),\n",
              " ('vice', 0.9319814443588257),\n",
              " ('antidonald', 0.9299906492233276),\n",
              " ('j', 0.9289090037345886),\n",
              " ('affront', 0.9285231232643127)]"
            ]
          },
          "metadata": {
            "tags": []
          },
          "execution_count": 20
        }
      ]
    },
    {
      "cell_type": "code",
      "metadata": {
        "id": "wvUm_HGLh7MZ",
        "colab_type": "code",
        "outputId": "ca564f49-895b-4620-e66e-78ac02e1887b",
        "colab": {
          "base_uri": "https://localhost:8080/",
          "height": 187
        }
      },
      "source": [
        "modelw2.wv.most_similar_cosmul(positive=['health','president'], negative=['trump'])"
      ],
      "execution_count": 21,
      "outputs": [
        {
          "output_type": "execute_result",
          "data": {
            "text/plain": [
              "[('afloat', 0.9692410230636597),\n",
              " ('affordable', 0.9654821753501892),\n",
              " ('stafford', 0.965343177318573),\n",
              " ('act', 0.9603307247161865),\n",
              " ('acaenshrined', 0.9584110975265503),\n",
              " ('public', 0.9494709372520447),\n",
              " ('care', 0.9457381367683411),\n",
              " ('danita', 0.9419082999229431),\n",
              " ('talento', 0.934397280216217),\n",
              " ('singlepayer', 0.9314714670181274)]"
            ]
          },
          "metadata": {
            "tags": []
          },
          "execution_count": 21
        }
      ]
    },
    {
      "cell_type": "code",
      "metadata": {
        "id": "lyouo1Rkh7Mf",
        "colab_type": "code",
        "outputId": "206d035f-0eb9-4e46-fa89-46894cbff8d7",
        "colab": {
          "base_uri": "https://localhost:8080/",
          "height": 71
        }
      },
      "source": [
        "modelw2.wv.save_word2vec_format('word2vec_embed.txt',binary=False)"
      ],
      "execution_count": 22,
      "outputs": [
        {
          "output_type": "stream",
          "text": [
            "/usr/local/lib/python3.6/dist-packages/smart_open/smart_open_lib.py:410: UserWarning: This function is deprecated, use smart_open.open instead. See the migration notes for details: https://github.com/RaRe-Technologies/smart_open/blob/master/README.rst#migrating-to-the-new-open-function\n",
            "  'See the migration notes for details: %s' % _MIGRATION_NOTES_URL\n"
          ],
          "name": "stderr"
        }
      ]
    },
    {
      "cell_type": "code",
      "metadata": {
        "id": "QRV05aHVh7Mj",
        "colab_type": "code",
        "colab": {}
      },
      "source": [
        "embeddings_index = {}\n",
        "f = open(os.path.join('','word2vec_embed.txt'), encoding=\"utf-8\")\n",
        "for line in f:\n",
        "    values = line.split()\n",
        "    word = values[0]\n",
        "    coefs = np.asarray(values[1:])\n",
        "    embeddings_index[word] = coefs\n",
        "f.close()"
      ],
      "execution_count": 0,
      "outputs": []
    },
    {
      "cell_type": "markdown",
      "metadata": {
        "id": "-wu2j_cFh7Mp",
        "colab_type": "text"
      },
      "source": [
        "### Tokenize, Sequence, Pad"
      ]
    },
    {
      "cell_type": "code",
      "metadata": {
        "id": "UDXAD_Z1h7Mr",
        "colab_type": "code",
        "outputId": "9553a3d4-eda3-446e-a88c-b8baaf95d5aa",
        "colab": {
          "base_uri": "https://localhost:8080/",
          "height": 34
        }
      },
      "source": [
        "VOCAB_SIZE = 29377\n",
        "\n",
        "tokenizer = tf.keras.preprocessing.text.Tokenizer(num_words=VOCAB_SIZE)\n",
        "tokenizer.fit_on_texts(clean_body_train)\n",
        "\n",
        "# Note, the tokenizer's word_index will not respect VOCAB_SIZE.\n",
        "# but, that parameter will be respected in later methods,\n",
        "# (for example, when you call text_to_sequences).\n",
        "# Also note that '0' is a reserved index for padding.\n",
        "word_index = tokenizer.word_index\n",
        "print(\"Word index\", len(word_index))"
      ],
      "execution_count": 24,
      "outputs": [
        {
          "output_type": "stream",
          "text": [
            "Word index 29377\n"
          ],
          "name": "stdout"
        }
      ]
    },
    {
      "cell_type": "code",
      "metadata": {
        "id": "Xs-9pRvkh7Mu",
        "colab_type": "code",
        "colab": {}
      },
      "source": [
        "# Use the texts_to_sequences utility to vectorize your training, \n",
        "# validation, and test questions. \n",
        "sequences_train = tokenizer.texts_to_sequences(X_train)\n",
        "sequences_val = tokenizer.texts_to_sequences(X_val)\n",
        "sequences_test = tokenizer.texts_to_sequences(clean_body_test)"
      ],
      "execution_count": 0,
      "outputs": []
    },
    {
      "cell_type": "markdown",
      "metadata": {
        "id": "iAQ--Bbgh7My",
        "colab_type": "text"
      },
      "source": [
        "### Choose max sequence length"
      ]
    },
    {
      "cell_type": "code",
      "metadata": {
        "id": "oXLtCazWh7M0",
        "colab_type": "code",
        "outputId": "3b31bac4-e4c7-4fa2-ff29-1bfab5227c86",
        "colab": {
          "base_uri": "https://localhost:8080/",
          "height": 85
        }
      },
      "source": [
        "train_word_lengths = []\n",
        "for w in sequences_train:\n",
        "    train_word_lengths.append(len(w))\n",
        "words_length = np.array(train_word_lengths)\n",
        "\n",
        "print(\"# of Words in the 90 percentile:\",np.percentile(words_length, 90))\n",
        "print(\"# of Words in the 95 percentile:\",np.percentile(words_length, 95))\n",
        "print(\"# of Words in the 99 percentile:\",np.percentile(words_length, 99))\n",
        "print(\"# of Words in the 100 percentile:\",np.percentile(words_length, 100))"
      ],
      "execution_count": 26,
      "outputs": [
        {
          "output_type": "stream",
          "text": [
            "# of Words in the 90 percentile: 764.6\n",
            "# of Words in the 95 percentile: 1103.6\n",
            "# of Words in the 99 percentile: 1894.2000000000035\n",
            "# of Words in the 100 percentile: 9317.0\n"
          ],
          "name": "stdout"
        }
      ]
    },
    {
      "cell_type": "code",
      "metadata": {
        "id": "TiRR-EPIh7M3",
        "colab_type": "code",
        "colab": {}
      },
      "source": [
        "MAX_SEQ_LEN = 2000"
      ],
      "execution_count": 0,
      "outputs": []
    },
    {
      "cell_type": "markdown",
      "metadata": {
        "id": "-LNVgOD4h7M6",
        "colab_type": "text"
      },
      "source": [
        "### Pad"
      ]
    },
    {
      "cell_type": "code",
      "metadata": {
        "id": "PyCj7LXFh7M7",
        "colab_type": "code",
        "colab": {}
      },
      "source": [
        "padded_train = tf.keras.preprocessing.sequence.pad_sequences(sequences_train, maxlen=MAX_SEQ_LEN)\n",
        "padded_val = tf.keras.preprocessing.sequence.pad_sequences(sequences_val, maxlen=MAX_SEQ_LEN)\n",
        "padded_test = tf.keras.preprocessing.sequence.pad_sequences(sequences_test, maxlen=MAX_SEQ_LEN)"
      ],
      "execution_count": 0,
      "outputs": []
    },
    {
      "cell_type": "code",
      "metadata": {
        "id": "DFBrdSvvh7M-",
        "colab_type": "code",
        "outputId": "9be1dc50-c9e9-4e36-e373-169201da9f81",
        "colab": {
          "base_uri": "https://localhost:8080/",
          "height": 34
        }
      },
      "source": [
        "len(padded_train[0])"
      ],
      "execution_count": 29,
      "outputs": [
        {
          "output_type": "execute_result",
          "data": {
            "text/plain": [
              "2000"
            ]
          },
          "metadata": {
            "tags": []
          },
          "execution_count": 29
        }
      ]
    },
    {
      "cell_type": "markdown",
      "metadata": {
        "id": "gPlmYzkJh7NB",
        "colab_type": "text"
      },
      "source": [
        "### Map embeddings to tokenizer"
      ]
    },
    {
      "cell_type": "code",
      "metadata": {
        "id": "4m5puA__h7ND",
        "colab_type": "code",
        "colab": {}
      },
      "source": [
        "num_words = len(word_index) + 1\n",
        "embedding_matrix = np.zeros((num_words,EMBED_DIM))\n",
        "\n",
        "for word, i in word_index.items():\n",
        "    if i > num_words:\n",
        "        continue\n",
        "    embedding_vector = embeddings_index.get(word)\n",
        "    if embedding_vector is not None:\n",
        "        # words not found in embedding index will be 0s\n",
        "        embedding_matrix[i] = embedding_vector"
      ],
      "execution_count": 0,
      "outputs": []
    },
    {
      "cell_type": "markdown",
      "metadata": {
        "id": "Nn5cwloDh7NH",
        "colab_type": "text"
      },
      "source": [
        "### Initial LSTM model"
      ]
    },
    {
      "cell_type": "code",
      "metadata": {
        "id": "OMw3yK1Vh7NJ",
        "colab_type": "code",
        "colab": {}
      },
      "source": [
        "from tensorflow.keras.layers import Dense, Embedding, Flatten, Input, LSTM, GRU, Bidirectional, Dropout\n",
        "#from tensorflow.keras.layers.embeddings import Embedding\n",
        "from tensorflow.keras.models import Model, Sequential\n",
        "from tensorflow.keras.initializers import Constant"
      ],
      "execution_count": 0,
      "outputs": []
    },
    {
      "cell_type": "code",
      "metadata": {
        "id": "ES-08PE5h7NO",
        "colab_type": "code",
        "outputId": "5f10265e-f93a-4816-e2f5-9a02efb96043",
        "colab": {
          "base_uri": "https://localhost:8080/",
          "height": 360
        }
      },
      "source": [
        "model = Sequential()\n",
        "embedding_layer = Embedding(input_dim=num_words,\n",
        "                            output_dim=EMBED_DIM,\n",
        "                            embeddings_initializer=Constant(embedding_matrix),\n",
        "                            input_length=MAX_SEQ_LEN,\n",
        "                            trainable=False\n",
        "                           )\n",
        "model.add(embedding_layer)\n",
        "#model.add(Flatten())\n",
        "model.add(Bidirectional(LSTM(64)))\n",
        "#model.add(GRU(units=32, dropout=0.2, recurrent_dropout=0.2))\n",
        "model.add(Dense(64, activation=\"relu\"))\n",
        "model.add(Dropout(0.2))\n",
        "model.add(Dense(1, activation=None))\n",
        "\n",
        "model.summary()\n",
        "\n",
        "\"\"\"[\n",
        "    tf.keras.layers.Embedding(input_dim=VOCAB_SIZE, output_dim=64, input_length=MAX_SEQ_LEN),\n",
        "    tf.keras.layers.Bidirectional(tf.keras.layers.LSTM(64)),\n",
        "    tf.keras.layers.Dense(64, activation=\"relu\"),\n",
        "    tf.keras.layers.Dense(1, activation=\"sigmoid\")\n",
        "]\"\"\""
      ],
      "execution_count": 65,
      "outputs": [
        {
          "output_type": "stream",
          "text": [
            "Model: \"sequential_1\"\n",
            "_________________________________________________________________\n",
            "Layer (type)                 Output Shape              Param #   \n",
            "=================================================================\n",
            "embedding_5 (Embedding)      (None, 2000, 64)          1880192   \n",
            "_________________________________________________________________\n",
            "bidirectional_6 (Bidirection (None, 128)               66048     \n",
            "_________________________________________________________________\n",
            "dense_11 (Dense)             (None, 64)                8256      \n",
            "_________________________________________________________________\n",
            "dropout_6 (Dropout)          (None, 64)                0         \n",
            "_________________________________________________________________\n",
            "dense_12 (Dense)             (None, 1)                 65        \n",
            "=================================================================\n",
            "Total params: 1,954,561\n",
            "Trainable params: 74,369\n",
            "Non-trainable params: 1,880,192\n",
            "_________________________________________________________________\n"
          ],
          "name": "stdout"
        },
        {
          "output_type": "execute_result",
          "data": {
            "text/plain": [
              "'[\\n    tf.keras.layers.Embedding(input_dim=VOCAB_SIZE, output_dim=64, input_length=MAX_SEQ_LEN),\\n    tf.keras.layers.Bidirectional(tf.keras.layers.LSTM(64)),\\n    tf.keras.layers.Dense(64, activation=\"relu\"),\\n    tf.keras.layers.Dense(1, activation=\"sigmoid\")\\n]'"
            ]
          },
          "metadata": {
            "tags": []
          },
          "execution_count": 65
        }
      ]
    },
    {
      "cell_type": "code",
      "metadata": {
        "id": "aM5Cp5Rbh7NV",
        "colab_type": "code",
        "colab": {}
      },
      "source": [
        "model.compile(loss='mse', optimizer='adam', metrics=['mse'])\n",
        "\n",
        "earlyStopping = tf.keras.callbacks.EarlyStopping(monitor='val_mse', patience=11, verbose=0, mode='min')\n",
        "cp_save = tf.keras.callbacks.ModelCheckpoint('model-e{epoch:03d}.ckpt', \n",
        "                                             save_best_only=False, monitor='val_mse', mode='min')"
      ],
      "execution_count": 0,
      "outputs": []
    },
    {
      "cell_type": "code",
      "metadata": {
        "id": "cD4NhOp6s3Gf",
        "colab_type": "code",
        "colab": {}
      },
      "source": [
        "!rm -rf 'model-e001.ckpt'\n",
        "!rm -rf 'model-e002.ckpt'\n",
        "!rm -rf 'model-e003.ckpt'\n",
        "!rm -rf 'model-e004.ckpt'\n",
        "!rm -rf 'model-e005.ckpt'\n",
        "!rm -rf 'model-e006.ckpt'\n",
        "!rm -rf 'model-e007.ckpt'\n",
        "!rm -rf 'model-e008.ckpt'\n",
        "!rm -rf 'model-e009.ckpt'\n",
        "!rm -rf 'model-e010.ckpt'\n",
        "!rm -rf 'model-e011.ckpt'\n",
        "!rm -rf 'model-e012.ckpt'\n",
        "!rm -rf 'model-e013.ckpt'\n",
        "!rm -rf 'model-e014.ckpt'\n",
        "!rm -rf 'model-e015.ckpt'\n",
        "!rm -rf 'model-e016.ckpt'\n",
        "!rm -rf 'model-e017.ckpt'"
      ],
      "execution_count": 0,
      "outputs": []
    },
    {
      "cell_type": "code",
      "metadata": {
        "id": "CtdysyFSh7NY",
        "colab_type": "code",
        "outputId": "6c4e3de3-e39e-41d2-c37b-84cd11c6edb0",
        "colab": {
          "base_uri": "https://localhost:8080/",
          "height": 1000
        }
      },
      "source": [
        "history = model.fit(padded_train, y_train_std, \n",
        "                     epochs=100, \n",
        "                     verbose=2, \n",
        "                     callbacks=[earlyStopping, cp_save],\n",
        "                     validation_data=(padded_val,y_val_std))"
      ],
      "execution_count": 67,
      "outputs": [
        {
          "output_type": "stream",
          "text": [
            "Train on 1105 samples, validate on 196 samples\n",
            "Epoch 1/100\n",
            "INFO:tensorflow:Assets written to: model-e001.ckpt/assets\n",
            "1105/1105 - 28s - loss: 2.3489 - mse: 2.3489 - val_loss: 0.6754 - val_mse: 0.6754\n",
            "Epoch 2/100\n",
            "INFO:tensorflow:Assets written to: model-e002.ckpt/assets\n",
            "1105/1105 - 24s - loss: 0.9913 - mse: 0.9913 - val_loss: 0.6517 - val_mse: 0.6517\n",
            "Epoch 3/100\n",
            "INFO:tensorflow:Assets written to: model-e003.ckpt/assets\n",
            "1105/1105 - 26s - loss: 0.9516 - mse: 0.9516 - val_loss: 0.6488 - val_mse: 0.6488\n",
            "Epoch 4/100\n",
            "INFO:tensorflow:Assets written to: model-e004.ckpt/assets\n",
            "1105/1105 - 26s - loss: 0.9625 - mse: 0.9625 - val_loss: 0.6316 - val_mse: 0.6316\n",
            "Epoch 5/100\n",
            "INFO:tensorflow:Assets written to: model-e005.ckpt/assets\n",
            "1105/1105 - 25s - loss: 0.9426 - mse: 0.9426 - val_loss: 0.6355 - val_mse: 0.6355\n",
            "Epoch 6/100\n",
            "INFO:tensorflow:Assets written to: model-e006.ckpt/assets\n",
            "1105/1105 - 26s - loss: 0.9038 - mse: 0.9038 - val_loss: 0.7236 - val_mse: 0.7236\n",
            "Epoch 7/100\n",
            "INFO:tensorflow:Assets written to: model-e007.ckpt/assets\n",
            "1105/1105 - 24s - loss: 0.9349 - mse: 0.9349 - val_loss: 0.6490 - val_mse: 0.6490\n",
            "Epoch 8/100\n",
            "INFO:tensorflow:Assets written to: model-e008.ckpt/assets\n",
            "1105/1105 - 26s - loss: 0.9265 - mse: 0.9265 - val_loss: 0.6235 - val_mse: 0.6235\n",
            "Epoch 9/100\n",
            "INFO:tensorflow:Assets written to: model-e009.ckpt/assets\n",
            "1105/1105 - 26s - loss: 0.8672 - mse: 0.8672 - val_loss: 0.6249 - val_mse: 0.6249\n",
            "Epoch 10/100\n",
            "INFO:tensorflow:Assets written to: model-e010.ckpt/assets\n",
            "1105/1105 - 25s - loss: 0.8733 - mse: 0.8733 - val_loss: 0.6538 - val_mse: 0.6538\n",
            "Epoch 11/100\n",
            "INFO:tensorflow:Assets written to: model-e011.ckpt/assets\n",
            "1105/1105 - 26s - loss: 0.8227 - mse: 0.8227 - val_loss: 0.6765 - val_mse: 0.6765\n",
            "Epoch 12/100\n",
            "INFO:tensorflow:Assets written to: model-e012.ckpt/assets\n",
            "1105/1105 - 26s - loss: 0.8733 - mse: 0.8733 - val_loss: 0.6108 - val_mse: 0.6108\n",
            "Epoch 13/100\n",
            "INFO:tensorflow:Assets written to: model-e013.ckpt/assets\n",
            "1105/1105 - 25s - loss: 0.8629 - mse: 0.8629 - val_loss: 0.6236 - val_mse: 0.6236\n",
            "Epoch 14/100\n",
            "INFO:tensorflow:Assets written to: model-e014.ckpt/assets\n",
            "1105/1105 - 26s - loss: 0.8331 - mse: 0.8331 - val_loss: 0.6232 - val_mse: 0.6232\n",
            "Epoch 15/100\n",
            "INFO:tensorflow:Assets written to: model-e015.ckpt/assets\n",
            "1105/1105 - 26s - loss: 0.8393 - mse: 0.8393 - val_loss: 0.6584 - val_mse: 0.6584\n",
            "Epoch 16/100\n",
            "INFO:tensorflow:Assets written to: model-e016.ckpt/assets\n",
            "1105/1105 - 24s - loss: 0.8177 - mse: 0.8177 - val_loss: 0.6821 - val_mse: 0.6821\n",
            "Epoch 17/100\n",
            "INFO:tensorflow:Assets written to: model-e017.ckpt/assets\n",
            "1105/1105 - 26s - loss: 0.8557 - mse: 0.8557 - val_loss: 0.6283 - val_mse: 0.6283\n",
            "Epoch 18/100\n",
            "INFO:tensorflow:Assets written to: model-e018.ckpt/assets\n",
            "1105/1105 - 25s - loss: 0.8130 - mse: 0.8130 - val_loss: 0.6082 - val_mse: 0.6082\n",
            "Epoch 19/100\n",
            "INFO:tensorflow:Assets written to: model-e019.ckpt/assets\n",
            "1105/1105 - 26s - loss: 0.8086 - mse: 0.8086 - val_loss: 0.6297 - val_mse: 0.6297\n",
            "Epoch 20/100\n",
            "INFO:tensorflow:Assets written to: model-e020.ckpt/assets\n",
            "1105/1105 - 26s - loss: 0.8076 - mse: 0.8076 - val_loss: 0.6308 - val_mse: 0.6308\n",
            "Epoch 21/100\n",
            "INFO:tensorflow:Assets written to: model-e021.ckpt/assets\n",
            "1105/1105 - 24s - loss: 0.7936 - mse: 0.7936 - val_loss: 0.6684 - val_mse: 0.6684\n",
            "Epoch 22/100\n",
            "INFO:tensorflow:Assets written to: model-e022.ckpt/assets\n",
            "1105/1105 - 26s - loss: 0.8048 - mse: 0.8048 - val_loss: 0.6059 - val_mse: 0.6059\n",
            "Epoch 23/100\n",
            "INFO:tensorflow:Assets written to: model-e023.ckpt/assets\n",
            "1105/1105 - 26s - loss: 0.7889 - mse: 0.7889 - val_loss: 0.6314 - val_mse: 0.6314\n",
            "Epoch 24/100\n",
            "INFO:tensorflow:Assets written to: model-e024.ckpt/assets\n",
            "1105/1105 - 24s - loss: 0.7880 - mse: 0.7880 - val_loss: 0.6167 - val_mse: 0.6167\n",
            "Epoch 25/100\n",
            "INFO:tensorflow:Assets written to: model-e025.ckpt/assets\n",
            "1105/1105 - 26s - loss: 0.7626 - mse: 0.7626 - val_loss: 0.6209 - val_mse: 0.6209\n",
            "Epoch 26/100\n",
            "INFO:tensorflow:Assets written to: model-e026.ckpt/assets\n",
            "1105/1105 - 26s - loss: 0.7345 - mse: 0.7345 - val_loss: 0.6172 - val_mse: 0.6172\n",
            "Epoch 27/100\n",
            "INFO:tensorflow:Assets written to: model-e027.ckpt/assets\n",
            "1105/1105 - 24s - loss: 0.7770 - mse: 0.7770 - val_loss: 0.6625 - val_mse: 0.6625\n",
            "Epoch 28/100\n",
            "INFO:tensorflow:Assets written to: model-e028.ckpt/assets\n",
            "1105/1105 - 26s - loss: 0.7600 - mse: 0.7600 - val_loss: 0.6460 - val_mse: 0.6460\n",
            "Epoch 29/100\n",
            "INFO:tensorflow:Assets written to: model-e029.ckpt/assets\n",
            "1105/1105 - 26s - loss: 0.7518 - mse: 0.7518 - val_loss: 0.6297 - val_mse: 0.6297\n",
            "Epoch 30/100\n",
            "INFO:tensorflow:Assets written to: model-e030.ckpt/assets\n",
            "1105/1105 - 24s - loss: 0.7139 - mse: 0.7139 - val_loss: 0.6408 - val_mse: 0.6408\n",
            "Epoch 31/100\n",
            "INFO:tensorflow:Assets written to: model-e031.ckpt/assets\n",
            "1105/1105 - 26s - loss: 0.7832 - mse: 0.7832 - val_loss: 0.6195 - val_mse: 0.6195\n",
            "Epoch 32/100\n",
            "INFO:tensorflow:Assets written to: model-e032.ckpt/assets\n",
            "1105/1105 - 25s - loss: 0.7124 - mse: 0.7124 - val_loss: 0.6219 - val_mse: 0.6219\n",
            "Epoch 33/100\n",
            "INFO:tensorflow:Assets written to: model-e033.ckpt/assets\n",
            "1105/1105 - 25s - loss: 0.7129 - mse: 0.7129 - val_loss: 0.6389 - val_mse: 0.6389\n"
          ],
          "name": "stdout"
        }
      ]
    },
    {
      "cell_type": "code",
      "metadata": {
        "id": "M6mipRgfh7Ne",
        "colab_type": "code",
        "colab": {}
      },
      "source": [
        "#plotting accuracy and loss as a function of epochs to ensure no overfitting\n",
        "def plot(history):\n",
        "    # The history object contains results on the training and test\n",
        "    # sets for each epoch\n",
        "    acc = history.history['mse']\n",
        "    val_acc = history.history['val_mse']\n",
        "    loss = history.history['loss']\n",
        "    val_loss = history.history['val_loss']\n",
        "\n",
        "    # Get the number of epochs\n",
        "    epochs = range(len(acc))\n",
        "\n",
        "    plt.title('Training and validation accuracy')\n",
        "    plt.plot(epochs, acc, color='blue', label='Train')\n",
        "    plt.plot(epochs, val_acc, color='orange', label='Val')\n",
        "    plt.xlabel('Epoch')\n",
        "    plt.ylabel('MSE')\n",
        "    plt.legend()\n",
        "\n",
        "    #_ = plt.figure()\n",
        "    #plt.title('Training and validation loss')\n",
        "    #plt.plot(epochs, loss, color='blue', label='Train')\n",
        "    #plt.plot(epochs, val_loss, color='orange', label='Val')\n",
        "    #plt.xlabel('Epoch')\n",
        "    #plt.ylabel('Loss')\n",
        "    #plt.legend()"
      ],
      "execution_count": 0,
      "outputs": []
    },
    {
      "cell_type": "code",
      "metadata": {
        "id": "PurQdXbbJblY",
        "colab_type": "code",
        "outputId": "9382990a-71b6-4fcd-bc8f-228da4268a7f",
        "colab": {
          "base_uri": "https://localhost:8080/",
          "height": 295
        }
      },
      "source": [
        "plot(history)"
      ],
      "execution_count": 69,
      "outputs": [
        {
          "output_type": "display_data",
          "data": {
            "image/png": "[encoded data removed]",
            "text/plain": [
              "<Figure size 432x288 with 1 Axes>"
            ]
          },
          "metadata": {
            "tags": []
          }
        }
      ]
    },
    {
      "cell_type": "markdown",
      "metadata": {
        "id": "1ME44_jqsPOw",
        "colab_type": "text"
      },
      "source": [
        "### Testing"
      ]
    },
    {
      "cell_type": "code",
      "metadata": {
        "id": "e8P0zsNTsQ76",
        "colab_type": "code",
        "colab": {}
      },
      "source": [
        "model1_best = tf.keras.models.load_model('model-e026.ckpt')"
      ],
      "execution_count": 0,
      "outputs": []
    },
    {
      "cell_type": "code",
      "metadata": {
        "id": "l_jo3KA5WMSm",
        "colab_type": "code",
        "colab": {}
      },
      "source": [
        "from sklearn.metrics import r2_score"
      ],
      "execution_count": 0,
      "outputs": []
    },
    {
      "cell_type": "code",
      "metadata": {
        "id": "idPKXvbptDqz",
        "colab_type": "code",
        "outputId": "d6f4bf2f-b22e-4e6f-cfbf-14fda3a11e29",
        "colab": {
          "base_uri": "https://localhost:8080/",
          "height": 102
        }
      },
      "source": [
        "pred1 = model1_best.predict(x=padded_test)\n",
        "pred_arr = [p[0] for p in pred1]\n",
        "\n",
        "d = np.subtract(np.array(pred_arr),y_test_std)\n",
        "test_mse = np.mean(np.square(d))\n",
        "test_rmse = np.sqrt(test_mse)\n",
        "test_mae = np.mean(abs(d))\n",
        "test_pearsonr = stats.pearsonr(y_test_std, pred_arr)\n",
        "\n",
        "rsq1 = r2_score(y_test_std, pred_arr)\n",
        "\n",
        "print(\"Test Results on best model epoch\")\n",
        "print(\"RMSE:\",test_rmse)\n",
        "print(\"MAE:\",test_mae)\n",
        "print(\"Pearson R & P-value:\",test_pearsonr)\n",
        "print(\"R2:\",rsq1)"
      ],
      "execution_count": 79,
      "outputs": [
        {
          "output_type": "stream",
          "text": [
            "Test Results on best model epoch\n",
            "RMSE: 0.9694520302465027\n",
            "MAE: 0.7827618845770532\n",
            "Pearson R & P-value: (0.3216443616355564, 2.7845901077898463e-09)\n",
            "R2: 0.04267272495225416\n"
          ],
          "name": "stdout"
        }
      ]
    },
    {
      "cell_type": "code",
      "metadata": {
        "id": "J-ly1j3fWs4s",
        "colab_type": "code",
        "outputId": "89d03fbc-113c-498b-c7fd-e06ceb7fdced",
        "colab": {
          "base_uri": "https://localhost:8080/",
          "height": 122
        }
      },
      "source": [
        "from google.colab import drive\n",
        "drive.mount('/content/drive')"
      ],
      "execution_count": 0,
      "outputs": [
        {
          "output_type": "stream",
          "text": [
            "Go to this URL in a browser: https://accounts.google.com/o/oauth2/auth?client_id=947318989803-6bn6qk8qdgf4n4g3pfee6491hc0brc4i.apps.googleusercontent.com&redirect_uri=urn%3aietf%3awg%3aoauth%3a2.0%3aoob&response_type=code&scope=email%20https%3a%2f%2fwww.googleapis.com%2fauth%2fdocs.test%20https%3a%2f%2fwww.googleapis.com%2fauth%2fdrive%20https%3a%2f%2fwww.googleapis.com%2fauth%2fdrive.photos.readonly%20https%3a%2f%2fwww.googleapis.com%2fauth%2fpeopleapi.readonly\n",
            "\n",
            "Enter your authorization code:\n",
            "··········\n",
            "Mounted at /content/drive\n"
          ],
          "name": "stdout"
        }
      ]
    },
    {
      "cell_type": "code",
      "metadata": {
        "id": "07uy1GmeX-nw",
        "colab_type": "code",
        "outputId": "86f29326-e83a-4da7-e187-75f98c9f8651",
        "colab": {
          "base_uri": "https://localhost:8080/",
          "height": 51
        }
      },
      "source": [
        "import shutil\n",
        "#zip\n",
        "if not os.path.exists('/content/drive/My Drive/DNNmodel1.zip'):\n",
        "  model1_archive = shutil.make_archive('/content/drive/My Drive/DNNmodel1', 'zip', '/content/model-e031.ckpt')\n",
        "  print(model1_archive)\n",
        "  print(os.path.getsize(model1_archive)/1048576,\"mb\")\n",
        "else:\n",
        "  print('Zip archive exists')"
      ],
      "execution_count": 0,
      "outputs": [
        {
          "output_type": "stream",
          "text": [
            "/content/drive/My Drive/DNNmodel1.zip\n",
            "34.164793968200684 mb\n"
          ],
          "name": "stdout"
        }
      ]
    },
    {
      "cell_type": "code",
      "metadata": {
        "id": "hDVAsfkIY0Z7",
        "colab_type": "code",
        "outputId": "720297e7-f4da-4dc5-ed01-4757cc9c6443",
        "colab": {
          "base_uri": "https://localhost:8080/",
          "height": 265
        }
      },
      "source": [
        "# Test Data Prediction\n",
        "plt.plot(y_test_std, pred_arr, '.')\n",
        "# plot a line, a perfit predict would all fall on this line\n",
        "x = np.linspace(0, 5)\n",
        "plt.plot(x, x)\n",
        "plt.show()"
      ],
      "execution_count": 80,
      "outputs": [
        {
          "output_type": "display_data",
          "data": {
            "image/png": "[encoded data removed]",
            "text/plain": [
              "<Figure size 432x288 with 1 Axes>"
            ]
          },
          "metadata": {
            "tags": []
          }
        }
      ]
    },
    {
      "cell_type": "markdown",
      "metadata": {
        "id": "vd7UqFxIbMPI",
        "colab_type": "text"
      },
      "source": [
        "## Model 2 - More Complex Ensemble"
      ]
    },
    {
      "cell_type": "code",
      "metadata": {
        "id": "NBdxIr9yqLPI",
        "colab_type": "code",
        "outputId": "97a6bf37-b270-4657-b926-f8b25f519988",
        "colab": {
          "base_uri": "https://localhost:8080/",
          "height": 1000
        }
      },
      "source": [
        "inp = Input(shape = (MAX_SEQ_LEN,))\n",
        "x = Embedding(num_words, EMBED_DIM, weights = [embedding_matrix], trainable = False)(inp)\n",
        "x1 = tf.keras.layers.SpatialDropout1D(0.3)(x)\n",
        "\n",
        "x_gru = Bidirectional(GRU(128, return_sequences = True))(x1)\n",
        "x1 = tf.keras.layers.Conv1D(32, kernel_size=4, padding='valid', kernel_initializer='he_uniform')(x_gru)\n",
        "avg_pool1_gru = tf.keras.layers.GlobalAveragePooling1D()(x1)\n",
        "max_pool1_gru = tf.keras.layers.GlobalMaxPooling1D()(x1)\n",
        "\n",
        "x3 = tf.keras.layers.Conv1D(32, kernel_size=4, padding='valid', kernel_initializer='he_uniform')(x_gru)\n",
        "avg_pool3_gru = tf.keras.layers.GlobalAveragePooling1D()(x3)\n",
        "max_pool3_gru = tf.keras.layers.GlobalMaxPooling1D()(x3)\n",
        "\n",
        "x_lstm = Bidirectional(LSTM(128, return_sequences = True))(x1)\n",
        "x1 = tf.keras.layers.Conv1D(32, kernel_size=4, padding='valid', kernel_initializer='he_uniform')(x_lstm)\n",
        "avg_pool1_lstm = tf.keras.layers.GlobalAveragePooling1D()(x1)\n",
        "max_pool1_lstm = tf.keras.layers.GlobalMaxPooling1D()(x1)\n",
        "\n",
        "x3 = tf.keras.layers.Conv1D(32, kernel_size=4, padding='valid', kernel_initializer='he_uniform')(x_lstm)\n",
        "avg_pool3_lstm = tf.keras.layers.GlobalAveragePooling1D()(x3)\n",
        "max_pool3_lstm = tf.keras.layers.GlobalMaxPooling1D()(x3)\n",
        "\n",
        "\n",
        "x = tf.keras.layers.concatenate([avg_pool1_gru, max_pool1_gru, avg_pool3_gru, max_pool3_gru,\n",
        "                avg_pool1_lstm, max_pool1_lstm, avg_pool3_lstm, max_pool3_lstm])\n",
        "x = tf.keras.layers.BatchNormalization()(x)\n",
        "x = Dropout(0.1)(Dense(64, activation='relu') (x))\n",
        "x = tf.keras.layers.BatchNormalization()(x)\n",
        "x = Dropout(0.1)(Dense(int(64 / 2), activation='relu') (x))\n",
        "x = Dense(1, activation = None)(x)\n",
        "model2 = Model(inputs = inp, outputs = x)\n",
        "model2.summary()"
      ],
      "execution_count": 43,
      "outputs": [
        {
          "output_type": "stream",
          "text": [
            "Model: \"model\"\n",
            "__________________________________________________________________________________________________\n",
            "Layer (type)                    Output Shape         Param #     Connected to                     \n",
            "==================================================================================================\n",
            "input_1 (InputLayer)            [(None, 2000)]       0                                            \n",
            "__________________________________________________________________________________________________\n",
            "embedding_1 (Embedding)         (None, 2000, 64)     1880192     input_1[0][0]                    \n",
            "__________________________________________________________________________________________________\n",
            "spatial_dropout1d (SpatialDropo (None, 2000, 64)     0           embedding_1[0][0]                \n",
            "__________________________________________________________________________________________________\n",
            "bidirectional_1 (Bidirectional) (None, 2000, 256)    148992      spatial_dropout1d[0][0]          \n",
            "__________________________________________________________________________________________________\n",
            "conv1d (Conv1D)                 (None, 1997, 32)     32800       bidirectional_1[0][0]            \n",
            "__________________________________________________________________________________________________\n",
            "bidirectional_2 (Bidirectional) (None, 1997, 256)    164864      conv1d[0][0]                     \n",
            "__________________________________________________________________________________________________\n",
            "conv1d_1 (Conv1D)               (None, 1997, 32)     32800       bidirectional_1[0][0]            \n",
            "__________________________________________________________________________________________________\n",
            "conv1d_2 (Conv1D)               (None, 1994, 32)     32800       bidirectional_2[0][0]            \n",
            "__________________________________________________________________________________________________\n",
            "conv1d_3 (Conv1D)               (None, 1994, 32)     32800       bidirectional_2[0][0]            \n",
            "__________________________________________________________________________________________________\n",
            "global_average_pooling1d (Globa (None, 32)           0           conv1d[0][0]                     \n",
            "__________________________________________________________________________________________________\n",
            "global_max_pooling1d (GlobalMax (None, 32)           0           conv1d[0][0]                     \n",
            "__________________________________________________________________________________________________\n",
            "global_average_pooling1d_1 (Glo (None, 32)           0           conv1d_1[0][0]                   \n",
            "__________________________________________________________________________________________________\n",
            "global_max_pooling1d_1 (GlobalM (None, 32)           0           conv1d_1[0][0]                   \n",
            "__________________________________________________________________________________________________\n",
            "global_average_pooling1d_2 (Glo (None, 32)           0           conv1d_2[0][0]                   \n",
            "__________________________________________________________________________________________________\n",
            "global_max_pooling1d_2 (GlobalM (None, 32)           0           conv1d_2[0][0]                   \n",
            "__________________________________________________________________________________________________\n",
            "global_average_pooling1d_3 (Glo (None, 32)           0           conv1d_3[0][0]                   \n",
            "__________________________________________________________________________________________________\n",
            "global_max_pooling1d_3 (GlobalM (None, 32)           0           conv1d_3[0][0]                   \n",
            "__________________________________________________________________________________________________\n",
            "concatenate (Concatenate)       (None, 256)          0           global_average_pooling1d[0][0]   \n",
            "                                                                 global_max_pooling1d[0][0]       \n",
            "                                                                 global_average_pooling1d_1[0][0] \n",
            "                                                                 global_max_pooling1d_1[0][0]     \n",
            "                                                                 global_average_pooling1d_2[0][0] \n",
            "                                                                 global_max_pooling1d_2[0][0]     \n",
            "                                                                 global_average_pooling1d_3[0][0] \n",
            "                                                                 global_max_pooling1d_3[0][0]     \n",
            "__________________________________________________________________________________________________\n",
            "batch_normalization (BatchNorma (None, 256)          1024        concatenate[0][0]                \n",
            "__________________________________________________________________________________________________\n",
            "dense_2 (Dense)                 (None, 64)           16448       batch_normalization[0][0]        \n",
            "__________________________________________________________________________________________________\n",
            "dropout_1 (Dropout)             (None, 64)           0           dense_2[0][0]                    \n",
            "__________________________________________________________________________________________________\n",
            "batch_normalization_1 (BatchNor (None, 64)           256         dropout_1[0][0]                  \n",
            "__________________________________________________________________________________________________\n",
            "dense_3 (Dense)                 (None, 32)           2080        batch_normalization_1[0][0]      \n",
            "__________________________________________________________________________________________________\n",
            "dropout_2 (Dropout)             (None, 32)           0           dense_3[0][0]                    \n",
            "__________________________________________________________________________________________________\n",
            "dense_4 (Dense)                 (None, 1)            33          dropout_2[0][0]                  \n",
            "==================================================================================================\n",
            "Total params: 2,345,089\n",
            "Trainable params: 464,257\n",
            "Non-trainable params: 1,880,832\n",
            "__________________________________________________________________________________________________\n"
          ],
          "name": "stdout"
        }
      ]
    },
    {
      "cell_type": "code",
      "metadata": {
        "id": "bfT4L_7Kb9Qq",
        "colab_type": "code",
        "colab": {}
      },
      "source": [
        "model2.compile(loss='mse', optimizer='adam', metrics=['mse'])\n",
        "\n",
        "earlyStopping = tf.keras.callbacks.EarlyStopping(monitor='val_mse', patience=11, verbose=0, mode='min')\n",
        "cp_save = tf.keras.callbacks.ModelCheckpoint('model2-e{epoch:03d}.ckpt', \n",
        "                                             save_best_only=True, monitor='val_mse', mode='min')"
      ],
      "execution_count": 0,
      "outputs": []
    },
    {
      "cell_type": "code",
      "metadata": {
        "id": "0UW_xgNucM3g",
        "colab_type": "code",
        "outputId": "8d0c22e9-a735-4f9f-a3ea-4a2151e5c8c0",
        "colab": {
          "base_uri": "https://localhost:8080/",
          "height": 1000
        }
      },
      "source": [
        "history2 = model2.fit(padded_train, y_train_std, \n",
        "                     epochs=100, \n",
        "                     verbose=2, \n",
        "                     callbacks=[earlyStopping, cp_save],\n",
        "                     validation_data=(padded_val,y_val_std))"
      ],
      "execution_count": 0,
      "outputs": [
        {
          "output_type": "stream",
          "text": [
            "Train on 1105 samples, validate on 196 samples\n",
            "Epoch 1/100\n",
            "INFO:tensorflow:Assets written to: model2-e001.ckpt/assets\n",
            "1105/1105 - 45s - loss: 5.7711 - mse: 5.7711 - val_loss: 5.3432 - val_mse: 5.3432\n",
            "Epoch 2/100\n",
            "INFO:tensorflow:Assets written to: model2-e002.ckpt/assets\n",
            "1105/1105 - 36s - loss: 1.7395 - mse: 1.7395 - val_loss: 2.7287 - val_mse: 2.7287\n",
            "Epoch 3/100\n",
            "1105/1105 - 14s - loss: 1.4383 - mse: 1.4383 - val_loss: 2.9775 - val_mse: 2.9775\n",
            "Epoch 4/100\n",
            "INFO:tensorflow:Assets written to: model2-e004.ckpt/assets\n",
            "1105/1105 - 38s - loss: 1.2516 - mse: 1.2516 - val_loss: 1.7309 - val_mse: 1.7309\n",
            "Epoch 5/100\n",
            "INFO:tensorflow:Assets written to: model2-e005.ckpt/assets\n",
            "1105/1105 - 36s - loss: 1.2310 - mse: 1.2310 - val_loss: 1.1215 - val_mse: 1.1215\n",
            "Epoch 6/100\n",
            "INFO:tensorflow:Assets written to: model2-e006.ckpt/assets\n",
            "1105/1105 - 38s - loss: 1.1954 - mse: 1.1954 - val_loss: 0.9030 - val_mse: 0.9030\n",
            "Epoch 7/100\n",
            "1105/1105 - 14s - loss: 1.1200 - mse: 1.1200 - val_loss: 1.0657 - val_mse: 1.0657\n",
            "Epoch 8/100\n",
            "1105/1105 - 13s - loss: 1.1334 - mse: 1.1334 - val_loss: 0.9438 - val_mse: 0.9438\n",
            "Epoch 9/100\n",
            "INFO:tensorflow:Assets written to: model2-e009.ckpt/assets\n",
            "1105/1105 - 38s - loss: 1.0840 - mse: 1.0840 - val_loss: 0.7705 - val_mse: 0.7705\n",
            "Epoch 10/100\n",
            "INFO:tensorflow:Assets written to: model2-e010.ckpt/assets\n",
            "1105/1105 - 36s - loss: 1.0598 - mse: 1.0598 - val_loss: 0.6457 - val_mse: 0.6457\n",
            "Epoch 11/100\n",
            "1105/1105 - 13s - loss: 1.0700 - mse: 1.0700 - val_loss: 0.7466 - val_mse: 0.7466\n",
            "Epoch 12/100\n",
            "1105/1105 - 14s - loss: 1.0310 - mse: 1.0310 - val_loss: 0.8109 - val_mse: 0.8109\n",
            "Epoch 13/100\n",
            "1105/1105 - 13s - loss: 0.9529 - mse: 0.9529 - val_loss: 0.7452 - val_mse: 0.7452\n",
            "Epoch 14/100\n",
            "1105/1105 - 13s - loss: 1.0100 - mse: 1.0100 - val_loss: 0.6635 - val_mse: 0.6635\n",
            "Epoch 15/100\n",
            "1105/1105 - 13s - loss: 1.0520 - mse: 1.0520 - val_loss: 0.6486 - val_mse: 0.6486\n",
            "Epoch 16/100\n",
            "INFO:tensorflow:Assets written to: model2-e016.ckpt/assets\n",
            "1105/1105 - 38s - loss: 0.9293 - mse: 0.9293 - val_loss: 0.6325 - val_mse: 0.6325\n",
            "Epoch 17/100\n",
            "INFO:tensorflow:Assets written to: model2-e017.ckpt/assets\n",
            "1105/1105 - 35s - loss: 0.9355 - mse: 0.9355 - val_loss: 0.5895 - val_mse: 0.5895\n",
            "Epoch 18/100\n",
            "INFO:tensorflow:Assets written to: model2-e018.ckpt/assets\n",
            "1105/1105 - 37s - loss: 0.9437 - mse: 0.9437 - val_loss: 0.5706 - val_mse: 0.5706\n",
            "Epoch 19/100\n",
            "1105/1105 - 13s - loss: 0.9408 - mse: 0.9408 - val_loss: 0.7115 - val_mse: 0.7115\n",
            "Epoch 20/100\n",
            "1105/1105 - 13s - loss: 0.9475 - mse: 0.9475 - val_loss: 1.3670 - val_mse: 1.3670\n",
            "Epoch 21/100\n",
            "1105/1105 - 14s - loss: 0.9278 - mse: 0.9278 - val_loss: 0.8955 - val_mse: 0.8955\n",
            "Epoch 22/100\n",
            "1105/1105 - 14s - loss: 0.9002 - mse: 0.9002 - val_loss: 0.7378 - val_mse: 0.7378\n",
            "Epoch 23/100\n",
            "1105/1105 - 14s - loss: 0.9380 - mse: 0.9380 - val_loss: 0.8239 - val_mse: 0.8239\n",
            "Epoch 24/100\n",
            "1105/1105 - 14s - loss: 0.8905 - mse: 0.8905 - val_loss: 1.2355 - val_mse: 1.2355\n",
            "Epoch 25/100\n",
            "1105/1105 - 14s - loss: 0.8775 - mse: 0.8775 - val_loss: 0.7732 - val_mse: 0.7732\n",
            "Epoch 26/100\n",
            "1105/1105 - 14s - loss: 0.8116 - mse: 0.8116 - val_loss: 0.8920 - val_mse: 0.8920\n",
            "Epoch 27/100\n",
            "1105/1105 - 14s - loss: 0.8737 - mse: 0.8737 - val_loss: 0.9589 - val_mse: 0.9589\n",
            "Epoch 28/100\n",
            "1105/1105 - 14s - loss: 0.8393 - mse: 0.8393 - val_loss: 0.7869 - val_mse: 0.7869\n",
            "Epoch 29/100\n",
            "1105/1105 - 14s - loss: 0.8192 - mse: 0.8192 - val_loss: 0.8410 - val_mse: 0.8410\n"
          ],
          "name": "stdout"
        }
      ]
    },
    {
      "cell_type": "code",
      "metadata": {
        "id": "22WQ7T3qdmf4",
        "colab_type": "code",
        "colab": {}
      },
      "source": [
        "model2_best = tf.keras.models.load_model('model2-e018.ckpt')"
      ],
      "execution_count": 0,
      "outputs": []
    },
    {
      "cell_type": "code",
      "metadata": {
        "id": "vp-VkKJlduSR",
        "colab_type": "code",
        "outputId": "7428f3c7-c3fb-4ea4-d228-8372bcecc576",
        "colab": {
          "base_uri": "https://localhost:8080/",
          "height": 85
        }
      },
      "source": [
        "pred2 = model2_best.predict(x=padded_test)\n",
        "pred2_arr = [p[0] for p in pred2]\n",
        "\n",
        "d = np.subtract(np.array(pred2_arr),y_test_std)\n",
        "test_mse = np.mean(np.square(d))\n",
        "test_rmse = np.sqrt(test_mse)\n",
        "test_mae = np.mean(abs(d))\n",
        "test_pearsonr = stats.pearsonr(y_test_std, pred2_arr)\n",
        "\n",
        "print(\"Test Results on best model epoch\")\n",
        "print(\"RMSE:\",test_rmse)\n",
        "print(\"MAE:\",test_mae)\n",
        "print(\"Pearson R & P-value:\",test_pearsonr)"
      ],
      "execution_count": 0,
      "outputs": [
        {
          "output_type": "stream",
          "text": [
            "Test Results on best model epoch\n",
            "RMSE: 0.9631820033339726\n",
            "MAE: 0.7962272976911802\n",
            "Pearson R & P-value: (0.3924426208580274, 1.899277831042866e-13)\n"
          ],
          "name": "stdout"
        }
      ]
    },
    {
      "cell_type": "code",
      "metadata": {
        "id": "_No3Wm86d5fZ",
        "colab_type": "code",
        "outputId": "00a6e249-8418-4ec0-a138-0a279c004c51",
        "colab": {
          "base_uri": "https://localhost:8080/",
          "height": 265
        }
      },
      "source": [
        "# Test Data Prediction\n",
        "plt.plot(y_test_std, pred2_arr, '.')\n",
        "# plot a line, a perfit predict would all fall on this line\n",
        "x = np.linspace(0, 5)\n",
        "plt.plot(x, x)\n",
        "plt.show()"
      ],
      "execution_count": 0,
      "outputs": [
        {
          "output_type": "display_data",
          "data": {
            "image/png": "[encoded data removed]",
            "text/plain": [
              "<Figure size 432x288 with 1 Axes>"
            ]
          },
          "metadata": {
            "tags": []
          }
        }
      ]
    },
    {
      "cell_type": "markdown",
      "metadata": {
        "id": "U7-6dHhYHt_q",
        "colab_type": "text"
      },
      "source": [
        "# Model 3 - Adding Source to Simple Model"
      ]
    },
    {
      "cell_type": "code",
      "metadata": {
        "id": "gXtS0gt_IbSd",
        "colab_type": "code",
        "outputId": "39201848-97f1-4061-e863-6b9a08bcdb77",
        "colab": {
          "base_uri": "https://localhost:8080/",
          "height": 204
        }
      },
      "source": [
        "source_train_t.head()"
      ],
      "execution_count": 44,
      "outputs": [
        {
          "output_type": "execute_result",
          "data": {
            "text/html": [
              "<div>\n",
              "<style scoped>\n",
              "    .dataframe tbody tr th:only-of-type {\n",
              "        vertical-align: middle;\n",
              "    }\n",
              "\n",
              "    .dataframe tbody tr th {\n",
              "        vertical-align: top;\n",
              "    }\n",
              "\n",
              "    .dataframe thead th {\n",
              "        text-align: right;\n",
              "    }\n",
              "</style>\n",
              "<table border=\"1\" class=\"dataframe\">\n",
              "  <thead>\n",
              "    <tr style=\"text-align: right;\">\n",
              "      <th></th>\n",
              "      <th>100 Percent Fed Up</th>\n",
              "      <th>Associated Press News</th>\n",
              "      <th>Breitbart</th>\n",
              "      <th>Fox News</th>\n",
              "      <th>Media Matters</th>\n",
              "      <th>The New York Times</th>\n",
              "      <th>Vox</th>\n",
              "    </tr>\n",
              "  </thead>\n",
              "  <tbody>\n",
              "    <tr>\n",
              "      <th>374</th>\n",
              "      <td>0</td>\n",
              "      <td>1</td>\n",
              "      <td>0</td>\n",
              "      <td>0</td>\n",
              "      <td>0</td>\n",
              "      <td>0</td>\n",
              "      <td>0</td>\n",
              "    </tr>\n",
              "    <tr>\n",
              "      <th>637</th>\n",
              "      <td>0</td>\n",
              "      <td>0</td>\n",
              "      <td>0</td>\n",
              "      <td>1</td>\n",
              "      <td>0</td>\n",
              "      <td>0</td>\n",
              "      <td>0</td>\n",
              "    </tr>\n",
              "    <tr>\n",
              "      <th>85</th>\n",
              "      <td>0</td>\n",
              "      <td>0</td>\n",
              "      <td>0</td>\n",
              "      <td>0</td>\n",
              "      <td>0</td>\n",
              "      <td>1</td>\n",
              "      <td>0</td>\n",
              "    </tr>\n",
              "    <tr>\n",
              "      <th>1299</th>\n",
              "      <td>0</td>\n",
              "      <td>0</td>\n",
              "      <td>0</td>\n",
              "      <td>0</td>\n",
              "      <td>0</td>\n",
              "      <td>0</td>\n",
              "      <td>1</td>\n",
              "    </tr>\n",
              "    <tr>\n",
              "      <th>152</th>\n",
              "      <td>0</td>\n",
              "      <td>0</td>\n",
              "      <td>0</td>\n",
              "      <td>0</td>\n",
              "      <td>0</td>\n",
              "      <td>1</td>\n",
              "      <td>0</td>\n",
              "    </tr>\n",
              "  </tbody>\n",
              "</table>\n",
              "</div>"
            ],
            "text/plain": [
              "      100 Percent Fed Up  Associated Press News  ...  The New York Times  Vox\n",
              "374                    0                      1  ...                   0    0\n",
              "637                    0                      0  ...                   0    0\n",
              "85                     0                      0  ...                   1    0\n",
              "1299                   0                      0  ...                   0    1\n",
              "152                    0                      0  ...                   1    0\n",
              "\n",
              "[5 rows x 7 columns]"
            ]
          },
          "metadata": {
            "tags": []
          },
          "execution_count": 44
        }
      ]
    },
    {
      "cell_type": "code",
      "metadata": {
        "id": "20pShH2KKyGP",
        "colab_type": "code",
        "colab": {}
      },
      "source": [
        "source_train_arr = np.array(source_train_t)\n",
        "source_val_arr = np.array(source_val)"
      ],
      "execution_count": 0,
      "outputs": []
    },
    {
      "cell_type": "code",
      "metadata": {
        "id": "GrciwtJiHzkS",
        "colab_type": "code",
        "outputId": "bb296123-6564-44a9-94c4-b31b14f87fa3",
        "colab": {
          "base_uri": "https://localhost:8080/",
          "height": 442
        }
      },
      "source": [
        "# two inputs\n",
        "body_input = Input(shape=(MAX_SEQ_LEN,))\n",
        "\n",
        "embedding_l = Embedding(input_dim=num_words,\n",
        "                            output_dim=EMBED_DIM,\n",
        "                            embeddings_initializer=Constant(embedding_matrix),\n",
        "                            input_length=MAX_SEQ_LEN,\n",
        "                            trainable=False\n",
        "                           )(body_input)\n",
        "\n",
        "LSTM_out = Bidirectional(LSTM(64))(embedding_l)\n",
        "\n",
        "source_input = Input(shape=(7,), name='source_input')\n",
        "\n",
        "x = tf.keras.layers.concatenate([LSTM_out, source_input])\n",
        "x = Dense(64, activation='relu')(x)\n",
        "x = Dropout(0.2)(x)\n",
        "out = Dense(1, activation=None)(x)\n",
        "\n",
        "model3 = Model(inputs=[body_input, source_input], outputs=out)\n",
        "\n",
        "model3.summary()"
      ],
      "execution_count": 81,
      "outputs": [
        {
          "output_type": "stream",
          "text": [
            "Model: \"model_4\"\n",
            "__________________________________________________________________________________________________\n",
            "Layer (type)                    Output Shape         Param #     Connected to                     \n",
            "==================================================================================================\n",
            "input_5 (InputLayer)            [(None, 2000)]       0                                            \n",
            "__________________________________________________________________________________________________\n",
            "embedding_6 (Embedding)         (None, 2000, 64)     1880192     input_5[0][0]                    \n",
            "__________________________________________________________________________________________________\n",
            "bidirectional_7 (Bidirectional) (None, 128)          66048       embedding_6[0][0]                \n",
            "__________________________________________________________________________________________________\n",
            "source_input (InputLayer)       [(None, 7)]          0                                            \n",
            "__________________________________________________________________________________________________\n",
            "concatenate_4 (Concatenate)     (None, 135)          0           bidirectional_7[0][0]            \n",
            "                                                                 source_input[0][0]               \n",
            "__________________________________________________________________________________________________\n",
            "dense_13 (Dense)                (None, 64)           8704        concatenate_4[0][0]              \n",
            "__________________________________________________________________________________________________\n",
            "dropout_7 (Dropout)             (None, 64)           0           dense_13[0][0]                   \n",
            "__________________________________________________________________________________________________\n",
            "dense_14 (Dense)                (None, 1)            65          dropout_7[0][0]                  \n",
            "==================================================================================================\n",
            "Total params: 1,955,009\n",
            "Trainable params: 74,817\n",
            "Non-trainable params: 1,880,192\n",
            "__________________________________________________________________________________________________\n"
          ],
          "name": "stdout"
        }
      ]
    },
    {
      "cell_type": "code",
      "metadata": {
        "id": "0tV6vKS2MXIh",
        "colab_type": "code",
        "colab": {}
      },
      "source": [
        "model3.compile(loss='mse', optimizer='adam', metrics=['mse'])\n",
        "\n",
        "earlyStopping = tf.keras.callbacks.EarlyStopping(monitor='val_mse', patience=11, verbose=0, mode='min')\n",
        "cp_save = tf.keras.callbacks.ModelCheckpoint('model3-e{epoch:03d}.ckpt', \n",
        "                                             save_best_only=False, monitor='val_mse', mode='min')"
      ],
      "execution_count": 0,
      "outputs": []
    },
    {
      "cell_type": "code",
      "metadata": {
        "id": "DCf-gDjFMfcO",
        "colab_type": "code",
        "outputId": "066660a0-856c-4d8c-acaf-87047cd4a9a6",
        "colab": {
          "base_uri": "https://localhost:8080/",
          "height": 612
        }
      },
      "source": [
        "history3 = model3.fit([padded_train,source_train_arr], y_train_std, \n",
        "                     epochs=100, \n",
        "                     verbose=2, \n",
        "                     callbacks=[earlyStopping, cp_save],\n",
        "                     validation_data=([padded_val,source_val_arr],y_val_std))"
      ],
      "execution_count": 48,
      "outputs": [
        {
          "output_type": "stream",
          "text": [
            "Train on 1105 samples, validate on 196 samples\n",
            "Epoch 1/100\n",
            "INFO:tensorflow:Assets written to: model3-e001.ckpt/assets\n",
            "1105/1105 - 27s - loss: 2.1812 - mse: 2.1812 - val_loss: 0.6340 - val_mse: 0.6340\n",
            "Epoch 2/100\n",
            "INFO:tensorflow:Assets written to: model3-e002.ckpt/assets\n",
            "1105/1105 - 24s - loss: 0.9478 - mse: 0.9478 - val_loss: 0.5964 - val_mse: 0.5964\n",
            "Epoch 3/100\n",
            "INFO:tensorflow:Assets written to: model3-e003.ckpt/assets\n",
            "1105/1105 - 25s - loss: 0.9047 - mse: 0.9047 - val_loss: 0.5957 - val_mse: 0.5957\n",
            "Epoch 4/100\n",
            "INFO:tensorflow:Assets written to: model3-e004.ckpt/assets\n",
            "1105/1105 - 24s - loss: 0.8682 - mse: 0.8682 - val_loss: 0.5745 - val_mse: 0.5745\n",
            "Epoch 5/100\n",
            "1105/1105 - 6s - loss: 0.8068 - mse: 0.8068 - val_loss: 0.6025 - val_mse: 0.6025\n",
            "Epoch 6/100\n",
            "1105/1105 - 6s - loss: 0.7870 - mse: 0.7870 - val_loss: 0.5879 - val_mse: 0.5879\n",
            "Epoch 7/100\n",
            "1105/1105 - 6s - loss: 0.7495 - mse: 0.7495 - val_loss: 0.6091 - val_mse: 0.6091\n",
            "Epoch 8/100\n",
            "1105/1105 - 6s - loss: 0.7418 - mse: 0.7418 - val_loss: 0.5836 - val_mse: 0.5836\n",
            "Epoch 9/100\n",
            "1105/1105 - 6s - loss: 0.7153 - mse: 0.7153 - val_loss: 0.6662 - val_mse: 0.6662\n",
            "Epoch 10/100\n",
            "1105/1105 - 5s - loss: 0.7440 - mse: 0.7440 - val_loss: 0.5784 - val_mse: 0.5784\n",
            "Epoch 11/100\n",
            "1105/1105 - 6s - loss: 0.7565 - mse: 0.7565 - val_loss: 0.5840 - val_mse: 0.5840\n",
            "Epoch 12/100\n",
            "1105/1105 - 6s - loss: 0.7533 - mse: 0.7533 - val_loss: 0.5925 - val_mse: 0.5925\n",
            "Epoch 13/100\n",
            "1105/1105 - 6s - loss: 0.7498 - mse: 0.7498 - val_loss: 0.5944 - val_mse: 0.5944\n",
            "Epoch 14/100\n",
            "1105/1105 - 6s - loss: 0.7494 - mse: 0.7494 - val_loss: 0.6098 - val_mse: 0.6098\n",
            "Epoch 15/100\n",
            "1105/1105 - 6s - loss: 0.6978 - mse: 0.6978 - val_loss: 0.5961 - val_mse: 0.5961\n"
          ],
          "name": "stdout"
        }
      ]
    },
    {
      "cell_type": "code",
      "metadata": {
        "id": "ghX6ATkrM8on",
        "colab_type": "code",
        "colab": {}
      },
      "source": [
        "model3_best = tf.keras.models.load_model('model3-e004.ckpt')"
      ],
      "execution_count": 0,
      "outputs": []
    },
    {
      "cell_type": "code",
      "metadata": {
        "id": "LyOf-PQJM92s",
        "colab_type": "code",
        "outputId": "4e14f2d4-fbe8-484f-d960-ecfbb04413eb",
        "colab": {
          "base_uri": "https://localhost:8080/",
          "height": 102
        }
      },
      "source": [
        "source_test_arr = np.array(source_test)\n",
        "\n",
        "pred3 = model3_best.predict(x=[padded_test,source_test])\n",
        "pred3_arr = [p[0] for p in pred3]\n",
        "\n",
        "d = np.subtract(np.array(pred3_arr),y_test_std)\n",
        "test_mse = np.mean(np.square(d))\n",
        "test_rmse = np.sqrt(test_mse)\n",
        "test_mae = np.mean(abs(d))\n",
        "test_pearsonr = stats.pearsonr(y_test_std, pred3_arr)\n",
        "\n",
        "rsq2 = r2_score(y_test_std, pred3_arr)\n",
        "\n",
        "print(\"Test Results on best model epoch\")\n",
        "print(\"RMSE:\",test_rmse)\n",
        "print(\"MAE:\",test_mae)\n",
        "print(\"Pearson R & P-value:\",test_pearsonr)\n",
        "print(\"R2:\",rsq2)"
      ],
      "execution_count": 50,
      "outputs": [
        {
          "output_type": "stream",
          "text": [
            "Test Results on best model epoch\n",
            "RMSE: 0.9258042214993242\n",
            "MAE: 0.7609065560614765\n",
            "Pearson R & P-value: (0.5386443509912984, 6.33916452921838e-26)\n",
            "R2: 0.12693596746662195\n"
          ],
          "name": "stdout"
        }
      ]
    },
    {
      "cell_type": "code",
      "metadata": {
        "id": "XX1HiQGoNesZ",
        "colab_type": "code",
        "outputId": "ac297aec-39ed-4ac8-bf3d-8b5284ae4b77",
        "colab": {
          "base_uri": "https://localhost:8080/",
          "height": 265
        }
      },
      "source": [
        "# Test Data Prediction\n",
        "plt.plot(y_test_std, pred3_arr, '.')\n",
        "# plot a line, a perfit predict would all fall on this line\n",
        "x = np.linspace(0, 5)\n",
        "plt.plot(x, x)\n",
        "plt.show()"
      ],
      "execution_count": 51,
      "outputs": [
        {
          "output_type": "display_data",
          "data": {
            "image/png": "[encoded data removed]",
            "text/plain": [
              "<Figure size 432x288 with 1 Axes>"
            ]
          },
          "metadata": {
            "tags": []
          }
        }
      ]
    },
    {
      "cell_type": "markdown",
      "metadata": {
        "id": "iFEFiI4dTI6v",
        "colab_type": "text"
      },
      "source": [
        "# Model 4 - Model 3 + Topic Input"
      ]
    },
    {
      "cell_type": "code",
      "metadata": {
        "id": "C731TK-lTJ3Z",
        "colab_type": "code",
        "colab": {}
      },
      "source": [
        "topic_train_arr = np.array(topic_train_t)\n",
        "topic_val_arr = np.array(topic_val)"
      ],
      "execution_count": 0,
      "outputs": []
    },
    {
      "cell_type": "code",
      "metadata": {
        "id": "mDM3NPuOTUZW",
        "colab_type": "code",
        "outputId": "638de6f8-f99b-4802-d192-ad184f5f9ea6",
        "colab": {
          "base_uri": "https://localhost:8080/",
          "height": 493
        }
      },
      "source": [
        "# three inputs\n",
        "body_input = Input(shape=(MAX_SEQ_LEN,))\n",
        "\n",
        "embedding_l = Embedding(input_dim=num_words,\n",
        "                            output_dim=EMBED_DIM,\n",
        "                            embeddings_initializer=Constant(embedding_matrix),\n",
        "                            input_length=MAX_SEQ_LEN,\n",
        "                            trainable=False\n",
        "                           )(body_input)\n",
        "\n",
        "LSTM_out = Bidirectional(LSTM(64))(embedding_l)\n",
        "\n",
        "source_input = Input(shape=(7,), name='source_input')\n",
        "\n",
        "topic_input = Input(shape=(6,), name='topic_input')\n",
        "\n",
        "x = tf.keras.layers.concatenate([LSTM_out, source_input, topic_input])\n",
        "x = Dense(64, activation='relu')(x)\n",
        "x = Dropout(0.2)(x)\n",
        "out = Dense(1, activation=None)(x)\n",
        "\n",
        "model4 = Model(inputs=[body_input, source_input, topic_input], outputs=out)\n",
        "\n",
        "model4.summary()"
      ],
      "execution_count": 82,
      "outputs": [
        {
          "output_type": "stream",
          "text": [
            "Model: \"model_5\"\n",
            "__________________________________________________________________________________________________\n",
            "Layer (type)                    Output Shape         Param #     Connected to                     \n",
            "==================================================================================================\n",
            "input_6 (InputLayer)            [(None, 2000)]       0                                            \n",
            "__________________________________________________________________________________________________\n",
            "embedding_7 (Embedding)         (None, 2000, 64)     1880192     input_6[0][0]                    \n",
            "__________________________________________________________________________________________________\n",
            "bidirectional_8 (Bidirectional) (None, 128)          66048       embedding_7[0][0]                \n",
            "__________________________________________________________________________________________________\n",
            "source_input (InputLayer)       [(None, 7)]          0                                            \n",
            "__________________________________________________________________________________________________\n",
            "topic_input (InputLayer)        [(None, 6)]          0                                            \n",
            "__________________________________________________________________________________________________\n",
            "concatenate_5 (Concatenate)     (None, 141)          0           bidirectional_8[0][0]            \n",
            "                                                                 source_input[0][0]               \n",
            "                                                                 topic_input[0][0]                \n",
            "__________________________________________________________________________________________________\n",
            "dense_15 (Dense)                (None, 64)           9088        concatenate_5[0][0]              \n",
            "__________________________________________________________________________________________________\n",
            "dropout_8 (Dropout)             (None, 64)           0           dense_15[0][0]                   \n",
            "__________________________________________________________________________________________________\n",
            "dense_16 (Dense)                (None, 1)            65          dropout_8[0][0]                  \n",
            "==================================================================================================\n",
            "Total params: 1,955,393\n",
            "Trainable params: 75,201\n",
            "Non-trainable params: 1,880,192\n",
            "__________________________________________________________________________________________________\n"
          ],
          "name": "stdout"
        }
      ]
    },
    {
      "cell_type": "code",
      "metadata": {
        "id": "xTSebU5WTpFj",
        "colab_type": "code",
        "colab": {}
      },
      "source": [
        "model4.compile(loss='mse', optimizer='adam', metrics=['mse'])\n",
        "\n",
        "earlyStopping = tf.keras.callbacks.EarlyStopping(monitor='val_mse', patience=11, verbose=0, mode='min')\n",
        "cp_save = tf.keras.callbacks.ModelCheckpoint('model4-e{epoch:03d}.ckpt', \n",
        "                                             save_best_only=False, monitor='val_mse', mode='min')"
      ],
      "execution_count": 0,
      "outputs": []
    },
    {
      "cell_type": "code",
      "metadata": {
        "id": "A6fA3FZTTvSF",
        "colab_type": "code",
        "outputId": "56ba801c-2694-48a7-b0e1-407e93afd05d",
        "colab": {
          "base_uri": "https://localhost:8080/",
          "height": 901
        }
      },
      "source": [
        "history4 = model4.fit([padded_train,source_train_arr,topic_train_arr], y_train_std, \n",
        "                     epochs=100, \n",
        "                     verbose=2, \n",
        "                     callbacks=[earlyStopping, cp_save],\n",
        "                     validation_data=([padded_val,source_val_arr,topic_val_arr],y_val_std))"
      ],
      "execution_count": 84,
      "outputs": [
        {
          "output_type": "stream",
          "text": [
            "Train on 1105 samples, validate on 196 samples\n",
            "Epoch 1/100\n",
            "INFO:tensorflow:Assets written to: model4-e001.ckpt/assets\n",
            "1105/1105 - 29s - loss: 2.2079 - mse: 2.2079 - val_loss: 0.6403 - val_mse: 0.6403\n",
            "Epoch 2/100\n",
            "INFO:tensorflow:Assets written to: model4-e002.ckpt/assets\n",
            "1105/1105 - 24s - loss: 0.9768 - mse: 0.9768 - val_loss: 0.6359 - val_mse: 0.6359\n",
            "Epoch 3/100\n",
            "INFO:tensorflow:Assets written to: model4-e003.ckpt/assets\n",
            "1105/1105 - 26s - loss: 0.8488 - mse: 0.8488 - val_loss: 0.5757 - val_mse: 0.5757\n",
            "Epoch 4/100\n",
            "INFO:tensorflow:Assets written to: model4-e004.ckpt/assets\n",
            "1105/1105 - 24s - loss: 0.8259 - mse: 0.8259 - val_loss: 0.5802 - val_mse: 0.5802\n",
            "Epoch 5/100\n",
            "INFO:tensorflow:Assets written to: model4-e005.ckpt/assets\n",
            "1105/1105 - 26s - loss: 0.7823 - mse: 0.7823 - val_loss: 0.5720 - val_mse: 0.5720\n",
            "Epoch 6/100\n",
            "INFO:tensorflow:Assets written to: model4-e006.ckpt/assets\n",
            "1105/1105 - 25s - loss: 0.7510 - mse: 0.7510 - val_loss: 0.5706 - val_mse: 0.5706\n",
            "Epoch 7/100\n",
            "INFO:tensorflow:Assets written to: model4-e007.ckpt/assets\n",
            "1105/1105 - 27s - loss: 0.7005 - mse: 0.7005 - val_loss: 0.5977 - val_mse: 0.5977\n",
            "Epoch 8/100\n",
            "INFO:tensorflow:Assets written to: model4-e008.ckpt/assets\n",
            "1105/1105 - 25s - loss: 0.7271 - mse: 0.7271 - val_loss: 0.5832 - val_mse: 0.5832\n",
            "Epoch 9/100\n",
            "INFO:tensorflow:Assets written to: model4-e009.ckpt/assets\n",
            "1105/1105 - 26s - loss: 0.7182 - mse: 0.7182 - val_loss: 0.6296 - val_mse: 0.6296\n",
            "Epoch 10/100\n",
            "INFO:tensorflow:Assets written to: model4-e010.ckpt/assets\n",
            "1105/1105 - 24s - loss: 0.7164 - mse: 0.7164 - val_loss: 0.5784 - val_mse: 0.5784\n",
            "Epoch 11/100\n",
            "INFO:tensorflow:Assets written to: model4-e011.ckpt/assets\n",
            "1105/1105 - 25s - loss: 0.6931 - mse: 0.6931 - val_loss: 0.5817 - val_mse: 0.5817\n",
            "Epoch 12/100\n",
            "INFO:tensorflow:Assets written to: model4-e012.ckpt/assets\n",
            "1105/1105 - 26s - loss: 0.7007 - mse: 0.7007 - val_loss: 0.5889 - val_mse: 0.5889\n",
            "Epoch 13/100\n",
            "INFO:tensorflow:Assets written to: model4-e013.ckpt/assets\n",
            "1105/1105 - 24s - loss: 0.7152 - mse: 0.7152 - val_loss: 0.6005 - val_mse: 0.6005\n",
            "Epoch 14/100\n",
            "INFO:tensorflow:Assets written to: model4-e014.ckpt/assets\n",
            "1105/1105 - 26s - loss: 0.7058 - mse: 0.7058 - val_loss: 0.5903 - val_mse: 0.5903\n",
            "Epoch 15/100\n",
            "INFO:tensorflow:Assets written to: model4-e015.ckpt/assets\n",
            "1105/1105 - 24s - loss: 0.7287 - mse: 0.7287 - val_loss: 0.5907 - val_mse: 0.5907\n",
            "Epoch 16/100\n",
            "INFO:tensorflow:Assets written to: model4-e016.ckpt/assets\n",
            "1105/1105 - 26s - loss: 0.6937 - mse: 0.6937 - val_loss: 0.5910 - val_mse: 0.5910\n",
            "Epoch 17/100\n",
            "INFO:tensorflow:Assets written to: model4-e017.ckpt/assets\n",
            "1105/1105 - 25s - loss: 0.7116 - mse: 0.7116 - val_loss: 0.6106 - val_mse: 0.6106\n"
          ],
          "name": "stdout"
        }
      ]
    },
    {
      "cell_type": "code",
      "metadata": {
        "id": "1PUw2ijpmKPj",
        "colab_type": "code",
        "colab": {
          "base_uri": "https://localhost:8080/",
          "height": 295
        },
        "outputId": "084b7699-6d8c-4373-d023-ace77aa11071"
      },
      "source": [
        "plot(history4)"
      ],
      "execution_count": 85,
      "outputs": [
        {
          "output_type": "display_data",
          "data": {
            "image/png": "[encoded data removed]",
            "text/plain": [
              "<Figure size 432x288 with 1 Axes>"
            ]
          },
          "metadata": {
            "tags": []
          }
        }
      ]
    },
    {
      "cell_type": "code",
      "metadata": {
        "id": "tJYvxDSDT7nU",
        "colab_type": "code",
        "colab": {}
      },
      "source": [
        "model4_best = tf.keras.models.load_model('model4-e016.ckpt')"
      ],
      "execution_count": 0,
      "outputs": []
    },
    {
      "cell_type": "code",
      "metadata": {
        "id": "IpHDSMknk8Aj",
        "colab_type": "code",
        "colab": {}
      },
      "source": [
        "!rm -rf 'model4-e001.ckpt'\n",
        "!rm -rf 'model4-e002.ckpt'\n",
        "!rm -rf 'model4-e003.ckpt'\n",
        "!rm -rf 'model4-e004.ckpt'\n",
        "!rm -rf 'model4-e005.ckpt'"
      ],
      "execution_count": 0,
      "outputs": []
    },
    {
      "cell_type": "code",
      "metadata": {
        "id": "Kt7L4Z9sUFym",
        "colab_type": "code",
        "outputId": "4c3c6d99-17fe-4e47-9c14-45600698b80d",
        "colab": {
          "base_uri": "https://localhost:8080/",
          "height": 102
        }
      },
      "source": [
        "source_test_arr = np.array(source_test)\n",
        "topic_test_arr = np.array(topic_test)\n",
        "\n",
        "pred4 = model4.predict(x=[padded_test,source_test_arr,topic_test_arr])\n",
        "pred4_arr = [p[0] for p in pred4]\n",
        "\n",
        "d = np.subtract(np.array(pred4_arr),y_test_std)\n",
        "test_mse = np.mean(np.square(d))\n",
        "test_rmse = np.sqrt(test_mse)\n",
        "test_mae = np.mean(abs(d))\n",
        "test_pearsonr = stats.pearsonr(y_test_std, pred4_arr)\n",
        "\n",
        "rsq3 = r2_score(y_test_std, pred4_arr)\n",
        "\n",
        "print(\"Test Results on best model epoch\")\n",
        "print(\"RMSE:\",test_rmse)\n",
        "print(\"MAE:\",test_mae)\n",
        "print(\"Pearson R & P-value:\",test_pearsonr)\n",
        "print(\"R2:\",rsq3)"
      ],
      "execution_count": 88,
      "outputs": [
        {
          "output_type": "stream",
          "text": [
            "Test Results on best model epoch\n",
            "RMSE: 0.8327037903162343\n",
            "MAE: 0.6640520923904384\n",
            "Pearson R & P-value: (0.5672033614597104, 3.785511340669255e-29)\n",
            "R2: 0.2937005525289894\n"
          ],
          "name": "stdout"
        }
      ]
    },
    {
      "cell_type": "code",
      "metadata": {
        "id": "MC5hqxOeUPBX",
        "colab_type": "code",
        "outputId": "338c0073-6287-4e0c-999e-4a210c8e0413",
        "colab": {
          "base_uri": "https://localhost:8080/",
          "height": 296
        }
      },
      "source": [
        "# Test Data Prediction\n",
        "plt.plot(y_test_std, pred4_arr, '.', alpha=0.4)\n",
        "# plot a line, a perfit predict would all fall on this line\n",
        "x = np.linspace(0, 5)\n",
        "plt.plot(x, x)\n",
        "plt.xlabel(\"y_true (actual mean rating)\")\n",
        "plt.ylabel(\"y_predict (predicted target rating)\")\n",
        "plt.title(\"BiLSTM Source + Topic (Compare y Truth & Predict)\")\n",
        "plt.show()"
      ],
      "execution_count": 95,
      "outputs": [
        {
          "output_type": "display_data",
          "data": {
            "image/png": "[encoded data removed]",
            "text/plain": [
              "<Figure size 432x288 with 1 Axes>"
            ]
          },
          "metadata": {
            "tags": []
          }
        }
      ]
    },
    {
      "cell_type": "markdown",
      "metadata": {
        "id": "oTWVd9PqwGdU",
        "colab_type": "text"
      },
      "source": [
        "# Test Model with no Lemmatization"
      ]
    },
    {
      "cell_type": "code",
      "metadata": {
        "id": "9znOBLkauB2w",
        "colab_type": "code",
        "colab": {}
      },
      "source": [
        "#clean data\n",
        "def clean_data_nolemma(text):\n",
        "    #remove punctuation, digits, extra stuff. make lowercase\n",
        "    text = text.lower()\n",
        "    text = re.sub('\\[.*?\\]', '', text)\n",
        "    text = re.sub('[%s]' % re.escape(string.punctuation), '', text)\n",
        "    text = re.sub('\\w*\\d\\w*', '', text)\n",
        "    text = re.sub('[‘’“”…]', '', text)\n",
        "    #lemma it - include POS tag in order to lemma it better\n",
        "    tag_map = defaultdict(lambda : wordnet.NOUN)\n",
        "    tag_map['J'] = wordnet.ADJ\n",
        "    tag_map['V'] = wordnet.VERB\n",
        "    tag_map['R'] = wordnet.ADV\n",
        "    lemmatizer = WordNetLemmatizer()\n",
        "    textTokens = word_tokenize(text)\n",
        "    #remove stopwords\n",
        "    word_tokens_nostop = [w for w in textTokens if not w in stopwords.words('english')] \n",
        "    return \" \".join(word_tokens_nostop)"
      ],
      "execution_count": 0,
      "outputs": []
    },
    {
      "cell_type": "code",
      "metadata": {
        "id": "BmYqrzE_wObL",
        "colab_type": "code",
        "colab": {}
      },
      "source": [
        "clean_body_train = data_train[\"content_body_clean\"].apply(clean_data_nolemma)\n",
        "clean_body_test = data_test[\"content_body_clean\"].apply(clean_data_nolemma)"
      ],
      "execution_count": 0,
      "outputs": []
    },
    {
      "cell_type": "code",
      "metadata": {
        "id": "b6ZBfec9wcXO",
        "colab_type": "code",
        "colab": {}
      },
      "source": [
        "X_train, X_val, y_train_t, y_val, source_train_t, source_val, topic_train_t, topic_val = train_test_split(clean_body_train, y_train, source_train, topic_train, \n",
        "                                                                                                          test_size=0.15, shuffle=True, random_state=3)"
      ],
      "execution_count": 0,
      "outputs": []
    },
    {
      "cell_type": "code",
      "metadata": {
        "id": "puFhgUDOwcbJ",
        "colab_type": "code",
        "colab": {}
      },
      "source": [
        "y_train_std = np.array(list(y_train_t))\n",
        "y_val_std = np.array(list(y_val))\n",
        "y_test_std = np.array(list(y_test))"
      ],
      "execution_count": 0,
      "outputs": []
    },
    {
      "cell_type": "code",
      "metadata": {
        "id": "Z__Sx3o2wou2",
        "colab_type": "code",
        "colab": {}
      },
      "source": [
        "train_body = []\n",
        "articles = list(clean_body_train)\n",
        "\n",
        "for article in articles:\n",
        "    art_tokens = word_tokenize(article)\n",
        "    train_body.append(art_tokens)"
      ],
      "execution_count": 0,
      "outputs": []
    },
    {
      "cell_type": "code",
      "metadata": {
        "id": "xzJNI2i1w4rG",
        "colab_type": "code",
        "outputId": "26977c00-8cc6-417b-d6d3-78ff802ffd81",
        "colab": {
          "base_uri": "https://localhost:8080/",
          "height": 34
        }
      },
      "source": [
        "# train word2vec model\n",
        "modelw2 = gensim.models.Word2Vec(sentences=train_body, size=EMBED_DIM, window=5, workers=4, min_count=1)\n",
        "# vocab size\n",
        "total_words = list(modelw2.wv.vocab)\n",
        "print(\"Vocab size\",len(total_words))"
      ],
      "execution_count": 0,
      "outputs": [
        {
          "output_type": "stream",
          "text": [
            "Vocab size 34869\n"
          ],
          "name": "stdout"
        }
      ]
    },
    {
      "cell_type": "code",
      "metadata": {
        "id": "EFlwIa8exXae",
        "colab_type": "code",
        "outputId": "967a6bf2-e7e0-46a4-abe6-258e4ffad793",
        "colab": {
          "base_uri": "https://localhost:8080/",
          "height": 71
        }
      },
      "source": [
        "modelw2.wv.save_word2vec_format('word2vec_embed2.txt',binary=False)"
      ],
      "execution_count": 0,
      "outputs": [
        {
          "output_type": "stream",
          "text": [
            "/usr/local/lib/python3.6/dist-packages/smart_open/smart_open_lib.py:402: UserWarning: This function is deprecated, use smart_open.open instead. See the migration notes for details: https://github.com/RaRe-Technologies/smart_open/blob/master/README.rst#migrating-to-the-new-open-function\n",
            "  'See the migration notes for details: %s' % _MIGRATION_NOTES_URL\n"
          ],
          "name": "stderr"
        }
      ]
    },
    {
      "cell_type": "code",
      "metadata": {
        "id": "Zh6SNIPpxXYC",
        "colab_type": "code",
        "colab": {}
      },
      "source": [
        "embeddings_index = {}\n",
        "f = open(os.path.join('','word2vec_embed2.txt'), encoding=\"utf-8\")\n",
        "for line in f:\n",
        "    values = line.split()\n",
        "    word = values[0]\n",
        "    coefs = np.asarray(values[1:])\n",
        "    embeddings_index[word] = coefs\n",
        "f.close()"
      ],
      "execution_count": 0,
      "outputs": []
    },
    {
      "cell_type": "code",
      "metadata": {
        "id": "xVOyVwX4xXVv",
        "colab_type": "code",
        "outputId": "91e6f67a-9226-4951-e2ef-22ad21d49931",
        "colab": {
          "base_uri": "https://localhost:8080/",
          "height": 34
        }
      },
      "source": [
        "VOCAB_SIZE = 34869\n",
        "\n",
        "tokenizer = tf.keras.preprocessing.text.Tokenizer(num_words=VOCAB_SIZE)\n",
        "tokenizer.fit_on_texts(clean_body_train)\n",
        "\n",
        "# Note, the tokenizer's word_index will not respect VOCAB_SIZE.\n",
        "# but, that parameter will be respected in later methods,\n",
        "# (for example, when you call text_to_sequences).\n",
        "# Also note that '0' is a reserved index for padding.\n",
        "word_index = tokenizer.word_index\n",
        "print(\"Word index\", len(word_index))"
      ],
      "execution_count": 0,
      "outputs": [
        {
          "output_type": "stream",
          "text": [
            "Word index 34869\n"
          ],
          "name": "stdout"
        }
      ]
    },
    {
      "cell_type": "code",
      "metadata": {
        "id": "RA2dkYiQxXSx",
        "colab_type": "code",
        "colab": {}
      },
      "source": [
        "# Use the texts_to_sequences utility to vectorize your training, \n",
        "# validation, and test questions. \n",
        "sequences_train = tokenizer.texts_to_sequences(X_train)\n",
        "sequences_val = tokenizer.texts_to_sequences(X_val)\n",
        "sequences_test = tokenizer.texts_to_sequences(clean_body_test)"
      ],
      "execution_count": 0,
      "outputs": []
    },
    {
      "cell_type": "code",
      "metadata": {
        "id": "ZkYRiGRRxrC6",
        "colab_type": "code",
        "colab": {}
      },
      "source": [
        "padded_train = tf.keras.preprocessing.sequence.pad_sequences(sequences_train, maxlen=MAX_SEQ_LEN)\n",
        "padded_val = tf.keras.preprocessing.sequence.pad_sequences(sequences_val, maxlen=MAX_SEQ_LEN)\n",
        "padded_test = tf.keras.preprocessing.sequence.pad_sequences(sequences_test, maxlen=MAX_SEQ_LEN)"
      ],
      "execution_count": 0,
      "outputs": []
    },
    {
      "cell_type": "code",
      "metadata": {
        "id": "KNH6usndxq_f",
        "colab_type": "code",
        "colab": {}
      },
      "source": [
        "num_words = len(word_index) + 1\n",
        "embedding_matrix = np.zeros((num_words,EMBED_DIM))\n",
        "\n",
        "for word, i in word_index.items():\n",
        "    if i > num_words:\n",
        "        continue\n",
        "    embedding_vector = embeddings_index.get(word)\n",
        "    if embedding_vector is not None:\n",
        "        # words not found in embedding index will be 0s\n",
        "        embedding_matrix[i] = embedding_vector"
      ],
      "execution_count": 0,
      "outputs": []
    },
    {
      "cell_type": "code",
      "metadata": {
        "id": "a8bb_xFnyEUP",
        "colab_type": "code",
        "outputId": "2ad3d4d3-1f3b-4e27-d0de-ac712aba4826",
        "colab": {
          "base_uri": "https://localhost:8080/",
          "height": 323
        }
      },
      "source": [
        "model = Sequential()\n",
        "embedding_layer = Embedding(input_dim=num_words,\n",
        "                            output_dim=EMBED_DIM,\n",
        "                            embeddings_initializer=Constant(embedding_matrix),\n",
        "                            input_length=MAX_SEQ_LEN,\n",
        "                            trainable=False\n",
        "                           )\n",
        "model.add(embedding_layer)\n",
        "#model.add(Flatten())\n",
        "model.add(Bidirectional(LSTM(64)))\n",
        "#model.add(GRU(units=32, dropout=0.2, recurrent_dropout=0.2))\n",
        "model.add(Dense(64, activation=\"relu\"))\n",
        "model.add(Dropout(0.2))\n",
        "model.add(Dense(1, activation=None))\n",
        "\n",
        "model.summary()"
      ],
      "execution_count": 0,
      "outputs": [
        {
          "output_type": "stream",
          "text": [
            "Model: \"sequential\"\n",
            "_________________________________________________________________\n",
            "Layer (type)                 Output Shape              Param #   \n",
            "=================================================================\n",
            "embedding_7 (Embedding)      (None, 2000, 64)          2231680   \n",
            "_________________________________________________________________\n",
            "bidirectional_7 (Bidirection (None, 128)               66048     \n",
            "_________________________________________________________________\n",
            "dense_10 (Dense)             (None, 64)                8256      \n",
            "_________________________________________________________________\n",
            "dropout_5 (Dropout)          (None, 64)                0         \n",
            "_________________________________________________________________\n",
            "dense_11 (Dense)             (None, 1)                 65        \n",
            "=================================================================\n",
            "Total params: 2,306,049\n",
            "Trainable params: 74,369\n",
            "Non-trainable params: 2,231,680\n",
            "_________________________________________________________________\n"
          ],
          "name": "stdout"
        }
      ]
    },
    {
      "cell_type": "code",
      "metadata": {
        "id": "OxldmNbByEji",
        "colab_type": "code",
        "colab": {}
      },
      "source": [
        "model.compile(loss='mse', optimizer='adam', metrics=['mse'])\n",
        "\n",
        "earlyStopping = tf.keras.callbacks.EarlyStopping(monitor='val_mse', patience=11, verbose=0, mode='min')\n",
        "cp_save = tf.keras.callbacks.ModelCheckpoint('model-e{epoch:03d}.ckpt', \n",
        "                                             save_best_only=True, monitor='val_mse', mode='min')"
      ],
      "execution_count": 0,
      "outputs": []
    },
    {
      "cell_type": "code",
      "metadata": {
        "id": "28QSwTvjyEhL",
        "colab_type": "code",
        "outputId": "7fd8c409-d9fd-4dd8-9a81-d5e61c479f21",
        "colab": {
          "base_uri": "https://localhost:8080/",
          "height": 680
        }
      },
      "source": [
        "history = model.fit(padded_train, y_train_std, \n",
        "                     epochs=100, \n",
        "                     verbose=2, \n",
        "                     callbacks=[earlyStopping, cp_save],\n",
        "                     validation_data=(padded_val,y_val_std))"
      ],
      "execution_count": 0,
      "outputs": [
        {
          "output_type": "stream",
          "text": [
            "Train on 1105 samples, validate on 196 samples\n",
            "Epoch 1/100\n",
            "INFO:tensorflow:Assets written to: model-e001.ckpt/assets\n",
            "1105/1105 - 25s - loss: 3.9222 - mse: 3.9222 - val_loss: 0.6405 - val_mse: 0.6405\n",
            "Epoch 2/100\n",
            "1105/1105 - 5s - loss: 1.0445 - mse: 1.0445 - val_loss: 0.6419 - val_mse: 0.6419\n",
            "Epoch 3/100\n",
            "INFO:tensorflow:Assets written to: model-e003.ckpt/assets\n",
            "1105/1105 - 22s - loss: 0.9374 - mse: 0.9374 - val_loss: 0.6269 - val_mse: 0.6269\n",
            "Epoch 4/100\n",
            "INFO:tensorflow:Assets written to: model-e004.ckpt/assets\n",
            "1105/1105 - 22s - loss: 0.9473 - mse: 0.9473 - val_loss: 0.6259 - val_mse: 0.6259\n",
            "Epoch 5/100\n",
            "1105/1105 - 5s - loss: 0.9752 - mse: 0.9752 - val_loss: 0.6391 - val_mse: 0.6391\n",
            "Epoch 6/100\n",
            "INFO:tensorflow:Assets written to: model-e006.ckpt/assets\n",
            "1105/1105 - 22s - loss: 0.9612 - mse: 0.9612 - val_loss: 0.6197 - val_mse: 0.6197\n",
            "Epoch 7/100\n",
            "1105/1105 - 5s - loss: 0.9293 - mse: 0.9293 - val_loss: 0.6282 - val_mse: 0.6282\n",
            "Epoch 8/100\n",
            "1105/1105 - 5s - loss: 0.9219 - mse: 0.9219 - val_loss: 0.6218 - val_mse: 0.6218\n",
            "Epoch 9/100\n",
            "1105/1105 - 5s - loss: 0.9166 - mse: 0.9166 - val_loss: 0.6953 - val_mse: 0.6953\n",
            "Epoch 10/100\n",
            "1105/1105 - 5s - loss: 0.9329 - mse: 0.9329 - val_loss: 0.6199 - val_mse: 0.6199\n",
            "Epoch 11/100\n",
            "1105/1105 - 5s - loss: 0.9089 - mse: 0.9089 - val_loss: 0.6837 - val_mse: 0.6837\n",
            "Epoch 12/100\n",
            "1105/1105 - 5s - loss: 0.9046 - mse: 0.9046 - val_loss: 0.6420 - val_mse: 0.6420\n",
            "Epoch 13/100\n",
            "1105/1105 - 5s - loss: 0.8498 - mse: 0.8498 - val_loss: 0.6660 - val_mse: 0.6660\n",
            "Epoch 14/100\n",
            "1105/1105 - 5s - loss: 0.8822 - mse: 0.8822 - val_loss: 0.6762 - val_mse: 0.6762\n",
            "Epoch 15/100\n",
            "1105/1105 - 5s - loss: 0.9213 - mse: 0.9213 - val_loss: 0.6882 - val_mse: 0.6882\n",
            "Epoch 16/100\n",
            "1105/1105 - 5s - loss: 0.9249 - mse: 0.9249 - val_loss: 0.6361 - val_mse: 0.6361\n",
            "Epoch 17/100\n",
            "1105/1105 - 5s - loss: 0.8821 - mse: 0.8821 - val_loss: 0.6346 - val_mse: 0.6346\n"
          ],
          "name": "stdout"
        }
      ]
    },
    {
      "cell_type": "code",
      "metadata": {
        "id": "1Xc2V9X8yEer",
        "colab_type": "code",
        "outputId": "8b17ab71-881f-41ed-816e-b4cc404f22fd",
        "colab": {
          "base_uri": "https://localhost:8080/",
          "height": 85
        }
      },
      "source": [
        "model1_best = tf.keras.models.load_model('model-e006.ckpt')\n",
        "\n",
        "pred1 = model1_best.predict(x=padded_test)\n",
        "pred_arr = [p[0] for p in pred1]\n",
        "\n",
        "d = np.subtract(np.array(pred_arr),y_test_std)\n",
        "test_mse = np.mean(np.square(d))\n",
        "test_rmse = np.sqrt(test_mse)\n",
        "test_mae = np.mean(abs(d))\n",
        "test_pearsonr = stats.pearsonr(y_test_std, pred_arr)\n",
        "\n",
        "print(\"Test Results on best model epoch\")\n",
        "print(\"RMSE:\",test_rmse)\n",
        "print(\"MAE:\",test_mae)\n",
        "print(\"Pearson R & P-value:\",test_pearsonr)"
      ],
      "execution_count": 0,
      "outputs": [
        {
          "output_type": "stream",
          "text": [
            "Test Results on best model epoch\n",
            "RMSE: 0.9927959993024132\n",
            "MAE: 0.8129505838159038\n",
            "Pearson R & P-value: (0.23229618068896188, 2.2733899234061983e-05)\n"
          ],
          "name": "stdout"
        }
      ]
    },
    {
      "cell_type": "code",
      "metadata": {
        "id": "0vITV2mAykW7",
        "colab_type": "code",
        "outputId": "c3436f36-aef3-42c8-a204-1cd407d10866",
        "colab": {
          "base_uri": "https://localhost:8080/",
          "height": 265
        }
      },
      "source": [
        "# Test Data Prediction\n",
        "plt.plot(y_test_std, pred_arr, '.')\n",
        "# plot a line, a perfit predict would all fall on this line\n",
        "x = np.linspace(0, 5)\n",
        "plt.plot(x, x)\n",
        "plt.show()"
      ],
      "execution_count": 0,
      "outputs": [
        {
          "output_type": "display_data",
          "data": {
            "image/png": "[encoded data removed]",
            "text/plain": [
              "<Figure size 432x288 with 1 Axes>"
            ]
          },
          "metadata": {
            "tags": []
          }
        }
      ]
    }
  ]
}