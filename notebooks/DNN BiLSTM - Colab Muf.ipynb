{
  "nbformat": 4,
  "nbformat_minor": 0,
  "metadata": {
    "kernelspec": {
      "name": "python3",
      "display_name": "Python 3"
    },
    "language_info": {
      "codemirror_mode": {
        "name": "ipython",
        "version": 3
      },
      "file_extension": ".py",
      "mimetype": "text/x-python",
      "name": "python",
      "nbconvert_exporter": "python",
      "pygments_lexer": "ipython3",
      "version": "3.7.4"
    },
    "colab": {
      "name": "DNN BiLSTM - Colab Muf.ipynb",
      "provenance": [],
      "toc_visible": true
    },
    "accelerator": "GPU"
  },
  "cells": [
    {
      "cell_type": "markdown",
      "metadata": {
        "id": "9NU1PC2Hh7K8",
        "colab_type": "text"
      },
      "source": [
        "# BERT & TF"
      ]
    },
    {
      "cell_type": "code",
      "metadata": {
        "id": "_y3z5DSIilh_",
        "colab_type": "code",
        "outputId": "b3f7804e-ae6e-4883-d1fb-88b24248e38b",
        "colab": {
          "base_uri": "https://localhost:8080/",
          "height": 921
        }
      },
      "source": [
        "!pip install tensorflow==2.1.0"
      ],
      "execution_count": 1,
      "outputs": [
        {
          "output_type": "stream",
          "text": [
            "Collecting tensorflow==2.1.0\n",
            "\u001b[?25l  Downloading https://files.pythonhosted.org/packages/85/d4/c0cd1057b331bc38b65478302114194bd8e1b9c2bbc06e300935c0e93d90/tensorflow-2.1.0-cp36-cp36m-manylinux2010_x86_64.whl (421.8MB)\n",
            "\u001b[K     |████████████████████████████████| 421.8MB 39kB/s \n",
            "\u001b[?25hRequirement already satisfied: grpcio>=1.8.6 in /usr/local/lib/python3.6/dist-packages (from tensorflow==2.1.0) (1.27.1)\n",
            "Requirement already satisfied: numpy<2.0,>=1.16.0 in /usr/local/lib/python3.6/dist-packages (from tensorflow==2.1.0) (1.17.5)\n",
            "Requirement already satisfied: wrapt>=1.11.1 in /usr/local/lib/python3.6/dist-packages (from tensorflow==2.1.0) (1.11.2)\n",
            "Requirement already satisfied: opt-einsum>=2.3.2 in /usr/local/lib/python3.6/dist-packages (from tensorflow==2.1.0) (3.1.0)\n",
            "Requirement already satisfied: wheel>=0.26; python_version >= \"3\" in /usr/local/lib/python3.6/dist-packages (from tensorflow==2.1.0) (0.34.2)\n",
            "Requirement already satisfied: gast==0.2.2 in /usr/local/lib/python3.6/dist-packages (from tensorflow==2.1.0) (0.2.2)\n",
            "Requirement already satisfied: termcolor>=1.1.0 in /usr/local/lib/python3.6/dist-packages (from tensorflow==2.1.0) (1.1.0)\n",
            "Requirement already satisfied: absl-py>=0.7.0 in /usr/local/lib/python3.6/dist-packages (from tensorflow==2.1.0) (0.9.0)\n",
            "Requirement already satisfied: google-pasta>=0.1.6 in /usr/local/lib/python3.6/dist-packages (from tensorflow==2.1.0) (0.1.8)\n",
            "Requirement already satisfied: keras-applications>=1.0.8 in /usr/local/lib/python3.6/dist-packages (from tensorflow==2.1.0) (1.0.8)\n",
            "Requirement already satisfied: protobuf>=3.8.0 in /usr/local/lib/python3.6/dist-packages (from tensorflow==2.1.0) (3.10.0)\n",
            "Requirement already satisfied: keras-preprocessing>=1.1.0 in /usr/local/lib/python3.6/dist-packages (from tensorflow==2.1.0) (1.1.0)\n",
            "Requirement already satisfied: six>=1.12.0 in /usr/local/lib/python3.6/dist-packages (from tensorflow==2.1.0) (1.12.0)\n",
            "Requirement already satisfied: scipy==1.4.1; python_version >= \"3\" in /usr/local/lib/python3.6/dist-packages (from tensorflow==2.1.0) (1.4.1)\n",
            "Collecting tensorboard<2.2.0,>=2.1.0\n",
            "\u001b[?25l  Downloading https://files.pythonhosted.org/packages/d9/41/bbf49b61370e4f4d245d4c6051dfb6db80cec672605c91b1652ac8cc3d38/tensorboard-2.1.1-py3-none-any.whl (3.8MB)\n",
            "\u001b[K     |████████████████████████████████| 3.9MB 43.4MB/s \n",
            "\u001b[?25hCollecting tensorflow-estimator<2.2.0,>=2.1.0rc0\n",
            "\u001b[?25l  Downloading https://files.pythonhosted.org/packages/18/90/b77c328a1304437ab1310b463e533fa7689f4bfc41549593056d812fab8e/tensorflow_estimator-2.1.0-py2.py3-none-any.whl (448kB)\n",
            "\u001b[K     |████████████████████████████████| 450kB 50.5MB/s \n",
            "\u001b[?25hRequirement already satisfied: astor>=0.6.0 in /usr/local/lib/python3.6/dist-packages (from tensorflow==2.1.0) (0.8.1)\n",
            "Requirement already satisfied: h5py in /usr/local/lib/python3.6/dist-packages (from keras-applications>=1.0.8->tensorflow==2.1.0) (2.8.0)\n",
            "Requirement already satisfied: setuptools in /usr/local/lib/python3.6/dist-packages (from protobuf>=3.8.0->tensorflow==2.1.0) (45.2.0)\n",
            "Requirement already satisfied: werkzeug>=0.11.15 in /usr/local/lib/python3.6/dist-packages (from tensorboard<2.2.0,>=2.1.0->tensorflow==2.1.0) (1.0.0)\n",
            "Requirement already satisfied: google-auth-oauthlib<0.5,>=0.4.1 in /usr/local/lib/python3.6/dist-packages (from tensorboard<2.2.0,>=2.1.0->tensorflow==2.1.0) (0.4.1)\n",
            "Requirement already satisfied: markdown>=2.6.8 in /usr/local/lib/python3.6/dist-packages (from tensorboard<2.2.0,>=2.1.0->tensorflow==2.1.0) (3.2.1)\n",
            "Requirement already satisfied: requests<3,>=2.21.0 in /usr/local/lib/python3.6/dist-packages (from tensorboard<2.2.0,>=2.1.0->tensorflow==2.1.0) (2.21.0)\n",
            "Requirement already satisfied: google-auth<2,>=1.6.3 in /usr/local/lib/python3.6/dist-packages (from tensorboard<2.2.0,>=2.1.0->tensorflow==2.1.0) (1.7.2)\n",
            "Requirement already satisfied: requests-oauthlib>=0.7.0 in /usr/local/lib/python3.6/dist-packages (from google-auth-oauthlib<0.5,>=0.4.1->tensorboard<2.2.0,>=2.1.0->tensorflow==2.1.0) (1.3.0)\n",
            "Requirement already satisfied: chardet<3.1.0,>=3.0.2 in /usr/local/lib/python3.6/dist-packages (from requests<3,>=2.21.0->tensorboard<2.2.0,>=2.1.0->tensorflow==2.1.0) (3.0.4)\n",
            "Requirement already satisfied: certifi>=2017.4.17 in /usr/local/lib/python3.6/dist-packages (from requests<3,>=2.21.0->tensorboard<2.2.0,>=2.1.0->tensorflow==2.1.0) (2019.11.28)\n",
            "Requirement already satisfied: urllib3<1.25,>=1.21.1 in /usr/local/lib/python3.6/dist-packages (from requests<3,>=2.21.0->tensorboard<2.2.0,>=2.1.0->tensorflow==2.1.0) (1.24.3)\n",
            "Requirement already satisfied: idna<2.9,>=2.5 in /usr/local/lib/python3.6/dist-packages (from requests<3,>=2.21.0->tensorboard<2.2.0,>=2.1.0->tensorflow==2.1.0) (2.8)\n",
            "Requirement already satisfied: cachetools<3.2,>=2.0.0 in /usr/local/lib/python3.6/dist-packages (from google-auth<2,>=1.6.3->tensorboard<2.2.0,>=2.1.0->tensorflow==2.1.0) (3.1.1)\n",
            "Requirement already satisfied: pyasn1-modules>=0.2.1 in /usr/local/lib/python3.6/dist-packages (from google-auth<2,>=1.6.3->tensorboard<2.2.0,>=2.1.0->tensorflow==2.1.0) (0.2.8)\n",
            "Requirement already satisfied: rsa<4.1,>=3.1.4 in /usr/local/lib/python3.6/dist-packages (from google-auth<2,>=1.6.3->tensorboard<2.2.0,>=2.1.0->tensorflow==2.1.0) (4.0)\n",
            "Requirement already satisfied: oauthlib>=3.0.0 in /usr/local/lib/python3.6/dist-packages (from requests-oauthlib>=0.7.0->google-auth-oauthlib<0.5,>=0.4.1->tensorboard<2.2.0,>=2.1.0->tensorflow==2.1.0) (3.1.0)\n",
            "Requirement already satisfied: pyasn1<0.5.0,>=0.4.6 in /usr/local/lib/python3.6/dist-packages (from pyasn1-modules>=0.2.1->google-auth<2,>=1.6.3->tensorboard<2.2.0,>=2.1.0->tensorflow==2.1.0) (0.4.8)\n",
            "Installing collected packages: tensorboard, tensorflow-estimator, tensorflow\n",
            "  Found existing installation: tensorboard 1.15.0\n",
            "    Uninstalling tensorboard-1.15.0:\n",
            "      Successfully uninstalled tensorboard-1.15.0\n",
            "  Found existing installation: tensorflow-estimator 1.15.1\n",
            "    Uninstalling tensorflow-estimator-1.15.1:\n",
            "      Successfully uninstalled tensorflow-estimator-1.15.1\n",
            "  Found existing installation: tensorflow 1.15.0\n",
            "    Uninstalling tensorflow-1.15.0:\n",
            "      Successfully uninstalled tensorflow-1.15.0\n",
            "Successfully installed tensorboard-2.1.1 tensorflow-2.1.0 tensorflow-estimator-2.1.0\n"
          ],
          "name": "stdout"
        }
      ]
    },
    {
      "cell_type": "code",
      "metadata": {
        "id": "u7LA1PrPh7LC",
        "colab_type": "code",
        "outputId": "d5a4561f-816e-4be5-a29e-73a4132569e6",
        "colab": {
          "base_uri": "https://localhost:8080/",
          "height": 34
        }
      },
      "source": [
        "import tensorflow as tf\n",
        "import pandas as pd\n",
        "import tensorflow_hub as hub\n",
        "import os\n",
        "import re\n",
        "import numpy as np\n",
        "import pickle as pk\n",
        "import string\n",
        "import nltk\n",
        "from nltk.corpus import stopwords\n",
        "from nltk.corpus import wordnet\n",
        "from nltk import word_tokenize, pos_tag\n",
        "from nltk.stem import WordNetLemmatizer\n",
        "from tqdm import tqdm_notebook\n",
        "from collections import defaultdict\n",
        "from tensorflow.keras import backend as K\n",
        "from sklearn.model_selection import train_test_split\n",
        "import matplotlib.pyplot as plt\n",
        "from scipy import stats\n",
        "\n",
        "# Params for bert model and tokenization\n",
        "bert_path = \"https://tfhub.dev/google/bert_uncased_L-12_H-768_A-12/1\"\n",
        "\n",
        "tf.__version__"
      ],
      "execution_count": 47,
      "outputs": [
        {
          "output_type": "execute_result",
          "data": {
            "text/plain": [
              "'2.1.0'"
            ]
          },
          "metadata": {
            "tags": []
          },
          "execution_count": 47
        }
      ]
    },
    {
      "cell_type": "code",
      "metadata": {
        "id": "4WIsv69PjJka",
        "colab_type": "code",
        "outputId": "a667b292-82b1-4446-d987-75a998744bcb",
        "colab": {
          "base_uri": "https://localhost:8080/",
          "height": 187
        }
      },
      "source": [
        "nltk.download('wordnet')\n",
        "nltk.download('punkt')\n",
        "nltk.download('averaged_perceptron_tagger')\n",
        "nltk.download('stopwords')"
      ],
      "execution_count": 3,
      "outputs": [
        {
          "output_type": "stream",
          "text": [
            "[nltk_data] Downloading package wordnet to /root/nltk_data...\n",
            "[nltk_data]   Unzipping corpora/wordnet.zip.\n",
            "[nltk_data] Downloading package punkt to /root/nltk_data...\n",
            "[nltk_data]   Unzipping tokenizers/punkt.zip.\n",
            "[nltk_data] Downloading package averaged_perceptron_tagger to\n",
            "[nltk_data]     /root/nltk_data...\n",
            "[nltk_data]   Unzipping taggers/averaged_perceptron_tagger.zip.\n",
            "[nltk_data] Downloading package stopwords to /root/nltk_data...\n",
            "[nltk_data]   Unzipping corpora/stopwords.zip.\n"
          ],
          "name": "stdout"
        },
        {
          "output_type": "execute_result",
          "data": {
            "text/plain": [
              "True"
            ]
          },
          "metadata": {
            "tags": []
          },
          "execution_count": 3
        }
      ]
    },
    {
      "cell_type": "markdown",
      "metadata": {
        "id": "XjPLt0VIh7LL",
        "colab_type": "text"
      },
      "source": [
        "### Load Data - Latest Data Split - Blind"
      ]
    },
    {
      "cell_type": "code",
      "metadata": {
        "id": "_Q8PbnOFiYrj",
        "colab_type": "code",
        "outputId": "986cebea-f08a-445c-ee6c-07af21874133",
        "colab": {
          "base_uri": "https://localhost:8080/",
          "height": 391
        }
      },
      "source": [
        "!wget https://raw.githubusercontent.com/harish-cu/tweet-url-relationships/master/data/temp/sampling_blind/latest/articles_train.csv\n",
        "!wget https://raw.githubusercontent.com/harish-cu/tweet-url-relationships/master/data/temp/sampling_blind/latest/articles_test.csv\n",
        "!wget https://raw.githubusercontent.com/harish-cu/tweet-url-relationships/master/data/processed/article_topics_6.csv"
      ],
      "execution_count": 4,
      "outputs": [
        {
          "output_type": "stream",
          "text": [
            "--2020-03-05 14:15:54--  https://raw.githubusercontent.com/harish-cu/tweet-url-relationships/master/data/temp/sampling_blind/latest/articles_train.csv\n",
            "Resolving raw.githubusercontent.com (raw.githubusercontent.com)... 151.101.0.133, 151.101.64.133, 151.101.128.133, ...\n",
            "Connecting to raw.githubusercontent.com (raw.githubusercontent.com)|151.101.0.133|:443... connected.\n",
            "HTTP request sent, awaiting response... 200 OK\n",
            "Length: 6523814 (6.2M) [text/plain]\n",
            "Saving to: ‘articles_train.csv’\n",
            "\n",
            "\rarticles_train.csv    0%[                    ]       0  --.-KB/s               \rarticles_train.csv  100%[===================>]   6.22M  --.-KB/s    in 0.04s   \n",
            "\n",
            "2020-03-05 14:15:55 (150 MB/s) - ‘articles_train.csv’ saved [6523814/6523814]\n",
            "\n",
            "--2020-03-05 14:15:56--  https://raw.githubusercontent.com/harish-cu/tweet-url-relationships/master/data/temp/sampling_blind/latest/articles_test.csv\n",
            "Resolving raw.githubusercontent.com (raw.githubusercontent.com)... 151.101.0.133, 151.101.64.133, 151.101.128.133, ...\n",
            "Connecting to raw.githubusercontent.com (raw.githubusercontent.com)|151.101.0.133|:443... connected.\n",
            "HTTP request sent, awaiting response... 200 OK\n",
            "Length: 1509129 (1.4M) [text/plain]\n",
            "Saving to: ‘articles_test.csv’\n",
            "\n",
            "articles_test.csv   100%[===================>]   1.44M  --.-KB/s    in 0.03s   \n",
            "\n",
            "2020-03-05 14:15:57 (53.9 MB/s) - ‘articles_test.csv’ saved [1509129/1509129]\n",
            "\n"
          ],
          "name": "stdout"
        }
      ]
    },
    {
      "cell_type": "code",
      "metadata": {
        "id": "lfoPK5Zfh7LN",
        "colab_type": "code",
        "colab": {}
      },
      "source": [
        "data_train = pd.read_csv(\"articles_train.csv\")\n",
        "data_test = pd.read_csv(\"articles_test.csv\")\n",
        "data_topics = pd.read_csv(\"article_topics_6.csv\")"
      ],
      "execution_count": 0,
      "outputs": []
    },
    {
      "cell_type": "code",
      "metadata": {
        "scrolled": false,
        "id": "ljVs1smeh7LV",
        "colab_type": "code",
        "outputId": "ce121458-dbe9-4b22-d4de-77aa72951989",
        "colab": {
          "base_uri": "https://localhost:8080/",
          "height": 340
        }
      },
      "source": [
        "data_train.head()"
      ],
      "execution_count": 6,
      "outputs": [
        {
          "output_type": "execute_result",
          "data": {
            "text/html": [
              "<div>\n",
              "<style scoped>\n",
              "    .dataframe tbody tr th:only-of-type {\n",
              "        vertical-align: middle;\n",
              "    }\n",
              "\n",
              "    .dataframe tbody tr th {\n",
              "        vertical-align: top;\n",
              "    }\n",
              "\n",
              "    .dataframe thead th {\n",
              "        text-align: right;\n",
              "    }\n",
              "</style>\n",
              "<table border=\"1\" class=\"dataframe\">\n",
              "  <thead>\n",
              "    <tr style=\"text-align: right;\">\n",
              "      <th></th>\n",
              "      <th>content_id</th>\n",
              "      <th>month</th>\n",
              "      <th>day</th>\n",
              "      <th>year</th>\n",
              "      <th>date</th>\n",
              "      <th>content_source_desc</th>\n",
              "      <th>content_title_clean</th>\n",
              "      <th>content_body_clean</th>\n",
              "      <th>blind_mean_rating</th>\n",
              "      <th>blind_rating_count</th>\n",
              "      <th>blind_ratings</th>\n",
              "    </tr>\n",
              "  </thead>\n",
              "  <tbody>\n",
              "    <tr>\n",
              "      <th>0</th>\n",
              "      <td>2932</td>\n",
              "      <td>11</td>\n",
              "      <td>2</td>\n",
              "      <td>2017</td>\n",
              "      <td>2017-11-02</td>\n",
              "      <td>The New York Times</td>\n",
              "      <td>A Tax Cut That Lifts the Economy? Opinions Are...</td>\n",
              "      <td>Yet if the House plan resolves some longstandi...</td>\n",
              "      <td>3.177778</td>\n",
              "      <td>45</td>\n",
              "      <td>[4.5, 1.5, 0.5, 4.5, 1.0, 4.0, 3.5, 3.5, 1.5, ...</td>\n",
              "    </tr>\n",
              "    <tr>\n",
              "      <th>1</th>\n",
              "      <td>2870</td>\n",
              "      <td>11</td>\n",
              "      <td>1</td>\n",
              "      <td>2017</td>\n",
              "      <td>2017-11-01</td>\n",
              "      <td>Fox News</td>\n",
              "      <td>Tom Tancredo enters Colorado governor's race, ...</td>\n",
              "      <td>Former U.S. Rep. Tom Tancredo announced Tuesda...</td>\n",
              "      <td>2.375000</td>\n",
              "      <td>16</td>\n",
              "      <td>[3.5, 4.0, 3.0, 2.5, 0.5, 3.0, 0.5, 0.5, 4.5, ...</td>\n",
              "    </tr>\n",
              "    <tr>\n",
              "      <th>2</th>\n",
              "      <td>2869</td>\n",
              "      <td>11</td>\n",
              "      <td>1</td>\n",
              "      <td>2017</td>\n",
              "      <td>2017-11-01</td>\n",
              "      <td>The New York Times</td>\n",
              "      <td>Panel Recommends Opioid Solutions but Puts No ...</td>\n",
              "      <td>President Trump’s bipartisan commission on th...</td>\n",
              "      <td>3.916667</td>\n",
              "      <td>6</td>\n",
              "      <td>[5.0, 4.0, 4.5, 3.5, 2.0, 4.5]</td>\n",
              "    </tr>\n",
              "    <tr>\n",
              "      <th>3</th>\n",
              "      <td>2864</td>\n",
              "      <td>11</td>\n",
              "      <td>1</td>\n",
              "      <td>2017</td>\n",
              "      <td>2017-11-01</td>\n",
              "      <td>Fox News</td>\n",
              "      <td>Trump vows to end non merit-base immigration, ...</td>\n",
              "      <td>President Trump vowed Wednesday to scrap the f...</td>\n",
              "      <td>2.100000</td>\n",
              "      <td>5</td>\n",
              "      <td>[2.0, 2.5, 4.0, 0.5, 1.5]</td>\n",
              "    </tr>\n",
              "    <tr>\n",
              "      <th>4</th>\n",
              "      <td>2868</td>\n",
              "      <td>11</td>\n",
              "      <td>1</td>\n",
              "      <td>2017</td>\n",
              "      <td>2017-11-01</td>\n",
              "      <td>Breitbart</td>\n",
              "      <td>WATCH: Congress Holds Hearing on Banning Abort...</td>\n",
              "      <td>Congress will hold a hearing Wednesday on a bi...</td>\n",
              "      <td>2.428571</td>\n",
              "      <td>21</td>\n",
              "      <td>[2.0, 1.0, 0.5, 1.0, 3.5, 5.0, 2.0, 0.5, 2.5, ...</td>\n",
              "    </tr>\n",
              "  </tbody>\n",
              "</table>\n",
              "</div>"
            ],
            "text/plain": [
              "   content_id  ...                                      blind_ratings\n",
              "0        2932  ...  [4.5, 1.5, 0.5, 4.5, 1.0, 4.0, 3.5, 3.5, 1.5, ...\n",
              "1        2870  ...  [3.5, 4.0, 3.0, 2.5, 0.5, 3.0, 0.5, 0.5, 4.5, ...\n",
              "2        2869  ...                     [5.0, 4.0, 4.5, 3.5, 2.0, 4.5]\n",
              "3        2864  ...                          [2.0, 2.5, 4.0, 0.5, 1.5]\n",
              "4        2868  ...  [2.0, 1.0, 0.5, 1.0, 3.5, 5.0, 2.0, 0.5, 2.5, ...\n",
              "\n",
              "[5 rows x 11 columns]"
            ]
          },
          "metadata": {
            "tags": []
          },
          "execution_count": 6
        }
      ]
    },
    {
      "cell_type": "code",
      "metadata": {
        "id": "kqTLhtyTh7Ld",
        "colab_type": "code",
        "colab": {}
      },
      "source": [
        "#clean data\n",
        "def clean_data(text):\n",
        "    #remove punctuation, digits, extra stuff. make lowercase\n",
        "    text = text.lower()\n",
        "    text = re.sub('\\[.*?\\]', '', text)\n",
        "    text = re.sub('[%s]' % re.escape(string.punctuation), '', text)\n",
        "    text = re.sub('\\w*\\d\\w*', '', text)\n",
        "    text = re.sub('[‘’“”…]', '', text)\n",
        "    #lemma it - include POS tag in order to lemma it better\n",
        "    tag_map = defaultdict(lambda : wordnet.NOUN)\n",
        "    tag_map['J'] = wordnet.ADJ\n",
        "    tag_map['V'] = wordnet.VERB\n",
        "    tag_map['R'] = wordnet.ADV\n",
        "    lemmatizer = WordNetLemmatizer()\n",
        "    textTokens = word_tokenize(text)\n",
        "    #remove stopwords\n",
        "    word_tokens_nostop = [w for w in textTokens if not w in stopwords.words('english')] \n",
        "    #now lemma\n",
        "    text = [lemmatizer.lemmatize(tok, tag_map[tag[0]]) for tok, tag in pos_tag(word_tokens_nostop)]\n",
        "    return \" \".join(text)"
      ],
      "execution_count": 0,
      "outputs": []
    },
    {
      "cell_type": "markdown",
      "metadata": {
        "id": "nuMlrQk8h7Lj",
        "colab_type": "text"
      },
      "source": [
        "### Get clean body"
      ]
    },
    {
      "cell_type": "code",
      "metadata": {
        "id": "8YD8Ptykh7Ll",
        "colab_type": "code",
        "colab": {}
      },
      "source": [
        "clean_body_train = data_train[\"content_body_clean\"].apply(clean_data)\n",
        "y_train = data_train['blind_mean_rating']\n",
        "\n",
        "clean_body_test = data_test[\"content_body_clean\"].apply(clean_data)\n",
        "y_test = data_test['blind_mean_rating']"
      ],
      "execution_count": 0,
      "outputs": []
    },
    {
      "cell_type": "code",
      "metadata": {
        "id": "1inwDo-TEkmr",
        "colab_type": "code",
        "colab": {}
      },
      "source": [
        "source_train = pd.get_dummies(data_train['content_source_desc'])\n",
        "source_test = pd.get_dummies(data_test['content_source_desc'])"
      ],
      "execution_count": 0,
      "outputs": []
    },
    {
      "cell_type": "code",
      "metadata": {
        "id": "I615oN4MRtFV",
        "colab_type": "code",
        "outputId": "e4e9f9b5-f5e3-4e90-c525-ef5d9031d5ad",
        "colab": {
          "base_uri": "https://localhost:8080/",
          "height": 34
        }
      },
      "source": [
        "source_train.shape"
      ],
      "execution_count": 10,
      "outputs": [
        {
          "output_type": "execute_result",
          "data": {
            "text/plain": [
              "(1301, 7)"
            ]
          },
          "metadata": {
            "tags": []
          },
          "execution_count": 10
        }
      ]
    },
    {
      "cell_type": "code",
      "metadata": {
        "id": "JWQTv8scPFu3",
        "colab_type": "code",
        "colab": {}
      },
      "source": [
        "topics_train = pd.DataFrame(columns=['topic'])\n",
        "for index, row in data_train.iterrows():\n",
        "  topics_train = topics_train.append({'topic':data_topics[data_topics['content_id']==row['content_id']]['topic'].values[0]}, ignore_index=True)\n",
        "topics_test = pd.DataFrame(columns=['topic'])\n",
        "for index, row in data_test.iterrows():\n",
        "  topics_test = topics_test.append({'topic':data_topics[data_topics['content_id']==row['content_id']]['topic'].values[0]}, ignore_index=True)"
      ],
      "execution_count": 0,
      "outputs": []
    },
    {
      "cell_type": "code",
      "metadata": {
        "id": "pPxnYkw5PFyi",
        "colab_type": "code",
        "colab": {}
      },
      "source": [
        "topic_train = pd.get_dummies(topics_train['topic'])\n",
        "topic_test = pd.get_dummies(topics_test['topic'])"
      ],
      "execution_count": 0,
      "outputs": []
    },
    {
      "cell_type": "code",
      "metadata": {
        "id": "eotR-ApaPFsf",
        "colab_type": "code",
        "colab": {
          "base_uri": "https://localhost:8080/",
          "height": 204
        },
        "outputId": "7531205b-1d85-4a58-e379-12548e6576df"
      },
      "source": [
        "topic_train.head()"
      ],
      "execution_count": 71,
      "outputs": [
        {
          "output_type": "execute_result",
          "data": {
            "text/html": [
              "<div>\n",
              "<style scoped>\n",
              "    .dataframe tbody tr th:only-of-type {\n",
              "        vertical-align: middle;\n",
              "    }\n",
              "\n",
              "    .dataframe tbody tr th {\n",
              "        vertical-align: top;\n",
              "    }\n",
              "\n",
              "    .dataframe thead th {\n",
              "        text-align: right;\n",
              "    }\n",
              "</style>\n",
              "<table border=\"1\" class=\"dataframe\">\n",
              "  <thead>\n",
              "    <tr style=\"text-align: right;\">\n",
              "      <th></th>\n",
              "      <th>Economy</th>\n",
              "      <th>Policy</th>\n",
              "      <th>Politics</th>\n",
              "      <th>Public Health</th>\n",
              "      <th>Scandal</th>\n",
              "      <th>Technology</th>\n",
              "    </tr>\n",
              "  </thead>\n",
              "  <tbody>\n",
              "    <tr>\n",
              "      <th>0</th>\n",
              "      <td>0</td>\n",
              "      <td>1</td>\n",
              "      <td>0</td>\n",
              "      <td>0</td>\n",
              "      <td>0</td>\n",
              "      <td>0</td>\n",
              "    </tr>\n",
              "    <tr>\n",
              "      <th>1</th>\n",
              "      <td>0</td>\n",
              "      <td>0</td>\n",
              "      <td>1</td>\n",
              "      <td>0</td>\n",
              "      <td>0</td>\n",
              "      <td>0</td>\n",
              "    </tr>\n",
              "    <tr>\n",
              "      <th>2</th>\n",
              "      <td>0</td>\n",
              "      <td>0</td>\n",
              "      <td>0</td>\n",
              "      <td>1</td>\n",
              "      <td>0</td>\n",
              "      <td>0</td>\n",
              "    </tr>\n",
              "    <tr>\n",
              "      <th>3</th>\n",
              "      <td>0</td>\n",
              "      <td>0</td>\n",
              "      <td>1</td>\n",
              "      <td>0</td>\n",
              "      <td>0</td>\n",
              "      <td>0</td>\n",
              "    </tr>\n",
              "    <tr>\n",
              "      <th>4</th>\n",
              "      <td>0</td>\n",
              "      <td>0</td>\n",
              "      <td>0</td>\n",
              "      <td>0</td>\n",
              "      <td>1</td>\n",
              "      <td>0</td>\n",
              "    </tr>\n",
              "  </tbody>\n",
              "</table>\n",
              "</div>"
            ],
            "text/plain": [
              "   Economy  Policy  Politics  Public Health  Scandal  Technology\n",
              "0        0       1         0              0        0           0\n",
              "1        0       0         1              0        0           0\n",
              "2        0       0         0              1        0           0\n",
              "3        0       0         1              0        0           0\n",
              "4        0       0         0              0        1           0"
            ]
          },
          "metadata": {
            "tags": []
          },
          "execution_count": 71
        }
      ]
    },
    {
      "cell_type": "markdown",
      "metadata": {
        "id": "lPkA44LOh7Lw",
        "colab_type": "text"
      },
      "source": [
        "### Split train and val"
      ]
    },
    {
      "cell_type": "code",
      "metadata": {
        "id": "v4yhPWPfh7Ly",
        "colab_type": "code",
        "colab": {}
      },
      "source": [
        "X_train, X_val, y_train_t, y_val, source_train_t, source_val, topic_train_t, topic_val = train_test_split(clean_body_train, y_train, source_train, topic_train, \n",
        "                                                                                                          test_size=0.15, shuffle=True, random_state=3)"
      ],
      "execution_count": 0,
      "outputs": []
    },
    {
      "cell_type": "code",
      "metadata": {
        "id": "wRcCyE65h7L2",
        "colab_type": "code",
        "colab": {}
      },
      "source": [
        "y_train_std = np.array(list(y_train_t))\n",
        "y_val_std = np.array(list(y_val))\n",
        "y_test_std = np.array(list(y_test))"
      ],
      "execution_count": 0,
      "outputs": []
    },
    {
      "cell_type": "markdown",
      "metadata": {
        "id": "f_fK6XDAh7L_",
        "colab_type": "text"
      },
      "source": [
        "### Word2Vec Embeddings"
      ]
    },
    {
      "cell_type": "code",
      "metadata": {
        "id": "BLUb7s6ih7MA",
        "colab_type": "code",
        "colab": {}
      },
      "source": [
        "EMBED_DIM = 64"
      ],
      "execution_count": 0,
      "outputs": []
    },
    {
      "cell_type": "code",
      "metadata": {
        "id": "jxLTYVQNh7MF",
        "colab_type": "code",
        "colab": {}
      },
      "source": [
        "train_body = []\n",
        "articles = list(clean_body_train)\n",
        "\n",
        "for article in articles:\n",
        "    art_tokens = word_tokenize(article)\n",
        "    train_body.append(art_tokens)"
      ],
      "execution_count": 0,
      "outputs": []
    },
    {
      "cell_type": "code",
      "metadata": {
        "id": "pDv_oADth7MJ",
        "colab_type": "code",
        "outputId": "a0bd089a-c102-43ab-9f67-cccd71019513",
        "colab": {
          "base_uri": "https://localhost:8080/",
          "height": 34
        }
      },
      "source": [
        "len(train_body)"
      ],
      "execution_count": 15,
      "outputs": [
        {
          "output_type": "execute_result",
          "data": {
            "text/plain": [
              "1301"
            ]
          },
          "metadata": {
            "tags": []
          },
          "execution_count": 15
        }
      ]
    },
    {
      "cell_type": "code",
      "metadata": {
        "id": "pNU6CGaph7MP",
        "colab_type": "code",
        "outputId": "cf79c5b9-ddd0-4e1f-d694-515741f96a51",
        "colab": {
          "base_uri": "https://localhost:8080/",
          "height": 34
        }
      },
      "source": [
        "import gensim\n",
        "\n",
        "# train word2vec model\n",
        "modelw2 = gensim.models.Word2Vec(sentences=train_body, size=EMBED_DIM, window=5, workers=4, min_count=1)\n",
        "# vocab size\n",
        "total_words = list(modelw2.wv.vocab)\n",
        "print(\"Vocab size\",len(total_words))"
      ],
      "execution_count": 18,
      "outputs": [
        {
          "output_type": "stream",
          "text": [
            "Vocab size 29377\n"
          ],
          "name": "stdout"
        }
      ]
    },
    {
      "cell_type": "code",
      "metadata": {
        "id": "h0THCAQyh7MU",
        "colab_type": "code",
        "outputId": "d7da1ce3-0185-4466-8689-19bcb0edc3a8",
        "colab": {
          "base_uri": "https://localhost:8080/",
          "height": 241
        }
      },
      "source": [
        "modelw2.wv.most_similar('president')"
      ],
      "execution_count": 19,
      "outputs": [
        {
          "output_type": "stream",
          "text": [
            "/usr/local/lib/python3.6/dist-packages/gensim/matutils.py:737: FutureWarning: Conversion of the second argument of issubdtype from `int` to `np.signedinteger` is deprecated. In future, it will be treated as `np.int64 == np.dtype(int).type`.\n",
            "  if np.issubdtype(vec.dtype, np.int):\n"
          ],
          "name": "stderr"
        },
        {
          "output_type": "execute_result",
          "data": {
            "text/plain": [
              "[('donald', 0.968024730682373),\n",
              " ('eldest', 0.9565807580947876),\n",
              " ('barack', 0.9487907290458679),\n",
              " ('impeach', 0.9460066556930542),\n",
              " ('crosshairs', 0.9447486400604248),\n",
              " ('realdonaldtrump', 0.939923107624054),\n",
              " ('obama', 0.9385735988616943),\n",
              " ('thencandidate', 0.937220573425293),\n",
              " ('referred', 0.9338049292564392),\n",
              " ('nonstarter', 0.9319579005241394)]"
            ]
          },
          "metadata": {
            "tags": []
          },
          "execution_count": 19
        }
      ]
    },
    {
      "cell_type": "code",
      "metadata": {
        "id": "wvUm_HGLh7MZ",
        "colab_type": "code",
        "outputId": "ad88b76c-197f-4319-c8aa-40e171cdad85",
        "colab": {
          "base_uri": "https://localhost:8080/",
          "height": 187
        }
      },
      "source": [
        "modelw2.wv.most_similar_cosmul(positive=['health','president'], negative=['trump'])"
      ],
      "execution_count": 20,
      "outputs": [
        {
          "output_type": "execute_result",
          "data": {
            "text/plain": [
              "[('affordable', 0.9777553081512451),\n",
              " ('acaenshrined', 0.9762904644012451),\n",
              " ('stafford', 0.9703512191772461),\n",
              " ('act', 0.9616026878356934),\n",
              " ('intensive', 0.955643355846405),\n",
              " ('maternity', 0.946840763092041),\n",
              " ('singlepayer', 0.9423993229866028),\n",
              " ('care', 0.9408890604972839),\n",
              " ('law', 0.9388102889060974),\n",
              " ('congresss', 0.9344780445098877)]"
            ]
          },
          "metadata": {
            "tags": []
          },
          "execution_count": 20
        }
      ]
    },
    {
      "cell_type": "code",
      "metadata": {
        "id": "lyouo1Rkh7Mf",
        "colab_type": "code",
        "outputId": "f8edd258-3dc5-45c2-b1d0-cc58fee12479",
        "colab": {
          "base_uri": "https://localhost:8080/",
          "height": 71
        }
      },
      "source": [
        "modelw2.wv.save_word2vec_format('word2vec_embed.txt',binary=False)"
      ],
      "execution_count": 21,
      "outputs": [
        {
          "output_type": "stream",
          "text": [
            "/usr/local/lib/python3.6/dist-packages/smart_open/smart_open_lib.py:402: UserWarning: This function is deprecated, use smart_open.open instead. See the migration notes for details: https://github.com/RaRe-Technologies/smart_open/blob/master/README.rst#migrating-to-the-new-open-function\n",
            "  'See the migration notes for details: %s' % _MIGRATION_NOTES_URL\n"
          ],
          "name": "stderr"
        }
      ]
    },
    {
      "cell_type": "code",
      "metadata": {
        "id": "QRV05aHVh7Mj",
        "colab_type": "code",
        "colab": {}
      },
      "source": [
        "embeddings_index = {}\n",
        "f = open(os.path.join('','word2vec_embed.txt'), encoding=\"utf-8\")\n",
        "for line in f:\n",
        "    values = line.split()\n",
        "    word = values[0]\n",
        "    coefs = np.asarray(values[1:])\n",
        "    embeddings_index[word] = coefs\n",
        "f.close()"
      ],
      "execution_count": 0,
      "outputs": []
    },
    {
      "cell_type": "markdown",
      "metadata": {
        "id": "-wu2j_cFh7Mp",
        "colab_type": "text"
      },
      "source": [
        "### Tokenize, Sequence, Pad"
      ]
    },
    {
      "cell_type": "code",
      "metadata": {
        "id": "UDXAD_Z1h7Mr",
        "colab_type": "code",
        "outputId": "f4702754-3944-46e2-d2fa-cdc13aec0e7a",
        "colab": {
          "base_uri": "https://localhost:8080/",
          "height": 34
        }
      },
      "source": [
        "VOCAB_SIZE = 29377\n",
        "\n",
        "tokenizer = tf.keras.preprocessing.text.Tokenizer(num_words=VOCAB_SIZE)\n",
        "tokenizer.fit_on_texts(clean_body_train)\n",
        "\n",
        "# Note, the tokenizer's word_index will not respect VOCAB_SIZE.\n",
        "# but, that parameter will be respected in later methods,\n",
        "# (for example, when you call text_to_sequences).\n",
        "# Also note that '0' is a reserved index for padding.\n",
        "word_index = tokenizer.word_index\n",
        "print(\"Word index\", len(word_index))"
      ],
      "execution_count": 23,
      "outputs": [
        {
          "output_type": "stream",
          "text": [
            "Word index 29377\n"
          ],
          "name": "stdout"
        }
      ]
    },
    {
      "cell_type": "code",
      "metadata": {
        "id": "Xs-9pRvkh7Mu",
        "colab_type": "code",
        "colab": {}
      },
      "source": [
        "# Use the texts_to_sequences utility to vectorize your training, \n",
        "# validation, and test questions. \n",
        "sequences_train = tokenizer.texts_to_sequences(X_train)\n",
        "sequences_val = tokenizer.texts_to_sequences(X_val)\n",
        "sequences_test = tokenizer.texts_to_sequences(clean_body_test)"
      ],
      "execution_count": 0,
      "outputs": []
    },
    {
      "cell_type": "markdown",
      "metadata": {
        "id": "iAQ--Bbgh7My",
        "colab_type": "text"
      },
      "source": [
        "### Choose max sequence length"
      ]
    },
    {
      "cell_type": "code",
      "metadata": {
        "id": "oXLtCazWh7M0",
        "colab_type": "code",
        "outputId": "51a467e8-34d1-45cc-9db1-efab32d64aa6",
        "colab": {
          "base_uri": "https://localhost:8080/",
          "height": 85
        }
      },
      "source": [
        "train_word_lengths = []\n",
        "for w in sequences_train:\n",
        "    train_word_lengths.append(len(w))\n",
        "words_length = np.array(train_word_lengths)\n",
        "\n",
        "print(\"# of Words in the 90 percentile:\",np.percentile(words_length, 90))\n",
        "print(\"# of Words in the 95 percentile:\",np.percentile(words_length, 95))\n",
        "print(\"# of Words in the 99 percentile:\",np.percentile(words_length, 99))\n",
        "print(\"# of Words in the 100 percentile:\",np.percentile(words_length, 100))"
      ],
      "execution_count": 25,
      "outputs": [
        {
          "output_type": "stream",
          "text": [
            "# of Words in the 90 percentile: 764.6\n",
            "# of Words in the 95 percentile: 1103.6\n",
            "# of Words in the 99 percentile: 1894.2000000000035\n",
            "# of Words in the 100 percentile: 9317.0\n"
          ],
          "name": "stdout"
        }
      ]
    },
    {
      "cell_type": "code",
      "metadata": {
        "id": "TiRR-EPIh7M3",
        "colab_type": "code",
        "colab": {}
      },
      "source": [
        "MAX_SEQ_LEN = 2000"
      ],
      "execution_count": 0,
      "outputs": []
    },
    {
      "cell_type": "markdown",
      "metadata": {
        "id": "-LNVgOD4h7M6",
        "colab_type": "text"
      },
      "source": [
        "### Pad"
      ]
    },
    {
      "cell_type": "code",
      "metadata": {
        "id": "PyCj7LXFh7M7",
        "colab_type": "code",
        "colab": {}
      },
      "source": [
        "padded_train = tf.keras.preprocessing.sequence.pad_sequences(sequences_train, maxlen=MAX_SEQ_LEN)\n",
        "padded_val = tf.keras.preprocessing.sequence.pad_sequences(sequences_val, maxlen=MAX_SEQ_LEN)\n",
        "padded_test = tf.keras.preprocessing.sequence.pad_sequences(sequences_test, maxlen=MAX_SEQ_LEN)"
      ],
      "execution_count": 0,
      "outputs": []
    },
    {
      "cell_type": "code",
      "metadata": {
        "id": "DFBrdSvvh7M-",
        "colab_type": "code",
        "outputId": "bb6c098e-be82-447f-b66b-3ac1233db508",
        "colab": {
          "base_uri": "https://localhost:8080/",
          "height": 34
        }
      },
      "source": [
        "len(padded_train[0])"
      ],
      "execution_count": 28,
      "outputs": [
        {
          "output_type": "execute_result",
          "data": {
            "text/plain": [
              "2000"
            ]
          },
          "metadata": {
            "tags": []
          },
          "execution_count": 28
        }
      ]
    },
    {
      "cell_type": "markdown",
      "metadata": {
        "id": "gPlmYzkJh7NB",
        "colab_type": "text"
      },
      "source": [
        "### Map embeddings to tokenizer"
      ]
    },
    {
      "cell_type": "code",
      "metadata": {
        "id": "4m5puA__h7ND",
        "colab_type": "code",
        "colab": {}
      },
      "source": [
        "num_words = len(word_index) + 1\n",
        "embedding_matrix = np.zeros((num_words,EMBED_DIM))\n",
        "\n",
        "for word, i in word_index.items():\n",
        "    if i > num_words:\n",
        "        continue\n",
        "    embedding_vector = embeddings_index.get(word)\n",
        "    if embedding_vector is not None:\n",
        "        # words not found in embedding index will be 0s\n",
        "        embedding_matrix[i] = embedding_vector"
      ],
      "execution_count": 0,
      "outputs": []
    },
    {
      "cell_type": "markdown",
      "metadata": {
        "id": "Nn5cwloDh7NH",
        "colab_type": "text"
      },
      "source": [
        "### Initial LSTM model"
      ]
    },
    {
      "cell_type": "code",
      "metadata": {
        "id": "OMw3yK1Vh7NJ",
        "colab_type": "code",
        "colab": {}
      },
      "source": [
        "from tensorflow.keras.layers import Dense, Embedding, Flatten, Input, LSTM, GRU, Bidirectional, Dropout\n",
        "#from tensorflow.keras.layers.embeddings import Embedding\n",
        "from tensorflow.keras.models import Model, Sequential\n",
        "from tensorflow.keras.initializers import Constant"
      ],
      "execution_count": 0,
      "outputs": []
    },
    {
      "cell_type": "code",
      "metadata": {
        "id": "ES-08PE5h7NO",
        "colab_type": "code",
        "outputId": "4f8b4533-2e0e-4250-f81f-a642fa40c5f0",
        "colab": {
          "base_uri": "https://localhost:8080/",
          "height": 360
        }
      },
      "source": [
        "model = Sequential()\n",
        "embedding_layer = Embedding(input_dim=num_words,\n",
        "                            output_dim=EMBED_DIM,\n",
        "                            embeddings_initializer=Constant(embedding_matrix),\n",
        "                            input_length=MAX_SEQ_LEN,\n",
        "                            trainable=False\n",
        "                           )\n",
        "model.add(embedding_layer)\n",
        "#model.add(Flatten())\n",
        "model.add(Bidirectional(LSTM(64)))\n",
        "#model.add(GRU(units=32, dropout=0.2, recurrent_dropout=0.2))\n",
        "model.add(Dense(64, activation=\"relu\"))\n",
        "model.add(Dropout(0.2))\n",
        "model.add(Dense(1, activation=None))\n",
        "\n",
        "model.summary()\n",
        "\n",
        "\"\"\"[\n",
        "    tf.keras.layers.Embedding(input_dim=VOCAB_SIZE, output_dim=64, input_length=MAX_SEQ_LEN),\n",
        "    tf.keras.layers.Bidirectional(tf.keras.layers.LSTM(64)),\n",
        "    tf.keras.layers.Dense(64, activation=\"relu\"),\n",
        "    tf.keras.layers.Dense(1, activation=\"sigmoid\")\n",
        "]\"\"\""
      ],
      "execution_count": 0,
      "outputs": [
        {
          "output_type": "stream",
          "text": [
            "Model: \"sequential\"\n",
            "_________________________________________________________________\n",
            "Layer (type)                 Output Shape              Param #   \n",
            "=================================================================\n",
            "embedding (Embedding)        (None, 2000, 64)          1880192   \n",
            "_________________________________________________________________\n",
            "bidirectional (Bidirectional (None, 128)               66048     \n",
            "_________________________________________________________________\n",
            "dense (Dense)                (None, 64)                8256      \n",
            "_________________________________________________________________\n",
            "dropout (Dropout)            (None, 64)                0         \n",
            "_________________________________________________________________\n",
            "dense_1 (Dense)              (None, 1)                 65        \n",
            "=================================================================\n",
            "Total params: 1,954,561\n",
            "Trainable params: 74,369\n",
            "Non-trainable params: 1,880,192\n",
            "_________________________________________________________________\n"
          ],
          "name": "stdout"
        },
        {
          "output_type": "execute_result",
          "data": {
            "text/plain": [
              "'[\\n    tf.keras.layers.Embedding(input_dim=VOCAB_SIZE, output_dim=64, input_length=MAX_SEQ_LEN),\\n    tf.keras.layers.Bidirectional(tf.keras.layers.LSTM(64)),\\n    tf.keras.layers.Dense(64, activation=\"relu\"),\\n    tf.keras.layers.Dense(1, activation=\"sigmoid\")\\n]'"
            ]
          },
          "metadata": {
            "tags": []
          },
          "execution_count": 24
        }
      ]
    },
    {
      "cell_type": "code",
      "metadata": {
        "id": "aM5Cp5Rbh7NV",
        "colab_type": "code",
        "colab": {}
      },
      "source": [
        "model.compile(loss='mse', optimizer='adam', metrics=['mse'])\n",
        "\n",
        "earlyStopping = tf.keras.callbacks.EarlyStopping(monitor='val_mse', patience=11, verbose=0, mode='min')\n",
        "cp_save = tf.keras.callbacks.ModelCheckpoint('model-e{epoch:03d}.ckpt', \n",
        "                                             save_best_only=True, monitor='val_mse', mode='min')"
      ],
      "execution_count": 0,
      "outputs": []
    },
    {
      "cell_type": "code",
      "metadata": {
        "id": "cD4NhOp6s3Gf",
        "colab_type": "code",
        "colab": {}
      },
      "source": [
        "!rm -rf 'model-e001.ckpt'\n",
        "!rm -rf 'model-e002.ckpt'\n",
        "!rm -rf 'model-e006.ckpt'\n",
        "!rm -rf 'model-e013.ckpt'\n",
        "!rm -rf 'model-e016.ckpt'"
      ],
      "execution_count": 0,
      "outputs": []
    },
    {
      "cell_type": "code",
      "metadata": {
        "id": "CtdysyFSh7NY",
        "colab_type": "code",
        "outputId": "fef2f46c-50b3-4f5f-8b5a-0f4353209228",
        "colab": {
          "base_uri": "https://localhost:8080/",
          "height": 1000
        }
      },
      "source": [
        "history = model.fit(padded_train, y_train_std, \n",
        "                     epochs=100, \n",
        "                     verbose=2, \n",
        "                     callbacks=[earlyStopping, cp_save],\n",
        "                     validation_data=(padded_val,y_val_std))"
      ],
      "execution_count": 0,
      "outputs": [
        {
          "output_type": "stream",
          "text": [
            "Train on 1105 samples, validate on 196 samples\n",
            "Epoch 1/100\n",
            "WARNING:tensorflow:From /usr/local/lib/python3.6/dist-packages/tensorflow_core/python/ops/resource_variable_ops.py:1786: calling BaseResourceVariable.__init__ (from tensorflow.python.ops.resource_variable_ops) with constraint is deprecated and will be removed in a future version.\n",
            "Instructions for updating:\n",
            "If using Keras pass *_constraint arguments to layers.\n",
            "INFO:tensorflow:Assets written to: model-e001.ckpt/assets\n",
            "1105/1105 - 33s - loss: 2.8116 - mse: 2.8116 - val_loss: 0.6757 - val_mse: 0.6757\n",
            "Epoch 2/100\n",
            "INFO:tensorflow:Assets written to: model-e002.ckpt/assets\n",
            "1105/1105 - 25s - loss: 0.9587 - mse: 0.9587 - val_loss: 0.6242 - val_mse: 0.6242\n",
            "Epoch 3/100\n",
            "1105/1105 - 5s - loss: 0.9693 - mse: 0.9693 - val_loss: 0.6278 - val_mse: 0.6278\n",
            "Epoch 4/100\n",
            "1105/1105 - 6s - loss: 0.9329 - mse: 0.9329 - val_loss: 0.6670 - val_mse: 0.6670\n",
            "Epoch 5/100\n",
            "1105/1105 - 6s - loss: 0.9025 - mse: 0.9025 - val_loss: 0.6352 - val_mse: 0.6352\n",
            "Epoch 6/100\n",
            "INFO:tensorflow:Assets written to: model-e006.ckpt/assets\n",
            "1105/1105 - 25s - loss: 0.8971 - mse: 0.8971 - val_loss: 0.6186 - val_mse: 0.6186\n",
            "Epoch 7/100\n",
            "1105/1105 - 6s - loss: 0.9035 - mse: 0.9035 - val_loss: 0.7048 - val_mse: 0.7048\n",
            "Epoch 8/100\n",
            "1105/1105 - 6s - loss: 0.9105 - mse: 0.9105 - val_loss: 0.6503 - val_mse: 0.6503\n",
            "Epoch 9/100\n",
            "1105/1105 - 6s - loss: 0.8663 - mse: 0.8663 - val_loss: 0.6926 - val_mse: 0.6926\n",
            "Epoch 10/100\n",
            "1105/1105 - 6s - loss: 0.8837 - mse: 0.8837 - val_loss: 0.6294 - val_mse: 0.6294\n",
            "Epoch 11/100\n",
            "1105/1105 - 6s - loss: 0.8704 - mse: 0.8704 - val_loss: 0.6295 - val_mse: 0.6295\n",
            "Epoch 12/100\n",
            "1105/1105 - 6s - loss: 0.8508 - mse: 0.8508 - val_loss: 0.6481 - val_mse: 0.6481\n",
            "Epoch 13/100\n",
            "INFO:tensorflow:Assets written to: model-e013.ckpt/assets\n",
            "1105/1105 - 25s - loss: 0.8952 - mse: 0.8952 - val_loss: 0.6075 - val_mse: 0.6075\n",
            "Epoch 14/100\n",
            "1105/1105 - 6s - loss: 0.8166 - mse: 0.8166 - val_loss: 0.6382 - val_mse: 0.6382\n",
            "Epoch 15/100\n",
            "1105/1105 - 6s - loss: 0.8539 - mse: 0.8539 - val_loss: 0.6468 - val_mse: 0.6468\n",
            "Epoch 16/100\n",
            "INFO:tensorflow:Assets written to: model-e016.ckpt/assets\n",
            "1105/1105 - 25s - loss: 0.8118 - mse: 0.8118 - val_loss: 0.6064 - val_mse: 0.6064\n",
            "Epoch 17/100\n",
            "1105/1105 - 6s - loss: 0.8392 - mse: 0.8392 - val_loss: 0.6567 - val_mse: 0.6567\n",
            "Epoch 18/100\n",
            "1105/1105 - 6s - loss: 0.8070 - mse: 0.8070 - val_loss: 0.6179 - val_mse: 0.6179\n",
            "Epoch 19/100\n",
            "1105/1105 - 6s - loss: 0.8051 - mse: 0.8051 - val_loss: 0.6094 - val_mse: 0.6094\n",
            "Epoch 20/100\n",
            "INFO:tensorflow:Assets written to: model-e020.ckpt/assets\n",
            "1105/1105 - 25s - loss: 0.8291 - mse: 0.8291 - val_loss: 0.5955 - val_mse: 0.5955\n",
            "Epoch 21/100\n",
            "1105/1105 - 6s - loss: 0.7689 - mse: 0.7689 - val_loss: 0.6639 - val_mse: 0.6639\n",
            "Epoch 22/100\n",
            "1105/1105 - 6s - loss: 0.8156 - mse: 0.8156 - val_loss: 0.5957 - val_mse: 0.5957\n",
            "Epoch 23/100\n",
            "1105/1105 - 6s - loss: 0.7641 - mse: 0.7641 - val_loss: 0.6208 - val_mse: 0.6208\n",
            "Epoch 24/100\n",
            "1105/1105 - 6s - loss: 0.7675 - mse: 0.7675 - val_loss: 0.6259 - val_mse: 0.6259\n",
            "Epoch 25/100\n",
            "1105/1105 - 6s - loss: 0.7690 - mse: 0.7690 - val_loss: 0.6162 - val_mse: 0.6162\n",
            "Epoch 26/100\n",
            "1105/1105 - 6s - loss: 0.7683 - mse: 0.7683 - val_loss: 0.6334 - val_mse: 0.6334\n",
            "Epoch 27/100\n",
            "1105/1105 - 6s - loss: 0.7911 - mse: 0.7911 - val_loss: 0.6252 - val_mse: 0.6252\n",
            "Epoch 28/100\n",
            "1105/1105 - 6s - loss: 0.7860 - mse: 0.7860 - val_loss: 0.6539 - val_mse: 0.6539\n",
            "Epoch 29/100\n",
            "1105/1105 - 6s - loss: 0.7547 - mse: 0.7547 - val_loss: 0.6270 - val_mse: 0.6270\n",
            "Epoch 30/100\n",
            "1105/1105 - 6s - loss: 0.7489 - mse: 0.7489 - val_loss: 0.6322 - val_mse: 0.6322\n",
            "Epoch 31/100\n",
            "INFO:tensorflow:Assets written to: model-e031.ckpt/assets\n",
            "1105/1105 - 25s - loss: 0.7326 - mse: 0.7326 - val_loss: 0.5918 - val_mse: 0.5918\n",
            "Epoch 32/100\n",
            "1105/1105 - 6s - loss: 0.7577 - mse: 0.7577 - val_loss: 0.6024 - val_mse: 0.6024\n",
            "Epoch 33/100\n",
            "1105/1105 - 6s - loss: 0.7253 - mse: 0.7253 - val_loss: 0.5968 - val_mse: 0.5968\n",
            "Epoch 34/100\n",
            "1105/1105 - 6s - loss: 0.7021 - mse: 0.7021 - val_loss: 0.6337 - val_mse: 0.6337\n",
            "Epoch 35/100\n",
            "1105/1105 - 6s - loss: 0.6863 - mse: 0.6863 - val_loss: 0.6046 - val_mse: 0.6046\n",
            "Epoch 36/100\n",
            "1105/1105 - 6s - loss: 0.6955 - mse: 0.6955 - val_loss: 0.7028 - val_mse: 0.7028\n",
            "Epoch 37/100\n",
            "1105/1105 - 6s - loss: 0.7020 - mse: 0.7020 - val_loss: 0.6301 - val_mse: 0.6301\n",
            "Epoch 38/100\n",
            "1105/1105 - 6s - loss: 0.6828 - mse: 0.6828 - val_loss: 0.6029 - val_mse: 0.6029\n",
            "Epoch 39/100\n",
            "1105/1105 - 6s - loss: 0.6588 - mse: 0.6588 - val_loss: 0.6351 - val_mse: 0.6351\n",
            "Epoch 40/100\n",
            "1105/1105 - 6s - loss: 0.6574 - mse: 0.6574 - val_loss: 0.6678 - val_mse: 0.6678\n",
            "Epoch 41/100\n",
            "1105/1105 - 6s - loss: 0.6127 - mse: 0.6127 - val_loss: 0.7065 - val_mse: 0.7065\n",
            "Epoch 42/100\n",
            "1105/1105 - 6s - loss: 0.6658 - mse: 0.6658 - val_loss: 0.6116 - val_mse: 0.6116\n"
          ],
          "name": "stdout"
        }
      ]
    },
    {
      "cell_type": "code",
      "metadata": {
        "id": "M6mipRgfh7Ne",
        "colab_type": "code",
        "colab": {}
      },
      "source": [
        "#plotting accuracy and loss as a function of epochs to ensure no overfitting\n",
        "def plot(history):\n",
        "    # The history object contains results on the training and test\n",
        "    # sets for each epoch\n",
        "    acc = history.history['mse']\n",
        "    val_acc = history.history['val_mse']\n",
        "    loss = history.history['loss']\n",
        "    val_loss = history.history['val_loss']\n",
        "\n",
        "    # Get the number of epochs\n",
        "    epochs = range(len(acc))\n",
        "\n",
        "    plt.title('Training and validation accuracy')\n",
        "    plt.plot(epochs, acc, color='blue', label='Train')\n",
        "    plt.plot(epochs, val_acc, color='orange', label='Val')\n",
        "    plt.xlabel('Epoch')\n",
        "    plt.ylabel('MSE')\n",
        "    plt.legend()\n",
        "\n",
        "    #_ = plt.figure()\n",
        "    #plt.title('Training and validation loss')\n",
        "    #plt.plot(epochs, loss, color='blue', label='Train')\n",
        "    #plt.plot(epochs, val_loss, color='orange', label='Val')\n",
        "    #plt.xlabel('Epoch')\n",
        "    #plt.ylabel('Loss')\n",
        "    #plt.legend()"
      ],
      "execution_count": 0,
      "outputs": []
    },
    {
      "cell_type": "code",
      "metadata": {
        "id": "PurQdXbbJblY",
        "colab_type": "code",
        "outputId": "e0e52e93-be1d-4089-a335-608f70c969d7",
        "colab": {
          "base_uri": "https://localhost:8080/",
          "height": 295
        }
      },
      "source": [
        "plot(history)"
      ],
      "execution_count": 0,
      "outputs": [
        {
          "output_type": "display_data",
          "data": {
            "image/png": "[encoded data removed]",
            "text/plain": [
              "<Figure size 432x288 with 1 Axes>"
            ]
          },
          "metadata": {
            "tags": []
          }
        }
      ]
    },
    {
      "cell_type": "markdown",
      "metadata": {
        "id": "1ME44_jqsPOw",
        "colab_type": "text"
      },
      "source": [
        "### Testing"
      ]
    },
    {
      "cell_type": "code",
      "metadata": {
        "id": "e8P0zsNTsQ76",
        "colab_type": "code",
        "colab": {}
      },
      "source": [
        "model1_best = tf.keras.models.load_model('model-e031.ckpt')"
      ],
      "execution_count": 0,
      "outputs": []
    },
    {
      "cell_type": "code",
      "metadata": {
        "id": "idPKXvbptDqz",
        "colab_type": "code",
        "outputId": "5ea14753-159d-4fe0-8bad-ae3357c19eef",
        "colab": {
          "base_uri": "https://localhost:8080/",
          "height": 85
        }
      },
      "source": [
        "pred1 = model1_best.predict(x=padded_test)\n",
        "pred_arr = [p[0] for p in pred1]\n",
        "\n",
        "d = np.subtract(np.array(pred_arr),y_test_std)\n",
        "test_mse = np.mean(np.square(d))\n",
        "test_rmse = np.sqrt(test_mse)\n",
        "test_mae = np.mean(abs(d))\n",
        "test_pearsonr = stats.pearsonr(y_test_std, pred_arr)\n",
        "\n",
        "print(\"Test Results on best model epoch\")\n",
        "print(\"RMSE:\",test_rmse)\n",
        "print(\"MAE:\",test_mae)\n",
        "print(\"Pearson R & P-value:\",test_pearsonr)"
      ],
      "execution_count": 0,
      "outputs": [
        {
          "output_type": "stream",
          "text": [
            "Test Results on best model epoch\n",
            "RMSE: 0.9685732333588796\n",
            "MAE: 0.7746089153937775\n",
            "Pearson R & P-value: (0.3400114970748387, 2.8950468124683984e-10)\n"
          ],
          "name": "stdout"
        }
      ]
    },
    {
      "cell_type": "code",
      "metadata": {
        "id": "J-ly1j3fWs4s",
        "colab_type": "code",
        "outputId": "89d03fbc-113c-498b-c7fd-e06ceb7fdced",
        "colab": {
          "base_uri": "https://localhost:8080/",
          "height": 122
        }
      },
      "source": [
        "from google.colab import drive\n",
        "drive.mount('/content/drive')"
      ],
      "execution_count": 0,
      "outputs": [
        {
          "output_type": "stream",
          "text": [
            "Go to this URL in a browser: https://accounts.google.com/o/oauth2/auth?client_id=947318989803-6bn6qk8qdgf4n4g3pfee6491hc0brc4i.apps.googleusercontent.com&redirect_uri=urn%3aietf%3awg%3aoauth%3a2.0%3aoob&response_type=code&scope=email%20https%3a%2f%2fwww.googleapis.com%2fauth%2fdocs.test%20https%3a%2f%2fwww.googleapis.com%2fauth%2fdrive%20https%3a%2f%2fwww.googleapis.com%2fauth%2fdrive.photos.readonly%20https%3a%2f%2fwww.googleapis.com%2fauth%2fpeopleapi.readonly\n",
            "\n",
            "Enter your authorization code:\n",
            "··········\n",
            "Mounted at /content/drive\n"
          ],
          "name": "stdout"
        }
      ]
    },
    {
      "cell_type": "code",
      "metadata": {
        "id": "07uy1GmeX-nw",
        "colab_type": "code",
        "outputId": "86f29326-e83a-4da7-e187-75f98c9f8651",
        "colab": {
          "base_uri": "https://localhost:8080/",
          "height": 51
        }
      },
      "source": [
        "import shutil\n",
        "#zip\n",
        "if not os.path.exists('/content/drive/My Drive/DNNmodel1.zip'):\n",
        "  model1_archive = shutil.make_archive('/content/drive/My Drive/DNNmodel1', 'zip', '/content/model-e031.ckpt')\n",
        "  print(model1_archive)\n",
        "  print(os.path.getsize(model1_archive)/1048576,\"mb\")\n",
        "else:\n",
        "  print('Zip archive exists')"
      ],
      "execution_count": 0,
      "outputs": [
        {
          "output_type": "stream",
          "text": [
            "/content/drive/My Drive/DNNmodel1.zip\n",
            "34.164793968200684 mb\n"
          ],
          "name": "stdout"
        }
      ]
    },
    {
      "cell_type": "code",
      "metadata": {
        "id": "hDVAsfkIY0Z7",
        "colab_type": "code",
        "outputId": "09bd9ad4-a80c-4cb5-95da-602968a7db15",
        "colab": {
          "base_uri": "https://localhost:8080/",
          "height": 265
        }
      },
      "source": [
        "# Test Data Prediction\n",
        "plt.plot(y_test_std, pred_arr, '.')\n",
        "# plot a line, a perfit predict would all fall on this line\n",
        "x = np.linspace(0, 5)\n",
        "plt.plot(x, x)\n",
        "plt.show()"
      ],
      "execution_count": 0,
      "outputs": [
        {
          "output_type": "display_data",
          "data": {
            "image/png": "[encoded data removed]",
            "text/plain": [
              "<Figure size 432x288 with 1 Axes>"
            ]
          },
          "metadata": {
            "tags": []
          }
        }
      ]
    },
    {
      "cell_type": "markdown",
      "metadata": {
        "id": "vd7UqFxIbMPI",
        "colab_type": "text"
      },
      "source": [
        "## Model 2 - More Complex Ensemble"
      ]
    },
    {
      "cell_type": "code",
      "metadata": {
        "id": "NBdxIr9yqLPI",
        "colab_type": "code",
        "colab": {
          "base_uri": "https://localhost:8080/",
          "height": 1000
        },
        "outputId": "a6d877c1-2cd8-430b-d6ff-add8ddf96add"
      },
      "source": [
        "inp = Input(shape = (MAX_SEQ_LEN,))\n",
        "x = Embedding(num_words, EMBED_DIM, weights = [embedding_matrix], trainable = False)(inp)\n",
        "x1 = tf.keras.layers.SpatialDropout1D(0.3)(x)\n",
        "\n",
        "x_gru = Bidirectional(GRU(128, return_sequences = True))(x1)\n",
        "x1 = tf.keras.layers.Conv1D(32, kernel_size=4, padding='valid', kernel_initializer='he_uniform')(x_gru)\n",
        "avg_pool1_gru = tf.keras.layers.GlobalAveragePooling1D()(x1)\n",
        "max_pool1_gru = tf.keras.layers.GlobalMaxPooling1D()(x1)\n",
        "\n",
        "x3 = tf.keras.layers.Conv1D(32, kernel_size=4, padding='valid', kernel_initializer='he_uniform')(x_gru)\n",
        "avg_pool3_gru = tf.keras.layers.GlobalAveragePooling1D()(x3)\n",
        "max_pool3_gru = tf.keras.layers.GlobalMaxPooling1D()(x3)\n",
        "\n",
        "x_lstm = Bidirectional(LSTM(128, return_sequences = True))(x1)\n",
        "x1 = tf.keras.layers.Conv1D(32, kernel_size=4, padding='valid', kernel_initializer='he_uniform')(x_lstm)\n",
        "avg_pool1_lstm = tf.keras.layers.GlobalAveragePooling1D()(x1)\n",
        "max_pool1_lstm = tf.keras.layers.GlobalMaxPooling1D()(x1)\n",
        "\n",
        "x3 = tf.keras.layers.Conv1D(32, kernel_size=4, padding='valid', kernel_initializer='he_uniform')(x_lstm)\n",
        "avg_pool3_lstm = tf.keras.layers.GlobalAveragePooling1D()(x3)\n",
        "max_pool3_lstm = tf.keras.layers.GlobalMaxPooling1D()(x3)\n",
        "\n",
        "\n",
        "x = tf.keras.layers.concatenate([avg_pool1_gru, max_pool1_gru, avg_pool3_gru, max_pool3_gru,\n",
        "                avg_pool1_lstm, max_pool1_lstm, avg_pool3_lstm, max_pool3_lstm])\n",
        "x = tf.keras.layers.BatchNormalization()(x)\n",
        "x = Dropout(0.1)(Dense(64, activation='relu') (x))\n",
        "x = tf.keras.layers.BatchNormalization()(x)\n",
        "x = Dropout(0.1)(Dense(int(64 / 2), activation='relu') (x))\n",
        "x = Dense(1, activation = None)(x)\n",
        "model2 = Model(inputs = inp, outputs = x)\n",
        "model2.summary()"
      ],
      "execution_count": 145,
      "outputs": [
        {
          "output_type": "stream",
          "text": [
            "Model: \"model_5\"\n",
            "__________________________________________________________________________________________________\n",
            "Layer (type)                    Output Shape         Param #     Connected to                     \n",
            "==================================================================================================\n",
            "input_10 (InputLayer)           [(None, 2000)]       0                                            \n",
            "__________________________________________________________________________________________________\n",
            "embedding_33 (Embedding)        (None, 2000, 64)     1880192     input_10[0][0]                   \n",
            "__________________________________________________________________________________________________\n",
            "spatial_dropout1d_10 (SpatialDr (None, 2000, 64)     0           embedding_33[0][0]               \n",
            "__________________________________________________________________________________________________\n",
            "bidirectional_33 (Bidirectional (None, 2000, 256)    148992      spatial_dropout1d_10[0][0]       \n",
            "__________________________________________________________________________________________________\n",
            "conv1d_38 (Conv1D)              (None, 1997, 32)     32800       bidirectional_33[0][0]           \n",
            "__________________________________________________________________________________________________\n",
            "bidirectional_34 (Bidirectional (None, 1997, 256)    164864      conv1d_38[0][0]                  \n",
            "__________________________________________________________________________________________________\n",
            "conv1d_39 (Conv1D)              (None, 1997, 32)     32800       bidirectional_33[0][0]           \n",
            "__________________________________________________________________________________________________\n",
            "conv1d_40 (Conv1D)              (None, 1994, 32)     32800       bidirectional_34[0][0]           \n",
            "__________________________________________________________________________________________________\n",
            "conv1d_41 (Conv1D)              (None, 1994, 32)     32800       bidirectional_34[0][0]           \n",
            "__________________________________________________________________________________________________\n",
            "global_average_pooling1d_30 (Gl (None, 32)           0           conv1d_38[0][0]                  \n",
            "__________________________________________________________________________________________________\n",
            "global_max_pooling1d_35 (Global (None, 32)           0           conv1d_38[0][0]                  \n",
            "__________________________________________________________________________________________________\n",
            "global_average_pooling1d_31 (Gl (None, 32)           0           conv1d_39[0][0]                  \n",
            "__________________________________________________________________________________________________\n",
            "global_max_pooling1d_36 (Global (None, 32)           0           conv1d_39[0][0]                  \n",
            "__________________________________________________________________________________________________\n",
            "global_average_pooling1d_32 (Gl (None, 32)           0           conv1d_40[0][0]                  \n",
            "__________________________________________________________________________________________________\n",
            "global_max_pooling1d_37 (Global (None, 32)           0           conv1d_40[0][0]                  \n",
            "__________________________________________________________________________________________________\n",
            "global_average_pooling1d_33 (Gl (None, 32)           0           conv1d_41[0][0]                  \n",
            "__________________________________________________________________________________________________\n",
            "global_max_pooling1d_38 (Global (None, 32)           0           conv1d_41[0][0]                  \n",
            "__________________________________________________________________________________________________\n",
            "concatenate_6 (Concatenate)     (None, 256)          0           global_average_pooling1d_30[0][0]\n",
            "                                                                 global_max_pooling1d_35[0][0]    \n",
            "                                                                 global_average_pooling1d_31[0][0]\n",
            "                                                                 global_max_pooling1d_36[0][0]    \n",
            "                                                                 global_average_pooling1d_32[0][0]\n",
            "                                                                 global_max_pooling1d_37[0][0]    \n",
            "                                                                 global_average_pooling1d_33[0][0]\n",
            "                                                                 global_max_pooling1d_38[0][0]    \n",
            "__________________________________________________________________________________________________\n",
            "batch_normalization_10 (BatchNo (None, 256)          1024        concatenate_6[0][0]              \n",
            "__________________________________________________________________________________________________\n",
            "dense_66 (Dense)                (None, 64)           16448       batch_normalization_10[0][0]     \n",
            "__________________________________________________________________________________________________\n",
            "dropout_48 (Dropout)            (None, 64)           0           dense_66[0][0]                   \n",
            "__________________________________________________________________________________________________\n",
            "batch_normalization_11 (BatchNo (None, 64)           256         dropout_48[0][0]                 \n",
            "__________________________________________________________________________________________________\n",
            "dense_67 (Dense)                (None, 32)           2080        batch_normalization_11[0][0]     \n",
            "__________________________________________________________________________________________________\n",
            "dropout_49 (Dropout)            (None, 32)           0           dense_67[0][0]                   \n",
            "__________________________________________________________________________________________________\n",
            "dense_68 (Dense)                (None, 1)            33          dropout_49[0][0]                 \n",
            "==================================================================================================\n",
            "Total params: 2,345,089\n",
            "Trainable params: 464,257\n",
            "Non-trainable params: 1,880,832\n",
            "__________________________________________________________________________________________________\n"
          ],
          "name": "stdout"
        }
      ]
    },
    {
      "cell_type": "code",
      "metadata": {
        "id": "bfT4L_7Kb9Qq",
        "colab_type": "code",
        "colab": {}
      },
      "source": [
        "model2.compile(loss='mse', optimizer='adam', metrics=['mse'])\n",
        "\n",
        "earlyStopping = tf.keras.callbacks.EarlyStopping(monitor='val_mse', patience=11, verbose=0, mode='min')\n",
        "cp_save = tf.keras.callbacks.ModelCheckpoint('model2-e{epoch:03d}.ckpt', \n",
        "                                             save_best_only=True, monitor='val_mse', mode='min')"
      ],
      "execution_count": 0,
      "outputs": []
    },
    {
      "cell_type": "code",
      "metadata": {
        "id": "0UW_xgNucM3g",
        "colab_type": "code",
        "colab": {
          "base_uri": "https://localhost:8080/",
          "height": 1000
        },
        "outputId": "8d0c22e9-a735-4f9f-a3ea-4a2151e5c8c0"
      },
      "source": [
        "history2 = model2.fit(padded_train, y_train_std, \n",
        "                     epochs=100, \n",
        "                     verbose=2, \n",
        "                     callbacks=[earlyStopping, cp_save],\n",
        "                     validation_data=(padded_val,y_val_std))"
      ],
      "execution_count": 147,
      "outputs": [
        {
          "output_type": "stream",
          "text": [
            "Train on 1105 samples, validate on 196 samples\n",
            "Epoch 1/100\n",
            "INFO:tensorflow:Assets written to: model2-e001.ckpt/assets\n",
            "1105/1105 - 45s - loss: 5.7711 - mse: 5.7711 - val_loss: 5.3432 - val_mse: 5.3432\n",
            "Epoch 2/100\n",
            "INFO:tensorflow:Assets written to: model2-e002.ckpt/assets\n",
            "1105/1105 - 36s - loss: 1.7395 - mse: 1.7395 - val_loss: 2.7287 - val_mse: 2.7287\n",
            "Epoch 3/100\n",
            "1105/1105 - 14s - loss: 1.4383 - mse: 1.4383 - val_loss: 2.9775 - val_mse: 2.9775\n",
            "Epoch 4/100\n",
            "INFO:tensorflow:Assets written to: model2-e004.ckpt/assets\n",
            "1105/1105 - 38s - loss: 1.2516 - mse: 1.2516 - val_loss: 1.7309 - val_mse: 1.7309\n",
            "Epoch 5/100\n",
            "INFO:tensorflow:Assets written to: model2-e005.ckpt/assets\n",
            "1105/1105 - 36s - loss: 1.2310 - mse: 1.2310 - val_loss: 1.1215 - val_mse: 1.1215\n",
            "Epoch 6/100\n",
            "INFO:tensorflow:Assets written to: model2-e006.ckpt/assets\n",
            "1105/1105 - 38s - loss: 1.1954 - mse: 1.1954 - val_loss: 0.9030 - val_mse: 0.9030\n",
            "Epoch 7/100\n",
            "1105/1105 - 14s - loss: 1.1200 - mse: 1.1200 - val_loss: 1.0657 - val_mse: 1.0657\n",
            "Epoch 8/100\n",
            "1105/1105 - 13s - loss: 1.1334 - mse: 1.1334 - val_loss: 0.9438 - val_mse: 0.9438\n",
            "Epoch 9/100\n",
            "INFO:tensorflow:Assets written to: model2-e009.ckpt/assets\n",
            "1105/1105 - 38s - loss: 1.0840 - mse: 1.0840 - val_loss: 0.7705 - val_mse: 0.7705\n",
            "Epoch 10/100\n",
            "INFO:tensorflow:Assets written to: model2-e010.ckpt/assets\n",
            "1105/1105 - 36s - loss: 1.0598 - mse: 1.0598 - val_loss: 0.6457 - val_mse: 0.6457\n",
            "Epoch 11/100\n",
            "1105/1105 - 13s - loss: 1.0700 - mse: 1.0700 - val_loss: 0.7466 - val_mse: 0.7466\n",
            "Epoch 12/100\n",
            "1105/1105 - 14s - loss: 1.0310 - mse: 1.0310 - val_loss: 0.8109 - val_mse: 0.8109\n",
            "Epoch 13/100\n",
            "1105/1105 - 13s - loss: 0.9529 - mse: 0.9529 - val_loss: 0.7452 - val_mse: 0.7452\n",
            "Epoch 14/100\n",
            "1105/1105 - 13s - loss: 1.0100 - mse: 1.0100 - val_loss: 0.6635 - val_mse: 0.6635\n",
            "Epoch 15/100\n",
            "1105/1105 - 13s - loss: 1.0520 - mse: 1.0520 - val_loss: 0.6486 - val_mse: 0.6486\n",
            "Epoch 16/100\n",
            "INFO:tensorflow:Assets written to: model2-e016.ckpt/assets\n",
            "1105/1105 - 38s - loss: 0.9293 - mse: 0.9293 - val_loss: 0.6325 - val_mse: 0.6325\n",
            "Epoch 17/100\n",
            "INFO:tensorflow:Assets written to: model2-e017.ckpt/assets\n",
            "1105/1105 - 35s - loss: 0.9355 - mse: 0.9355 - val_loss: 0.5895 - val_mse: 0.5895\n",
            "Epoch 18/100\n",
            "INFO:tensorflow:Assets written to: model2-e018.ckpt/assets\n",
            "1105/1105 - 37s - loss: 0.9437 - mse: 0.9437 - val_loss: 0.5706 - val_mse: 0.5706\n",
            "Epoch 19/100\n",
            "1105/1105 - 13s - loss: 0.9408 - mse: 0.9408 - val_loss: 0.7115 - val_mse: 0.7115\n",
            "Epoch 20/100\n",
            "1105/1105 - 13s - loss: 0.9475 - mse: 0.9475 - val_loss: 1.3670 - val_mse: 1.3670\n",
            "Epoch 21/100\n",
            "1105/1105 - 14s - loss: 0.9278 - mse: 0.9278 - val_loss: 0.8955 - val_mse: 0.8955\n",
            "Epoch 22/100\n",
            "1105/1105 - 14s - loss: 0.9002 - mse: 0.9002 - val_loss: 0.7378 - val_mse: 0.7378\n",
            "Epoch 23/100\n",
            "1105/1105 - 14s - loss: 0.9380 - mse: 0.9380 - val_loss: 0.8239 - val_mse: 0.8239\n",
            "Epoch 24/100\n",
            "1105/1105 - 14s - loss: 0.8905 - mse: 0.8905 - val_loss: 1.2355 - val_mse: 1.2355\n",
            "Epoch 25/100\n",
            "1105/1105 - 14s - loss: 0.8775 - mse: 0.8775 - val_loss: 0.7732 - val_mse: 0.7732\n",
            "Epoch 26/100\n",
            "1105/1105 - 14s - loss: 0.8116 - mse: 0.8116 - val_loss: 0.8920 - val_mse: 0.8920\n",
            "Epoch 27/100\n",
            "1105/1105 - 14s - loss: 0.8737 - mse: 0.8737 - val_loss: 0.9589 - val_mse: 0.9589\n",
            "Epoch 28/100\n",
            "1105/1105 - 14s - loss: 0.8393 - mse: 0.8393 - val_loss: 0.7869 - val_mse: 0.7869\n",
            "Epoch 29/100\n",
            "1105/1105 - 14s - loss: 0.8192 - mse: 0.8192 - val_loss: 0.8410 - val_mse: 0.8410\n"
          ],
          "name": "stdout"
        }
      ]
    },
    {
      "cell_type": "code",
      "metadata": {
        "id": "22WQ7T3qdmf4",
        "colab_type": "code",
        "colab": {}
      },
      "source": [
        "model2_best = tf.keras.models.load_model('model2-e018.ckpt')"
      ],
      "execution_count": 0,
      "outputs": []
    },
    {
      "cell_type": "code",
      "metadata": {
        "id": "vp-VkKJlduSR",
        "colab_type": "code",
        "colab": {
          "base_uri": "https://localhost:8080/",
          "height": 85
        },
        "outputId": "7428f3c7-c3fb-4ea4-d228-8372bcecc576"
      },
      "source": [
        "pred2 = model2_best.predict(x=padded_test)\n",
        "pred2_arr = [p[0] for p in pred2]\n",
        "\n",
        "d = np.subtract(np.array(pred2_arr),y_test_std)\n",
        "test_mse = np.mean(np.square(d))\n",
        "test_rmse = np.sqrt(test_mse)\n",
        "test_mae = np.mean(abs(d))\n",
        "test_pearsonr = stats.pearsonr(y_test_std, pred2_arr)\n",
        "\n",
        "print(\"Test Results on best model epoch\")\n",
        "print(\"RMSE:\",test_rmse)\n",
        "print(\"MAE:\",test_mae)\n",
        "print(\"Pearson R & P-value:\",test_pearsonr)"
      ],
      "execution_count": 149,
      "outputs": [
        {
          "output_type": "stream",
          "text": [
            "Test Results on best model epoch\n",
            "RMSE: 0.9631820033339726\n",
            "MAE: 0.7962272976911802\n",
            "Pearson R & P-value: (0.3924426208580274, 1.899277831042866e-13)\n"
          ],
          "name": "stdout"
        }
      ]
    },
    {
      "cell_type": "code",
      "metadata": {
        "id": "_No3Wm86d5fZ",
        "colab_type": "code",
        "colab": {
          "base_uri": "https://localhost:8080/",
          "height": 265
        },
        "outputId": "00a6e249-8418-4ec0-a138-0a279c004c51"
      },
      "source": [
        "# Test Data Prediction\n",
        "plt.plot(y_test_std, pred2_arr, '.')\n",
        "# plot a line, a perfit predict would all fall on this line\n",
        "x = np.linspace(0, 5)\n",
        "plt.plot(x, x)\n",
        "plt.show()"
      ],
      "execution_count": 150,
      "outputs": [
        {
          "output_type": "display_data",
          "data": {
            "image/png": "[encoded data removed]",
            "text/plain": [
              "<Figure size 432x288 with 1 Axes>"
            ]
          },
          "metadata": {
            "tags": []
          }
        }
      ]
    },
    {
      "cell_type": "markdown",
      "metadata": {
        "id": "U7-6dHhYHt_q",
        "colab_type": "text"
      },
      "source": [
        "# Model 3 - Adding Source to Simple Model"
      ]
    },
    {
      "cell_type": "code",
      "metadata": {
        "id": "gXtS0gt_IbSd",
        "colab_type": "code",
        "colab": {
          "base_uri": "https://localhost:8080/",
          "height": 204
        },
        "outputId": "b759cc05-dbed-4f09-83ea-e9459ee0d8a6"
      },
      "source": [
        "source_train_t.head()"
      ],
      "execution_count": 34,
      "outputs": [
        {
          "output_type": "execute_result",
          "data": {
            "text/html": [
              "<div>\n",
              "<style scoped>\n",
              "    .dataframe tbody tr th:only-of-type {\n",
              "        vertical-align: middle;\n",
              "    }\n",
              "\n",
              "    .dataframe tbody tr th {\n",
              "        vertical-align: top;\n",
              "    }\n",
              "\n",
              "    .dataframe thead th {\n",
              "        text-align: right;\n",
              "    }\n",
              "</style>\n",
              "<table border=\"1\" class=\"dataframe\">\n",
              "  <thead>\n",
              "    <tr style=\"text-align: right;\">\n",
              "      <th></th>\n",
              "      <th>100 Percent Fed Up</th>\n",
              "      <th>Associated Press News</th>\n",
              "      <th>Breitbart</th>\n",
              "      <th>Fox News</th>\n",
              "      <th>Media Matters</th>\n",
              "      <th>The New York Times</th>\n",
              "      <th>Vox</th>\n",
              "    </tr>\n",
              "  </thead>\n",
              "  <tbody>\n",
              "    <tr>\n",
              "      <th>374</th>\n",
              "      <td>0</td>\n",
              "      <td>1</td>\n",
              "      <td>0</td>\n",
              "      <td>0</td>\n",
              "      <td>0</td>\n",
              "      <td>0</td>\n",
              "      <td>0</td>\n",
              "    </tr>\n",
              "    <tr>\n",
              "      <th>637</th>\n",
              "      <td>0</td>\n",
              "      <td>0</td>\n",
              "      <td>0</td>\n",
              "      <td>1</td>\n",
              "      <td>0</td>\n",
              "      <td>0</td>\n",
              "      <td>0</td>\n",
              "    </tr>\n",
              "    <tr>\n",
              "      <th>85</th>\n",
              "      <td>0</td>\n",
              "      <td>0</td>\n",
              "      <td>0</td>\n",
              "      <td>0</td>\n",
              "      <td>0</td>\n",
              "      <td>1</td>\n",
              "      <td>0</td>\n",
              "    </tr>\n",
              "    <tr>\n",
              "      <th>1299</th>\n",
              "      <td>0</td>\n",
              "      <td>0</td>\n",
              "      <td>0</td>\n",
              "      <td>0</td>\n",
              "      <td>0</td>\n",
              "      <td>0</td>\n",
              "      <td>1</td>\n",
              "    </tr>\n",
              "    <tr>\n",
              "      <th>152</th>\n",
              "      <td>0</td>\n",
              "      <td>0</td>\n",
              "      <td>0</td>\n",
              "      <td>0</td>\n",
              "      <td>0</td>\n",
              "      <td>1</td>\n",
              "      <td>0</td>\n",
              "    </tr>\n",
              "  </tbody>\n",
              "</table>\n",
              "</div>"
            ],
            "text/plain": [
              "      100 Percent Fed Up  Associated Press News  ...  The New York Times  Vox\n",
              "374                    0                      1  ...                   0    0\n",
              "637                    0                      0  ...                   0    0\n",
              "85                     0                      0  ...                   1    0\n",
              "1299                   0                      0  ...                   0    1\n",
              "152                    0                      0  ...                   1    0\n",
              "\n",
              "[5 rows x 7 columns]"
            ]
          },
          "metadata": {
            "tags": []
          },
          "execution_count": 34
        }
      ]
    },
    {
      "cell_type": "code",
      "metadata": {
        "id": "20pShH2KKyGP",
        "colab_type": "code",
        "colab": {}
      },
      "source": [
        "source_train_arr = np.array(source_train_t)\n",
        "source_val_arr = np.array(source_val)"
      ],
      "execution_count": 0,
      "outputs": []
    },
    {
      "cell_type": "code",
      "metadata": {
        "id": "GrciwtJiHzkS",
        "colab_type": "code",
        "colab": {
          "base_uri": "https://localhost:8080/",
          "height": 442
        },
        "outputId": "74fe5ccc-54bc-4aa8-a37e-4635afa7bc01"
      },
      "source": [
        "# two inputs\n",
        "body_input = Input(shape=(MAX_SEQ_LEN,))\n",
        "\n",
        "embedding_l = Embedding(input_dim=num_words,\n",
        "                            output_dim=EMBED_DIM,\n",
        "                            embeddings_initializer=Constant(embedding_matrix),\n",
        "                            input_length=MAX_SEQ_LEN,\n",
        "                            trainable=False\n",
        "                           )(body_input)\n",
        "\n",
        "LSTM_out = Bidirectional(LSTM(64))(embedding_l)\n",
        "\n",
        "source_input = Input(shape=(7,), name='source_input')\n",
        "\n",
        "x = tf.keras.layers.concatenate([LSTM_out, source_input])\n",
        "x = Dense(64, activation='relu')(x)\n",
        "x = Dropout(0.2)(x)\n",
        "out = Dense(1, activation=None)(x)\n",
        "\n",
        "model3 = Model(inputs=[body_input, source_input], outputs=out)\n",
        "\n",
        "model3.summary()"
      ],
      "execution_count": 41,
      "outputs": [
        {
          "output_type": "stream",
          "text": [
            "Model: \"model_1\"\n",
            "__________________________________________________________________________________________________\n",
            "Layer (type)                    Output Shape         Param #     Connected to                     \n",
            "==================================================================================================\n",
            "input_4 (InputLayer)            [(None, 2000)]       0                                            \n",
            "__________________________________________________________________________________________________\n",
            "embedding_3 (Embedding)         (None, 2000, 64)     1880192     input_4[0][0]                    \n",
            "__________________________________________________________________________________________________\n",
            "bidirectional_3 (Bidirectional) (None, 128)          66048       embedding_3[0][0]                \n",
            "__________________________________________________________________________________________________\n",
            "source_input (InputLayer)       [(None, 7)]          0                                            \n",
            "__________________________________________________________________________________________________\n",
            "concatenate_2 (Concatenate)     (None, 135)          0           bidirectional_3[0][0]            \n",
            "                                                                 source_input[0][0]               \n",
            "__________________________________________________________________________________________________\n",
            "dense_2 (Dense)                 (None, 64)           8704        concatenate_2[0][0]              \n",
            "__________________________________________________________________________________________________\n",
            "dropout_1 (Dropout)             (None, 64)           0           dense_2[0][0]                    \n",
            "__________________________________________________________________________________________________\n",
            "dense_3 (Dense)                 (None, 1)            65          dropout_1[0][0]                  \n",
            "==================================================================================================\n",
            "Total params: 1,955,009\n",
            "Trainable params: 74,817\n",
            "Non-trainable params: 1,880,192\n",
            "__________________________________________________________________________________________________\n"
          ],
          "name": "stdout"
        }
      ]
    },
    {
      "cell_type": "code",
      "metadata": {
        "id": "0tV6vKS2MXIh",
        "colab_type": "code",
        "colab": {}
      },
      "source": [
        "model3.compile(loss='mse', optimizer='adam', metrics=['mse'])\n",
        "\n",
        "earlyStopping = tf.keras.callbacks.EarlyStopping(monitor='val_mse', patience=11, verbose=0, mode='min')\n",
        "cp_save = tf.keras.callbacks.ModelCheckpoint('model3-e{epoch:03d}.ckpt', \n",
        "                                             save_best_only=True, monitor='val_mse', mode='min')"
      ],
      "execution_count": 0,
      "outputs": []
    },
    {
      "cell_type": "code",
      "metadata": {
        "id": "DCf-gDjFMfcO",
        "colab_type": "code",
        "colab": {
          "base_uri": "https://localhost:8080/",
          "height": 717
        },
        "outputId": "5184c1b5-f5bb-4a72-9bf9-a9afd00ecb7b"
      },
      "source": [
        "history3 = model3.fit([padded_train,source_train_arr], y_train_std, \n",
        "                     epochs=100, \n",
        "                     verbose=2, \n",
        "                     callbacks=[earlyStopping, cp_save],\n",
        "                     validation_data=([padded_val,source_val_arr],y_val_std))"
      ],
      "execution_count": 43,
      "outputs": [
        {
          "output_type": "stream",
          "text": [
            "Train on 1105 samples, validate on 196 samples\n",
            "Epoch 1/100\n",
            "WARNING:tensorflow:From /usr/local/lib/python3.6/dist-packages/tensorflow_core/python/ops/resource_variable_ops.py:1786: calling BaseResourceVariable.__init__ (from tensorflow.python.ops.resource_variable_ops) with constraint is deprecated and will be removed in a future version.\n",
            "Instructions for updating:\n",
            "If using Keras pass *_constraint arguments to layers.\n",
            "INFO:tensorflow:Assets written to: model3-e001.ckpt/assets\n",
            "1105/1105 - 28s - loss: 2.5680 - mse: 2.5680 - val_loss: 0.6946 - val_mse: 0.6946\n",
            "Epoch 2/100\n",
            "INFO:tensorflow:Assets written to: model3-e002.ckpt/assets\n",
            "1105/1105 - 20s - loss: 0.9725 - mse: 0.9725 - val_loss: 0.6076 - val_mse: 0.6076\n",
            "Epoch 3/100\n",
            "INFO:tensorflow:Assets written to: model3-e003.ckpt/assets\n",
            "1105/1105 - 20s - loss: 0.8692 - mse: 0.8692 - val_loss: 0.5952 - val_mse: 0.5952\n",
            "Epoch 4/100\n",
            "1105/1105 - 5s - loss: 0.8409 - mse: 0.8409 - val_loss: 0.5976 - val_mse: 0.5976\n",
            "Epoch 5/100\n",
            "INFO:tensorflow:Assets written to: model3-e005.ckpt/assets\n",
            "1105/1105 - 20s - loss: 0.8126 - mse: 0.8126 - val_loss: 0.5651 - val_mse: 0.5651\n",
            "Epoch 6/100\n",
            "1105/1105 - 5s - loss: 0.8006 - mse: 0.8006 - val_loss: 0.5836 - val_mse: 0.5836\n",
            "Epoch 7/100\n",
            "1105/1105 - 5s - loss: 0.7994 - mse: 0.7994 - val_loss: 0.5694 - val_mse: 0.5694\n",
            "Epoch 8/100\n",
            "1105/1105 - 5s - loss: 0.7906 - mse: 0.7906 - val_loss: 0.5824 - val_mse: 0.5824\n",
            "Epoch 9/100\n",
            "1105/1105 - 5s - loss: 0.7549 - mse: 0.7549 - val_loss: 0.5935 - val_mse: 0.5935\n",
            "Epoch 10/100\n",
            "1105/1105 - 5s - loss: 0.7497 - mse: 0.7497 - val_loss: 0.5869 - val_mse: 0.5869\n",
            "Epoch 11/100\n",
            "1105/1105 - 5s - loss: 0.7499 - mse: 0.7499 - val_loss: 0.5891 - val_mse: 0.5891\n",
            "Epoch 12/100\n",
            "1105/1105 - 5s - loss: 0.7515 - mse: 0.7515 - val_loss: 0.6039 - val_mse: 0.6039\n",
            "Epoch 13/100\n",
            "1105/1105 - 5s - loss: 0.7290 - mse: 0.7290 - val_loss: 0.5928 - val_mse: 0.5928\n",
            "Epoch 14/100\n",
            "1105/1105 - 5s - loss: 0.7315 - mse: 0.7315 - val_loss: 0.5873 - val_mse: 0.5873\n",
            "Epoch 15/100\n",
            "1105/1105 - 5s - loss: 0.7023 - mse: 0.7023 - val_loss: 0.6127 - val_mse: 0.6127\n",
            "Epoch 16/100\n",
            "1105/1105 - 5s - loss: 0.7155 - mse: 0.7155 - val_loss: 0.5939 - val_mse: 0.5939\n"
          ],
          "name": "stdout"
        }
      ]
    },
    {
      "cell_type": "code",
      "metadata": {
        "id": "ghX6ATkrM8on",
        "colab_type": "code",
        "colab": {}
      },
      "source": [
        "model3_best = tf.keras.models.load_model('model3-e005.ckpt')"
      ],
      "execution_count": 0,
      "outputs": []
    },
    {
      "cell_type": "code",
      "metadata": {
        "id": "LyOf-PQJM92s",
        "colab_type": "code",
        "colab": {
          "base_uri": "https://localhost:8080/",
          "height": 85
        },
        "outputId": "337dea9f-acae-4e5f-cde1-4d8f2025cb52"
      },
      "source": [
        "source_test_arr = np.array(source_test)\n",
        "\n",
        "pred3 = model3_best.predict(x=[padded_test,source_test])\n",
        "pred3_arr = [p[0] for p in pred3]\n",
        "\n",
        "d = np.subtract(np.array(pred3_arr),y_test_std)\n",
        "test_mse = np.mean(np.square(d))\n",
        "test_rmse = np.sqrt(test_mse)\n",
        "test_mae = np.mean(abs(d))\n",
        "test_pearsonr = stats.pearsonr(y_test_std, pred3_arr)\n",
        "\n",
        "print(\"Test Results on best model epoch\")\n",
        "print(\"RMSE:\",test_rmse)\n",
        "print(\"MAE:\",test_mae)\n",
        "print(\"Pearson R & P-value:\",test_pearsonr)"
      ],
      "execution_count": 48,
      "outputs": [
        {
          "output_type": "stream",
          "text": [
            "Test Results on best model epoch\n",
            "RMSE: 0.9181860364653908\n",
            "MAE: 0.7554922344623197\n",
            "Pearson R & P-value: (0.5310271773618448, 4.0835725954163635e-25)\n"
          ],
          "name": "stdout"
        }
      ]
    },
    {
      "cell_type": "code",
      "metadata": {
        "id": "XX1HiQGoNesZ",
        "colab_type": "code",
        "colab": {
          "base_uri": "https://localhost:8080/",
          "height": 265
        },
        "outputId": "32277afe-fe7d-43e4-8f6e-043b47b1605d"
      },
      "source": [
        "# Test Data Prediction\n",
        "plt.plot(y_test_std, pred3_arr, '.')\n",
        "# plot a line, a perfit predict would all fall on this line\n",
        "x = np.linspace(0, 5)\n",
        "plt.plot(x, x)\n",
        "plt.show()"
      ],
      "execution_count": 49,
      "outputs": [
        {
          "output_type": "display_data",
          "data": {
            "image/png": "[encoded data removed]",
            "text/plain": [
              "<Figure size 432x288 with 1 Axes>"
            ]
          },
          "metadata": {
            "tags": []
          }
        }
      ]
    },
    {
      "cell_type": "markdown",
      "metadata": {
        "id": "iFEFiI4dTI6v",
        "colab_type": "text"
      },
      "source": [
        "# Model 4 - Model 3 + Topic Input"
      ]
    },
    {
      "cell_type": "code",
      "metadata": {
        "id": "C731TK-lTJ3Z",
        "colab_type": "code",
        "colab": {}
      },
      "source": [
        "topic_train_arr = np.array(topic_train_t)\n",
        "topic_val_arr = np.array(topic_val)"
      ],
      "execution_count": 0,
      "outputs": []
    },
    {
      "cell_type": "code",
      "metadata": {
        "id": "mDM3NPuOTUZW",
        "colab_type": "code",
        "colab": {
          "base_uri": "https://localhost:8080/",
          "height": 493
        },
        "outputId": "0b548dd1-e694-4fd5-95ec-a6d20f2a4a89"
      },
      "source": [
        "# three inputs\n",
        "body_input = Input(shape=(MAX_SEQ_LEN,))\n",
        "\n",
        "embedding_l = Embedding(input_dim=num_words,\n",
        "                            output_dim=EMBED_DIM,\n",
        "                            embeddings_initializer=Constant(embedding_matrix),\n",
        "                            input_length=MAX_SEQ_LEN,\n",
        "                            trainable=False\n",
        "                           )(body_input)\n",
        "\n",
        "LSTM_out = Bidirectional(LSTM(64))(embedding_l)\n",
        "\n",
        "source_input = Input(shape=(7,), name='source_input')\n",
        "\n",
        "topic_input = Input(shape=(6,), name='topic_input')\n",
        "\n",
        "x = tf.keras.layers.concatenate([LSTM_out, source_input, topic_input])\n",
        "x = Dense(64, activation='relu')(x)\n",
        "x = Dropout(0.2)(x)\n",
        "out = Dense(1, activation=None)(x)\n",
        "\n",
        "model4 = Model(inputs=[body_input, source_input, topic_input], outputs=out)\n",
        "\n",
        "model4.summary()"
      ],
      "execution_count": 78,
      "outputs": [
        {
          "output_type": "stream",
          "text": [
            "Model: \"model_3\"\n",
            "__________________________________________________________________________________________________\n",
            "Layer (type)                    Output Shape         Param #     Connected to                     \n",
            "==================================================================================================\n",
            "input_7 (InputLayer)            [(None, 2000)]       0                                            \n",
            "__________________________________________________________________________________________________\n",
            "embedding_6 (Embedding)         (None, 2000, 64)     1880192     input_7[0][0]                    \n",
            "__________________________________________________________________________________________________\n",
            "bidirectional_6 (Bidirectional) (None, 128)          66048       embedding_6[0][0]                \n",
            "__________________________________________________________________________________________________\n",
            "source_input (InputLayer)       [(None, 7)]          0                                            \n",
            "__________________________________________________________________________________________________\n",
            "topic_input (InputLayer)        [(None, 6)]          0                                            \n",
            "__________________________________________________________________________________________________\n",
            "concatenate_5 (Concatenate)     (None, 141)          0           bidirectional_6[0][0]            \n",
            "                                                                 source_input[0][0]               \n",
            "                                                                 topic_input[0][0]                \n",
            "__________________________________________________________________________________________________\n",
            "dense_8 (Dense)                 (None, 64)           9088        concatenate_5[0][0]              \n",
            "__________________________________________________________________________________________________\n",
            "dropout_4 (Dropout)             (None, 64)           0           dense_8[0][0]                    \n",
            "__________________________________________________________________________________________________\n",
            "dense_9 (Dense)                 (None, 1)            65          dropout_4[0][0]                  \n",
            "==================================================================================================\n",
            "Total params: 1,955,393\n",
            "Trainable params: 75,201\n",
            "Non-trainable params: 1,880,192\n",
            "__________________________________________________________________________________________________\n"
          ],
          "name": "stdout"
        }
      ]
    },
    {
      "cell_type": "code",
      "metadata": {
        "id": "xTSebU5WTpFj",
        "colab_type": "code",
        "colab": {}
      },
      "source": [
        "model4.compile(loss='mse', optimizer='adam', metrics=['mse'])\n",
        "\n",
        "earlyStopping = tf.keras.callbacks.EarlyStopping(monitor='val_mse', patience=11, verbose=0, mode='min')\n",
        "cp_save = tf.keras.callbacks.ModelCheckpoint('model4-e{epoch:03d}.ckpt', \n",
        "                                             save_best_only=True, monitor='val_mse', mode='min')"
      ],
      "execution_count": 0,
      "outputs": []
    },
    {
      "cell_type": "code",
      "metadata": {
        "id": "A6fA3FZTTvSF",
        "colab_type": "code",
        "colab": {
          "base_uri": "https://localhost:8080/",
          "height": 629
        },
        "outputId": "16aba64e-1f23-4ffe-8ebc-99084298d65e"
      },
      "source": [
        "history4 = model4.fit([padded_train,source_train_arr,topic_train_arr], y_train_std, \n",
        "                     epochs=100, \n",
        "                     verbose=2, \n",
        "                     callbacks=[earlyStopping, cp_save],\n",
        "                     validation_data=([padded_val,source_val_arr,topic_val_arr],y_val_std))"
      ],
      "execution_count": 80,
      "outputs": [
        {
          "output_type": "stream",
          "text": [
            "Train on 1105 samples, validate on 196 samples\n",
            "Epoch 1/100\n",
            "INFO:tensorflow:Assets written to: model4-e001.ckpt/assets\n",
            "1105/1105 - 22s - loss: 1.8371 - mse: 1.8371 - val_loss: 0.5822 - val_mse: 0.5822\n",
            "Epoch 2/100\n",
            "INFO:tensorflow:Assets written to: model4-e002.ckpt/assets\n",
            "1105/1105 - 20s - loss: 0.9471 - mse: 0.9471 - val_loss: 0.5594 - val_mse: 0.5594\n",
            "Epoch 3/100\n",
            "1105/1105 - 5s - loss: 0.8373 - mse: 0.8373 - val_loss: 0.5598 - val_mse: 0.5598\n",
            "Epoch 4/100\n",
            "1105/1105 - 5s - loss: 0.8439 - mse: 0.8439 - val_loss: 0.5651 - val_mse: 0.5651\n",
            "Epoch 5/100\n",
            "INFO:tensorflow:Assets written to: model4-e005.ckpt/assets\n",
            "1105/1105 - 20s - loss: 0.7937 - mse: 0.7937 - val_loss: 0.5571 - val_mse: 0.5571\n",
            "Epoch 6/100\n",
            "1105/1105 - 5s - loss: 0.7463 - mse: 0.7463 - val_loss: 0.5589 - val_mse: 0.5589\n",
            "Epoch 7/100\n",
            "1105/1105 - 5s - loss: 0.7304 - mse: 0.7304 - val_loss: 0.5646 - val_mse: 0.5646\n",
            "Epoch 8/100\n",
            "1105/1105 - 5s - loss: 0.6963 - mse: 0.6963 - val_loss: 0.5761 - val_mse: 0.5761\n",
            "Epoch 9/100\n",
            "1105/1105 - 5s - loss: 0.7017 - mse: 0.7017 - val_loss: 0.5746 - val_mse: 0.5746\n",
            "Epoch 10/100\n",
            "1105/1105 - 5s - loss: 0.7113 - mse: 0.7113 - val_loss: 0.5971 - val_mse: 0.5971\n",
            "Epoch 11/100\n",
            "1105/1105 - 5s - loss: 0.7261 - mse: 0.7261 - val_loss: 0.5798 - val_mse: 0.5798\n",
            "Epoch 12/100\n",
            "1105/1105 - 5s - loss: 0.7231 - mse: 0.7231 - val_loss: 0.6119 - val_mse: 0.6119\n",
            "Epoch 13/100\n",
            "1105/1105 - 5s - loss: 0.7098 - mse: 0.7098 - val_loss: 0.6225 - val_mse: 0.6225\n",
            "Epoch 14/100\n",
            "1105/1105 - 5s - loss: 0.7049 - mse: 0.7049 - val_loss: 0.6294 - val_mse: 0.6294\n",
            "Epoch 15/100\n",
            "1105/1105 - 5s - loss: 0.6856 - mse: 0.6856 - val_loss: 0.5898 - val_mse: 0.5898\n",
            "Epoch 16/100\n",
            "1105/1105 - 5s - loss: 0.6747 - mse: 0.6747 - val_loss: 0.6240 - val_mse: 0.6240\n"
          ],
          "name": "stdout"
        }
      ]
    },
    {
      "cell_type": "code",
      "metadata": {
        "id": "tJYvxDSDT7nU",
        "colab_type": "code",
        "colab": {}
      },
      "source": [
        "model4_best = tf.keras.models.load_model('model4-e005.ckpt')"
      ],
      "execution_count": 0,
      "outputs": []
    },
    {
      "cell_type": "code",
      "metadata": {
        "id": "Kt7L4Z9sUFym",
        "colab_type": "code",
        "colab": {
          "base_uri": "https://localhost:8080/",
          "height": 85
        },
        "outputId": "2baf8b02-acde-475b-d827-4f92337d369b"
      },
      "source": [
        "source_test_arr = np.array(source_test)\n",
        "topic_test_arr = np.array(topic_test)\n",
        "\n",
        "pred4 = model4_best.predict(x=[padded_test,source_test_arr,topic_test_arr])\n",
        "pred4_arr = [p[0] for p in pred4]\n",
        "\n",
        "d = np.subtract(np.array(pred4_arr),y_test_std)\n",
        "test_mse = np.mean(np.square(d))\n",
        "test_rmse = np.sqrt(test_mse)\n",
        "test_mae = np.mean(abs(d))\n",
        "test_pearsonr = stats.pearsonr(y_test_std, pred4_arr)\n",
        "\n",
        "print(\"Test Results on best model epoch\")\n",
        "print(\"RMSE:\",test_rmse)\n",
        "print(\"MAE:\",test_mae)\n",
        "print(\"Pearson R & P-value:\",test_pearsonr)"
      ],
      "execution_count": 82,
      "outputs": [
        {
          "output_type": "stream",
          "text": [
            "Test Results on best model epoch\n",
            "RMSE: 0.9004754658046552\n",
            "MAE: 0.7350771538712061\n",
            "Pearson R & P-value: (0.5575129300327313, 5.093258040330856e-28)\n"
          ],
          "name": "stdout"
        }
      ]
    },
    {
      "cell_type": "code",
      "metadata": {
        "id": "MC5hqxOeUPBX",
        "colab_type": "code",
        "colab": {
          "base_uri": "https://localhost:8080/",
          "height": 265
        },
        "outputId": "8d0d60c3-c970-4279-c864-63aac164dc95"
      },
      "source": [
        "# Test Data Prediction\n",
        "plt.plot(y_test_std, pred4_arr, '.')\n",
        "# plot a line, a perfit predict would all fall on this line\n",
        "x = np.linspace(0, 5)\n",
        "plt.plot(x, x)\n",
        "plt.show()"
      ],
      "execution_count": 84,
      "outputs": [
        {
          "output_type": "display_data",
          "data": {
            "image/png": "[encoded data removed]",
            "text/plain": [
              "<Figure size 432x288 with 1 Axes>"
            ]
          },
          "metadata": {
            "tags": []
          }
        }
      ]
    },
    {
      "cell_type": "markdown",
      "metadata": {
        "id": "oTWVd9PqwGdU",
        "colab_type": "text"
      },
      "source": [
        "# Test Model with no Lemmatization"
      ]
    },
    {
      "cell_type": "code",
      "metadata": {
        "id": "9znOBLkauB2w",
        "colab_type": "code",
        "colab": {}
      },
      "source": [
        "#clean data\n",
        "def clean_data_nolemma(text):\n",
        "    #remove punctuation, digits, extra stuff. make lowercase\n",
        "    text = text.lower()\n",
        "    text = re.sub('\\[.*?\\]', '', text)\n",
        "    text = re.sub('[%s]' % re.escape(string.punctuation), '', text)\n",
        "    text = re.sub('\\w*\\d\\w*', '', text)\n",
        "    text = re.sub('[‘’“”…]', '', text)\n",
        "    #lemma it - include POS tag in order to lemma it better\n",
        "    tag_map = defaultdict(lambda : wordnet.NOUN)\n",
        "    tag_map['J'] = wordnet.ADJ\n",
        "    tag_map['V'] = wordnet.VERB\n",
        "    tag_map['R'] = wordnet.ADV\n",
        "    lemmatizer = WordNetLemmatizer()\n",
        "    textTokens = word_tokenize(text)\n",
        "    #remove stopwords\n",
        "    word_tokens_nostop = [w for w in textTokens if not w in stopwords.words('english')] \n",
        "    return \" \".join(word_tokens_nostop)"
      ],
      "execution_count": 0,
      "outputs": []
    },
    {
      "cell_type": "code",
      "metadata": {
        "id": "BmYqrzE_wObL",
        "colab_type": "code",
        "colab": {}
      },
      "source": [
        "clean_body_train = data_train[\"content_body_clean\"].apply(clean_data_nolemma)\n",
        "clean_body_test = data_test[\"content_body_clean\"].apply(clean_data_nolemma)"
      ],
      "execution_count": 0,
      "outputs": []
    },
    {
      "cell_type": "code",
      "metadata": {
        "id": "b6ZBfec9wcXO",
        "colab_type": "code",
        "colab": {}
      },
      "source": [
        "X_train, X_val, y_train_t, y_val, source_train_t, source_val, topic_train_t, topic_val = train_test_split(clean_body_train, y_train, source_train, topic_train, \n",
        "                                                                                                          test_size=0.15, shuffle=True, random_state=3)"
      ],
      "execution_count": 0,
      "outputs": []
    },
    {
      "cell_type": "code",
      "metadata": {
        "id": "puFhgUDOwcbJ",
        "colab_type": "code",
        "colab": {}
      },
      "source": [
        "y_train_std = np.array(list(y_train_t))\n",
        "y_val_std = np.array(list(y_val))\n",
        "y_test_std = np.array(list(y_test))"
      ],
      "execution_count": 0,
      "outputs": []
    },
    {
      "cell_type": "code",
      "metadata": {
        "id": "Z__Sx3o2wou2",
        "colab_type": "code",
        "colab": {}
      },
      "source": [
        "train_body = []\n",
        "articles = list(clean_body_train)\n",
        "\n",
        "for article in articles:\n",
        "    art_tokens = word_tokenize(article)\n",
        "    train_body.append(art_tokens)"
      ],
      "execution_count": 0,
      "outputs": []
    },
    {
      "cell_type": "code",
      "metadata": {
        "id": "xzJNI2i1w4rG",
        "colab_type": "code",
        "colab": {
          "base_uri": "https://localhost:8080/",
          "height": 34
        },
        "outputId": "26977c00-8cc6-417b-d6d3-78ff802ffd81"
      },
      "source": [
        "# train word2vec model\n",
        "modelw2 = gensim.models.Word2Vec(sentences=train_body, size=EMBED_DIM, window=5, workers=4, min_count=1)\n",
        "# vocab size\n",
        "total_words = list(modelw2.wv.vocab)\n",
        "print(\"Vocab size\",len(total_words))"
      ],
      "execution_count": 98,
      "outputs": [
        {
          "output_type": "stream",
          "text": [
            "Vocab size 34869\n"
          ],
          "name": "stdout"
        }
      ]
    },
    {
      "cell_type": "code",
      "metadata": {
        "id": "EFlwIa8exXae",
        "colab_type": "code",
        "colab": {
          "base_uri": "https://localhost:8080/",
          "height": 71
        },
        "outputId": "967a6bf2-e7e0-46a4-abe6-258e4ffad793"
      },
      "source": [
        "modelw2.wv.save_word2vec_format('word2vec_embed2.txt',binary=False)"
      ],
      "execution_count": 99,
      "outputs": [
        {
          "output_type": "stream",
          "text": [
            "/usr/local/lib/python3.6/dist-packages/smart_open/smart_open_lib.py:402: UserWarning: This function is deprecated, use smart_open.open instead. See the migration notes for details: https://github.com/RaRe-Technologies/smart_open/blob/master/README.rst#migrating-to-the-new-open-function\n",
            "  'See the migration notes for details: %s' % _MIGRATION_NOTES_URL\n"
          ],
          "name": "stderr"
        }
      ]
    },
    {
      "cell_type": "code",
      "metadata": {
        "id": "Zh6SNIPpxXYC",
        "colab_type": "code",
        "colab": {}
      },
      "source": [
        "embeddings_index = {}\n",
        "f = open(os.path.join('','word2vec_embed2.txt'), encoding=\"utf-8\")\n",
        "for line in f:\n",
        "    values = line.split()\n",
        "    word = values[0]\n",
        "    coefs = np.asarray(values[1:])\n",
        "    embeddings_index[word] = coefs\n",
        "f.close()"
      ],
      "execution_count": 0,
      "outputs": []
    },
    {
      "cell_type": "code",
      "metadata": {
        "id": "xVOyVwX4xXVv",
        "colab_type": "code",
        "colab": {
          "base_uri": "https://localhost:8080/",
          "height": 34
        },
        "outputId": "91e6f67a-9226-4951-e2ef-22ad21d49931"
      },
      "source": [
        "VOCAB_SIZE = 34869\n",
        "\n",
        "tokenizer = tf.keras.preprocessing.text.Tokenizer(num_words=VOCAB_SIZE)\n",
        "tokenizer.fit_on_texts(clean_body_train)\n",
        "\n",
        "# Note, the tokenizer's word_index will not respect VOCAB_SIZE.\n",
        "# but, that parameter will be respected in later methods,\n",
        "# (for example, when you call text_to_sequences).\n",
        "# Also note that '0' is a reserved index for padding.\n",
        "word_index = tokenizer.word_index\n",
        "print(\"Word index\", len(word_index))"
      ],
      "execution_count": 101,
      "outputs": [
        {
          "output_type": "stream",
          "text": [
            "Word index 34869\n"
          ],
          "name": "stdout"
        }
      ]
    },
    {
      "cell_type": "code",
      "metadata": {
        "id": "RA2dkYiQxXSx",
        "colab_type": "code",
        "colab": {}
      },
      "source": [
        "# Use the texts_to_sequences utility to vectorize your training, \n",
        "# validation, and test questions. \n",
        "sequences_train = tokenizer.texts_to_sequences(X_train)\n",
        "sequences_val = tokenizer.texts_to_sequences(X_val)\n",
        "sequences_test = tokenizer.texts_to_sequences(clean_body_test)"
      ],
      "execution_count": 0,
      "outputs": []
    },
    {
      "cell_type": "code",
      "metadata": {
        "id": "ZkYRiGRRxrC6",
        "colab_type": "code",
        "colab": {}
      },
      "source": [
        "padded_train = tf.keras.preprocessing.sequence.pad_sequences(sequences_train, maxlen=MAX_SEQ_LEN)\n",
        "padded_val = tf.keras.preprocessing.sequence.pad_sequences(sequences_val, maxlen=MAX_SEQ_LEN)\n",
        "padded_test = tf.keras.preprocessing.sequence.pad_sequences(sequences_test, maxlen=MAX_SEQ_LEN)"
      ],
      "execution_count": 0,
      "outputs": []
    },
    {
      "cell_type": "code",
      "metadata": {
        "id": "KNH6usndxq_f",
        "colab_type": "code",
        "colab": {}
      },
      "source": [
        "num_words = len(word_index) + 1\n",
        "embedding_matrix = np.zeros((num_words,EMBED_DIM))\n",
        "\n",
        "for word, i in word_index.items():\n",
        "    if i > num_words:\n",
        "        continue\n",
        "    embedding_vector = embeddings_index.get(word)\n",
        "    if embedding_vector is not None:\n",
        "        # words not found in embedding index will be 0s\n",
        "        embedding_matrix[i] = embedding_vector"
      ],
      "execution_count": 0,
      "outputs": []
    },
    {
      "cell_type": "code",
      "metadata": {
        "id": "a8bb_xFnyEUP",
        "colab_type": "code",
        "colab": {
          "base_uri": "https://localhost:8080/",
          "height": 323
        },
        "outputId": "2ad3d4d3-1f3b-4e27-d0de-ac712aba4826"
      },
      "source": [
        "model = Sequential()\n",
        "embedding_layer = Embedding(input_dim=num_words,\n",
        "                            output_dim=EMBED_DIM,\n",
        "                            embeddings_initializer=Constant(embedding_matrix),\n",
        "                            input_length=MAX_SEQ_LEN,\n",
        "                            trainable=False\n",
        "                           )\n",
        "model.add(embedding_layer)\n",
        "#model.add(Flatten())\n",
        "model.add(Bidirectional(LSTM(64)))\n",
        "#model.add(GRU(units=32, dropout=0.2, recurrent_dropout=0.2))\n",
        "model.add(Dense(64, activation=\"relu\"))\n",
        "model.add(Dropout(0.2))\n",
        "model.add(Dense(1, activation=None))\n",
        "\n",
        "model.summary()"
      ],
      "execution_count": 105,
      "outputs": [
        {
          "output_type": "stream",
          "text": [
            "Model: \"sequential\"\n",
            "_________________________________________________________________\n",
            "Layer (type)                 Output Shape              Param #   \n",
            "=================================================================\n",
            "embedding_7 (Embedding)      (None, 2000, 64)          2231680   \n",
            "_________________________________________________________________\n",
            "bidirectional_7 (Bidirection (None, 128)               66048     \n",
            "_________________________________________________________________\n",
            "dense_10 (Dense)             (None, 64)                8256      \n",
            "_________________________________________________________________\n",
            "dropout_5 (Dropout)          (None, 64)                0         \n",
            "_________________________________________________________________\n",
            "dense_11 (Dense)             (None, 1)                 65        \n",
            "=================================================================\n",
            "Total params: 2,306,049\n",
            "Trainable params: 74,369\n",
            "Non-trainable params: 2,231,680\n",
            "_________________________________________________________________\n"
          ],
          "name": "stdout"
        }
      ]
    },
    {
      "cell_type": "code",
      "metadata": {
        "id": "OxldmNbByEji",
        "colab_type": "code",
        "colab": {}
      },
      "source": [
        "model.compile(loss='mse', optimizer='adam', metrics=['mse'])\n",
        "\n",
        "earlyStopping = tf.keras.callbacks.EarlyStopping(monitor='val_mse', patience=11, verbose=0, mode='min')\n",
        "cp_save = tf.keras.callbacks.ModelCheckpoint('model-e{epoch:03d}.ckpt', \n",
        "                                             save_best_only=True, monitor='val_mse', mode='min')"
      ],
      "execution_count": 0,
      "outputs": []
    },
    {
      "cell_type": "code",
      "metadata": {
        "id": "28QSwTvjyEhL",
        "colab_type": "code",
        "colab": {
          "base_uri": "https://localhost:8080/",
          "height": 680
        },
        "outputId": "7fd8c409-d9fd-4dd8-9a81-d5e61c479f21"
      },
      "source": [
        "history = model.fit(padded_train, y_train_std, \n",
        "                     epochs=100, \n",
        "                     verbose=2, \n",
        "                     callbacks=[earlyStopping, cp_save],\n",
        "                     validation_data=(padded_val,y_val_std))"
      ],
      "execution_count": 107,
      "outputs": [
        {
          "output_type": "stream",
          "text": [
            "Train on 1105 samples, validate on 196 samples\n",
            "Epoch 1/100\n",
            "INFO:tensorflow:Assets written to: model-e001.ckpt/assets\n",
            "1105/1105 - 25s - loss: 3.9222 - mse: 3.9222 - val_loss: 0.6405 - val_mse: 0.6405\n",
            "Epoch 2/100\n",
            "1105/1105 - 5s - loss: 1.0445 - mse: 1.0445 - val_loss: 0.6419 - val_mse: 0.6419\n",
            "Epoch 3/100\n",
            "INFO:tensorflow:Assets written to: model-e003.ckpt/assets\n",
            "1105/1105 - 22s - loss: 0.9374 - mse: 0.9374 - val_loss: 0.6269 - val_mse: 0.6269\n",
            "Epoch 4/100\n",
            "INFO:tensorflow:Assets written to: model-e004.ckpt/assets\n",
            "1105/1105 - 22s - loss: 0.9473 - mse: 0.9473 - val_loss: 0.6259 - val_mse: 0.6259\n",
            "Epoch 5/100\n",
            "1105/1105 - 5s - loss: 0.9752 - mse: 0.9752 - val_loss: 0.6391 - val_mse: 0.6391\n",
            "Epoch 6/100\n",
            "INFO:tensorflow:Assets written to: model-e006.ckpt/assets\n",
            "1105/1105 - 22s - loss: 0.9612 - mse: 0.9612 - val_loss: 0.6197 - val_mse: 0.6197\n",
            "Epoch 7/100\n",
            "1105/1105 - 5s - loss: 0.9293 - mse: 0.9293 - val_loss: 0.6282 - val_mse: 0.6282\n",
            "Epoch 8/100\n",
            "1105/1105 - 5s - loss: 0.9219 - mse: 0.9219 - val_loss: 0.6218 - val_mse: 0.6218\n",
            "Epoch 9/100\n",
            "1105/1105 - 5s - loss: 0.9166 - mse: 0.9166 - val_loss: 0.6953 - val_mse: 0.6953\n",
            "Epoch 10/100\n",
            "1105/1105 - 5s - loss: 0.9329 - mse: 0.9329 - val_loss: 0.6199 - val_mse: 0.6199\n",
            "Epoch 11/100\n",
            "1105/1105 - 5s - loss: 0.9089 - mse: 0.9089 - val_loss: 0.6837 - val_mse: 0.6837\n",
            "Epoch 12/100\n",
            "1105/1105 - 5s - loss: 0.9046 - mse: 0.9046 - val_loss: 0.6420 - val_mse: 0.6420\n",
            "Epoch 13/100\n",
            "1105/1105 - 5s - loss: 0.8498 - mse: 0.8498 - val_loss: 0.6660 - val_mse: 0.6660\n",
            "Epoch 14/100\n",
            "1105/1105 - 5s - loss: 0.8822 - mse: 0.8822 - val_loss: 0.6762 - val_mse: 0.6762\n",
            "Epoch 15/100\n",
            "1105/1105 - 5s - loss: 0.9213 - mse: 0.9213 - val_loss: 0.6882 - val_mse: 0.6882\n",
            "Epoch 16/100\n",
            "1105/1105 - 5s - loss: 0.9249 - mse: 0.9249 - val_loss: 0.6361 - val_mse: 0.6361\n",
            "Epoch 17/100\n",
            "1105/1105 - 5s - loss: 0.8821 - mse: 0.8821 - val_loss: 0.6346 - val_mse: 0.6346\n"
          ],
          "name": "stdout"
        }
      ]
    },
    {
      "cell_type": "code",
      "metadata": {
        "id": "1Xc2V9X8yEer",
        "colab_type": "code",
        "colab": {
          "base_uri": "https://localhost:8080/",
          "height": 85
        },
        "outputId": "8b17ab71-881f-41ed-816e-b4cc404f22fd"
      },
      "source": [
        "model1_best = tf.keras.models.load_model('model-e006.ckpt')\n",
        "\n",
        "pred1 = model1_best.predict(x=padded_test)\n",
        "pred_arr = [p[0] for p in pred1]\n",
        "\n",
        "d = np.subtract(np.array(pred_arr),y_test_std)\n",
        "test_mse = np.mean(np.square(d))\n",
        "test_rmse = np.sqrt(test_mse)\n",
        "test_mae = np.mean(abs(d))\n",
        "test_pearsonr = stats.pearsonr(y_test_std, pred_arr)\n",
        "\n",
        "print(\"Test Results on best model epoch\")\n",
        "print(\"RMSE:\",test_rmse)\n",
        "print(\"MAE:\",test_mae)\n",
        "print(\"Pearson R & P-value:\",test_pearsonr)"
      ],
      "execution_count": 108,
      "outputs": [
        {
          "output_type": "stream",
          "text": [
            "Test Results on best model epoch\n",
            "RMSE: 0.9927959993024132\n",
            "MAE: 0.8129505838159038\n",
            "Pearson R & P-value: (0.23229618068896188, 2.2733899234061983e-05)\n"
          ],
          "name": "stdout"
        }
      ]
    },
    {
      "cell_type": "code",
      "metadata": {
        "id": "0vITV2mAykW7",
        "colab_type": "code",
        "colab": {
          "base_uri": "https://localhost:8080/",
          "height": 265
        },
        "outputId": "c3436f36-aef3-42c8-a204-1cd407d10866"
      },
      "source": [
        "# Test Data Prediction\n",
        "plt.plot(y_test_std, pred_arr, '.')\n",
        "# plot a line, a perfit predict would all fall on this line\n",
        "x = np.linspace(0, 5)\n",
        "plt.plot(x, x)\n",
        "plt.show()"
      ],
      "execution_count": 109,
      "outputs": [
        {
          "output_type": "display_data",
          "data": {
            "image/png": "[encoded data removed]",
            "text/plain": [
              "<Figure size 432x288 with 1 Axes>"
            ]
          },
          "metadata": {
            "tags": []
          }
        }
      ]
    }
  ]
}