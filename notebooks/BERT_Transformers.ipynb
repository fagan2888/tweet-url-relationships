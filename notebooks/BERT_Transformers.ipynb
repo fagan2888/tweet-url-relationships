{
  "nbformat": 4,
  "nbformat_minor": 0,
  "metadata": {
    "accelerator": "GPU",
    "colab": {
      "name": "BERT_Tranformers.ipynb",
      "provenance": [],
      "collapsed_sections": [],
      "toc_visible": true,
      "machine_shape": "hm"
    },
    "kernelspec": {
      "name": "python3",
      "display_name": "Python 3"
    },
    "language_info": {
      "codemirror_mode": {
        "name": "ipython",
        "version": 3
      },
      "file_extension": ".py",
      "mimetype": "text/x-python",
      "name": "python",
      "nbconvert_exporter": "python",
      "pygments_lexer": "ipython3",
      "version": "3.7.3"
    },
    "widgets": {
      "application/vnd.jupyter.widget-state+json": {
        "6f1b23c8b0dc4e25b4a3dc3cbb32b505": {
          "model_module": "@jupyter-widgets/controls",
          "model_name": "HBoxModel",
          "state": {
            "_view_name": "HBoxView",
            "_dom_classes": [],
            "_model_name": "HBoxModel",
            "_view_module": "@jupyter-widgets/controls",
            "_model_module_version": "1.5.0",
            "_view_count": null,
            "_view_module_version": "1.5.0",
            "box_style": "",
            "layout": "IPY_MODEL_3bcc3d3f14114d0496a06b99873d1eee",
            "_model_module": "@jupyter-widgets/controls",
            "children": [
              "IPY_MODEL_451a7de5aa874a94ae8966fdc77b99d2",
              "IPY_MODEL_8c029d5ff5e1461d93a81188aa210e86"
            ]
          }
        },
        "3bcc3d3f14114d0496a06b99873d1eee": {
          "model_module": "@jupyter-widgets/base",
          "model_name": "LayoutModel",
          "state": {
            "_view_name": "LayoutView",
            "grid_template_rows": null,
            "right": null,
            "justify_content": null,
            "_view_module": "@jupyter-widgets/base",
            "overflow": null,
            "_model_module_version": "1.2.0",
            "_view_count": null,
            "flex_flow": null,
            "width": null,
            "min_width": null,
            "border": null,
            "align_items": null,
            "bottom": null,
            "_model_module": "@jupyter-widgets/base",
            "top": null,
            "grid_column": null,
            "overflow_y": null,
            "overflow_x": null,
            "grid_auto_flow": null,
            "grid_area": null,
            "grid_template_columns": null,
            "flex": null,
            "_model_name": "LayoutModel",
            "justify_items": null,
            "grid_row": null,
            "max_height": null,
            "align_content": null,
            "visibility": null,
            "align_self": null,
            "height": null,
            "min_height": null,
            "padding": null,
            "grid_auto_rows": null,
            "grid_gap": null,
            "max_width": null,
            "order": null,
            "_view_module_version": "1.2.0",
            "grid_template_areas": null,
            "object_position": null,
            "object_fit": null,
            "grid_auto_columns": null,
            "margin": null,
            "display": null,
            "left": null
          }
        },
        "451a7de5aa874a94ae8966fdc77b99d2": {
          "model_module": "@jupyter-widgets/controls",
          "model_name": "IntProgressModel",
          "state": {
            "_view_name": "ProgressView",
            "style": "IPY_MODEL_76502ecdb1284bf783037334bf220228",
            "_dom_classes": [],
            "description": "Downloading",
            "_model_name": "IntProgressModel",
            "bar_style": "success",
            "max": 231508,
            "_view_module": "@jupyter-widgets/controls",
            "_model_module_version": "1.5.0",
            "value": 231508,
            "_view_count": null,
            "_view_module_version": "1.5.0",
            "orientation": "horizontal",
            "min": 0,
            "description_tooltip": null,
            "_model_module": "@jupyter-widgets/controls",
            "layout": "IPY_MODEL_4518d921806e4241a8f6d3c2ee269bdf"
          }
        },
        "8c029d5ff5e1461d93a81188aa210e86": {
          "model_module": "@jupyter-widgets/controls",
          "model_name": "HTMLModel",
          "state": {
            "_view_name": "HTMLView",
            "style": "IPY_MODEL_952bab03810a4c16b7c64afc4e49fc61",
            "_dom_classes": [],
            "description": "",
            "_model_name": "HTMLModel",
            "placeholder": "​",
            "_view_module": "@jupyter-widgets/controls",
            "_model_module_version": "1.5.0",
            "value": "100% 232k/232k [00:00&lt;00:00, 4.46MB/s]",
            "_view_count": null,
            "_view_module_version": "1.5.0",
            "description_tooltip": null,
            "_model_module": "@jupyter-widgets/controls",
            "layout": "IPY_MODEL_2beb940db5d743a0af5176f869f9fd31"
          }
        },
        "76502ecdb1284bf783037334bf220228": {
          "model_module": "@jupyter-widgets/controls",
          "model_name": "ProgressStyleModel",
          "state": {
            "_view_name": "StyleView",
            "_model_name": "ProgressStyleModel",
            "description_width": "initial",
            "_view_module": "@jupyter-widgets/base",
            "_model_module_version": "1.5.0",
            "_view_count": null,
            "_view_module_version": "1.2.0",
            "bar_color": null,
            "_model_module": "@jupyter-widgets/controls"
          }
        },
        "4518d921806e4241a8f6d3c2ee269bdf": {
          "model_module": "@jupyter-widgets/base",
          "model_name": "LayoutModel",
          "state": {
            "_view_name": "LayoutView",
            "grid_template_rows": null,
            "right": null,
            "justify_content": null,
            "_view_module": "@jupyter-widgets/base",
            "overflow": null,
            "_model_module_version": "1.2.0",
            "_view_count": null,
            "flex_flow": null,
            "width": null,
            "min_width": null,
            "border": null,
            "align_items": null,
            "bottom": null,
            "_model_module": "@jupyter-widgets/base",
            "top": null,
            "grid_column": null,
            "overflow_y": null,
            "overflow_x": null,
            "grid_auto_flow": null,
            "grid_area": null,
            "grid_template_columns": null,
            "flex": null,
            "_model_name": "LayoutModel",
            "justify_items": null,
            "grid_row": null,
            "max_height": null,
            "align_content": null,
            "visibility": null,
            "align_self": null,
            "height": null,
            "min_height": null,
            "padding": null,
            "grid_auto_rows": null,
            "grid_gap": null,
            "max_width": null,
            "order": null,
            "_view_module_version": "1.2.0",
            "grid_template_areas": null,
            "object_position": null,
            "object_fit": null,
            "grid_auto_columns": null,
            "margin": null,
            "display": null,
            "left": null
          }
        },
        "952bab03810a4c16b7c64afc4e49fc61": {
          "model_module": "@jupyter-widgets/controls",
          "model_name": "DescriptionStyleModel",
          "state": {
            "_view_name": "StyleView",
            "_model_name": "DescriptionStyleModel",
            "description_width": "",
            "_view_module": "@jupyter-widgets/base",
            "_model_module_version": "1.5.0",
            "_view_count": null,
            "_view_module_version": "1.2.0",
            "_model_module": "@jupyter-widgets/controls"
          }
        },
        "2beb940db5d743a0af5176f869f9fd31": {
          "model_module": "@jupyter-widgets/base",
          "model_name": "LayoutModel",
          "state": {
            "_view_name": "LayoutView",
            "grid_template_rows": null,
            "right": null,
            "justify_content": null,
            "_view_module": "@jupyter-widgets/base",
            "overflow": null,
            "_model_module_version": "1.2.0",
            "_view_count": null,
            "flex_flow": null,
            "width": null,
            "min_width": null,
            "border": null,
            "align_items": null,
            "bottom": null,
            "_model_module": "@jupyter-widgets/base",
            "top": null,
            "grid_column": null,
            "overflow_y": null,
            "overflow_x": null,
            "grid_auto_flow": null,
            "grid_area": null,
            "grid_template_columns": null,
            "flex": null,
            "_model_name": "LayoutModel",
            "justify_items": null,
            "grid_row": null,
            "max_height": null,
            "align_content": null,
            "visibility": null,
            "align_self": null,
            "height": null,
            "min_height": null,
            "padding": null,
            "grid_auto_rows": null,
            "grid_gap": null,
            "max_width": null,
            "order": null,
            "_view_module_version": "1.2.0",
            "grid_template_areas": null,
            "object_position": null,
            "object_fit": null,
            "grid_auto_columns": null,
            "margin": null,
            "display": null,
            "left": null
          }
        },
        "eccfd22fd0594134aa3a205baf04dd98": {
          "model_module": "@jupyter-widgets/controls",
          "model_name": "HBoxModel",
          "state": {
            "_view_name": "HBoxView",
            "_dom_classes": [],
            "_model_name": "HBoxModel",
            "_view_module": "@jupyter-widgets/controls",
            "_model_module_version": "1.5.0",
            "_view_count": null,
            "_view_module_version": "1.5.0",
            "box_style": "",
            "layout": "IPY_MODEL_e069a67a28da40ea8d304d094b60b045",
            "_model_module": "@jupyter-widgets/controls",
            "children": [
              "IPY_MODEL_20ace337b22b489e826f9c716731cd18",
              "IPY_MODEL_76e69a95731d4cd590198854a2d983ce"
            ]
          }
        },
        "e069a67a28da40ea8d304d094b60b045": {
          "model_module": "@jupyter-widgets/base",
          "model_name": "LayoutModel",
          "state": {
            "_view_name": "LayoutView",
            "grid_template_rows": null,
            "right": null,
            "justify_content": null,
            "_view_module": "@jupyter-widgets/base",
            "overflow": null,
            "_model_module_version": "1.2.0",
            "_view_count": null,
            "flex_flow": null,
            "width": null,
            "min_width": null,
            "border": null,
            "align_items": null,
            "bottom": null,
            "_model_module": "@jupyter-widgets/base",
            "top": null,
            "grid_column": null,
            "overflow_y": null,
            "overflow_x": null,
            "grid_auto_flow": null,
            "grid_area": null,
            "grid_template_columns": null,
            "flex": null,
            "_model_name": "LayoutModel",
            "justify_items": null,
            "grid_row": null,
            "max_height": null,
            "align_content": null,
            "visibility": null,
            "align_self": null,
            "height": null,
            "min_height": null,
            "padding": null,
            "grid_auto_rows": null,
            "grid_gap": null,
            "max_width": null,
            "order": null,
            "_view_module_version": "1.2.0",
            "grid_template_areas": null,
            "object_position": null,
            "object_fit": null,
            "grid_auto_columns": null,
            "margin": null,
            "display": null,
            "left": null
          }
        },
        "20ace337b22b489e826f9c716731cd18": {
          "model_module": "@jupyter-widgets/controls",
          "model_name": "IntProgressModel",
          "state": {
            "_view_name": "ProgressView",
            "style": "IPY_MODEL_d4f4bf0f0fc44dab852573951dde1494",
            "_dom_classes": [],
            "description": "Downloading",
            "_model_name": "IntProgressModel",
            "bar_style": "success",
            "max": 361,
            "_view_module": "@jupyter-widgets/controls",
            "_model_module_version": "1.5.0",
            "value": 361,
            "_view_count": null,
            "_view_module_version": "1.5.0",
            "orientation": "horizontal",
            "min": 0,
            "description_tooltip": null,
            "_model_module": "@jupyter-widgets/controls",
            "layout": "IPY_MODEL_8e91ce1f885249a280d0c660860edc1f"
          }
        },
        "76e69a95731d4cd590198854a2d983ce": {
          "model_module": "@jupyter-widgets/controls",
          "model_name": "HTMLModel",
          "state": {
            "_view_name": "HTMLView",
            "style": "IPY_MODEL_73351fdee11840d19c61c9a58f436016",
            "_dom_classes": [],
            "description": "",
            "_model_name": "HTMLModel",
            "placeholder": "​",
            "_view_module": "@jupyter-widgets/controls",
            "_model_module_version": "1.5.0",
            "value": "100% 361/361 [00:00&lt;00:00, 14.2kB/s]",
            "_view_count": null,
            "_view_module_version": "1.5.0",
            "description_tooltip": null,
            "_model_module": "@jupyter-widgets/controls",
            "layout": "IPY_MODEL_2bf83837a76a4917b16543104e92e8c5"
          }
        },
        "d4f4bf0f0fc44dab852573951dde1494": {
          "model_module": "@jupyter-widgets/controls",
          "model_name": "ProgressStyleModel",
          "state": {
            "_view_name": "StyleView",
            "_model_name": "ProgressStyleModel",
            "description_width": "initial",
            "_view_module": "@jupyter-widgets/base",
            "_model_module_version": "1.5.0",
            "_view_count": null,
            "_view_module_version": "1.2.0",
            "bar_color": null,
            "_model_module": "@jupyter-widgets/controls"
          }
        },
        "8e91ce1f885249a280d0c660860edc1f": {
          "model_module": "@jupyter-widgets/base",
          "model_name": "LayoutModel",
          "state": {
            "_view_name": "LayoutView",
            "grid_template_rows": null,
            "right": null,
            "justify_content": null,
            "_view_module": "@jupyter-widgets/base",
            "overflow": null,
            "_model_module_version": "1.2.0",
            "_view_count": null,
            "flex_flow": null,
            "width": null,
            "min_width": null,
            "border": null,
            "align_items": null,
            "bottom": null,
            "_model_module": "@jupyter-widgets/base",
            "top": null,
            "grid_column": null,
            "overflow_y": null,
            "overflow_x": null,
            "grid_auto_flow": null,
            "grid_area": null,
            "grid_template_columns": null,
            "flex": null,
            "_model_name": "LayoutModel",
            "justify_items": null,
            "grid_row": null,
            "max_height": null,
            "align_content": null,
            "visibility": null,
            "align_self": null,
            "height": null,
            "min_height": null,
            "padding": null,
            "grid_auto_rows": null,
            "grid_gap": null,
            "max_width": null,
            "order": null,
            "_view_module_version": "1.2.0",
            "grid_template_areas": null,
            "object_position": null,
            "object_fit": null,
            "grid_auto_columns": null,
            "margin": null,
            "display": null,
            "left": null
          }
        },
        "73351fdee11840d19c61c9a58f436016": {
          "model_module": "@jupyter-widgets/controls",
          "model_name": "DescriptionStyleModel",
          "state": {
            "_view_name": "StyleView",
            "_model_name": "DescriptionStyleModel",
            "description_width": "",
            "_view_module": "@jupyter-widgets/base",
            "_model_module_version": "1.5.0",
            "_view_count": null,
            "_view_module_version": "1.2.0",
            "_model_module": "@jupyter-widgets/controls"
          }
        },
        "2bf83837a76a4917b16543104e92e8c5": {
          "model_module": "@jupyter-widgets/base",
          "model_name": "LayoutModel",
          "state": {
            "_view_name": "LayoutView",
            "grid_template_rows": null,
            "right": null,
            "justify_content": null,
            "_view_module": "@jupyter-widgets/base",
            "overflow": null,
            "_model_module_version": "1.2.0",
            "_view_count": null,
            "flex_flow": null,
            "width": null,
            "min_width": null,
            "border": null,
            "align_items": null,
            "bottom": null,
            "_model_module": "@jupyter-widgets/base",
            "top": null,
            "grid_column": null,
            "overflow_y": null,
            "overflow_x": null,
            "grid_auto_flow": null,
            "grid_area": null,
            "grid_template_columns": null,
            "flex": null,
            "_model_name": "LayoutModel",
            "justify_items": null,
            "grid_row": null,
            "max_height": null,
            "align_content": null,
            "visibility": null,
            "align_self": null,
            "height": null,
            "min_height": null,
            "padding": null,
            "grid_auto_rows": null,
            "grid_gap": null,
            "max_width": null,
            "order": null,
            "_view_module_version": "1.2.0",
            "grid_template_areas": null,
            "object_position": null,
            "object_fit": null,
            "grid_auto_columns": null,
            "margin": null,
            "display": null,
            "left": null
          }
        },
        "33e61211f785480395b7e32958d60699": {
          "model_module": "@jupyter-widgets/controls",
          "model_name": "HBoxModel",
          "state": {
            "_view_name": "HBoxView",
            "_dom_classes": [],
            "_model_name": "HBoxModel",
            "_view_module": "@jupyter-widgets/controls",
            "_model_module_version": "1.5.0",
            "_view_count": null,
            "_view_module_version": "1.5.0",
            "box_style": "",
            "layout": "IPY_MODEL_7e800b3f2c7a4643a2c4f5cd7a0e079a",
            "_model_module": "@jupyter-widgets/controls",
            "children": [
              "IPY_MODEL_41dead3ed38b44c29b64ab1f7429d023",
              "IPY_MODEL_5fadcd641ff346eeb1bdd359a5e2304e"
            ]
          }
        },
        "7e800b3f2c7a4643a2c4f5cd7a0e079a": {
          "model_module": "@jupyter-widgets/base",
          "model_name": "LayoutModel",
          "state": {
            "_view_name": "LayoutView",
            "grid_template_rows": null,
            "right": null,
            "justify_content": null,
            "_view_module": "@jupyter-widgets/base",
            "overflow": null,
            "_model_module_version": "1.2.0",
            "_view_count": null,
            "flex_flow": null,
            "width": null,
            "min_width": null,
            "border": null,
            "align_items": null,
            "bottom": null,
            "_model_module": "@jupyter-widgets/base",
            "top": null,
            "grid_column": null,
            "overflow_y": null,
            "overflow_x": null,
            "grid_auto_flow": null,
            "grid_area": null,
            "grid_template_columns": null,
            "flex": null,
            "_model_name": "LayoutModel",
            "justify_items": null,
            "grid_row": null,
            "max_height": null,
            "align_content": null,
            "visibility": null,
            "align_self": null,
            "height": null,
            "min_height": null,
            "padding": null,
            "grid_auto_rows": null,
            "grid_gap": null,
            "max_width": null,
            "order": null,
            "_view_module_version": "1.2.0",
            "grid_template_areas": null,
            "object_position": null,
            "object_fit": null,
            "grid_auto_columns": null,
            "margin": null,
            "display": null,
            "left": null
          }
        },
        "41dead3ed38b44c29b64ab1f7429d023": {
          "model_module": "@jupyter-widgets/controls",
          "model_name": "IntProgressModel",
          "state": {
            "_view_name": "ProgressView",
            "style": "IPY_MODEL_44ce111a366945e58db74490668ce0d4",
            "_dom_classes": [],
            "description": "Downloading",
            "_model_name": "IntProgressModel",
            "bar_style": "success",
            "max": 536063208,
            "_view_module": "@jupyter-widgets/controls",
            "_model_module_version": "1.5.0",
            "value": 536063208,
            "_view_count": null,
            "_view_module_version": "1.5.0",
            "orientation": "horizontal",
            "min": 0,
            "description_tooltip": null,
            "_model_module": "@jupyter-widgets/controls",
            "layout": "IPY_MODEL_41c1a07603ef4aa5b4dc42b6bdb86525"
          }
        },
        "5fadcd641ff346eeb1bdd359a5e2304e": {
          "model_module": "@jupyter-widgets/controls",
          "model_name": "HTMLModel",
          "state": {
            "_view_name": "HTMLView",
            "style": "IPY_MODEL_1183046bd4d2480d837f998aa12e0497",
            "_dom_classes": [],
            "description": "",
            "_model_name": "HTMLModel",
            "placeholder": "​",
            "_view_module": "@jupyter-widgets/controls",
            "_model_module_version": "1.5.0",
            "value": "100% 536M/536M [00:11&lt;00:00, 45.4MB/s]",
            "_view_count": null,
            "_view_module_version": "1.5.0",
            "description_tooltip": null,
            "_model_module": "@jupyter-widgets/controls",
            "layout": "IPY_MODEL_4d257e375c724a17a29afdcb05b448c1"
          }
        },
        "44ce111a366945e58db74490668ce0d4": {
          "model_module": "@jupyter-widgets/controls",
          "model_name": "ProgressStyleModel",
          "state": {
            "_view_name": "StyleView",
            "_model_name": "ProgressStyleModel",
            "description_width": "initial",
            "_view_module": "@jupyter-widgets/base",
            "_model_module_version": "1.5.0",
            "_view_count": null,
            "_view_module_version": "1.2.0",
            "bar_color": null,
            "_model_module": "@jupyter-widgets/controls"
          }
        },
        "41c1a07603ef4aa5b4dc42b6bdb86525": {
          "model_module": "@jupyter-widgets/base",
          "model_name": "LayoutModel",
          "state": {
            "_view_name": "LayoutView",
            "grid_template_rows": null,
            "right": null,
            "justify_content": null,
            "_view_module": "@jupyter-widgets/base",
            "overflow": null,
            "_model_module_version": "1.2.0",
            "_view_count": null,
            "flex_flow": null,
            "width": null,
            "min_width": null,
            "border": null,
            "align_items": null,
            "bottom": null,
            "_model_module": "@jupyter-widgets/base",
            "top": null,
            "grid_column": null,
            "overflow_y": null,
            "overflow_x": null,
            "grid_auto_flow": null,
            "grid_area": null,
            "grid_template_columns": null,
            "flex": null,
            "_model_name": "LayoutModel",
            "justify_items": null,
            "grid_row": null,
            "max_height": null,
            "align_content": null,
            "visibility": null,
            "align_self": null,
            "height": null,
            "min_height": null,
            "padding": null,
            "grid_auto_rows": null,
            "grid_gap": null,
            "max_width": null,
            "order": null,
            "_view_module_version": "1.2.0",
            "grid_template_areas": null,
            "object_position": null,
            "object_fit": null,
            "grid_auto_columns": null,
            "margin": null,
            "display": null,
            "left": null
          }
        },
        "1183046bd4d2480d837f998aa12e0497": {
          "model_module": "@jupyter-widgets/controls",
          "model_name": "DescriptionStyleModel",
          "state": {
            "_view_name": "StyleView",
            "_model_name": "DescriptionStyleModel",
            "description_width": "",
            "_view_module": "@jupyter-widgets/base",
            "_model_module_version": "1.5.0",
            "_view_count": null,
            "_view_module_version": "1.2.0",
            "_model_module": "@jupyter-widgets/controls"
          }
        },
        "4d257e375c724a17a29afdcb05b448c1": {
          "model_module": "@jupyter-widgets/base",
          "model_name": "LayoutModel",
          "state": {
            "_view_name": "LayoutView",
            "grid_template_rows": null,
            "right": null,
            "justify_content": null,
            "_view_module": "@jupyter-widgets/base",
            "overflow": null,
            "_model_module_version": "1.2.0",
            "_view_count": null,
            "flex_flow": null,
            "width": null,
            "min_width": null,
            "border": null,
            "align_items": null,
            "bottom": null,
            "_model_module": "@jupyter-widgets/base",
            "top": null,
            "grid_column": null,
            "overflow_y": null,
            "overflow_x": null,
            "grid_auto_flow": null,
            "grid_area": null,
            "grid_template_columns": null,
            "flex": null,
            "_model_name": "LayoutModel",
            "justify_items": null,
            "grid_row": null,
            "max_height": null,
            "align_content": null,
            "visibility": null,
            "align_self": null,
            "height": null,
            "min_height": null,
            "padding": null,
            "grid_auto_rows": null,
            "grid_gap": null,
            "max_width": null,
            "order": null,
            "_view_module_version": "1.2.0",
            "grid_template_areas": null,
            "object_position": null,
            "object_fit": null,
            "grid_auto_columns": null,
            "margin": null,
            "display": null,
            "left": null
          }
        }
      }
    }
  },
  "cells": [
    {
      "cell_type": "code",
      "metadata": {
        "colab_type": "code",
        "id": "FHYvZu2O_wkG",
        "colab": {}
      },
      "source": [
        "!pip install transformers\n",
        "!pip install --upgrade tensorflow\n",
        "# !pip install bert\n",
        "# !pip list"
      ],
      "execution_count": 0,
      "outputs": []
    },
    {
      "cell_type": "code",
      "metadata": {
        "colab_type": "code",
        "id": "ea9JdkSE_Qt-",
        "colab": {}
      },
      "source": [
        "import numpy as np\n",
        "import pandas as pd\n",
        "import matplotlib.pyplot as plt\n",
        "from sklearn.model_selection import StratifiedShuffleSplit, train_test_split\n",
        "\n",
        "import tensorflow as tf\n",
        "from tensorflow.keras.preprocessing.sequence import pad_sequences\n",
        "\n",
        "from tensorflow.keras.layers import Dense, Dropout,Embedding, LSTM, Bidirectional, Input, Dropout, GlobalAveragePooling1D\n",
        "from tensorflow.keras import Sequential\n",
        "from tensorflow.keras.models import Model\n",
        "from tensorflow.keras.preprocessing import sequence\n",
        "from tensorflow.keras import backend\n",
        "\n",
        "# Used for Huggingface Transformers\n",
        "import transformers as trans\n",
        "\n",
        "# Used for TFHub\n",
        "# import bert\n",
        "# import tensorflow_hub as hub\n",
        "# from tqdm import tqdm_notebook"
      ],
      "execution_count": 0,
      "outputs": []
    },
    {
      "cell_type": "code",
      "metadata": {
        "id": "TLb7ivUypfGa",
        "colab_type": "code",
        "outputId": "658df7a8-cdfb-476f-d203-525b560b32f3",
        "colab": {
          "base_uri": "https://localhost:8080/",
          "height": 34
        }
      },
      "source": [
        "from tensorflow.python.client import device_lib\n",
        "\n",
        "def get_available_devices():\n",
        "  local_device_protos = device_lib.list_local_devices()\n",
        "  return[x.name for x in local_device_protos]\n",
        "\n",
        "print(get_available_devices())"
      ],
      "execution_count": 3,
      "outputs": [
        {
          "output_type": "stream",
          "text": [
            "['/device:CPU:0', '/device:XLA_CPU:0', '/device:XLA_GPU:0', '/device:GPU:0']\n"
          ],
          "name": "stdout"
        }
      ]
    },
    {
      "cell_type": "markdown",
      "metadata": {
        "colab_type": "text",
        "id": "1qIl2S3s_QuL"
      },
      "source": [
        "## Data Prep"
      ]
    },
    {
      "cell_type": "code",
      "metadata": {
        "colab_type": "code",
        "id": "EVn2VrhJ_QuS",
        "colab": {}
      },
      "source": [
        "# Read articles and Ratings file\n",
        "\n",
        "# df_articles_train  = pd.read_csv('Data/latest/articles_train.csv')\n",
        "# df_articles_test  = pd.read_csv('Data/latest/articles_test.csv')\n",
        "\n",
        "latest_train_url = 'https://raw.githubusercontent.com/harish-cu/tweet-url-relationships/master/data/temp/sampling_blind/latest/articles_train.csv'\n",
        "latest_test_url  = 'https://raw.githubusercontent.com/harish-cu/tweet-url-relationships/master/data/temp/sampling_blind/latest/articles_test.csv'\n",
        "\n",
        "df_articles_train  = pd.read_csv(latest_train_url)\n",
        "df_articles_test   = pd.read_csv(latest_test_url)\n",
        "\n",
        "X_train = df_articles_train['content_body_clean'].to_frame()\n",
        "y_train = df_articles_train['blind_mean_rating'].to_frame()\n",
        "\n",
        "X_test = df_articles_test['content_body_clean'].to_frame()\n",
        "y_test = df_articles_test['blind_mean_rating'].to_frame()"
      ],
      "execution_count": 0,
      "outputs": []
    },
    {
      "cell_type": "markdown",
      "metadata": {
        "colab_type": "text",
        "id": "DQgwiqFY_QvO"
      },
      "source": [
        "## Huggingface Transformers"
      ]
    },
    {
      "cell_type": "markdown",
      "metadata": {
        "colab_type": "text",
        "id": "bZzUM2NxVunP"
      },
      "source": [
        "### Tokenize"
      ]
    },
    {
      "cell_type": "code",
      "metadata": {
        "colab_type": "code",
        "id": "lARx-cx7S0xw",
        "colab": {}
      },
      "source": [
        "def _get_segments(sentences):\n",
        "    sentences_segments = []\n",
        "    for sent in sentences:\n",
        "      temp = []\n",
        "      i = 0\n",
        "      for token in sent.split(\" \"):\n",
        "        temp.append(i)\n",
        "        if token == \"[SEP]\":\n",
        "          i += 1\n",
        "      sentences_segments.append(temp)\n",
        "    return sentences_segments\n",
        "\n",
        "def _get_inputs(df,_maxlen,tokenizer):\n",
        "\n",
        "    max_index = np.int((_maxlen-20)/2)\n",
        "    # max_index = np.int(_maxlen - 1)\n",
        "    pattern = '[^\\w\\s]+|\\n' # remove everything including newline (|\\n) other than words (\\w) or spaces (\\s)\n",
        "    special_tokens_cnt = 2  # [CLS], [SEP]\n",
        "  \n",
        "    sentences = [\"[CLS] \" + \" \".join(tokenizer.tokenize(text)[:max_index]) +\" [SEP] \" \n",
        "                # for (text) in (df['content_body_clean'].str.replace(pattern, '').values.tolist())\n",
        "                for (text) in (df['content_body_clean'].values.tolist())                \n",
        "                ]\n",
        "\n",
        "    # Generate Masks\n",
        "    # BERT requires a mask for the words which are padded. \n",
        "    sentences_mask = [[1]*len(sent.split(\" \"))+[0]*(_maxlen + special_tokens_cnt - len(sent.split(\" \"))) for sent in sentences]\n",
        " \n",
        "    # Generate Padded/Input IDs  \n",
        "    # If less than max length provided then the words are padded\n",
        "    sentences_padded = [sent + \" [PAD]\"*(_maxlen + special_tokens_cnt - len(sent.split(\" \"))) if len(sent.split(\" \")) < _maxlen + special_tokens_cnt else sent for sent in sentences ]\n",
        "    sentences_converted = [tokenizer.convert_tokens_to_ids(s.split(\" \")) for s in sentences_padded] \n",
        "\n",
        "    # Generate Segments\n",
        "    # For each separation [SEP], a new segment is converted\n",
        "    sentences_segment = _get_segments(sentences_padded)\n",
        "\n",
        "    # DEBUGGING\n",
        "\n",
        "    # for sent in sentences:\n",
        "    #   if len(sent.split(\" \")) < _maxlen +2:\n",
        "    #     print (\"Index\")\n",
        "    #     print(sentences.index(sent))\n",
        "    #     print(len(sent.split(\" \")))\n",
        "\n",
        "    # for sent in sentences_padded:\n",
        "    #   if len(sent.split(\" \")) != _maxlen+2:\n",
        "    #     print (\"Index: \", sentences_padded.index(sent))\n",
        "    #     print(len(sent.split(\" \")))\n",
        "\n",
        "    # 48, 701\n",
        "    # test_index = 71\n",
        "\n",
        "    # genLength1 = set([len(sent.split(\" \")) for sent in sentences])\n",
        "    # print(\"Sentence Set: \", genLength1)\n",
        "    # print(len(genLength1))\n",
        "\n",
        "    # print(\"Actual\")\n",
        "    # print(sentences[test_index])\n",
        "    # print(len(sentences[test_index].split(\" \")))\n",
        "\n",
        "    # print(\"Masked\")\n",
        "    # print(sentences_mask[test_index])\n",
        "    # print(len(sentences_mask[test_index])) \n",
        "\n",
        "    # print(\"Padded\")\n",
        "    # print(sentences_padded[test_index])\n",
        "    # print(len(sentences_padded[test_index].split(\" \")))\n",
        "\n",
        "    # print(\"Converted\")\n",
        "    # print(sentences_converted[test_index])\n",
        "    # print(len(sentences_converted[test_index]))   \n",
        "    \n",
        "    # print(sentences[0])\n",
        "    # print(sentences_segment[0])\n",
        "    \n",
        "    # Confirm all sentences are of same length\n",
        "    genLength = set([len(sent.split(\" \")) for sent in sentences_padded])\n",
        "\n",
        "    if len(genLength)!=1: \n",
        "      print(genLength)\n",
        "      raise Exception(\"sentences are not of same size\")\n",
        "\n",
        "    # Convert list into tensor integer arrays and return it\n",
        "    return [tf.cast(sentences_converted,tf.int32), \n",
        "            tf.cast(sentences_segment,tf.int32), \n",
        "            tf.cast(sentences_mask,tf.int32)]\n"
      ],
      "execution_count": 0,
      "outputs": []
    },
    {
      "cell_type": "markdown",
      "metadata": {
        "colab_type": "text",
        "id": "tSqX2KNQ_Qvg"
      },
      "source": [
        "### Pre-trained model using Transformer"
      ]
    },
    {
      "cell_type": "code",
      "metadata": {
        "id": "UZ8chz0arLHf",
        "colab_type": "code",
        "outputId": "08a1ea16-1c37-4dd1-c32f-e22e2e6dcde9",
        "colab": {
          "base_uri": "https://localhost:8080/",
          "height": 165,
          "referenced_widgets": [
            "6f1b23c8b0dc4e25b4a3dc3cbb32b505",
            "3bcc3d3f14114d0496a06b99873d1eee",
            "451a7de5aa874a94ae8966fdc77b99d2",
            "8c029d5ff5e1461d93a81188aa210e86",
            "76502ecdb1284bf783037334bf220228",
            "4518d921806e4241a8f6d3c2ee269bdf",
            "952bab03810a4c16b7c64afc4e49fc61",
            "2beb940db5d743a0af5176f869f9fd31",
            "eccfd22fd0594134aa3a205baf04dd98",
            "e069a67a28da40ea8d304d094b60b045",
            "20ace337b22b489e826f9c716731cd18",
            "76e69a95731d4cd590198854a2d983ce",
            "d4f4bf0f0fc44dab852573951dde1494",
            "8e91ce1f885249a280d0c660860edc1f",
            "73351fdee11840d19c61c9a58f436016",
            "2bf83837a76a4917b16543104e92e8c5",
            "33e61211f785480395b7e32958d60699",
            "7e800b3f2c7a4643a2c4f5cd7a0e079a",
            "41dead3ed38b44c29b64ab1f7429d023",
            "5fadcd641ff346eeb1bdd359a5e2304e",
            "44ce111a366945e58db74490668ce0d4",
            "41c1a07603ef4aa5b4dc42b6bdb86525",
            "1183046bd4d2480d837f998aa12e0497",
            "4d257e375c724a17a29afdcb05b448c1"
          ]
        }
      },
      "source": [
        "bert_model_type = 'bert-base-uncased'\n",
        "# bert_model_type = 'bert-large-uncased' \n",
        "# bert_model_type = 'bert-base-cased' \n",
        "# bert_model_type = 'bert-large-cased'\n",
        "\n",
        "bert_tokenizer_transformer = trans.BertTokenizer.from_pretrained(bert_model_type, do_lower_case=True)\n",
        "bert_model = trans.TFBertModel.from_pretrained(bert_model_type)"
      ],
      "execution_count": 6,
      "outputs": [
        {
          "output_type": "display_data",
          "data": {
            "application/vnd.jupyter.widget-view+json": {
              "model_id": "6f1b23c8b0dc4e25b4a3dc3cbb32b505",
              "version_minor": 0,
              "version_major": 2
            },
            "text/plain": [
              "HBox(children=(IntProgress(value=0, description='Downloading', max=231508, style=ProgressStyle(description_wid…"
            ]
          },
          "metadata": {
            "tags": []
          }
        },
        {
          "output_type": "stream",
          "text": [
            "\n"
          ],
          "name": "stdout"
        },
        {
          "output_type": "display_data",
          "data": {
            "application/vnd.jupyter.widget-view+json": {
              "model_id": "eccfd22fd0594134aa3a205baf04dd98",
              "version_minor": 0,
              "version_major": 2
            },
            "text/plain": [
              "HBox(children=(IntProgress(value=0, description='Downloading', max=361, style=ProgressStyle(description_width=…"
            ]
          },
          "metadata": {
            "tags": []
          }
        },
        {
          "output_type": "stream",
          "text": [
            "\n"
          ],
          "name": "stdout"
        },
        {
          "output_type": "display_data",
          "data": {
            "application/vnd.jupyter.widget-view+json": {
              "model_id": "33e61211f785480395b7e32958d60699",
              "version_minor": 0,
              "version_major": 2
            },
            "text/plain": [
              "HBox(children=(IntProgress(value=0, description='Downloading', max=536063208, style=ProgressStyle(description_…"
            ]
          },
          "metadata": {
            "tags": []
          }
        },
        {
          "output_type": "stream",
          "text": [
            "\n"
          ],
          "name": "stdout"
        }
      ]
    },
    {
      "cell_type": "code",
      "metadata": {
        "id": "3UtyD-gYh9KC",
        "colab_type": "code",
        "colab": {}
      },
      "source": [
        "max_sequence_length = 256"
      ],
      "execution_count": 0,
      "outputs": []
    },
    {
      "cell_type": "code",
      "metadata": {
        "id": "UXEyycGJ-kkT",
        "colab_type": "code",
        "colab": {}
      },
      "source": [
        "# X_train, X_val, y_train, y_val = train_test_split(X_train, y_train, test_size=0.2, random_state=1)\n",
        "\n",
        "# bert_inputs_val = _get_inputs(df=X_val, tokenizer=bert_tokenizer_transformer, _maxlen=max_sequence_length)\n",
        "# Xtr_val = bert_inputs_val\n",
        "# ytr_val = np.asarray(y_val)"
      ],
      "execution_count": 0,
      "outputs": []
    },
    {
      "cell_type": "code",
      "metadata": {
        "colab_type": "code",
        "id": "ta_kpvmc_Qvb",
        "colab": {
          "base_uri": "https://localhost:8080/",
          "height": 72
        },
        "outputId": "4964f60f-40bc-41c7-d18f-a1bb17e59bcf"
      },
      "source": [
        "bert_inputs_train = _get_inputs(df=X_train, tokenizer=bert_tokenizer_transformer, _maxlen=max_sequence_length)\n",
        "bert_inputs_test  = _get_inputs(df=X_test,  tokenizer=bert_tokenizer_transformer, _maxlen=max_sequence_length)\n",
        "\n",
        "Xtr = bert_inputs_train\n",
        "ytr = np.asarray(y_train)\n",
        "\n",
        "Xte = bert_inputs_test\n",
        "yte = np.asarray(y_test)"
      ],
      "execution_count": 9,
      "outputs": [
        {
          "output_type": "stream",
          "text": [
            "[CLS] hundreds of thousands of americans across puerto rico and the us virgin islands rang in the new year in darkness , still mir ##ed in the longest blackout in us history . it ’ s been more than 100 days since hurricane maria ravaged the electrical grid ##s of these two us territories , but 14 , 81 ##5 utility customers in the us virgin islands , more than a quarter of the total customers , still don ’ t have electricity . in puerto rico , 67 ##5 , 000 customers , or 43 percent of the total , lack power . the blackout stemming from hurricane maria was already the longest in us history back in [SEP] \n",
            "[0, 0, 0, 0, 0, 0, 0, 0, 0, 0, 0, 0, 0, 0, 0, 0, 0, 0, 0, 0, 0, 0, 0, 0, 0, 0, 0, 0, 0, 0, 0, 0, 0, 0, 0, 0, 0, 0, 0, 0, 0, 0, 0, 0, 0, 0, 0, 0, 0, 0, 0, 0, 0, 0, 0, 0, 0, 0, 0, 0, 0, 0, 0, 0, 0, 0, 0, 0, 0, 0, 0, 0, 0, 0, 0, 0, 0, 0, 0, 0, 0, 0, 0, 0, 0, 0, 0, 0, 0, 0, 0, 0, 0, 0, 0, 0, 0, 0, 0, 0, 0, 0, 0, 0, 0, 0, 0, 0, 0, 0, 0, 0, 0, 0, 0, 0, 0, 0, 0, 0, 1, 1, 1, 1, 1, 1, 1, 1, 1, 1, 1, 1, 1, 1, 1, 1, 1, 1, 1, 1, 1, 1, 1, 1, 1, 1, 1, 1, 1, 1, 1, 1, 1, 1, 1, 1, 1, 1, 1, 1, 1, 1, 1, 1, 1, 1, 1, 1, 1, 1, 1, 1, 1, 1, 1, 1, 1, 1, 1, 1, 1, 1, 1, 1, 1, 1, 1, 1, 1, 1, 1, 1, 1, 1, 1, 1, 1, 1, 1, 1, 1, 1, 1, 1, 1, 1, 1, 1, 1, 1, 1, 1, 1, 1, 1, 1, 1, 1, 1, 1, 1, 1, 1, 1, 1, 1, 1, 1, 1, 1, 1, 1, 1, 1, 1, 1, 1, 1, 1, 1, 1, 1, 1, 1, 1, 1, 1, 1, 1, 1, 1, 1, 1, 1, 1, 1, 1, 1]\n"
          ],
          "name": "stdout"
        }
      ]
    },
    {
      "cell_type": "markdown",
      "metadata": {
        "colab_type": "text",
        "id": "9vSnm9Tk_Qvu"
      },
      "source": [
        "### Model"
      ]
    },
    {
      "cell_type": "code",
      "metadata": {
        "colab_type": "code",
        "id": "m-mBnCi-_Qvv",
        "outputId": "e890e453-cd7e-45b1-dfb4-4a970149e115",
        "colab": {
          "base_uri": "https://localhost:8080/",
          "height": 454
        }
      },
      "source": [
        "#reference: https://github.com/huggingface/transformers\n",
        "\n",
        "inputs_length = max_sequence_length + 2\n",
        "\n",
        "token_inputs = Input((inputs_length), dtype=tf.int32, name='input_word_ids')\n",
        "mask_inputs = Input((inputs_length), dtype=tf.int32, name='input_masks')\n",
        "seg_inputs = Input((inputs_length), dtype=tf.int32, name='input_segments')\n",
        "\n",
        "seq_output,_ = bert_model([token_inputs, mask_inputs, seg_inputs])\n",
        "X = GlobalAveragePooling1D()(seq_output)\n",
        "X = Dense(100, activation='relu')(X)\n",
        "output_= Dense(1, activation='linear', name='output')(X)\n",
        "# output_= Dense(1, activation=None, name='output')(X)\n",
        "\n",
        "bert_model2 = Model([token_inputs, mask_inputs, seg_inputs],output_)\n",
        "bert_model2.summary()"
      ],
      "execution_count": 8,
      "outputs": [
        {
          "output_type": "stream",
          "text": [
            "Model: \"model\"\n",
            "__________________________________________________________________________________________________\n",
            "Layer (type)                    Output Shape         Param #     Connected to                     \n",
            "==================================================================================================\n",
            "input_word_ids (InputLayer)     [(None, 258)]        0                                            \n",
            "__________________________________________________________________________________________________\n",
            "input_masks (InputLayer)        [(None, 258)]        0                                            \n",
            "__________________________________________________________________________________________________\n",
            "input_segments (InputLayer)     [(None, 258)]        0                                            \n",
            "__________________________________________________________________________________________________\n",
            "tf_bert_model (TFBertModel)     ((None, 258, 768), ( 109482240   input_word_ids[0][0]             \n",
            "                                                                 input_masks[0][0]                \n",
            "                                                                 input_segments[0][0]             \n",
            "__________________________________________________________________________________________________\n",
            "global_average_pooling1d (Globa (None, 768)          0           tf_bert_model[0][0]              \n",
            "__________________________________________________________________________________________________\n",
            "dense (Dense)                   (None, 100)          76900       global_average_pooling1d[0][0]   \n",
            "__________________________________________________________________________________________________\n",
            "output (Dense)                  (None, 1)            101         dense[0][0]                      \n",
            "==================================================================================================\n",
            "Total params: 109,559,241\n",
            "Trainable params: 109,559,241\n",
            "Non-trainable params: 0\n",
            "__________________________________________________________________________________________________\n"
          ],
          "name": "stdout"
        }
      ]
    },
    {
      "cell_type": "code",
      "metadata": {
        "colab_type": "code",
        "id": "spBrsdI1_Qv0",
        "colab": {}
      },
      "source": [
        "lr = 0.0001  ## 0.1, 0.01, 0.001, 2e-5 \n",
        "opt = tf.keras.optimizers.Adam(learning_rate=lr)\n",
        "\n",
        "def rmse(y_true, y_pred):\n",
        "\treturn backend.sqrt(backend.mean(backend.square(y_pred - y_true)))\n",
        "\n",
        "bert_model2.compile(optimizer=opt, loss='mse', metrics=['mae', rmse])\n",
        " \n",
        "# bert_model2.compile(optimizer='Adam', loss='mse', metrics=['mae', rmse])\n",
        "\n",
        "# Callbacks\n",
        "# earlyStopping = tf.keras.callbacks.EarlyStopping(monitor='val_loss', patience=11, verbose=0, mode='min')\n",
        "# reduce_lr = tf.keras.callbacks.ReduceLROnPlateau(monitor='val_loss', factor=0.2, patience=5, min_lr=0.000001)\n",
        "\n",
        "# class PredictionCallback(tf.keras.callbacks.Callback):    \n",
        "#   def on_epoch_end(self, epoch, logs={}):\n",
        "#     y_pred = self.model.predict(self.validation_data[0])\n",
        "#     print('prediction: {} at epoch: {}'.format(y_pred, epoch))"
      ],
      "execution_count": 0,
      "outputs": []
    },
    {
      "cell_type": "code",
      "metadata": {
        "colab_type": "code",
        "id": "X2KQdrv9_Qv5",
        "outputId": "6194cf8f-9030-42f5-cea2-8ce197a0500e",
        "colab": {
          "base_uri": "https://localhost:8080/",
          "height": 957
        }
      },
      "source": [
        "history = bert_model2.fit(Xtr, ytr, \n",
        "                          epochs=25, \n",
        "                          validation_split = 0.2,\n",
        "                          # batch_size = 100,\n",
        "                          # validation_data=(Xtr_val, ytr_val),\n",
        "                          verbose = 1\n",
        "                          # callbacks=[earlyStopping,reduce_lr]\n",
        "                          # callbacks=[earlyStopping, PredictionCallback()]\n",
        "                          )"
      ],
      "execution_count": 10,
      "outputs": [
        {
          "output_type": "stream",
          "text": [
            "Train on 1040 samples, validate on 261 samples\n",
            "Epoch 1/25\n",
            "WARNING:tensorflow:Gradients do not exist for variables ['tf_bert_model/bert/pooler/dense/kernel:0', 'tf_bert_model/bert/pooler/dense/bias:0'] when minimizing the loss.\n",
            "WARNING:tensorflow:Gradients do not exist for variables ['tf_bert_model/bert/pooler/dense/kernel:0', 'tf_bert_model/bert/pooler/dense/bias:0'] when minimizing the loss.\n",
            "1040/1040 [==============================] - 50s 48ms/sample - loss: 1.0598 - mae: 0.7876 - rmse: 0.9844 - val_loss: 1.0526 - val_mae: 0.8007 - val_rmse: 1.0037\n",
            "Epoch 2/25\n",
            "1040/1040 [==============================] - 35s 33ms/sample - loss: 0.8053 - mae: 0.6736 - rmse: 0.8894 - val_loss: 1.0168 - val_mae: 0.7959 - val_rmse: 0.9920\n",
            "Epoch 3/25\n",
            "1040/1040 [==============================] - 35s 33ms/sample - loss: 0.7615 - mae: 0.6559 - rmse: 0.8548 - val_loss: 0.9937 - val_mae: 0.8015 - val_rmse: 0.9889\n",
            "Epoch 4/25\n",
            "1040/1040 [==============================] - 35s 33ms/sample - loss: 0.7513 - mae: 0.6503 - rmse: 0.8550 - val_loss: 1.0261 - val_mae: 0.7970 - val_rmse: 0.9946\n",
            "Epoch 5/25\n",
            "1040/1040 [==============================] - 35s 33ms/sample - loss: 0.7763 - mae: 0.6613 - rmse: 0.8749 - val_loss: 1.0773 - val_mae: 0.8434 - val_rmse: 1.0417\n",
            "Epoch 6/25\n",
            "1040/1040 [==============================] - 34s 33ms/sample - loss: 0.7529 - mae: 0.6518 - rmse: 0.8569 - val_loss: 0.9861 - val_mae: 0.7973 - val_rmse: 0.9846\n",
            "Epoch 7/25\n",
            "1040/1040 [==============================] - 35s 33ms/sample - loss: 0.7641 - mae: 0.6587 - rmse: 0.8679 - val_loss: 1.0540 - val_mae: 0.8090 - val_rmse: 1.0088\n",
            "Epoch 8/25\n",
            "1040/1040 [==============================] - 35s 33ms/sample - loss: 0.7753 - mae: 0.6647 - rmse: 0.8618 - val_loss: 1.0163 - val_mae: 0.8134 - val_rmse: 1.0014\n",
            "Epoch 9/25\n",
            "1040/1040 [==============================] - 34s 33ms/sample - loss: 0.7773 - mae: 0.6695 - rmse: 0.8603 - val_loss: 1.0013 - val_mae: 0.8045 - val_rmse: 0.9920\n",
            "Epoch 10/25\n",
            "1040/1040 [==============================] - 35s 33ms/sample - loss: 0.7716 - mae: 0.6579 - rmse: 0.8659 - val_loss: 0.9921 - val_mae: 0.7959 - val_rmse: 0.9847\n",
            "Epoch 11/25\n",
            "1040/1040 [==============================] - 35s 33ms/sample - loss: 0.7500 - mae: 0.6471 - rmse: 0.8549 - val_loss: 1.0174 - val_mae: 0.8097 - val_rmse: 0.9986\n",
            "Epoch 12/25\n",
            "1040/1040 [==============================] - 34s 33ms/sample - loss: 0.7499 - mae: 0.6503 - rmse: 0.8551 - val_loss: 1.0186 - val_mae: 0.8013 - val_rmse: 0.9955\n",
            "Epoch 13/25\n",
            "1040/1040 [==============================] - 34s 33ms/sample - loss: 0.7506 - mae: 0.6519 - rmse: 0.8581 - val_loss: 1.0319 - val_mae: 0.7989 - val_rmse: 0.9972\n",
            "Epoch 14/25\n",
            "1040/1040 [==============================] - 34s 33ms/sample - loss: 0.7491 - mae: 0.6504 - rmse: 0.8564 - val_loss: 1.0215 - val_mae: 0.8032 - val_rmse: 0.9972\n",
            "Epoch 15/25\n",
            "1040/1040 [==============================] - 34s 33ms/sample - loss: 0.7569 - mae: 0.6567 - rmse: 0.8576 - val_loss: 1.0235 - val_mae: 0.7967 - val_rmse: 0.9938\n",
            "Epoch 16/25\n",
            "1040/1040 [==============================] - 34s 33ms/sample - loss: 0.7444 - mae: 0.6476 - rmse: 0.8603 - val_loss: 1.0351 - val_mae: 0.8038 - val_rmse: 1.0011\n",
            "Epoch 17/25\n",
            "1040/1040 [==============================] - 34s 33ms/sample - loss: 0.7437 - mae: 0.6454 - rmse: 0.8539 - val_loss: 1.0196 - val_mae: 0.7986 - val_rmse: 0.9942\n",
            "Epoch 18/25\n",
            "1040/1040 [==============================] - 35s 33ms/sample - loss: 0.7521 - mae: 0.6482 - rmse: 0.8578 - val_loss: 1.0229 - val_mae: 0.7971 - val_rmse: 0.9940\n",
            "Epoch 19/25\n",
            "1040/1040 [==============================] - 35s 33ms/sample - loss: 0.7532 - mae: 0.6531 - rmse: 0.8624 - val_loss: 1.0353 - val_mae: 0.8223 - val_rmse: 1.0152\n",
            "Epoch 20/25\n",
            "1040/1040 [==============================] - 34s 33ms/sample - loss: 0.7467 - mae: 0.6495 - rmse: 0.8561 - val_loss: 0.9906 - val_mae: 0.7975 - val_rmse: 0.9852\n",
            "Epoch 21/25\n",
            "1040/1040 [==============================] - 34s 33ms/sample - loss: 0.7386 - mae: 0.6425 - rmse: 0.8432 - val_loss: 0.9944 - val_mae: 0.7919 - val_rmse: 0.9838\n",
            "Epoch 22/25\n",
            "1040/1040 [==============================] - 35s 33ms/sample - loss: 0.7458 - mae: 0.6432 - rmse: 0.8512 - val_loss: 1.0209 - val_mae: 0.8003 - val_rmse: 0.9955\n",
            "Epoch 23/25\n",
            "1040/1040 [==============================] - 34s 33ms/sample - loss: 0.7523 - mae: 0.6510 - rmse: 0.8609 - val_loss: 1.0061 - val_mae: 0.8022 - val_rmse: 0.9917\n",
            "Epoch 24/25\n",
            "1040/1040 [==============================] - 34s 33ms/sample - loss: 0.7542 - mae: 0.6504 - rmse: 0.8644 - val_loss: 0.9913 - val_mae: 0.8007 - val_rmse: 0.9882\n",
            "Epoch 25/25\n",
            "1040/1040 [==============================] - 35s 33ms/sample - loss: 0.7447 - mae: 0.6462 - rmse: 0.8526 - val_loss: 0.9954 - val_mae: 0.8003 - val_rmse: 0.9880\n"
          ],
          "name": "stdout"
        }
      ]
    },
    {
      "cell_type": "code",
      "metadata": {
        "colab_type": "code",
        "id": "MCfi17Kl_Qv9",
        "outputId": "91187fdf-72c2-4483-8087-2e802eb246ac",
        "colab": {
          "base_uri": "https://localhost:8080/",
          "height": 86
        }
      },
      "source": [
        "test_results = bert_model2.evaluate(Xte, yte)\n",
        "print('Test MSE: {0:.4f}'.format(test_results[0]))\n",
        "print('Test MAE: {0:.4f}'.format(test_results[1]))\n",
        "print('Test RMSE: {0:.4f}'.format(test_results[2]))"
      ],
      "execution_count": 0,
      "outputs": [
        {
          "output_type": "stream",
          "text": [
            "326/326 [==============================] - 2s 6ms/sample - loss: 1.0053 - mae: 0.8174 - rmse: 0.9994\n",
            "Test MSE: 1.0053\n",
            "Test MAE: 0.8174\n",
            "Test RMSE: 0.9994\n"
          ],
          "name": "stdout"
        }
      ]
    },
    {
      "cell_type": "code",
      "metadata": {
        "colab_type": "code",
        "id": "d1O9JouKzWgU",
        "outputId": "a80933a8-6cfe-42c6-8f1f-435de06ceebe",
        "colab": {
          "base_uri": "https://localhost:8080/",
          "height": 295
        }
      },
      "source": [
        "train_loss = history.history['loss']\n",
        "val_loss = history.history['val_loss']\n",
        "epochs = range(len(train_loss))\n",
        "\n",
        "plt.plot(epochs, train_loss, label='Traning Loss')\n",
        "plt.plot(epochs, val_loss, label='Validation Loss')\n",
        "plt.title('Training and Validation Loss')\n",
        "plt.xlabel('Epoch')\n",
        "plt.ylabel('Loss')\n",
        "plt.legend()\n",
        "plt.show()"
      ],
      "execution_count": 0,
      "outputs": [
        {
          "output_type": "display_data",
          "data": {
            "image/png": "[encoded data removed]",
            "text/plain": [
              "<Figure size 432x288 with 1 Axes>"
            ]
          },
          "metadata": {
            "tags": []
          }
        }
      ]
    },
    {
      "cell_type": "code",
      "metadata": {
        "colab_type": "code",
        "id": "87bCiFPx08el",
        "colab": {}
      },
      "source": [
        "y_pred = bert_model2.predict(Xte)\n",
        "y_pred[:10]"
      ],
      "execution_count": 0,
      "outputs": []
    },
    {
      "cell_type": "code",
      "metadata": {
        "colab_type": "code",
        "id": "RikYroz522Px",
        "colab": {}
      },
      "source": [
        "yte[:10]"
      ],
      "execution_count": 0,
      "outputs": []
    },
    {
      "cell_type": "code",
      "metadata": {
        "id": "e0G10qw4KJfT",
        "colab_type": "code",
        "colab": {}
      },
      "source": [
        "# y_pred = y_pred.reshape(y_pred.shape[0])\n",
        "# d = yte - y_pred\n",
        "# mse_f = np.mean(d**2)\n",
        "# mae_f = np.mean(abs(d))\n",
        "# rmse_f = np.sqrt(mse_f)\n",
        "# # r2_f = 1-(np.sum(d**2)/np.sum((y-np.mean(y))**2))\n",
        "\n",
        "# print(\"RESULTS...\")\n",
        "# print(\"MAE:\",mae_f)\n",
        "# print(\"MSE:\", mse_f)\n",
        "# print(\"RMSE:\", rmse_f)\n",
        "# print(\"R-Squared:\", r2_f)"
      ],
      "execution_count": 0,
      "outputs": []
    },
    {
      "cell_type": "code",
      "metadata": {
        "id": "IC2zYDYrclGl",
        "colab_type": "code",
        "colab": {}
      },
      "source": [
        "# def plot_history(histories, key='loss'):\n",
        "#   plt.figure(figsize=(10,8))\n",
        "    \n",
        "#   for name, history in histories:\n",
        "#     val = plt.plot([x+1 for x in history.epoch], history.history['val_'+key],\n",
        "#                    label='Val_'+key)\n",
        "#     plt.plot([x+1 for x in history.epoch], history.history[key],\n",
        "#              label='Train_'+key)\n",
        "\n",
        "#   plt.xlabel('Epochs')\n",
        "#   plt.xticks([x+1 for x in history.epoch])\n",
        "#   plt.ylabel(key.replace('_',' ').title())\n",
        "#   plt.legend()\n",
        "\n",
        "#  plot_history([('linear_model', history)]) "
      ],
      "execution_count": 0,
      "outputs": []
    },
    {
      "cell_type": "code",
      "metadata": {
        "colab_type": "code",
        "id": "lYvt6i-j1ySW",
        "colab": {}
      },
      "source": [
        "### Fit on test data\n",
        "plt.plot(yte, y_pred, '.')\n",
        "\n",
        "# # plot a line, a perfet predict would all fall on this line\n",
        "x = np.linspace(0, 5)\n",
        "y = x\n",
        "plt.plot(x, y)\n",
        "plt.show()"
      ],
      "execution_count": 0,
      "outputs": []
    }
  ]
}
