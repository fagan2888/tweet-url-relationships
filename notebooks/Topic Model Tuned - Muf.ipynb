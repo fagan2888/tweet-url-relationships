{
 "cells": [
  {
   "cell_type": "markdown",
   "metadata": {},
   "source": [
    "# Topic Modeling Tuned\n",
    "### Muf Tayebaly"
   ]
  },
  {
   "cell_type": "code",
   "execution_count": 24,
   "metadata": {},
   "outputs": [],
   "source": [
    "#imports\n",
    "import pandas as pd\n",
    "import numpy as np\n",
    "import pickle as pk\n",
    "import string\n",
    "import nltk\n",
    "from nltk.corpus import stopwords\n",
    "from nltk.corpus import wordnet\n",
    "from nltk import word_tokenize, pos_tag\n",
    "from nltk.stem import WordNetLemmatizer\n",
    "import string\n",
    "import re\n",
    "from random import randint\n",
    "from collections import defaultdict\n",
    "from gensim import matutils, models, utils\n",
    "import scipy.sparse\n",
    "from sklearn.feature_extraction import text\n",
    "from sklearn.feature_extraction.text import CountVectorizer\n",
    "from gensim.models import CoherenceModel\n",
    "from gensim import corpora\n",
    "import tqdm\n",
    "from gensim.utils import simple_preprocess"
   ]
  },
  {
   "cell_type": "code",
   "execution_count": 15,
   "metadata": {},
   "outputs": [
    {
     "name": "stderr",
     "output_type": "stream",
     "text": [
      "[nltk_data] Downloading package punkt to /Users/Muf/nltk_data...\n",
      "[nltk_data]   Package punkt is already up-to-date!\n",
      "[nltk_data] Downloading package averaged_perceptron_tagger to\n",
      "[nltk_data]     /Users/Muf/nltk_data...\n",
      "[nltk_data]   Package averaged_perceptron_tagger is already up-to-\n",
      "[nltk_data]       date!\n",
      "[nltk_data] Downloading package stopwords to /Users/Muf/nltk_data...\n",
      "[nltk_data]   Package stopwords is already up-to-date!\n",
      "[nltk_data] Downloading package wordnet to /Users/Muf/nltk_data...\n",
      "[nltk_data]   Unzipping corpora/wordnet.zip.\n"
     ]
    },
    {
     "data": {
      "text/plain": [
       "True"
      ]
     },
     "execution_count": 15,
     "metadata": {},
     "output_type": "execute_result"
    }
   ],
   "source": [
    "nltk.download('punkt')\n",
    "nltk.download('averaged_perceptron_tagger')\n",
    "nltk.download('stopwords')\n",
    "nltk.download('wordnet')"
   ]
  },
  {
   "cell_type": "code",
   "execution_count": 16,
   "metadata": {},
   "outputs": [
    {
     "data": {
      "text/plain": [
       "(1914, 32)"
      ]
     },
     "execution_count": 16,
     "metadata": {},
     "output_type": "execute_result"
    }
   ],
   "source": [
    "#load data from pickle\n",
    "corpus_data = pd.read_pickle('Data/muf_articles_corpus.pkl')\n",
    "data_raw = pd.read_csv('Data/knight_data_articles.csv')\n",
    "corpus_data.shape"
   ]
  },
  {
   "cell_type": "code",
   "execution_count": 3,
   "metadata": {},
   "outputs": [
    {
     "data": {
      "text/html": [
       "<div>\n",
       "<style scoped>\n",
       "    .dataframe tbody tr th:only-of-type {\n",
       "        vertical-align: middle;\n",
       "    }\n",
       "\n",
       "    .dataframe tbody tr th {\n",
       "        vertical-align: top;\n",
       "    }\n",
       "\n",
       "    .dataframe thead th {\n",
       "        text-align: right;\n",
       "    }\n",
       "</style>\n",
       "<table border=\"1\" class=\"dataframe\">\n",
       "  <thead>\n",
       "    <tr style=\"text-align: right;\">\n",
       "      <th></th>\n",
       "      <th>content_id</th>\n",
       "      <th>content_body_clean</th>\n",
       "      <th>content_title_clean</th>\n",
       "      <th>label</th>\n",
       "      <th>economy</th>\n",
       "      <th>topic2</th>\n",
       "      <th>science</th>\n",
       "      <th>mention_Trump</th>\n",
       "      <th>mention_Clinton</th>\n",
       "      <th>mention_Democrat</th>\n",
       "      <th>...</th>\n",
       "      <th>mention_terrorist</th>\n",
       "      <th>mention_attack</th>\n",
       "      <th>mention_NRA</th>\n",
       "      <th>mention_sanctuary</th>\n",
       "      <th>mention_socialist</th>\n",
       "      <th>mention_fascist</th>\n",
       "      <th>mention_communist</th>\n",
       "      <th>mention_nationalist</th>\n",
       "      <th>mention_2A</th>\n",
       "      <th>content_source_desc</th>\n",
       "    </tr>\n",
       "  </thead>\n",
       "  <tbody>\n",
       "    <tr>\n",
       "      <td>0</td>\n",
       "      <td>60</td>\n",
       "      <td>Republicans in Congress are at a make or break...</td>\n",
       "      <td>Tax reform now -- failure to act could mean mi...</td>\n",
       "      <td>9</td>\n",
       "      <td>1</td>\n",
       "      <td>0</td>\n",
       "      <td>0</td>\n",
       "      <td>1</td>\n",
       "      <td>0</td>\n",
       "      <td>0</td>\n",
       "      <td>...</td>\n",
       "      <td>0</td>\n",
       "      <td>0</td>\n",
       "      <td>0</td>\n",
       "      <td>0</td>\n",
       "      <td>0</td>\n",
       "      <td>0</td>\n",
       "      <td>0</td>\n",
       "      <td>0</td>\n",
       "      <td>0</td>\n",
       "      <td>Fox News</td>\n",
       "    </tr>\n",
       "    <tr>\n",
       "      <td>1</td>\n",
       "      <td>61</td>\n",
       "      <td>The Constitution authorizes Congress to tax Am...</td>\n",
       "      <td>Tax reform -- America needs a tax code that's ...</td>\n",
       "      <td>9</td>\n",
       "      <td>1</td>\n",
       "      <td>0</td>\n",
       "      <td>0</td>\n",
       "      <td>1</td>\n",
       "      <td>0</td>\n",
       "      <td>0</td>\n",
       "      <td>...</td>\n",
       "      <td>0</td>\n",
       "      <td>0</td>\n",
       "      <td>0</td>\n",
       "      <td>0</td>\n",
       "      <td>0</td>\n",
       "      <td>0</td>\n",
       "      <td>0</td>\n",
       "      <td>0</td>\n",
       "      <td>0</td>\n",
       "      <td>Fox News</td>\n",
       "    </tr>\n",
       "    <tr>\n",
       "      <td>2</td>\n",
       "      <td>66</td>\n",
       "      <td>A long-mothballed, unfinished casino-hotel on ...</td>\n",
       "      <td>Long-mothballed Las Vegas Strip casino-hotel s...</td>\n",
       "      <td>0</td>\n",
       "      <td>1</td>\n",
       "      <td>0</td>\n",
       "      <td>0</td>\n",
       "      <td>0</td>\n",
       "      <td>0</td>\n",
       "      <td>0</td>\n",
       "      <td>...</td>\n",
       "      <td>0</td>\n",
       "      <td>0</td>\n",
       "      <td>0</td>\n",
       "      <td>0</td>\n",
       "      <td>0</td>\n",
       "      <td>0</td>\n",
       "      <td>0</td>\n",
       "      <td>0</td>\n",
       "      <td>0</td>\n",
       "      <td>Fox News</td>\n",
       "    </tr>\n",
       "    <tr>\n",
       "      <td>3</td>\n",
       "      <td>80</td>\n",
       "      <td>If taxing foreign earnings that have already a...</td>\n",
       "      <td>Trump Tax Plan May Free Up Corporate Dollars, ...</td>\n",
       "      <td>3</td>\n",
       "      <td>1</td>\n",
       "      <td>0</td>\n",
       "      <td>0</td>\n",
       "      <td>1</td>\n",
       "      <td>0</td>\n",
       "      <td>0</td>\n",
       "      <td>...</td>\n",
       "      <td>0</td>\n",
       "      <td>0</td>\n",
       "      <td>0</td>\n",
       "      <td>0</td>\n",
       "      <td>0</td>\n",
       "      <td>0</td>\n",
       "      <td>0</td>\n",
       "      <td>0</td>\n",
       "      <td>0</td>\n",
       "      <td>The New York Times</td>\n",
       "    </tr>\n",
       "    <tr>\n",
       "      <td>4</td>\n",
       "      <td>82</td>\n",
       "      <td>Hurricane Harvey has already taken an enormous...</td>\n",
       "      <td>Hurricane Harvey is a humanitarian disaster. I...</td>\n",
       "      <td>5</td>\n",
       "      <td>1</td>\n",
       "      <td>0</td>\n",
       "      <td>0</td>\n",
       "      <td>0</td>\n",
       "      <td>0</td>\n",
       "      <td>0</td>\n",
       "      <td>...</td>\n",
       "      <td>0</td>\n",
       "      <td>0</td>\n",
       "      <td>0</td>\n",
       "      <td>0</td>\n",
       "      <td>0</td>\n",
       "      <td>0</td>\n",
       "      <td>0</td>\n",
       "      <td>0</td>\n",
       "      <td>0</td>\n",
       "      <td>Vox</td>\n",
       "    </tr>\n",
       "  </tbody>\n",
       "</table>\n",
       "<p>5 rows × 32 columns</p>\n",
       "</div>"
      ],
      "text/plain": [
       "   content_id                                 content_body_clean  \\\n",
       "0          60  Republicans in Congress are at a make or break...   \n",
       "1          61  The Constitution authorizes Congress to tax Am...   \n",
       "2          66  A long-mothballed, unfinished casino-hotel on ...   \n",
       "3          80  If taxing foreign earnings that have already a...   \n",
       "4          82  Hurricane Harvey has already taken an enormous...   \n",
       "\n",
       "                                 content_title_clean  label  economy  topic2  \\\n",
       "0  Tax reform now -- failure to act could mean mi...      9        1       0   \n",
       "1  Tax reform -- America needs a tax code that's ...      9        1       0   \n",
       "2  Long-mothballed Las Vegas Strip casino-hotel s...      0        1       0   \n",
       "3  Trump Tax Plan May Free Up Corporate Dollars, ...      3        1       0   \n",
       "4  Hurricane Harvey is a humanitarian disaster. I...      5        1       0   \n",
       "\n",
       "   science  mention_Trump  mention_Clinton  mention_Democrat  ...  \\\n",
       "0        0              1                0                 0  ...   \n",
       "1        0              1                0                 0  ...   \n",
       "2        0              0                0                 0  ...   \n",
       "3        0              1                0                 0  ...   \n",
       "4        0              0                0                 0  ...   \n",
       "\n",
       "   mention_terrorist  mention_attack  mention_NRA  mention_sanctuary  \\\n",
       "0                  0               0            0                  0   \n",
       "1                  0               0            0                  0   \n",
       "2                  0               0            0                  0   \n",
       "3                  0               0            0                  0   \n",
       "4                  0               0            0                  0   \n",
       "\n",
       "   mention_socialist  mention_fascist  mention_communist  mention_nationalist  \\\n",
       "0                  0                0                  0                    0   \n",
       "1                  0                0                  0                    0   \n",
       "2                  0                0                  0                    0   \n",
       "3                  0                0                  0                    0   \n",
       "4                  0                0                  0                    0   \n",
       "\n",
       "   mention_2A  content_source_desc  \n",
       "0           0             Fox News  \n",
       "1           0             Fox News  \n",
       "2           0             Fox News  \n",
       "3           0   The New York Times  \n",
       "4           0                  Vox  \n",
       "\n",
       "[5 rows x 32 columns]"
      ]
     },
     "execution_count": 3,
     "metadata": {},
     "output_type": "execute_result"
    }
   ],
   "source": [
    "corpus_data.head()\n",
    "data_raw.head()"
   ]
  },
  {
   "cell_type": "markdown",
   "metadata": {},
   "source": [
    "### Stopwords List"
   ]
  },
  {
   "cell_type": "code",
   "execution_count": 69,
   "metadata": {},
   "outputs": [],
   "source": [
    "#add some common words to the stopwords that we do not want\n",
    "new_stopwords = stopwords.words('english') + ['like', 'im', 'know', 'just', 'dont', 'thats', 'right', \n",
    "                                              'youre', 'got', 'gonna', 'time', 'think', 'yeah', 'said', \n",
    "                                              'year', 'group', 'people']                       "
   ]
  },
  {
   "cell_type": "markdown",
   "metadata": {},
   "source": [
    "## Title & Body - Bigrams - Nouns Only"
   ]
  },
  {
   "cell_type": "code",
   "execution_count": 79,
   "metadata": {},
   "outputs": [],
   "source": [
    "#clean data\n",
    "def clean_data(text):\n",
    "    #remove punctuation, digits, extra stuff. make lowercase\n",
    "    text = text.lower()\n",
    "    text = re.sub('\\[.*?\\]', '', text)\n",
    "    text = re.sub('[%s]' % re.escape(string.punctuation), '', text)\n",
    "    text = re.sub('\\w*\\d\\w*', '', text)\n",
    "    text = re.sub('[‘’“”…]', '', text)\n",
    "    #lemma it - include POS tag in order to lemma it better\n",
    "    tag_map = defaultdict(lambda : wordnet.NOUN)\n",
    "    tag_map['J'] = wordnet.ADJ\n",
    "    tag_map['V'] = wordnet.VERB\n",
    "    tag_map['R'] = wordnet.ADV\n",
    "    lemmatizer = WordNetLemmatizer()\n",
    "    textTokens = word_tokenize(text)\n",
    "    #remove stopwords\n",
    "    word_tokens_nostop = [w for w in textTokens if not w in new_stopwords] \n",
    "    #now lemma\n",
    "    text = [lemmatizer.lemmatize(tok, tag_map[tag[0]]) for tok, tag in pos_tag(word_tokens_nostop)]\n",
    "    return \" \".join(text)\n",
    "\n",
    "def nouns(text):\n",
    "    #get nouns only\n",
    "    is_noun = lambda pos: pos[:2] == 'NN'\n",
    "    tokenized = word_tokenize(text)\n",
    "    all_nouns = [word for (word, pos) in pos_tag(tokenized) if is_noun(pos)] \n",
    "    return ' '.join(all_nouns)\n",
    "\n",
    "def nouns_adjs(text):\n",
    "    #get nouns only\n",
    "    is_noun = lambda pos: pos[:2] == 'NN' or pos[:2] == 'JJ'\n",
    "    tokenized = word_tokenize(text)\n",
    "    all_nouns = [word for (word, pos) in pos_tag(tokenized) if is_noun(pos)] \n",
    "    return ' '.join(all_nouns)\n",
    "\n",
    "def sent_to_words(sentences):\n",
    "    for sentence in sentences:\n",
    "        yield(simple_preprocess(str(sentence), deacc=False))  # deacc=True removes punctuations\n",
    "\n",
    "def make_bigrams(data_words_list):\n",
    "    bigram = models.Phrases(data_words_list, min_count=8, threshold=100)\n",
    "    bigram_mod = models.phrases.Phraser(bigram)\n",
    "    return [bigram_mod[doc] for doc in data_words_list]\n",
    "\n",
    "def make_bigrams_trigrams(data_words_list):\n",
    "    bigram = models.Phrases(data_words_list, min_count=8, threshold=100)\n",
    "    bigram_mod = models.phrases.Phraser(bigram)\n",
    "    trigram = models.Phrases(bigram[data_words_list], threshold=100)\n",
    "    trigram_mod = models.phrases.Phraser(trigram)\n",
    "    return [trigram_mod[bigram_mod[doc]] for doc in data_words_list]"
   ]
  },
  {
   "cell_type": "markdown",
   "metadata": {},
   "source": [
    "### Clean Data & Concatenate Title and Body"
   ]
  },
  {
   "cell_type": "code",
   "execution_count": 71,
   "metadata": {},
   "outputs": [],
   "source": [
    "cdata = data_raw\n",
    "cdata[\"content_body_clean\"] = cdata[\"content_body_clean\"].apply(clean_data)\n",
    "cdata[\"content_title_clean\"] = cdata[\"content_title_clean\"].apply(clean_data)"
   ]
  },
  {
   "cell_type": "code",
   "execution_count": 73,
   "metadata": {},
   "outputs": [],
   "source": [
    "concat_data = pd.DataFrame(columns=['content_id','content_full_clean'])\n",
    "for i in range(0,len(cdata)):\n",
    "    full_content = cdata['content_title_clean'].iloc[i] + \" \" + cdata['content_body_clean'].iloc[i]\n",
    "    concat_data = concat_data.append({'content_id':cdata['content_id'].iloc[i],\n",
    "                                     'content_full_clean':full_content}, ignore_index=True)"
   ]
  },
  {
   "cell_type": "code",
   "execution_count": 74,
   "metadata": {},
   "outputs": [
    {
     "data": {
      "text/html": [
       "<div>\n",
       "<style scoped>\n",
       "    .dataframe tbody tr th:only-of-type {\n",
       "        vertical-align: middle;\n",
       "    }\n",
       "\n",
       "    .dataframe tbody tr th {\n",
       "        vertical-align: top;\n",
       "    }\n",
       "\n",
       "    .dataframe thead th {\n",
       "        text-align: right;\n",
       "    }\n",
       "</style>\n",
       "<table border=\"1\" class=\"dataframe\">\n",
       "  <thead>\n",
       "    <tr style=\"text-align: right;\">\n",
       "      <th></th>\n",
       "      <th>content_id</th>\n",
       "      <th>content_full_clean</th>\n",
       "    </tr>\n",
       "  </thead>\n",
       "  <tbody>\n",
       "    <tr>\n",
       "      <td>0</td>\n",
       "      <td>60</td>\n",
       "      <td>tax reform failure act could mean minority sta...</td>\n",
       "    </tr>\n",
       "    <tr>\n",
       "      <td>1</td>\n",
       "      <td>61</td>\n",
       "      <td>tax reform america need tax code good country ...</td>\n",
       "    </tr>\n",
       "    <tr>\n",
       "      <td>2</td>\n",
       "      <td>66</td>\n",
       "      <td>longmothballed la vega strip casinohotel sell ...</td>\n",
       "    </tr>\n",
       "    <tr>\n",
       "      <td>3</td>\n",
       "      <td>80</td>\n",
       "      <td>trump tax plan may free corporate dollar tax f...</td>\n",
       "    </tr>\n",
       "    <tr>\n",
       "      <td>4</td>\n",
       "      <td>82</td>\n",
       "      <td>hurricane harvey humanitarian disaster also se...</td>\n",
       "    </tr>\n",
       "  </tbody>\n",
       "</table>\n",
       "</div>"
      ],
      "text/plain": [
       "  content_id                                 content_full_clean\n",
       "0         60  tax reform failure act could mean minority sta...\n",
       "1         61  tax reform america need tax code good country ...\n",
       "2         66  longmothballed la vega strip casinohotel sell ...\n",
       "3         80  trump tax plan may free corporate dollar tax f...\n",
       "4         82  hurricane harvey humanitarian disaster also se..."
      ]
     },
     "execution_count": 74,
     "metadata": {},
     "output_type": "execute_result"
    }
   ],
   "source": [
    "concat_data.head()"
   ]
  },
  {
   "cell_type": "markdown",
   "metadata": {},
   "source": [
    "### Make Bigrams"
   ]
  },
  {
   "cell_type": "code",
   "execution_count": 75,
   "metadata": {},
   "outputs": [],
   "source": [
    "concat_data_words = list(sent_to_words(concat_data['content_full_clean']))"
   ]
  },
  {
   "cell_type": "code",
   "execution_count": 77,
   "metadata": {},
   "outputs": [],
   "source": [
    "data_bigrams = make_bigrams(concat_data_words)"
   ]
  },
  {
   "cell_type": "code",
   "execution_count": 78,
   "metadata": {},
   "outputs": [
    {
     "data": {
      "text/plain": [
       "['tax_reform', 'failure', 'act', 'could', 'mean', 'minority', 'status', 'gop', 'republican', 'congress', 'make', 'break', 'moment', 'everyone', 'moments', 'come', 'around', 'often', 'politics', 'president', 'donald', 'trump', 'speaker', 'house', 'paul_ryan', 'senate', 'majority_leader', 'mitch_mcconnell', 'agree', 'come', 'seize', 'real', 'lasting', 'tax_reform', 'lead', 'job_creation', 'fuel', 'economic', 'engine', 'future', 'generation', 'republican', 'well', 'trumpstate', 'democrat', 'seek', 'help', 'hardworking', 'american', 'taxpayer', 'progrowth', 'legislation', 'need', 'come', 'together', 'must', 'get', 'robust', 'tax_reform', 'bill', 'sign', 'law', 'american', 'republican', 'control', 'white_house', 'house', 'congress', 'look', 'first', 'six', 'month', 'congress', 'little', 'show', 'congress', 'doesnt', 'act', 'appear', 'campaign', 'rhetoric', 'talk', 'president', 'united_state', 'ask', 'congress', 'send', 'tax_reform', 'package', 'desk', 'obama_administration', 'republican', 'leader', 'congress', 'say', 'wait', 'republican', 'president', 'thing', 'different', 'mcconnell', 'ryan', 'must', 'produce', 'historic', 'tax_reform', 'package', 'member', 'respective', 'caucus', 'get', 'behind', 'inaction', 'tax_reform', 'could', 'well', 'mean', 'minority', 'status', 'make', 'mistake', 'american', 'expect', 'action', 'true', 'democrat', 'obstructionist', 'folk', 'around', 'country', 'want', 'republican', 'get', 'job', 'keep', 'promise', 'overly', 'burdensome', 'tax', 'regulation', 'cut', 'american', 'entrepreneur', 'american', 'business', 'american', 'worker', 'amaze', 'thing', 'happen', 'american', 'believe', 'republican', 'agreement', 'tax_reform', 'critical', 'american', 'family', 'job_creator', 'want', 'go', 'happen', 'president', 'trump', 'republican', 'capitol_hill', 'across', 'political', 'spectrum', 'moderate', 'conservative', 'acknowledge', 'tax_reform', 'tax', 'relief', 'key', 'campaign', 'promise', 'help', 'catapult', 'victory', 'majority', 'status', 'chamber', 'congress', 'republican', 'also', 'agree', 'importance', 'tax_reform', 'tax', 'cut', 'come', 'grow', 'economy', 'president', 'trump', 'uplifting', 'economic', 'message', 'pave_way', 'victory', 'state', 'ohio', 'pennsylvania', 'michigan', 'wisconsin', 'upon', 'take', 'office', 'president', 'economic', 'optimism', 'executive_order', 'deregulation', 'cause', 'dow_jones', 'industrial_average', 'skyrocket', 'historic', 'high', 'pave_way', 'one', 'million', 'new', 'job', 'create', 'six', 'month', 'percent', 'growth', 'second', 'quarter', 'make', 'unemployment_rate', 'shrink', 'low', 'level', 'since', 'job_creator', 'business', 'large', 'small', 'expect', 'tax_reform', 'congress', 'plan', 'future', 'president', 'ronald', 'reagans', 'economic', 'recovery', 'act', 'sign', 'law', 'create', 'decade', 'unprecedented', 'economic_growth', 'recent', 'roadmap', 'success', 'must', 'learn', 'overly', 'burdensome', 'tax', 'regulation', 'cut', 'american', 'entrepreneur', 'american', 'business', 'american', 'worker', 'amaze', 'thing', 'happen', 'call', 'american', 'exceptionalism', 'president', 'reagan', 'good', 'anyone', 'republican', 'senator', 'ted_cruz', 'mike', 'lee', 'susan_collins', 'john_mccain', 'leader', 'come', 'together', 'deliver', 'muchdeserved', 'tax_reform', 'tax', 'relief', 'failure', 'option', 'economy', 'launch', 'pad', 'ready', 'fire', 'engine', 'full', 'capacity', 'america', 'need', 'tax', 'package', 'sign', 'law', 'achieve', 'historic', 'level', 'growth', 'job_creator', 'wait', 'congress', 'press', 'ignition', 'button', 'act']"
      ]
     },
     "execution_count": 78,
     "metadata": {},
     "output_type": "execute_result"
    }
   ],
   "source": [
    "data_bigrams[0]"
   ]
  },
  {
   "cell_type": "markdown",
   "metadata": {},
   "source": [
    "### Nouns & Adjs only"
   ]
  },
  {
   "cell_type": "code",
   "execution_count": 80,
   "metadata": {},
   "outputs": [],
   "source": [
    "new_texts = pd.DataFrame(columns=['content_full_bigrams'])\n",
    "for data in data_bigrams:\n",
    "    addData = ' '.join(data)\n",
    "    new_texts = new_texts.append({'content_full_bigrams':addData}, ignore_index=True)"
   ]
  },
  {
   "cell_type": "code",
   "execution_count": 81,
   "metadata": {},
   "outputs": [],
   "source": [
    "data_nouns = pd.DataFrame(new_texts[\"content_full_bigrams\"].apply(nouns_adjs))"
   ]
  },
  {
   "cell_type": "code",
   "execution_count": 82,
   "metadata": {},
   "outputs": [
    {
     "data": {
      "text/plain": [
       "1914"
      ]
     },
     "execution_count": 82,
     "metadata": {},
     "output_type": "execute_result"
    }
   ],
   "source": [
    "new_data_words = list(sent_to_words(data_nouns['content_full_bigrams']))\n",
    "len(new_data_words)"
   ]
  },
  {
   "cell_type": "markdown",
   "metadata": {},
   "source": [
    "### Model"
   ]
  },
  {
   "cell_type": "code",
   "execution_count": 83,
   "metadata": {},
   "outputs": [],
   "source": [
    "# Create Dictionary\n",
    "id2word = corpora.Dictionary(new_data_words)\n",
    "# Create Corpus\n",
    "texts = new_data_words\n",
    "# Term Document Frequency\n",
    "tdm = [id2word.doc2bow(text) for text in texts]"
   ]
  },
  {
   "cell_type": "code",
   "execution_count": 84,
   "metadata": {},
   "outputs": [
    {
     "name": "stderr",
     "output_type": "stream",
     "text": [
      "100%|███████████████████████████████████████████████████████████████████████████████| 10/10 [1:14:46<00:00, 448.68s/it]\n"
     ]
    },
    {
     "name": "stdout",
     "output_type": "stream",
     "text": [
      "done\n"
     ]
    }
   ],
   "source": [
    "from tqdm import tqdm\n",
    "\n",
    "model = []\n",
    "c_s = []\n",
    "nt = []\n",
    "np = []\n",
    "\n",
    "n_topics = range(6,16,1)\n",
    "n_passes = [10,25,50,75,100]\n",
    "\n",
    "for t in tqdm(n_topics):\n",
    "    for p in n_passes:\n",
    "        this_model = models.LdaMulticore(corpus=tdm, id2word=id2word, num_topics=t, random_state=101,\n",
    "                                chunksize=140, passes=p, per_word_topics=True)\n",
    "        tcoherence_model_lda = CoherenceModel(model=this_model, texts=texts, dictionary=id2word, coherence='c_v')\n",
    "        tcoherence_lda = tcoherence_model_lda.get_coherence()\n",
    "        \n",
    "        model.append(this_model)\n",
    "        c_s.append(tcoherence_lda)\n",
    "        nt.append(t)\n",
    "        np.append(p)\n",
    "print(\"done\")"
   ]
  },
  {
   "cell_type": "code",
   "execution_count": 85,
   "metadata": {},
   "outputs": [],
   "source": [
    "multi_model = {'num_topics':nt, 'num_passes':np, 'model':model, 'coherence_score':c_s}\n",
    "multi_model_df = pd.DataFrame(multi_model)"
   ]
  },
  {
   "cell_type": "code",
   "execution_count": 86,
   "metadata": {},
   "outputs": [],
   "source": [
    "multi_model_df.to_pickle('topic_model_multi_bigrams.pkl')"
   ]
  },
  {
   "cell_type": "code",
   "execution_count": 87,
   "metadata": {},
   "outputs": [],
   "source": [
    "import seaborn as sns\n",
    "import matplotlib.pyplot as plt\n",
    "from pprint import pprint"
   ]
  },
  {
   "cell_type": "code",
   "execution_count": 88,
   "metadata": {},
   "outputs": [
    {
     "data": {
      "image/png": "[encoded data removed]",
      "text/plain": [
       "<Figure size 432x288 with 2 Axes>"
      ]
     },
     "metadata": {
      "needs_background": "light"
     },
     "output_type": "display_data"
    }
   ],
   "source": [
    "res = pd.pivot_table(pd.DataFrame(multi_model_df),\n",
    "    values='coherence_score', index='num_topics', columns='num_passes')\n",
    "ax = plt.axes()\n",
    "ax.set_title(\"LDA Model Coherence Performance by Params\")\n",
    "sns.heatmap(res, annot=True)\n",
    "plt.show()"
   ]
  },
  {
   "cell_type": "code",
   "execution_count": 124,
   "metadata": {},
   "outputs": [
    {
     "data": {
      "text/html": [
       "<div>\n",
       "<style scoped>\n",
       "    .dataframe tbody tr th:only-of-type {\n",
       "        vertical-align: middle;\n",
       "    }\n",
       "\n",
       "    .dataframe tbody tr th {\n",
       "        vertical-align: top;\n",
       "    }\n",
       "\n",
       "    .dataframe thead th {\n",
       "        text-align: right;\n",
       "    }\n",
       "</style>\n",
       "<table border=\"1\" class=\"dataframe\">\n",
       "  <thead>\n",
       "    <tr style=\"text-align: right;\">\n",
       "      <th></th>\n",
       "      <th>num_topics</th>\n",
       "      <th>num_passes</th>\n",
       "      <th>model</th>\n",
       "      <th>coherence_score</th>\n",
       "    </tr>\n",
       "  </thead>\n",
       "  <tbody>\n",
       "    <tr>\n",
       "      <td>27</td>\n",
       "      <td>11</td>\n",
       "      <td>50</td>\n",
       "      <td>LdaModel(num_terms=28832, num_topics=11, decay...</td>\n",
       "      <td>0.53031</td>\n",
       "    </tr>\n",
       "  </tbody>\n",
       "</table>\n",
       "</div>"
      ],
      "text/plain": [
       "    num_topics  num_passes                                              model  \\\n",
       "27          11          50  LdaModel(num_terms=28832, num_topics=11, decay...   \n",
       "\n",
       "    coherence_score  \n",
       "27          0.53031  "
      ]
     },
     "execution_count": 124,
     "metadata": {},
     "output_type": "execute_result"
    }
   ],
   "source": [
    "multi_model_df[(multi_model_df[\"num_topics\"]==11) & (multi_model_df[\"num_passes\"]==50)]"
   ]
  },
  {
   "cell_type": "code",
   "execution_count": 125,
   "metadata": {},
   "outputs": [
    {
     "name": "stdout",
     "output_type": "stream",
     "text": [
      "[(0,\n",
      "  '0.033*\"tax\" + 0.012*\"plan\" + 0.010*\"percent\" + 0.009*\"bill\" + 0.009*\"trump\" '\n",
      "  '+ 0.009*\"american\" + 0.009*\"cut\" + 0.007*\"rate\" + 0.006*\"state\" + '\n",
      "  '0.006*\"policy\"'),\n",
      " (1,\n",
      "  '0.012*\"apple\" + 0.012*\"new\" + 0.008*\"use\" + 0.007*\"iphone\" + 0.006*\"amazon\" '\n",
      "  '+ 0.006*\"company\" + 0.005*\"police\" + 0.005*\"technology\" + 0.005*\"computer\" '\n",
      "  '+ 0.005*\"device\"'),\n",
      " (2,\n",
      "  '0.041*\"percent\" + 0.013*\"job\" + 0.010*\"company\" + 0.010*\"economy\" + '\n",
      "  '0.010*\"price\" + 0.009*\"market\" + 0.008*\"rise\" + 0.007*\"month\" + '\n",
      "  '0.007*\"bank\" + 0.007*\"high\"'),\n",
      " (3,\n",
      "  '0.023*\"trump\" + 0.012*\"president\" + 0.007*\"call\" + 0.005*\"american\" + '\n",
      "  '0.005*\"day\" + 0.004*\"family\" + 0.004*\"political\" + 0.004*\"attack\" + '\n",
      "  '0.004*\"claim\" + 0.004*\"talk\"'),\n",
      " (4,\n",
      "  '0.030*\"republican\" + 0.023*\"trump\" + 0.013*\"senate\" + 0.013*\"state\" + '\n",
      "  '0.012*\"president\" + 0.012*\"democrat\" + 0.010*\"party\" + 0.010*\"house\" + '\n",
      "  '0.009*\"election\" + 0.009*\"vote\"'),\n",
      " (5,\n",
      "  '0.017*\"company\" + 0.014*\"uber\" + 0.011*\"google\" + 0.009*\"technology\" + '\n",
      "  '0.008*\"space\" + 0.005*\"thing\" + 0.005*\"city\" + 0.004*\"ubers\" + 0.004*\"way\" '\n",
      "  '+ 0.004*\"market\"'),\n",
      " (6,\n",
      "  '0.006*\"new\" + 0.006*\"drug\" + 0.006*\"study\" + 0.005*\"use\" + 0.005*\"work\" + '\n",
      "  '0.004*\"many\" + 0.004*\"water\" + 0.004*\"report\" + 0.004*\"climate_change\" + '\n",
      "  '0.004*\"health\"'),\n",
      " (7,\n",
      "  '0.030*\"trump\" + 0.017*\"president\" + 0.011*\"country\" + 0.010*\"china\" + '\n",
      "  '0.008*\"trade\" + 0.008*\"leader\" + 0.007*\"deal\" + 0.007*\"north_korea\" + '\n",
      "  '0.006*\"world\" + 0.006*\"official\"'),\n",
      " (8,\n",
      "  '0.047*\"gun\" + 0.011*\"death\" + 0.011*\"gun_control\" + 0.009*\"law\" + '\n",
      "  '0.008*\"firearm\" + 0.007*\"alcohol\" + 0.006*\"iq\" + 0.006*\"mass_shoot\" + '\n",
      "  '0.006*\"birth_control\" + 0.006*\"research\"'),\n",
      " (9,\n",
      "  '0.010*\"trump\" + 0.009*\"report\" + 0.008*\"campaign\" + 0.008*\"company\" + '\n",
      "  '0.007*\"twitter\" + 0.007*\"russian\" + 0.007*\"facebook\" + 0.006*\"ad\" + '\n",
      "  '0.005*\"information\" + 0.005*\"government\"'),\n",
      " (10,\n",
      "  '0.030*\"woman\" + 0.009*\"allegation\" + 0.007*\"men\" + 0.007*\"hollywood\" + '\n",
      "  '0.007*\"report\" + 0.007*\"weinstein\" + 0.006*\"harassment\" + 0.005*\"work\" + '\n",
      "  '0.005*\"sexual\" + 0.005*\"company\"')]\n"
     ]
    }
   ],
   "source": [
    "pprint(multi_model_df['model'].iloc[27].print_topics())"
   ]
  },
  {
   "cell_type": "code",
   "execution_count": 116,
   "metadata": {},
   "outputs": [],
   "source": [
    "topic_list = ['Policy','Technology','Economy','Politics','Politics','Technology',\n",
    "              'Public Health','Politics','Public Health','Scandal','Scandal']"
   ]
  },
  {
   "cell_type": "code",
   "execution_count": 117,
   "metadata": {},
   "outputs": [],
   "source": [
    "topics = pd.DataFrame(columns=['content_id','content_body_clean','content_title_clean','topic','topic_id1',\n",
    "                               'topic_p1','topic_id2','topic_p2','topic_dist'])\n",
    "\n",
    "for r in range(0,len(data_raw)):\n",
    "    this_doc = id2word.doc2bow(texts[r])\n",
    "    topicID = sorted(multi_model_df['model'].iloc[27].get_document_topics(this_doc), key=lambda x: x[1], reverse=True)\n",
    "    if len(topicID) > 1:\n",
    "        topicID2 = topicID[1]\n",
    "    else:\n",
    "        topicID2 = [\"\",\"\"]\n",
    "    \n",
    "    topics = topics.append({'content_id': data_raw['content_id'].iloc[r], \n",
    "                            'content_body_clean':data_raw['content_body_clean'].iloc[r],\n",
    "                            'content_title_clean':data_raw['content_title_clean'].iloc[r], \n",
    "                            'topic':topic_list[topicID[0][0]],\n",
    "                            'topic_id1':topicID[0][0],\n",
    "                            'topic_p1':topicID[0][1], \n",
    "                            'topic_id2':topicID2[0],\n",
    "                            'topic_p2':topicID2[1],\n",
    "                            'topic_dist':multi_model_df['model'].iloc[27].get_document_topics(this_doc) }, ignore_index=True)"
   ]
  },
  {
   "cell_type": "code",
   "execution_count": 126,
   "metadata": {},
   "outputs": [
    {
     "data": {
      "text/html": [
       "<div>\n",
       "<style scoped>\n",
       "    .dataframe tbody tr th:only-of-type {\n",
       "        vertical-align: middle;\n",
       "    }\n",
       "\n",
       "    .dataframe tbody tr th {\n",
       "        vertical-align: top;\n",
       "    }\n",
       "\n",
       "    .dataframe thead th {\n",
       "        text-align: right;\n",
       "    }\n",
       "</style>\n",
       "<table border=\"1\" class=\"dataframe\">\n",
       "  <thead>\n",
       "    <tr style=\"text-align: right;\">\n",
       "      <th></th>\n",
       "      <th>content_id</th>\n",
       "      <th>content_body_clean</th>\n",
       "      <th>content_title_clean</th>\n",
       "      <th>topic</th>\n",
       "      <th>topic_id1</th>\n",
       "      <th>topic_p1</th>\n",
       "      <th>topic_id2</th>\n",
       "      <th>topic_p2</th>\n",
       "      <th>topic_dist</th>\n",
       "    </tr>\n",
       "  </thead>\n",
       "  <tbody>\n",
       "    <tr>\n",
       "      <td>0</td>\n",
       "      <td>60</td>\n",
       "      <td>republican congress make break moment everyone...</td>\n",
       "      <td>tax reform failure act could mean minority sta...</td>\n",
       "      <td>Policy</td>\n",
       "      <td>0</td>\n",
       "      <td>0.548654</td>\n",
       "      <td>4</td>\n",
       "      <td>0.398622</td>\n",
       "      <td>[(0, 0.54865676), (1, 0.035524607), (2, 0.0146...</td>\n",
       "    </tr>\n",
       "    <tr>\n",
       "      <td>1</td>\n",
       "      <td>61</td>\n",
       "      <td>constitution authorize congress tax american p...</td>\n",
       "      <td>tax reform america need tax code good country ...</td>\n",
       "      <td>Policy</td>\n",
       "      <td>0</td>\n",
       "      <td>0.832200</td>\n",
       "      <td>3</td>\n",
       "      <td>0.0988222</td>\n",
       "      <td>[(0, 0.83220094), (3, 0.098824225), (4, 0.0664...</td>\n",
       "    </tr>\n",
       "    <tr>\n",
       "      <td>2</td>\n",
       "      <td>66</td>\n",
       "      <td>longmothballed unfinished casinohotel la vega ...</td>\n",
       "      <td>longmothballed la vega strip casinohotel sell</td>\n",
       "      <td>Economy</td>\n",
       "      <td>2</td>\n",
       "      <td>0.677059</td>\n",
       "      <td>3</td>\n",
       "      <td>0.14728</td>\n",
       "      <td>[(1, 0.09982404), (2, 0.6770535), (3, 0.147273...</td>\n",
       "    </tr>\n",
       "    <tr>\n",
       "      <td>3</td>\n",
       "      <td>80</td>\n",
       "      <td>tax foreign earnings already accumulate overse...</td>\n",
       "      <td>trump tax plan may free corporate dollar</td>\n",
       "      <td>Policy</td>\n",
       "      <td>0</td>\n",
       "      <td>0.994644</td>\n",
       "      <td></td>\n",
       "      <td></td>\n",
       "      <td>[(0, 0.9946441)]</td>\n",
       "    </tr>\n",
       "    <tr>\n",
       "      <td>4</td>\n",
       "      <td>82</td>\n",
       "      <td>hurricane harvey already take enormous human t...</td>\n",
       "      <td>hurricane harvey humanitarian disaster also se...</td>\n",
       "      <td>Public Health</td>\n",
       "      <td>6</td>\n",
       "      <td>0.759787</td>\n",
       "      <td>2</td>\n",
       "      <td>0.237297</td>\n",
       "      <td>[(2, 0.23729898), (6, 0.7597849)]</td>\n",
       "    </tr>\n",
       "    <tr>\n",
       "      <td>...</td>\n",
       "      <td>...</td>\n",
       "      <td>...</td>\n",
       "      <td>...</td>\n",
       "      <td>...</td>\n",
       "      <td>...</td>\n",
       "      <td>...</td>\n",
       "      <td>...</td>\n",
       "      <td>...</td>\n",
       "      <td>...</td>\n",
       "    </tr>\n",
       "    <tr>\n",
       "      <td>1909</td>\n",
       "      <td>3380</td>\n",
       "      <td>oct file photo venezuela president nicolas mad...</td>\n",
       "      <td>investor leave venezuela meeting clear insight</td>\n",
       "      <td>Politics</td>\n",
       "      <td>7</td>\n",
       "      <td>0.746023</td>\n",
       "      <td>1</td>\n",
       "      <td>0.0920419</td>\n",
       "      <td>[(0, 0.04390687), (1, 0.09204196), (2, 0.07198...</td>\n",
       "    </tr>\n",
       "    <tr>\n",
       "      <td>1910</td>\n",
       "      <td>3381</td>\n",
       "      <td>man watch stock price board brokerage house be...</td>\n",
       "      <td>global stock turn low recent record high</td>\n",
       "      <td>Economy</td>\n",
       "      <td>2</td>\n",
       "      <td>0.979205</td>\n",
       "      <td>7</td>\n",
       "      <td>0.0174803</td>\n",
       "      <td>[(2, 0.97920525), (7, 0.017479869)]</td>\n",
       "    </tr>\n",
       "    <tr>\n",
       "      <td>1911</td>\n",
       "      <td>3382</td>\n",
       "      <td>drain massive aquifer underlies portion eight ...</td>\n",
       "      <td>rural area risk water level drop massive aquifer</td>\n",
       "      <td>Public Health</td>\n",
       "      <td>6</td>\n",
       "      <td>0.983829</td>\n",
       "      <td>2</td>\n",
       "      <td>0.0113818</td>\n",
       "      <td>[(2, 0.011387455), (6, 0.983823)]</td>\n",
       "    </tr>\n",
       "    <tr>\n",
       "      <td>1912</td>\n",
       "      <td>3383</td>\n",
       "      <td>orbital atks antares rocket lift wallop island...</td>\n",
       "      <td>frozen treat supply rocket toward space station</td>\n",
       "      <td>Technology</td>\n",
       "      <td>5</td>\n",
       "      <td>0.419648</td>\n",
       "      <td>7</td>\n",
       "      <td>0.284927</td>\n",
       "      <td>[(2, 0.022637565), (4, 0.01546725), (5, 0.4196...</td>\n",
       "    </tr>\n",
       "    <tr>\n",
       "      <td>1913</td>\n",
       "      <td>3384</td>\n",
       "      <td>dentist engineering degree insatiable curiosit...</td>\n",
       "      <td>unconventional wisconsin dentist study narwhal</td>\n",
       "      <td>Public Health</td>\n",
       "      <td>6</td>\n",
       "      <td>0.976144</td>\n",
       "      <td></td>\n",
       "      <td></td>\n",
       "      <td>[(6, 0.97614366)]</td>\n",
       "    </tr>\n",
       "  </tbody>\n",
       "</table>\n",
       "<p>1914 rows × 9 columns</p>\n",
       "</div>"
      ],
      "text/plain": [
       "     content_id                                 content_body_clean  \\\n",
       "0            60  republican congress make break moment everyone...   \n",
       "1            61  constitution authorize congress tax american p...   \n",
       "2            66  longmothballed unfinished casinohotel la vega ...   \n",
       "3            80  tax foreign earnings already accumulate overse...   \n",
       "4            82  hurricane harvey already take enormous human t...   \n",
       "...         ...                                                ...   \n",
       "1909       3380  oct file photo venezuela president nicolas mad...   \n",
       "1910       3381  man watch stock price board brokerage house be...   \n",
       "1911       3382  drain massive aquifer underlies portion eight ...   \n",
       "1912       3383  orbital atks antares rocket lift wallop island...   \n",
       "1913       3384  dentist engineering degree insatiable curiosit...   \n",
       "\n",
       "                                    content_title_clean          topic  \\\n",
       "0     tax reform failure act could mean minority sta...         Policy   \n",
       "1     tax reform america need tax code good country ...         Policy   \n",
       "2         longmothballed la vega strip casinohotel sell        Economy   \n",
       "3              trump tax plan may free corporate dollar         Policy   \n",
       "4     hurricane harvey humanitarian disaster also se...  Public Health   \n",
       "...                                                 ...            ...   \n",
       "1909     investor leave venezuela meeting clear insight       Politics   \n",
       "1910           global stock turn low recent record high        Economy   \n",
       "1911   rural area risk water level drop massive aquifer  Public Health   \n",
       "1912    frozen treat supply rocket toward space station     Technology   \n",
       "1913     unconventional wisconsin dentist study narwhal  Public Health   \n",
       "\n",
       "     topic_id1  topic_p1 topic_id2   topic_p2  \\\n",
       "0            0  0.548654         4   0.398622   \n",
       "1            0  0.832200         3  0.0988222   \n",
       "2            2  0.677059         3    0.14728   \n",
       "3            0  0.994644                        \n",
       "4            6  0.759787         2   0.237297   \n",
       "...        ...       ...       ...        ...   \n",
       "1909         7  0.746023         1  0.0920419   \n",
       "1910         2  0.979205         7  0.0174803   \n",
       "1911         6  0.983829         2  0.0113818   \n",
       "1912         5  0.419648         7   0.284927   \n",
       "1913         6  0.976144                        \n",
       "\n",
       "                                             topic_dist  \n",
       "0     [(0, 0.54865676), (1, 0.035524607), (2, 0.0146...  \n",
       "1     [(0, 0.83220094), (3, 0.098824225), (4, 0.0664...  \n",
       "2     [(1, 0.09982404), (2, 0.6770535), (3, 0.147273...  \n",
       "3                                      [(0, 0.9946441)]  \n",
       "4                     [(2, 0.23729898), (6, 0.7597849)]  \n",
       "...                                                 ...  \n",
       "1909  [(0, 0.04390687), (1, 0.09204196), (2, 0.07198...  \n",
       "1910                [(2, 0.97920525), (7, 0.017479869)]  \n",
       "1911                  [(2, 0.011387455), (6, 0.983823)]  \n",
       "1912  [(2, 0.022637565), (4, 0.01546725), (5, 0.4196...  \n",
       "1913                                  [(6, 0.97614366)]  \n",
       "\n",
       "[1914 rows x 9 columns]"
      ]
     },
     "execution_count": 126,
     "metadata": {},
     "output_type": "execute_result"
    }
   ],
   "source": [
    "topics"
   ]
  },
  {
   "cell_type": "code",
   "execution_count": 121,
   "metadata": {},
   "outputs": [],
   "source": [
    "topics.to_csv(\"Data/article_topics_6.csv\")"
   ]
  },
  {
   "cell_type": "code",
   "execution_count": null,
   "metadata": {},
   "outputs": [],
   "source": []
  }
 ],
 "metadata": {
  "kernelspec": {
   "display_name": "Python 3",
   "language": "python",
   "name": "python3"
  },
  "language_info": {
   "codemirror_mode": {
    "name": "ipython",
    "version": 3
   },
   "file_extension": ".py",
   "mimetype": "text/x-python",
   "name": "python",
   "nbconvert_exporter": "python",
   "pygments_lexer": "ipython3",
   "version": "3.7.4"
  }
 },
 "nbformat": 4,
 "nbformat_minor": 2
}
