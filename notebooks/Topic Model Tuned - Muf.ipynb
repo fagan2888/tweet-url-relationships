{
 "cells": [
  {
   "cell_type": "markdown",
   "metadata": {},
   "source": [
    "# Topic Modeling Tuned\n",
    "### Muf Tayebaly"
   ]
  },
  {
   "cell_type": "code",
   "execution_count": 6,
   "metadata": {},
   "outputs": [],
   "source": [
    "#imports\n",
    "import pandas as pd\n",
    "import numpy as np\n",
    "import pickle as pk\n",
    "import string\n",
    "import nltk\n",
    "from nltk.corpus import stopwords\n",
    "from nltk.corpus import wordnet\n",
    "from nltk import word_tokenize, pos_tag\n",
    "from nltk.stem import WordNetLemmatizer\n",
    "import string\n",
    "import re\n",
    "from random import randint\n",
    "from collections import defaultdict\n",
    "from gensim import matutils, models, utils\n",
    "import scipy.sparse\n",
    "from sklearn.feature_extraction import text\n",
    "from sklearn.feature_extraction.text import CountVectorizer\n",
    "from gensim.models import CoherenceModel\n",
    "from gensim import corpora\n",
    "import tqdm"
   ]
  },
  {
   "cell_type": "code",
   "execution_count": 15,
   "metadata": {},
   "outputs": [
    {
     "name": "stderr",
     "output_type": "stream",
     "text": [
      "[nltk_data] Downloading package punkt to /Users/Muf/nltk_data...\n",
      "[nltk_data]   Package punkt is already up-to-date!\n",
      "[nltk_data] Downloading package averaged_perceptron_tagger to\n",
      "[nltk_data]     /Users/Muf/nltk_data...\n",
      "[nltk_data]   Package averaged_perceptron_tagger is already up-to-\n",
      "[nltk_data]       date!\n",
      "[nltk_data] Downloading package stopwords to /Users/Muf/nltk_data...\n",
      "[nltk_data]   Package stopwords is already up-to-date!\n",
      "[nltk_data] Downloading package wordnet to /Users/Muf/nltk_data...\n",
      "[nltk_data]   Unzipping corpora/wordnet.zip.\n"
     ]
    },
    {
     "data": {
      "text/plain": [
       "True"
      ]
     },
     "execution_count": 15,
     "metadata": {},
     "output_type": "execute_result"
    }
   ],
   "source": [
    "nltk.download('punkt')\n",
    "nltk.download('averaged_perceptron_tagger')\n",
    "nltk.download('stopwords')\n",
    "nltk.download('wordnet')"
   ]
  },
  {
   "cell_type": "code",
   "execution_count": 7,
   "metadata": {},
   "outputs": [
    {
     "data": {
      "text/plain": [
       "(1914, 32)"
      ]
     },
     "execution_count": 7,
     "metadata": {},
     "output_type": "execute_result"
    }
   ],
   "source": [
    "#load data from pickle\n",
    "corpus_data = pd.read_pickle('Data/muf_articles_corpus.pkl')\n",
    "data_raw = pd.read_csv('Data/knight_data_articles.csv')\n",
    "corpus_data.shape"
   ]
  },
  {
   "cell_type": "code",
   "execution_count": 3,
   "metadata": {},
   "outputs": [
    {
     "data": {
      "text/html": [
       "<div>\n",
       "<style scoped>\n",
       "    .dataframe tbody tr th:only-of-type {\n",
       "        vertical-align: middle;\n",
       "    }\n",
       "\n",
       "    .dataframe tbody tr th {\n",
       "        vertical-align: top;\n",
       "    }\n",
       "\n",
       "    .dataframe thead th {\n",
       "        text-align: right;\n",
       "    }\n",
       "</style>\n",
       "<table border=\"1\" class=\"dataframe\">\n",
       "  <thead>\n",
       "    <tr style=\"text-align: right;\">\n",
       "      <th></th>\n",
       "      <th>content_id</th>\n",
       "      <th>content_body_clean</th>\n",
       "      <th>content_title_clean</th>\n",
       "      <th>label</th>\n",
       "      <th>economy</th>\n",
       "      <th>topic2</th>\n",
       "      <th>science</th>\n",
       "      <th>mention_Trump</th>\n",
       "      <th>mention_Clinton</th>\n",
       "      <th>mention_Democrat</th>\n",
       "      <th>...</th>\n",
       "      <th>mention_terrorist</th>\n",
       "      <th>mention_attack</th>\n",
       "      <th>mention_NRA</th>\n",
       "      <th>mention_sanctuary</th>\n",
       "      <th>mention_socialist</th>\n",
       "      <th>mention_fascist</th>\n",
       "      <th>mention_communist</th>\n",
       "      <th>mention_nationalist</th>\n",
       "      <th>mention_2A</th>\n",
       "      <th>content_source_desc</th>\n",
       "    </tr>\n",
       "  </thead>\n",
       "  <tbody>\n",
       "    <tr>\n",
       "      <td>0</td>\n",
       "      <td>60</td>\n",
       "      <td>Republicans in Congress are at a make or break...</td>\n",
       "      <td>Tax reform now -- failure to act could mean mi...</td>\n",
       "      <td>9</td>\n",
       "      <td>1</td>\n",
       "      <td>0</td>\n",
       "      <td>0</td>\n",
       "      <td>1</td>\n",
       "      <td>0</td>\n",
       "      <td>0</td>\n",
       "      <td>...</td>\n",
       "      <td>0</td>\n",
       "      <td>0</td>\n",
       "      <td>0</td>\n",
       "      <td>0</td>\n",
       "      <td>0</td>\n",
       "      <td>0</td>\n",
       "      <td>0</td>\n",
       "      <td>0</td>\n",
       "      <td>0</td>\n",
       "      <td>Fox News</td>\n",
       "    </tr>\n",
       "    <tr>\n",
       "      <td>1</td>\n",
       "      <td>61</td>\n",
       "      <td>The Constitution authorizes Congress to tax Am...</td>\n",
       "      <td>Tax reform -- America needs a tax code that's ...</td>\n",
       "      <td>9</td>\n",
       "      <td>1</td>\n",
       "      <td>0</td>\n",
       "      <td>0</td>\n",
       "      <td>1</td>\n",
       "      <td>0</td>\n",
       "      <td>0</td>\n",
       "      <td>...</td>\n",
       "      <td>0</td>\n",
       "      <td>0</td>\n",
       "      <td>0</td>\n",
       "      <td>0</td>\n",
       "      <td>0</td>\n",
       "      <td>0</td>\n",
       "      <td>0</td>\n",
       "      <td>0</td>\n",
       "      <td>0</td>\n",
       "      <td>Fox News</td>\n",
       "    </tr>\n",
       "    <tr>\n",
       "      <td>2</td>\n",
       "      <td>66</td>\n",
       "      <td>A long-mothballed, unfinished casino-hotel on ...</td>\n",
       "      <td>Long-mothballed Las Vegas Strip casino-hotel s...</td>\n",
       "      <td>0</td>\n",
       "      <td>1</td>\n",
       "      <td>0</td>\n",
       "      <td>0</td>\n",
       "      <td>0</td>\n",
       "      <td>0</td>\n",
       "      <td>0</td>\n",
       "      <td>...</td>\n",
       "      <td>0</td>\n",
       "      <td>0</td>\n",
       "      <td>0</td>\n",
       "      <td>0</td>\n",
       "      <td>0</td>\n",
       "      <td>0</td>\n",
       "      <td>0</td>\n",
       "      <td>0</td>\n",
       "      <td>0</td>\n",
       "      <td>Fox News</td>\n",
       "    </tr>\n",
       "    <tr>\n",
       "      <td>3</td>\n",
       "      <td>80</td>\n",
       "      <td>If taxing foreign earnings that have already a...</td>\n",
       "      <td>Trump Tax Plan May Free Up Corporate Dollars, ...</td>\n",
       "      <td>3</td>\n",
       "      <td>1</td>\n",
       "      <td>0</td>\n",
       "      <td>0</td>\n",
       "      <td>1</td>\n",
       "      <td>0</td>\n",
       "      <td>0</td>\n",
       "      <td>...</td>\n",
       "      <td>0</td>\n",
       "      <td>0</td>\n",
       "      <td>0</td>\n",
       "      <td>0</td>\n",
       "      <td>0</td>\n",
       "      <td>0</td>\n",
       "      <td>0</td>\n",
       "      <td>0</td>\n",
       "      <td>0</td>\n",
       "      <td>The New York Times</td>\n",
       "    </tr>\n",
       "    <tr>\n",
       "      <td>4</td>\n",
       "      <td>82</td>\n",
       "      <td>Hurricane Harvey has already taken an enormous...</td>\n",
       "      <td>Hurricane Harvey is a humanitarian disaster. I...</td>\n",
       "      <td>5</td>\n",
       "      <td>1</td>\n",
       "      <td>0</td>\n",
       "      <td>0</td>\n",
       "      <td>0</td>\n",
       "      <td>0</td>\n",
       "      <td>0</td>\n",
       "      <td>...</td>\n",
       "      <td>0</td>\n",
       "      <td>0</td>\n",
       "      <td>0</td>\n",
       "      <td>0</td>\n",
       "      <td>0</td>\n",
       "      <td>0</td>\n",
       "      <td>0</td>\n",
       "      <td>0</td>\n",
       "      <td>0</td>\n",
       "      <td>Vox</td>\n",
       "    </tr>\n",
       "  </tbody>\n",
       "</table>\n",
       "<p>5 rows × 32 columns</p>\n",
       "</div>"
      ],
      "text/plain": [
       "   content_id                                 content_body_clean  \\\n",
       "0          60  Republicans in Congress are at a make or break...   \n",
       "1          61  The Constitution authorizes Congress to tax Am...   \n",
       "2          66  A long-mothballed, unfinished casino-hotel on ...   \n",
       "3          80  If taxing foreign earnings that have already a...   \n",
       "4          82  Hurricane Harvey has already taken an enormous...   \n",
       "\n",
       "                                 content_title_clean  label  economy  topic2  \\\n",
       "0  Tax reform now -- failure to act could mean mi...      9        1       0   \n",
       "1  Tax reform -- America needs a tax code that's ...      9        1       0   \n",
       "2  Long-mothballed Las Vegas Strip casino-hotel s...      0        1       0   \n",
       "3  Trump Tax Plan May Free Up Corporate Dollars, ...      3        1       0   \n",
       "4  Hurricane Harvey is a humanitarian disaster. I...      5        1       0   \n",
       "\n",
       "   science  mention_Trump  mention_Clinton  mention_Democrat  ...  \\\n",
       "0        0              1                0                 0  ...   \n",
       "1        0              1                0                 0  ...   \n",
       "2        0              0                0                 0  ...   \n",
       "3        0              1                0                 0  ...   \n",
       "4        0              0                0                 0  ...   \n",
       "\n",
       "   mention_terrorist  mention_attack  mention_NRA  mention_sanctuary  \\\n",
       "0                  0               0            0                  0   \n",
       "1                  0               0            0                  0   \n",
       "2                  0               0            0                  0   \n",
       "3                  0               0            0                  0   \n",
       "4                  0               0            0                  0   \n",
       "\n",
       "   mention_socialist  mention_fascist  mention_communist  mention_nationalist  \\\n",
       "0                  0                0                  0                    0   \n",
       "1                  0                0                  0                    0   \n",
       "2                  0                0                  0                    0   \n",
       "3                  0                0                  0                    0   \n",
       "4                  0                0                  0                    0   \n",
       "\n",
       "   mention_2A  content_source_desc  \n",
       "0           0             Fox News  \n",
       "1           0             Fox News  \n",
       "2           0             Fox News  \n",
       "3           0   The New York Times  \n",
       "4           0                  Vox  \n",
       "\n",
       "[5 rows x 32 columns]"
      ]
     },
     "execution_count": 3,
     "metadata": {},
     "output_type": "execute_result"
    }
   ],
   "source": [
    "corpus_data.head()\n",
    "data_raw.head()"
   ]
  },
  {
   "cell_type": "markdown",
   "metadata": {},
   "source": [
    "### Nouns only"
   ]
  },
  {
   "cell_type": "code",
   "execution_count": 8,
   "metadata": {},
   "outputs": [],
   "source": [
    "def nouns(text):\n",
    "    #get nouns only\n",
    "    is_noun = lambda pos: pos[:2] == 'NN'\n",
    "    tokenized = word_tokenize(text)\n",
    "    all_nouns = [word for (word, pos) in pos_tag(tokenized) if is_noun(pos)] \n",
    "    return ' '.join(all_nouns)"
   ]
  },
  {
   "cell_type": "code",
   "execution_count": 12,
   "metadata": {},
   "outputs": [
    {
     "data": {
      "text/html": [
       "<div>\n",
       "<style scoped>\n",
       "    .dataframe tbody tr th:only-of-type {\n",
       "        vertical-align: middle;\n",
       "    }\n",
       "\n",
       "    .dataframe tbody tr th {\n",
       "        vertical-align: top;\n",
       "    }\n",
       "\n",
       "    .dataframe thead th {\n",
       "        text-align: right;\n",
       "    }\n",
       "</style>\n",
       "<table border=\"1\" class=\"dataframe\">\n",
       "  <thead>\n",
       "    <tr style=\"text-align: right;\">\n",
       "      <th></th>\n",
       "      <th>content_body_clean</th>\n",
       "    </tr>\n",
       "  </thead>\n",
       "  <tbody>\n",
       "    <tr>\n",
       "      <th>0</th>\n",
       "      <td>republican congress make moment everyone polit...</td>\n",
       "    </tr>\n",
       "    <tr>\n",
       "      <th>1</th>\n",
       "      <td>constitution congress tax defense welfare wash...</td>\n",
       "    </tr>\n",
       "    <tr>\n",
       "      <th>2</th>\n",
       "      <td>casinohotel la strip sell tuesday year constru...</td>\n",
       "    </tr>\n",
       "    <tr>\n",
       "      <th>3</th>\n",
       "      <td>earnings incentive company continue profit tax...</td>\n",
       "    </tr>\n",
       "    <tr>\n",
       "      <th>4</th>\n",
       "      <td>hurricane harvey human toll gulf coast kill pe...</td>\n",
       "    </tr>\n",
       "    <tr>\n",
       "      <th>...</th>\n",
       "      <td>...</td>\n",
       "    </tr>\n",
       "    <tr>\n",
       "      <th>1909</th>\n",
       "      <td>oct file photo president nicolas speaks press ...</td>\n",
       "    </tr>\n",
       "    <tr>\n",
       "      <th>1910</th>\n",
       "      <td>man watch stock price board brokerage house st...</td>\n",
       "    </tr>\n",
       "    <tr>\n",
       "      <th>1911</th>\n",
       "      <td>draining aquifer portion state stream cause fi...</td>\n",
       "    </tr>\n",
       "    <tr>\n",
       "      <th>1912</th>\n",
       "      <td>atks wallop island va sunday rocket cargo spac...</td>\n",
       "    </tr>\n",
       "    <tr>\n",
       "      <th>1913</th>\n",
       "      <td>dentist engineering degree curiosity sense adv...</td>\n",
       "    </tr>\n",
       "  </tbody>\n",
       "</table>\n",
       "<p>1914 rows × 1 columns</p>\n",
       "</div>"
      ],
      "text/plain": [
       "                                     content_body_clean\n",
       "0     republican congress make moment everyone polit...\n",
       "1     constitution congress tax defense welfare wash...\n",
       "2     casinohotel la strip sell tuesday year constru...\n",
       "3     earnings incentive company continue profit tax...\n",
       "4     hurricane harvey human toll gulf coast kill pe...\n",
       "...                                                 ...\n",
       "1909  oct file photo president nicolas speaks press ...\n",
       "1910  man watch stock price board brokerage house st...\n",
       "1911  draining aquifer portion state stream cause fi...\n",
       "1912  atks wallop island va sunday rocket cargo spac...\n",
       "1913  dentist engineering degree curiosity sense adv...\n",
       "\n",
       "[1914 rows x 1 columns]"
      ]
     },
     "execution_count": 12,
     "metadata": {},
     "output_type": "execute_result"
    }
   ],
   "source": [
    "data_nouns = pd.DataFrame(corpus_data[\"content_body_clean\"].apply(nouns))\n",
    "data_nouns"
   ]
  },
  {
   "cell_type": "code",
   "execution_count": 9,
   "metadata": {},
   "outputs": [],
   "source": [
    "#add some common words to the stopwords that we do not want\n",
    "new_stopwords = stopwords.words('english') + ['like', 'im', 'know', 'just', 'dont', 'thats', 'right', \n",
    "                                              'youre', 'got', 'gonna', 'time', 'think', 'yeah', 'said']                       "
   ]
  },
  {
   "cell_type": "markdown",
   "metadata": {},
   "source": [
    "### Trial 2"
   ]
  },
  {
   "cell_type": "code",
   "execution_count": 10,
   "metadata": {},
   "outputs": [],
   "source": [
    "from gensim.utils import simple_preprocess\n",
    "def sent_to_words(sentences):\n",
    "    for sentence in sentences:\n",
    "        yield(simple_preprocess(str(sentence), deacc=False))  # deacc=True removes punctuations"
   ]
  },
  {
   "cell_type": "code",
   "execution_count": 11,
   "metadata": {},
   "outputs": [
    {
     "ename": "NameError",
     "evalue": "name 'data_nouns' is not defined",
     "output_type": "error",
     "traceback": [
      "\u001b[0;31m---------------------------------------------------------------------------\u001b[0m",
      "\u001b[0;31mNameError\u001b[0m                                 Traceback (most recent call last)",
      "\u001b[0;32m<ipython-input-11-56cdc2bf72c5>\u001b[0m in \u001b[0;36m<module>\u001b[0;34m\u001b[0m\n\u001b[0;32m----> 1\u001b[0;31m \u001b[0mdata_words\u001b[0m \u001b[0;34m=\u001b[0m \u001b[0mlist\u001b[0m\u001b[0;34m(\u001b[0m\u001b[0msent_to_words\u001b[0m\u001b[0;34m(\u001b[0m\u001b[0mdata_nouns\u001b[0m\u001b[0;34m[\u001b[0m\u001b[0;34m'content_body_clean'\u001b[0m\u001b[0;34m]\u001b[0m\u001b[0;34m)\u001b[0m\u001b[0;34m)\u001b[0m\u001b[0;34m\u001b[0m\u001b[0;34m\u001b[0m\u001b[0m\n\u001b[0m",
      "\u001b[0;31mNameError\u001b[0m: name 'data_nouns' is not defined"
     ]
    }
   ],
   "source": [
    "data_words = list(sent_to_words(data_nouns['content_body_clean']))"
   ]
  },
  {
   "cell_type": "markdown",
   "metadata": {},
   "source": [
    "## Bigrams with Title"
   ]
  },
  {
   "cell_type": "code",
   "execution_count": 13,
   "metadata": {},
   "outputs": [],
   "source": [
    "#clean data\n",
    "def clean_data(text):\n",
    "    #remove punctuation, digits, extra stuff. make lowercase\n",
    "    text = text.lower()\n",
    "    text = re.sub('\\[.*?\\]', '', text)\n",
    "    text = re.sub('[%s]' % re.escape(string.punctuation), '', text)\n",
    "    text = re.sub('\\w*\\d\\w*', '', text)\n",
    "    text = re.sub('[‘’“”…]', '', text)\n",
    "    #lemma it - include POS tag in order to lemma it better\n",
    "    tag_map = defaultdict(lambda : wordnet.NOUN)\n",
    "    tag_map['J'] = wordnet.ADJ\n",
    "    tag_map['V'] = wordnet.VERB\n",
    "    tag_map['R'] = wordnet.ADV\n",
    "    lemmatizer = WordNetLemmatizer()\n",
    "    textTokens = word_tokenize(text)\n",
    "    text = [lemmatizer.lemmatize(tok, tag_map[tag[0]]) for tok, tag in pos_tag(textTokens)]\n",
    "    return \" \".join(text)"
   ]
  },
  {
   "cell_type": "code",
   "execution_count": 16,
   "metadata": {},
   "outputs": [],
   "source": [
    "cdata = data_raw\n",
    "cdata[\"content_body_clean\"] = cdata[\"content_body_clean\"].apply(clean_data)\n",
    "cdata[\"content_title_clean\"] = cdata[\"content_title_clean\"].apply(clean_data)"
   ]
  },
  {
   "cell_type": "code",
   "execution_count": 17,
   "metadata": {},
   "outputs": [],
   "source": [
    "concat_data = pd.DataFrame(columns=['content_id','content_full_clean'])\n",
    "for i in range(0,len(cdata)):\n",
    "    full_content = cdata['content_title_clean'].iloc[i] + \" \" + cdata['content_body_clean'].iloc[i]\n",
    "    concat_data = concat_data.append({'content_id':cdata['content_id'].iloc[i],\n",
    "                                     'content_full_clean':full_content}, ignore_index=True)"
   ]
  },
  {
   "cell_type": "code",
   "execution_count": 18,
   "metadata": {},
   "outputs": [
    {
     "data": {
      "text/html": [
       "<div>\n",
       "<style scoped>\n",
       "    .dataframe tbody tr th:only-of-type {\n",
       "        vertical-align: middle;\n",
       "    }\n",
       "\n",
       "    .dataframe tbody tr th {\n",
       "        vertical-align: top;\n",
       "    }\n",
       "\n",
       "    .dataframe thead th {\n",
       "        text-align: right;\n",
       "    }\n",
       "</style>\n",
       "<table border=\"1\" class=\"dataframe\">\n",
       "  <thead>\n",
       "    <tr style=\"text-align: right;\">\n",
       "      <th></th>\n",
       "      <th>content_id</th>\n",
       "      <th>content_full_clean</th>\n",
       "    </tr>\n",
       "  </thead>\n",
       "  <tbody>\n",
       "    <tr>\n",
       "      <th>0</th>\n",
       "      <td>60</td>\n",
       "      <td>tax reform now failure to act could mean minor...</td>\n",
       "    </tr>\n",
       "    <tr>\n",
       "      <th>1</th>\n",
       "      <td>61</td>\n",
       "      <td>tax reform america need a tax code thats good ...</td>\n",
       "    </tr>\n",
       "    <tr>\n",
       "      <th>2</th>\n",
       "      <td>66</td>\n",
       "      <td>longmothballed la vega strip casinohotel sell ...</td>\n",
       "    </tr>\n",
       "    <tr>\n",
       "      <th>3</th>\n",
       "      <td>80</td>\n",
       "      <td>trump tax plan may free up corporate dollar bu...</td>\n",
       "    </tr>\n",
       "    <tr>\n",
       "      <th>4</th>\n",
       "      <td>82</td>\n",
       "      <td>hurricane harvey be a humanitarian disaster it...</td>\n",
       "    </tr>\n",
       "  </tbody>\n",
       "</table>\n",
       "</div>"
      ],
      "text/plain": [
       "  content_id                                 content_full_clean\n",
       "0         60  tax reform now failure to act could mean minor...\n",
       "1         61  tax reform america need a tax code thats good ...\n",
       "2         66  longmothballed la vega strip casinohotel sell ...\n",
       "3         80  trump tax plan may free up corporate dollar bu...\n",
       "4         82  hurricane harvey be a humanitarian disaster it..."
      ]
     },
     "execution_count": 18,
     "metadata": {},
     "output_type": "execute_result"
    }
   ],
   "source": [
    "concat_data.head()"
   ]
  },
  {
   "cell_type": "code",
   "execution_count": 19,
   "metadata": {},
   "outputs": [],
   "source": [
    "cdata_nouns = pd.DataFrame(concat_data[\"content_full_clean\"].apply(nouns))"
   ]
  },
  {
   "cell_type": "code",
   "execution_count": 20,
   "metadata": {},
   "outputs": [],
   "source": [
    "cdata_words = list(sent_to_words(cdata_nouns['content_full_clean']))"
   ]
  },
  {
   "cell_type": "code",
   "execution_count": 21,
   "metadata": {},
   "outputs": [],
   "source": [
    "# Create Dictionary\n",
    "id2word = corpora.Dictionary(cdata_words)\n",
    "# Create Corpus\n",
    "texts = cdata_words\n",
    "# Term Document Frequency\n",
    "tdm = [id2word.doc2bow(text) for text in texts]"
   ]
  },
  {
   "cell_type": "code",
   "execution_count": 23,
   "metadata": {},
   "outputs": [
    {
     "name": "stdout",
     "output_type": "stream",
     "text": [
      "done\n"
     ]
    }
   ],
   "source": [
    "model = []\n",
    "c_s = []\n",
    "nt = []\n",
    "np = []\n",
    "\n",
    "n_topics = range(4,17,1)\n",
    "n_passes = [10,25,50,75,100]\n",
    "\n",
    "for t in n_topics:\n",
    "    for p in n_passes:\n",
    "        this_model = models.LdaMulticore(corpus=tdm, id2word=id2word, num_topics=t, random_state=100,\n",
    "                                chunksize=140, passes=p, per_word_topics=True)\n",
    "        tcoherence_model_lda = CoherenceModel(model=this_model, texts=cdata_words, dictionary=id2word, coherence='c_v')\n",
    "        tcoherence_lda = tcoherence_model_lda.get_coherence()\n",
    "        \n",
    "        model.append(this_model)\n",
    "        c_s.append(tcoherence_lda)\n",
    "        nt.append(t)\n",
    "        np.append(p)\n",
    "print(\"done\")"
   ]
  },
  {
   "cell_type": "code",
   "execution_count": 24,
   "metadata": {},
   "outputs": [],
   "source": [
    "multi_model = {'num_topics':nt, 'num_passes':np, 'model':model, 'coherence_score':c_s}\n",
    "multi_model_df = pd.DataFrame(multi_model)"
   ]
  },
  {
   "cell_type": "code",
   "execution_count": 25,
   "metadata": {},
   "outputs": [],
   "source": [
    "multi_model_df.to_pickle('topic_model_multi.pkl')"
   ]
  },
  {
   "cell_type": "code",
   "execution_count": 26,
   "metadata": {},
   "outputs": [],
   "source": [
    "import seaborn as sns\n",
    "import matplotlib.pyplot as plt"
   ]
  },
  {
   "cell_type": "code",
   "execution_count": 27,
   "metadata": {},
   "outputs": [
    {
     "data": {
      "image/png": "[encoded data removed]",
      "text/plain": [
       "<Figure size 432x288 with 2 Axes>"
      ]
     },
     "metadata": {
      "needs_background": "light"
     },
     "output_type": "display_data"
    }
   ],
   "source": [
    "res = pd.pivot_table(pd.DataFrame(multi_model_df),\n",
    "    values='coherence_score', index='num_topics', columns='num_passes')\n",
    "ax = plt.axes()\n",
    "ax.set_title(\"LDA Model Coherence Performance by Params\")\n",
    "sns.heatmap(res, annot=True)\n",
    "plt.show()"
   ]
  },
  {
   "cell_type": "code",
   "execution_count": 29,
   "metadata": {},
   "outputs": [
    {
     "data": {
      "text/html": [
       "<div>\n",
       "<style scoped>\n",
       "    .dataframe tbody tr th:only-of-type {\n",
       "        vertical-align: middle;\n",
       "    }\n",
       "\n",
       "    .dataframe tbody tr th {\n",
       "        vertical-align: top;\n",
       "    }\n",
       "\n",
       "    .dataframe thead th {\n",
       "        text-align: right;\n",
       "    }\n",
       "</style>\n",
       "<table border=\"1\" class=\"dataframe\">\n",
       "  <thead>\n",
       "    <tr style=\"text-align: right;\">\n",
       "      <th></th>\n",
       "      <th>num_topics</th>\n",
       "      <th>num_passes</th>\n",
       "      <th>model</th>\n",
       "      <th>coherence_score</th>\n",
       "    </tr>\n",
       "  </thead>\n",
       "  <tbody>\n",
       "    <tr>\n",
       "      <th>36</th>\n",
       "      <td>11</td>\n",
       "      <td>25</td>\n",
       "      <td>LdaModel(num_terms=22850, num_topics=11, decay...</td>\n",
       "      <td>0.536352</td>\n",
       "    </tr>\n",
       "  </tbody>\n",
       "</table>\n",
       "</div>"
      ],
      "text/plain": [
       "    num_topics  num_passes                                              model  \\\n",
       "36          11          25  LdaModel(num_terms=22850, num_topics=11, decay...   \n",
       "\n",
       "    coherence_score  \n",
       "36         0.536352  "
      ]
     },
     "execution_count": 29,
     "metadata": {},
     "output_type": "execute_result"
    }
   ],
   "source": [
    "multi_model_df[(multi_model_df[\"num_topics\"]==11) & (multi_model_df[\"num_passes\"]==25)]"
   ]
  },
  {
   "cell_type": "code",
   "execution_count": 30,
   "metadata": {},
   "outputs": [
    {
     "name": "stdout",
     "output_type": "stream",
     "text": [
      "Pretty printing has been turned OFF\n"
     ]
    }
   ],
   "source": [
    "pprint(multi_model_df['model'].iloc[36].print_topics())"
   ]
  },
  {
   "cell_type": "code",
   "execution_count": null,
   "metadata": {},
   "outputs": [],
   "source": []
  },
  {
   "cell_type": "code",
   "execution_count": null,
   "metadata": {},
   "outputs": [],
   "source": []
  },
  {
   "cell_type": "code",
   "execution_count": null,
   "metadata": {},
   "outputs": [],
   "source": []
  },
  {
   "cell_type": "markdown",
   "metadata": {},
   "source": [
    "### Apply bigrams"
   ]
  },
  {
   "cell_type": "code",
   "execution_count": null,
   "metadata": {},
   "outputs": [],
   "source": [
    "def make_bigrams(texts):\n",
    "    return [cbigram_mod[doc] for doc in texts]\n",
    "\n",
    "cdata_words_bigrams = make_bigrams(cdata_words)"
   ]
  },
  {
   "cell_type": "code",
   "execution_count": null,
   "metadata": {},
   "outputs": [],
   "source": []
  },
  {
   "cell_type": "code",
   "execution_count": null,
   "metadata": {},
   "outputs": [],
   "source": []
  },
  {
   "cell_type": "code",
   "execution_count": null,
   "metadata": {},
   "outputs": [],
   "source": []
  },
  {
   "cell_type": "code",
   "execution_count": null,
   "metadata": {},
   "outputs": [],
   "source": []
  },
  {
   "cell_type": "code",
   "execution_count": 124,
   "metadata": {},
   "outputs": [],
   "source": [
    "cdata_nouns = pd.DataFrame(concat_data[\"content_full_clean\"].apply(nouns))"
   ]
  },
  {
   "cell_type": "code",
   "execution_count": 125,
   "metadata": {},
   "outputs": [],
   "source": [
    "cdata_words = list(sent_to_words(cdata_nouns['content_full_clean']))"
   ]
  },
  {
   "cell_type": "code",
   "execution_count": 126,
   "metadata": {},
   "outputs": [],
   "source": [
    "cbigram = models.Phrases(cdata_words, min_count=5, threshold=100) # higher threshold fewer phrases."
   ]
  },
  {
   "cell_type": "code",
   "execution_count": 127,
   "metadata": {},
   "outputs": [],
   "source": [
    "cbigram_mod = models.phrases.Phraser(cbigram)"
   ]
  },
  {
   "cell_type": "code",
   "execution_count": 128,
   "metadata": {},
   "outputs": [],
   "source": [
    "def make_bigrams(texts):\n",
    "    return [cbigram_mod[doc] for doc in texts]\n",
    "\n",
    "cdata_words_bigrams = make_bigrams(cdata_words)"
   ]
  },
  {
   "cell_type": "code",
   "execution_count": 129,
   "metadata": {},
   "outputs": [],
   "source": [
    "# Create Dictionary\n",
    "id2word_bg = corpora.Dictionary(cdata_words_bigrams)\n",
    "# Create Corpus\n",
    "texts_bg = cdata_words_bigrams\n",
    "# Term Document Frequency\n",
    "tdm_bg = [id2word_bg.doc2bow(text) for text in texts_bg]"
   ]
  },
  {
   "cell_type": "code",
   "execution_count": 144,
   "metadata": {},
   "outputs": [],
   "source": [
    "bg_model = models.LdaMulticore(corpus=corpus, id2word=id2word, num_topics=12, random_state=100,\n",
    "                               chunksize=140, passes=75, per_word_topics=True)\n",
    "ce_model_lda = CoherenceModel(model=this_model, texts=data_words, dictionary=id2word, coherence='c_v')\n",
    "bg_coherence_lda = ce_model_lda.get_coherence()"
   ]
  },
  {
   "cell_type": "code",
   "execution_count": 145,
   "metadata": {},
   "outputs": [
    {
     "name": "stdout",
     "output_type": "stream",
     "text": [
      "0.49356350592449194\n",
      "[(0,\n",
      "  '0.017*\"rico\" + 0.015*\"island\" + 0.014*\"puerto\" + 0.012*\"space\" + '\n",
      "  '0.010*\"people\" + 0.009*\"hurricane\" + 0.009*\"death\" + 0.008*\"power\" + '\n",
      "  '0.008*\"water\" + 0.007*\"time\"'),\n",
      " (1,\n",
      "  '0.013*\"group\" + 0.011*\"state\" + 0.010*\"immigration\" + 0.007*\"year\" + '\n",
      "  '0.007*\"program\" + 0.006*\"student\" + 0.006*\"school\" + 0.006*\"university\" + '\n",
      "  '0.006*\"country\" + 0.005*\"work\"'),\n",
      " (2,\n",
      "  '0.036*\"woman\" + 0.013*\"time\" + 0.011*\"harassment\" + 0.009*\"weinstein\" + '\n",
      "  '0.009*\"year\" + 0.008*\"men\" + 0.007*\"allegation\" + 0.007*\"hollywood\" + '\n",
      "  '0.007*\"story\" + 0.006*\"people\"'),\n",
      " (3,\n",
      "  '0.035*\"drug\" + 0.021*\"study\" + 0.017*\"health\" + 0.016*\"treatment\" + '\n",
      "  '0.015*\"people\" + 0.014*\"pain\" + 0.014*\"patient\" + 0.011*\"doctor\" + '\n",
      "  '0.010*\"researcher\" + 0.010*\"addiction\"'),\n",
      " (4,\n",
      "  '0.035*\"health\" + 0.021*\"care\" + 0.017*\"trump\" + 0.017*\"state\" + '\n",
      "  '0.015*\"insurance\" + 0.014*\"plan\" + 0.012*\"administration\" + 0.012*\"people\" '\n",
      "  '+ 0.012*\"bill\" + 0.011*\"president\"'),\n",
      " (5,\n",
      "  '0.028*\"climate\" + 0.020*\"change\" + 0.016*\"energy\" + 0.014*\"power\" + '\n",
      "  '0.013*\"coal\" + 0.012*\"gas\" + 0.012*\"plant\" + 0.011*\"city\" + 0.011*\"fuel\" + '\n",
      "  '0.010*\"car\"'),\n",
      " (6,\n",
      "  '0.027*\"company\" + 0.011*\"facebook\" + 0.011*\"twitter\" + 0.010*\"report\" + '\n",
      "  '0.009*\"information\" + 0.009*\"agency\" + 0.009*\"news\" + 0.008*\"employee\" + '\n",
      "  '0.007*\"ad\" + 0.007*\"government\"'),\n",
      " (7,\n",
      "  '0.018*\"percent\" + 0.013*\"company\" + 0.012*\"price\" + 0.011*\"market\" + '\n",
      "  '0.011*\"apple\" + 0.010*\"year\" + 0.008*\"stock\" + 0.007*\"people\" + '\n",
      "  '0.007*\"food\" + 0.007*\"technology\"'),\n",
      " (8,\n",
      "  '0.040*\"trump\" + 0.023*\"president\" + 0.012*\"campaign\" + 0.010*\"house\" + '\n",
      "  '0.010*\"state\" + 0.010*\"news\" + 0.010*\"election\" + 0.008*\"clinton\" + '\n",
      "  '0.007*\"time\" + 0.007*\"party\"'),\n",
      " (9,\n",
      "  '0.059*\"tax\" + 0.023*\"percent\" + 0.015*\"rate\" + 0.013*\"year\" + 0.012*\"cut\" + '\n",
      "  '0.012*\"business\" + 0.012*\"plan\" + 0.011*\"bill\" + 0.010*\"house\" + '\n",
      "  '0.010*\"state\"'),\n",
      " (10,\n",
      "  '0.022*\"people\" + 0.016*\"gun\" + 0.012*\"court\" + 0.010*\"law\" + '\n",
      "  '0.008*\"control\" + 0.007*\"police\" + 0.006*\"state\" + 0.006*\"time\" + '\n",
      "  '0.006*\"case\" + 0.006*\"life\"'),\n",
      " (11,\n",
      "  '0.019*\"hurricane\" + 0.016*\"water\" + 0.015*\"year\" + 0.014*\"area\" + '\n",
      "  '0.013*\"storm\" + 0.009*\"scientist\" + 0.009*\"specie\" + 0.008*\"change\" + '\n",
      "  '0.007*\"home\" + 0.007*\"harvey\"')]\n"
     ]
    }
   ],
   "source": [
    "print(bg_coherence_lda)\n",
    "pprint(bg_model.print_topics())"
   ]
  },
  {
   "cell_type": "code",
   "execution_count": 141,
   "metadata": {},
   "outputs": [
    {
     "data": {
      "text/plain": [
       "3"
      ]
     },
     "execution_count": 141,
     "metadata": {},
     "output_type": "execute_result"
    }
   ],
   "source": [
    "this_doc = id2word_bg.doc2bow(texts_bg[0])\n",
    "len(sorted(bg_model.get_document_topics(this_doc), key=lambda x: x[1], reverse=True))"
   ]
  },
  {
   "cell_type": "code",
   "execution_count": 147,
   "metadata": {},
   "outputs": [],
   "source": [
    "topics = pd.DataFrame(columns=['content_id','content_body_clean','content_title_clean','topic_id1',\n",
    "                               'topic_p1','topic_id2','topic_p2','topic_dist'])\n",
    "\n",
    "for r in range(0,len(data_raw)):\n",
    "    this_doc = id2word.doc2bow(texts_bg[r])\n",
    "    topicID = sorted(bg_model.get_document_topics(this_doc), key=lambda x: x[1], reverse=True)\n",
    "    if len(topicID) > 1:\n",
    "        topicID2 = topicID[1]\n",
    "    else:\n",
    "        topicID2 = [\"\",\"\"]\n",
    "    \n",
    "    topics = topics.append({'content_id': data_raw['content_id'].iloc[r], \n",
    "                            'content_body_clean':data_raw['content_body_clean'].iloc[r],\n",
    "                            'content_title_clean':data_raw['content_title_clean'].iloc[r], \n",
    "                            'topic_id1':topicID[0][0],\n",
    "                            'topic_p1':topicID[0][1], \n",
    "                            'topic_id2':topicID2[0],\n",
    "                            'topic_p2':topicID2[1],\n",
    "                            'topic_dist':bg_model.get_document_topics(this_doc) }, ignore_index=True)"
   ]
  },
  {
   "cell_type": "code",
   "execution_count": 148,
   "metadata": {},
   "outputs": [
    {
     "data": {
      "text/html": [
       "<div>\n",
       "<style scoped>\n",
       "    .dataframe tbody tr th:only-of-type {\n",
       "        vertical-align: middle;\n",
       "    }\n",
       "\n",
       "    .dataframe tbody tr th {\n",
       "        vertical-align: top;\n",
       "    }\n",
       "\n",
       "    .dataframe thead th {\n",
       "        text-align: right;\n",
       "    }\n",
       "</style>\n",
       "<table border=\"1\" class=\"dataframe\">\n",
       "  <thead>\n",
       "    <tr style=\"text-align: right;\">\n",
       "      <th></th>\n",
       "      <th>content_id</th>\n",
       "      <th>content_body_clean</th>\n",
       "      <th>content_title_clean</th>\n",
       "      <th>topic_id1</th>\n",
       "      <th>topic_p1</th>\n",
       "      <th>topic_id2</th>\n",
       "      <th>topic_p2</th>\n",
       "      <th>topic_dist</th>\n",
       "    </tr>\n",
       "  </thead>\n",
       "  <tbody>\n",
       "    <tr>\n",
       "      <td>0</td>\n",
       "      <td>60</td>\n",
       "      <td>republican in congress be at a make or break m...</td>\n",
       "      <td>tax reform now failure to act could mean minor...</td>\n",
       "      <td>9</td>\n",
       "      <td>0.808295</td>\n",
       "      <td>8</td>\n",
       "      <td>0.18727</td>\n",
       "      <td>[(8, 0.18726669), (9, 0.8082982)]</td>\n",
       "    </tr>\n",
       "    <tr>\n",
       "      <td>1</td>\n",
       "      <td>61</td>\n",
       "      <td>the constitution authorize congress to tax ame...</td>\n",
       "      <td>tax reform america need a tax code thats good ...</td>\n",
       "      <td>9</td>\n",
       "      <td>0.825752</td>\n",
       "      <td>2</td>\n",
       "      <td>0.101947</td>\n",
       "      <td>[(2, 0.1019494), (8, 0.028617544), (9, 0.82575...</td>\n",
       "    </tr>\n",
       "    <tr>\n",
       "      <td>2</td>\n",
       "      <td>66</td>\n",
       "      <td>a longmothballed unfinished casinohotel on the...</td>\n",
       "      <td>longmothballed la vega strip casinohotel sell for</td>\n",
       "      <td>5</td>\n",
       "      <td>0.340630</td>\n",
       "      <td>9</td>\n",
       "      <td>0.283061</td>\n",
       "      <td>[(2, 0.14067338), (5, 0.3406284), (7, 0.098336...</td>\n",
       "    </tr>\n",
       "    <tr>\n",
       "      <td>3</td>\n",
       "      <td>80</td>\n",
       "      <td>if taxing foreign earnings that have already a...</td>\n",
       "      <td>trump tax plan may free up corporate dollar bu...</td>\n",
       "      <td>9</td>\n",
       "      <td>0.930557</td>\n",
       "      <td>6</td>\n",
       "      <td>0.0627146</td>\n",
       "      <td>[(6, 0.06271082), (9, 0.9305609)]</td>\n",
       "    </tr>\n",
       "    <tr>\n",
       "      <td>4</td>\n",
       "      <td>82</td>\n",
       "      <td>hurricane harvey have already take an enormous...</td>\n",
       "      <td>hurricane harvey be a humanitarian disaster it...</td>\n",
       "      <td>7</td>\n",
       "      <td>0.435350</td>\n",
       "      <td>11</td>\n",
       "      <td>0.289463</td>\n",
       "      <td>[(5, 0.2714762), (7, 0.4353441), (11, 0.289462...</td>\n",
       "    </tr>\n",
       "    <tr>\n",
       "      <td>...</td>\n",
       "      <td>...</td>\n",
       "      <td>...</td>\n",
       "      <td>...</td>\n",
       "      <td>...</td>\n",
       "      <td>...</td>\n",
       "      <td>...</td>\n",
       "      <td>...</td>\n",
       "      <td>...</td>\n",
       "    </tr>\n",
       "    <tr>\n",
       "      <td>1909</td>\n",
       "      <td>3380</td>\n",
       "      <td>in this oct file photo venezuela president nic...</td>\n",
       "      <td>investor leave venezuela meeting with no clear...</td>\n",
       "      <td>8</td>\n",
       "      <td>0.231179</td>\n",
       "      <td>1</td>\n",
       "      <td>0.221951</td>\n",
       "      <td>[(1, 0.22195064), (2, 0.031456262), (6, 0.1937...</td>\n",
       "    </tr>\n",
       "    <tr>\n",
       "      <td>1910</td>\n",
       "      <td>3381</td>\n",
       "      <td>a man watch stock price board at a brokerage h...</td>\n",
       "      <td>global stock turn low after recent record high</td>\n",
       "      <td>7</td>\n",
       "      <td>0.819152</td>\n",
       "      <td>9</td>\n",
       "      <td>0.138986</td>\n",
       "      <td>[(7, 0.8191529), (9, 0.13898557), (11, 0.02844...</td>\n",
       "    </tr>\n",
       "    <tr>\n",
       "      <td>1911</td>\n",
       "      <td>3382</td>\n",
       "      <td>the draining of a massive aquifer that underli...</td>\n",
       "      <td>rural area at risk a water level drop in massi...</td>\n",
       "      <td>11</td>\n",
       "      <td>0.696730</td>\n",
       "      <td>2</td>\n",
       "      <td>0.179475</td>\n",
       "      <td>[(2, 0.1794671), (5, 0.068339504), (10, 0.0504...</td>\n",
       "    </tr>\n",
       "    <tr>\n",
       "      <td>1912</td>\n",
       "      <td>3383</td>\n",
       "      <td>orbital atks antares rocket lift off from wall...</td>\n",
       "      <td>frozen treat other supply rocket toward space ...</td>\n",
       "      <td>0</td>\n",
       "      <td>0.531346</td>\n",
       "      <td>6</td>\n",
       "      <td>0.226094</td>\n",
       "      <td>[(0, 0.5313386), (1, 0.05577289), (2, 0.055255...</td>\n",
       "    </tr>\n",
       "    <tr>\n",
       "      <td>1913</td>\n",
       "      <td>3384</td>\n",
       "      <td>he a dentist with an engineering degree an ins...</td>\n",
       "      <td>unconventional wisconsin dentist study narwhal</td>\n",
       "      <td>0</td>\n",
       "      <td>0.517823</td>\n",
       "      <td>11</td>\n",
       "      <td>0.281523</td>\n",
       "      <td>[(0, 0.5178196), (1, 0.01823931), (2, 0.021431...</td>\n",
       "    </tr>\n",
       "  </tbody>\n",
       "</table>\n",
       "<p>1914 rows × 8 columns</p>\n",
       "</div>"
      ],
      "text/plain": [
       "     content_id                                 content_body_clean  \\\n",
       "0            60  republican in congress be at a make or break m...   \n",
       "1            61  the constitution authorize congress to tax ame...   \n",
       "2            66  a longmothballed unfinished casinohotel on the...   \n",
       "3            80  if taxing foreign earnings that have already a...   \n",
       "4            82  hurricane harvey have already take an enormous...   \n",
       "...         ...                                                ...   \n",
       "1909       3380  in this oct file photo venezuela president nic...   \n",
       "1910       3381  a man watch stock price board at a brokerage h...   \n",
       "1911       3382  the draining of a massive aquifer that underli...   \n",
       "1912       3383  orbital atks antares rocket lift off from wall...   \n",
       "1913       3384  he a dentist with an engineering degree an ins...   \n",
       "\n",
       "                                    content_title_clean topic_id1  topic_p1  \\\n",
       "0     tax reform now failure to act could mean minor...         9  0.808295   \n",
       "1     tax reform america need a tax code thats good ...         9  0.825752   \n",
       "2     longmothballed la vega strip casinohotel sell for         5  0.340630   \n",
       "3     trump tax plan may free up corporate dollar bu...         9  0.930557   \n",
       "4     hurricane harvey be a humanitarian disaster it...         7  0.435350   \n",
       "...                                                 ...       ...       ...   \n",
       "1909  investor leave venezuela meeting with no clear...         8  0.231179   \n",
       "1910     global stock turn low after recent record high         7  0.819152   \n",
       "1911  rural area at risk a water level drop in massi...        11  0.696730   \n",
       "1912  frozen treat other supply rocket toward space ...         0  0.531346   \n",
       "1913     unconventional wisconsin dentist study narwhal         0  0.517823   \n",
       "\n",
       "     topic_id2   topic_p2                                         topic_dist  \n",
       "0            8    0.18727                  [(8, 0.18726669), (9, 0.8082982)]  \n",
       "1            2   0.101947  [(2, 0.1019494), (8, 0.028617544), (9, 0.82575...  \n",
       "2            9   0.283061  [(2, 0.14067338), (5, 0.3406284), (7, 0.098336...  \n",
       "3            6  0.0627146                  [(6, 0.06271082), (9, 0.9305609)]  \n",
       "4           11   0.289463  [(5, 0.2714762), (7, 0.4353441), (11, 0.289462...  \n",
       "...        ...        ...                                                ...  \n",
       "1909         1   0.221951  [(1, 0.22195064), (2, 0.031456262), (6, 0.1937...  \n",
       "1910         9   0.138986  [(7, 0.8191529), (9, 0.13898557), (11, 0.02844...  \n",
       "1911         2   0.179475  [(2, 0.1794671), (5, 0.068339504), (10, 0.0504...  \n",
       "1912         6   0.226094  [(0, 0.5313386), (1, 0.05577289), (2, 0.055255...  \n",
       "1913        11   0.281523  [(0, 0.5178196), (1, 0.01823931), (2, 0.021431...  \n",
       "\n",
       "[1914 rows x 8 columns]"
      ]
     },
     "execution_count": 148,
     "metadata": {},
     "output_type": "execute_result"
    }
   ],
   "source": [
    "topics"
   ]
  },
  {
   "cell_type": "code",
   "execution_count": 149,
   "metadata": {},
   "outputs": [],
   "source": [
    "topics.to_csv(\"Data/article_topics.csv\")"
   ]
  },
  {
   "cell_type": "markdown",
   "metadata": {},
   "source": [
    "### Original"
   ]
  },
  {
   "cell_type": "code",
   "execution_count": null,
   "metadata": {},
   "outputs": [],
   "source": [
    "def sent_to_words(sentences):\n",
    "    for sentence in sentences:\n",
    "        yield(utils.simple_preprocess(str(sentence), deacc=True))  # deacc=True removes punctuations\n",
    "data_raw_list = data_raw['content_body_clean'])tolist()\n",
    "data_words = list(sent_to_words(data))\n",
    "\n",
    "data_words = list(sent_to_words(data_nouns['content_body_clean']))"
   ]
  }
 ],
 "metadata": {
  "kernelspec": {
   "display_name": "Python 3",
   "language": "python",
   "name": "python3"
  },
  "language_info": {
   "codemirror_mode": {
    "name": "ipython",
    "version": 3
   },
   "file_extension": ".py",
   "mimetype": "text/x-python",
   "name": "python",
   "nbconvert_exporter": "python",
   "pygments_lexer": "ipython3",
   "version": "3.7.1"
  }
 },
 "nbformat": 4,
 "nbformat_minor": 2
}
