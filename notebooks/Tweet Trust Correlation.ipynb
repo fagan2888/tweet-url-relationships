{
 "cells": [
  {
   "cell_type": "markdown",
   "metadata": {
    "colab_type": "text",
    "id": "QzZmsh165ZFd"
   },
   "source": [
    "# Twitter Trust Correlation"
   ]
  },
  {
   "cell_type": "code",
   "execution_count": 0,
   "metadata": {
    "colab": {},
    "colab_type": "code",
    "id": "PdQ9nCaO5ZFf"
   },
   "outputs": [],
   "source": [
    "import pandas as pd\n",
    "import numpy as np\n",
    "import pickle as pk"
   ]
  },
  {
   "cell_type": "code",
   "execution_count": 2,
   "metadata": {
    "colab": {
     "base_uri": "https://localhost:8080/",
     "height": 122
    },
    "colab_type": "code",
    "id": "FW342WdoYkXO",
    "outputId": "d9a14f55-a8db-43b9-a170-6a600ef8699e"
   },
   "outputs": [
    {
     "name": "stdout",
     "output_type": "stream",
     "text": [
      "Go to this URL in a browser: https://accounts.google.com/o/oauth2/auth?client_id=947318989803-6bn6qk8qdgf4n4g3pfee6491hc0brc4i.apps.googleusercontent.com&redirect_uri=urn%3aietf%3awg%3aoauth%3a2.0%3aoob&response_type=code&scope=email%20https%3a%2f%2fwww.googleapis.com%2fauth%2fdocs.test%20https%3a%2f%2fwww.googleapis.com%2fauth%2fdrive%20https%3a%2f%2fwww.googleapis.com%2fauth%2fdrive.photos.readonly%20https%3a%2f%2fwww.googleapis.com%2fauth%2fpeopleapi.readonly\n",
      "\n",
      "Enter your authorization code:\n",
      "··········\n",
      "Mounted at /content/drive\n"
     ]
    }
   ],
   "source": [
    "from google.colab import drive\n",
    "drive.mount('/content/drive')"
   ]
  },
  {
   "cell_type": "code",
   "execution_count": 3,
   "metadata": {
    "colab": {
     "base_uri": "https://localhost:8080/",
     "height": 204
    },
    "colab_type": "code",
    "id": "8RIosm9M5fs4",
    "outputId": "42aeb830-e97b-4b7b-d864-e990d3d98245"
   },
   "outputs": [
    {
     "name": "stdout",
     "output_type": "stream",
     "text": [
      "--2020-04-06 01:06:04--  http://muftayebaly.com/dropbox/all.csv\n",
      "Resolving muftayebaly.com (muftayebaly.com)... 107.180.20.85\n",
      "Connecting to muftayebaly.com (muftayebaly.com)|107.180.20.85|:80... connected.\n",
      "HTTP request sent, awaiting response... 200 OK\n",
      "Length: 55905549 (53M) [text/csv]\n",
      "Saving to: ‘all.csv’\n",
      "\n",
      "all.csv             100%[===================>]  53.32M  11.9MB/s    in 6.6s    \n",
      "\n",
      "2020-04-06 01:06:11 (8.03 MB/s) - ‘all.csv’ saved [55905549/55905549]\n",
      "\n"
     ]
    }
   ],
   "source": [
    "!wget http://muftayebaly.com/dropbox/all.csv"
   ]
  },
  {
   "cell_type": "code",
   "execution_count": 4,
   "metadata": {
    "colab": {
     "base_uri": "https://localhost:8080/",
     "height": 224
    },
    "colab_type": "code",
    "id": "7Pilz_Vo6Tbx",
    "outputId": "c00b073e-d4a4-46e9-a875-dd38dc9f1fb3"
   },
   "outputs": [
    {
     "name": "stdout",
     "output_type": "stream",
     "text": [
      "--2020-04-06 01:06:18--  https://raw.githubusercontent.com/harish-cu/tweet-url-relationships/master/data/raw/knight_data_articles.csv\n",
      "Resolving raw.githubusercontent.com (raw.githubusercontent.com)... 151.101.0.133, 151.101.64.133, 151.101.128.133, ...\n",
      "Connecting to raw.githubusercontent.com (raw.githubusercontent.com)|151.101.0.133|:443... connected.\n",
      "HTTP request sent, awaiting response... 200 OK\n",
      "Length: 9186850 (8.8M) [text/plain]\n",
      "Saving to: ‘knight_data_articles.csv’\n",
      "\n",
      "knight_data_article 100%[===================>]   8.76M  --.-KB/s    in 0.04s   \n",
      "\n",
      "2020-04-06 01:06:20 (220 MB/s) - ‘knight_data_articles.csv’ saved [9186850/9186850]\n",
      "\n"
     ]
    }
   ],
   "source": [
    "!wget https://raw.githubusercontent.com/harish-cu/tweet-url-relationships/master/data/raw/knight_data_articles.csv"
   ]
  },
  {
   "cell_type": "code",
   "execution_count": 5,
   "metadata": {
    "colab": {
     "base_uri": "https://localhost:8080/",
     "height": 224
    },
    "colab_type": "code",
    "id": "-b4vob0d6Ym0",
    "outputId": "68d51c89-5b2c-49e8-bf79-17c57bc05a49"
   },
   "outputs": [
    {
     "name": "stdout",
     "output_type": "stream",
     "text": [
      "--2020-04-06 01:06:25--  https://raw.githubusercontent.com/harish-cu/tweet-url-relationships/master/data/raw/knight_data_urls.csv\n",
      "Resolving raw.githubusercontent.com (raw.githubusercontent.com)... 151.101.0.133, 151.101.64.133, 151.101.128.133, ...\n",
      "Connecting to raw.githubusercontent.com (raw.githubusercontent.com)|151.101.0.133|:443... connected.\n",
      "HTTP request sent, awaiting response... 200 OK\n",
      "Length: 9199526 (8.8M) [text/plain]\n",
      "Saving to: ‘knight_data_urls.csv’\n",
      "\n",
      "knight_data_urls.cs 100%[===================>]   8.77M  --.-KB/s    in 0.06s   \n",
      "\n",
      "2020-04-06 01:06:27 (152 MB/s) - ‘knight_data_urls.csv’ saved [9199526/9199526]\n",
      "\n"
     ]
    }
   ],
   "source": [
    "!wget https://raw.githubusercontent.com/harish-cu/tweet-url-relationships/master/data/raw/knight_data_urls.csv"
   ]
  },
  {
   "cell_type": "code",
   "execution_count": 6,
   "metadata": {
    "colab": {
     "base_uri": "https://localhost:8080/",
     "height": 394
    },
    "colab_type": "code",
    "id": "GATYp9kP5ZFo",
    "outputId": "282eebfc-9431-498a-a001-2a81160f29d9"
   },
   "outputs": [
    {
     "data": {
      "text/html": [
       "<div>\n",
       "<style scoped>\n",
       "    .dataframe tbody tr th:only-of-type {\n",
       "        vertical-align: middle;\n",
       "    }\n",
       "\n",
       "    .dataframe tbody tr th {\n",
       "        vertical-align: top;\n",
       "    }\n",
       "\n",
       "    .dataframe thead th {\n",
       "        text-align: right;\n",
       "    }\n",
       "</style>\n",
       "<table border=\"1\" class=\"dataframe\">\n",
       "  <thead>\n",
       "    <tr style=\"text-align: right;\">\n",
       "      <th></th>\n",
       "      <th>content_id</th>\n",
       "      <th>content_body_clean</th>\n",
       "      <th>content_title_clean</th>\n",
       "      <th>label</th>\n",
       "      <th>economy</th>\n",
       "      <th>topic2</th>\n",
       "      <th>science</th>\n",
       "      <th>mention_Trump</th>\n",
       "      <th>mention_Clinton</th>\n",
       "      <th>mention_Democrat</th>\n",
       "      <th>mention_Republican</th>\n",
       "      <th>mention_GOP</th>\n",
       "      <th>mention_Administration</th>\n",
       "      <th>mention_political</th>\n",
       "      <th>mention_voters</th>\n",
       "      <th>mention_campaign</th>\n",
       "      <th>mention_climate</th>\n",
       "      <th>mention_abortion</th>\n",
       "      <th>mention_immigration</th>\n",
       "      <th>mention_trade</th>\n",
       "      <th>mention_immigrants</th>\n",
       "      <th>mention_border</th>\n",
       "      <th>mention_terrorist</th>\n",
       "      <th>mention_attack</th>\n",
       "      <th>mention_NRA</th>\n",
       "      <th>mention_sanctuary</th>\n",
       "      <th>mention_socialist</th>\n",
       "      <th>mention_fascist</th>\n",
       "      <th>mention_communist</th>\n",
       "      <th>mention_nationalist</th>\n",
       "      <th>mention_2A</th>\n",
       "      <th>content_source_desc</th>\n",
       "    </tr>\n",
       "  </thead>\n",
       "  <tbody>\n",
       "    <tr>\n",
       "      <th>0</th>\n",
       "      <td>60</td>\n",
       "      <td>Republicans in Congress are at a make or break...</td>\n",
       "      <td>Tax reform now -- failure to act could mean mi...</td>\n",
       "      <td>9</td>\n",
       "      <td>1</td>\n",
       "      <td>0</td>\n",
       "      <td>0</td>\n",
       "      <td>1</td>\n",
       "      <td>0</td>\n",
       "      <td>0</td>\n",
       "      <td>1</td>\n",
       "      <td>1</td>\n",
       "      <td>0</td>\n",
       "      <td>1</td>\n",
       "      <td>0</td>\n",
       "      <td>1</td>\n",
       "      <td>0</td>\n",
       "      <td>0</td>\n",
       "      <td>0</td>\n",
       "      <td>0</td>\n",
       "      <td>0</td>\n",
       "      <td>0</td>\n",
       "      <td>0</td>\n",
       "      <td>0</td>\n",
       "      <td>0</td>\n",
       "      <td>0</td>\n",
       "      <td>0</td>\n",
       "      <td>0</td>\n",
       "      <td>0</td>\n",
       "      <td>0</td>\n",
       "      <td>0</td>\n",
       "      <td>Fox News</td>\n",
       "    </tr>\n",
       "    <tr>\n",
       "      <th>1</th>\n",
       "      <td>61</td>\n",
       "      <td>The Constitution authorizes Congress to tax Am...</td>\n",
       "      <td>Tax reform -- America needs a tax code that's ...</td>\n",
       "      <td>9</td>\n",
       "      <td>1</td>\n",
       "      <td>0</td>\n",
       "      <td>0</td>\n",
       "      <td>1</td>\n",
       "      <td>0</td>\n",
       "      <td>0</td>\n",
       "      <td>0</td>\n",
       "      <td>0</td>\n",
       "      <td>0</td>\n",
       "      <td>0</td>\n",
       "      <td>0</td>\n",
       "      <td>0</td>\n",
       "      <td>0</td>\n",
       "      <td>0</td>\n",
       "      <td>0</td>\n",
       "      <td>0</td>\n",
       "      <td>0</td>\n",
       "      <td>0</td>\n",
       "      <td>0</td>\n",
       "      <td>0</td>\n",
       "      <td>0</td>\n",
       "      <td>0</td>\n",
       "      <td>0</td>\n",
       "      <td>0</td>\n",
       "      <td>0</td>\n",
       "      <td>0</td>\n",
       "      <td>0</td>\n",
       "      <td>Fox News</td>\n",
       "    </tr>\n",
       "    <tr>\n",
       "      <th>2</th>\n",
       "      <td>66</td>\n",
       "      <td>A long-mothballed, unfinished casino-hotel on ...</td>\n",
       "      <td>Long-mothballed Las Vegas Strip casino-hotel s...</td>\n",
       "      <td>0</td>\n",
       "      <td>1</td>\n",
       "      <td>0</td>\n",
       "      <td>0</td>\n",
       "      <td>0</td>\n",
       "      <td>0</td>\n",
       "      <td>0</td>\n",
       "      <td>0</td>\n",
       "      <td>0</td>\n",
       "      <td>0</td>\n",
       "      <td>0</td>\n",
       "      <td>0</td>\n",
       "      <td>0</td>\n",
       "      <td>0</td>\n",
       "      <td>0</td>\n",
       "      <td>0</td>\n",
       "      <td>0</td>\n",
       "      <td>0</td>\n",
       "      <td>0</td>\n",
       "      <td>0</td>\n",
       "      <td>0</td>\n",
       "      <td>0</td>\n",
       "      <td>0</td>\n",
       "      <td>0</td>\n",
       "      <td>0</td>\n",
       "      <td>0</td>\n",
       "      <td>0</td>\n",
       "      <td>0</td>\n",
       "      <td>Fox News</td>\n",
       "    </tr>\n",
       "    <tr>\n",
       "      <th>3</th>\n",
       "      <td>80</td>\n",
       "      <td>If taxing foreign earnings that have already a...</td>\n",
       "      <td>Trump Tax Plan May Free Up Corporate Dollars, ...</td>\n",
       "      <td>3</td>\n",
       "      <td>1</td>\n",
       "      <td>0</td>\n",
       "      <td>0</td>\n",
       "      <td>1</td>\n",
       "      <td>0</td>\n",
       "      <td>0</td>\n",
       "      <td>0</td>\n",
       "      <td>0</td>\n",
       "      <td>0</td>\n",
       "      <td>0</td>\n",
       "      <td>0</td>\n",
       "      <td>0</td>\n",
       "      <td>0</td>\n",
       "      <td>0</td>\n",
       "      <td>1</td>\n",
       "      <td>0</td>\n",
       "      <td>0</td>\n",
       "      <td>0</td>\n",
       "      <td>0</td>\n",
       "      <td>0</td>\n",
       "      <td>0</td>\n",
       "      <td>0</td>\n",
       "      <td>0</td>\n",
       "      <td>0</td>\n",
       "      <td>0</td>\n",
       "      <td>0</td>\n",
       "      <td>0</td>\n",
       "      <td>The New York Times</td>\n",
       "    </tr>\n",
       "    <tr>\n",
       "      <th>4</th>\n",
       "      <td>82</td>\n",
       "      <td>Hurricane Harvey has already taken an enormous...</td>\n",
       "      <td>Hurricane Harvey is a humanitarian disaster. I...</td>\n",
       "      <td>5</td>\n",
       "      <td>1</td>\n",
       "      <td>0</td>\n",
       "      <td>0</td>\n",
       "      <td>0</td>\n",
       "      <td>0</td>\n",
       "      <td>0</td>\n",
       "      <td>0</td>\n",
       "      <td>0</td>\n",
       "      <td>0</td>\n",
       "      <td>0</td>\n",
       "      <td>0</td>\n",
       "      <td>0</td>\n",
       "      <td>0</td>\n",
       "      <td>0</td>\n",
       "      <td>0</td>\n",
       "      <td>0</td>\n",
       "      <td>0</td>\n",
       "      <td>0</td>\n",
       "      <td>0</td>\n",
       "      <td>0</td>\n",
       "      <td>0</td>\n",
       "      <td>0</td>\n",
       "      <td>0</td>\n",
       "      <td>0</td>\n",
       "      <td>0</td>\n",
       "      <td>0</td>\n",
       "      <td>0</td>\n",
       "      <td>Vox</td>\n",
       "    </tr>\n",
       "  </tbody>\n",
       "</table>\n",
       "</div>"
      ],
      "text/plain": [
       "   content_id  ... content_source_desc\n",
       "0          60  ...            Fox News\n",
       "1          61  ...            Fox News\n",
       "2          66  ...            Fox News\n",
       "3          80  ...  The New York Times\n",
       "4          82  ...                 Vox\n",
       "\n",
       "[5 rows x 32 columns]"
      ]
     },
     "execution_count": 6,
     "metadata": {
      "tags": []
     },
     "output_type": "execute_result"
    }
   ],
   "source": [
    "raw_data = pd.read_csv(\"knight_data_articles.csv\")\n",
    "raw_data.head()"
   ]
  },
  {
   "cell_type": "code",
   "execution_count": 7,
   "metadata": {
    "colab": {
     "base_uri": "https://localhost:8080/",
     "height": 289
    },
    "colab_type": "code",
    "id": "pNhNnFQL5ZFv",
    "outputId": "099e07a3-df32-4550-d14e-da3acc3f1611"
   },
   "outputs": [
    {
     "data": {
      "text/html": [
       "<div>\n",
       "<style scoped>\n",
       "    .dataframe tbody tr th:only-of-type {\n",
       "        vertical-align: middle;\n",
       "    }\n",
       "\n",
       "    .dataframe tbody tr th {\n",
       "        vertical-align: top;\n",
       "    }\n",
       "\n",
       "    .dataframe thead th {\n",
       "        text-align: right;\n",
       "    }\n",
       "</style>\n",
       "<table border=\"1\" class=\"dataframe\">\n",
       "  <thead>\n",
       "    <tr style=\"text-align: right;\">\n",
       "      <th></th>\n",
       "      <th>content_title_clean</th>\n",
       "      <th>content_body_clean</th>\n",
       "      <th>content_src_url</th>\n",
       "      <th>content_id</th>\n",
       "    </tr>\n",
       "  </thead>\n",
       "  <tbody>\n",
       "    <tr>\n",
       "      <th>0</th>\n",
       "      <td>Tax reform now -- failure to act could mean mi...</td>\n",
       "      <td>Republicans in Congress are at a make or break...</td>\n",
       "      <td>http://www.foxnews.com//opinion/2017/08/30/tax...</td>\n",
       "      <td>60</td>\n",
       "    </tr>\n",
       "    <tr>\n",
       "      <th>1</th>\n",
       "      <td>Tax reform -- America needs a tax code that's ...</td>\n",
       "      <td>The Constitution authorizes Congress to tax Am...</td>\n",
       "      <td>http://www.foxnews.com//opinion/2017/08/30/tax...</td>\n",
       "      <td>61</td>\n",
       "    </tr>\n",
       "    <tr>\n",
       "      <th>2</th>\n",
       "      <td>Long-mothballed Las Vegas Strip casino-hotel s...</td>\n",
       "      <td>A long-mothballed, unfinished casino-hotel on ...</td>\n",
       "      <td>http://www.foxnews.com//us/2017/08/29/long-mot...</td>\n",
       "      <td>66</td>\n",
       "    </tr>\n",
       "    <tr>\n",
       "      <th>3</th>\n",
       "      <td>Trump Tax Plan May Free Up Corporate Dollars, ...</td>\n",
       "      <td>If taxing foreign earnings that have already a...</td>\n",
       "      <td>https://www.nytimes.com/2017/08/29/business/ec...</td>\n",
       "      <td>80</td>\n",
       "    </tr>\n",
       "    <tr>\n",
       "      <th>4</th>\n",
       "      <td>Hurricane Harvey is a humanitarian disaster. I...</td>\n",
       "      <td>Hurricane Harvey has already taken an enormous...</td>\n",
       "      <td>https://www.vox.com/policy-and-politics/2017/8...</td>\n",
       "      <td>82</td>\n",
       "    </tr>\n",
       "  </tbody>\n",
       "</table>\n",
       "</div>"
      ],
      "text/plain": [
       "                                 content_title_clean  ... content_id\n",
       "0  Tax reform now -- failure to act could mean mi...  ...         60\n",
       "1  Tax reform -- America needs a tax code that's ...  ...         61\n",
       "2  Long-mothballed Las Vegas Strip casino-hotel s...  ...         66\n",
       "3  Trump Tax Plan May Free Up Corporate Dollars, ...  ...         80\n",
       "4  Hurricane Harvey is a humanitarian disaster. I...  ...         82\n",
       "\n",
       "[5 rows x 4 columns]"
      ]
     },
     "execution_count": 7,
     "metadata": {
      "tags": []
     },
     "output_type": "execute_result"
    }
   ],
   "source": [
    "raw_urls = pd.read_csv(\"knight_data_urls.csv\")\n",
    "raw_urls.head()"
   ]
  },
  {
   "cell_type": "code",
   "execution_count": 8,
   "metadata": {
    "colab": {
     "base_uri": "https://localhost:8080/",
     "height": 762
    },
    "colab_type": "code",
    "id": "tfGVCdYq5ZGE",
    "outputId": "b6a9b390-142e-4e06-b385-ed7cd6ede7b1",
    "scrolled": true
   },
   "outputs": [
    {
     "data": {
      "text/html": [
       "<div>\n",
       "<style scoped>\n",
       "    .dataframe tbody tr th:only-of-type {\n",
       "        vertical-align: middle;\n",
       "    }\n",
       "\n",
       "    .dataframe tbody tr th {\n",
       "        vertical-align: top;\n",
       "    }\n",
       "\n",
       "    .dataframe thead th {\n",
       "        text-align: right;\n",
       "    }\n",
       "</style>\n",
       "<table border=\"1\" class=\"dataframe\">\n",
       "  <thead>\n",
       "    <tr style=\"text-align: right;\">\n",
       "      <th></th>\n",
       "      <th>tweet_id</th>\n",
       "      <th>tweet_text</th>\n",
       "      <th>user_id</th>\n",
       "      <th>tweet_time</th>\n",
       "      <th>no_favs</th>\n",
       "      <th>no_retweets</th>\n",
       "      <th>urls</th>\n",
       "    </tr>\n",
       "  </thead>\n",
       "  <tbody>\n",
       "    <tr>\n",
       "      <th>0</th>\n",
       "      <td>851485433003421701</td>\n",
       "      <td>#Trump’s border wall would be an ecological an...</td>\n",
       "      <td>613521891</td>\n",
       "      <td>2017-04-10T17:22:01.000Z</td>\n",
       "      <td>0</td>\n",
       "      <td>0</td>\n",
       "      <td>https://www.vox.com/energy-and-environment/201...</td>\n",
       "    </tr>\n",
       "    <tr>\n",
       "      <th>1</th>\n",
       "      <td>851514117374398464</td>\n",
       "      <td>#Trump’s border wall would be an ecological an...</td>\n",
       "      <td>222481411</td>\n",
       "      <td>2017-04-10T19:16:00.000Z</td>\n",
       "      <td>0</td>\n",
       "      <td>0</td>\n",
       "      <td>https://www.vox.com/energy-and-environment/201...</td>\n",
       "    </tr>\n",
       "    <tr>\n",
       "      <th>2</th>\n",
       "      <td>855009400670617600</td>\n",
       "      <td>The research and experts are clear: Tougher bo...</td>\n",
       "      <td>2347049341</td>\n",
       "      <td>2017-04-20T10:45:01.000Z</td>\n",
       "      <td>0</td>\n",
       "      <td>0</td>\n",
       "      <td>https://www.vox.com/policy-and-politics/2017/4...</td>\n",
       "    </tr>\n",
       "    <tr>\n",
       "      <th>3</th>\n",
       "      <td>855009683542728704</td>\n",
       "      <td>Hmmmmmm https://t.co/y3fNx7KuJT</td>\n",
       "      <td>243580387</td>\n",
       "      <td>2017-04-20T10:46:08.000Z</td>\n",
       "      <td>0</td>\n",
       "      <td>0</td>\n",
       "      <td>https://www.vox.com/policy-and-politics/2017/4...</td>\n",
       "    </tr>\n",
       "    <tr>\n",
       "      <th>4</th>\n",
       "      <td>855011873183342592</td>\n",
       "      <td>(psst! It was never about drugs. It's always b...</td>\n",
       "      <td>17889654</td>\n",
       "      <td>2017-04-20T10:54:50.000Z</td>\n",
       "      <td>0</td>\n",
       "      <td>0</td>\n",
       "      <td>https://www.vox.com/policy-and-politics/2017/4...</td>\n",
       "    </tr>\n",
       "    <tr>\n",
       "      <th>...</th>\n",
       "      <td>...</td>\n",
       "      <td>...</td>\n",
       "      <td>...</td>\n",
       "      <td>...</td>\n",
       "      <td>...</td>\n",
       "      <td>...</td>\n",
       "      <td>...</td>\n",
       "    </tr>\n",
       "    <tr>\n",
       "      <th>201868</th>\n",
       "      <td>930566176907853824</td>\n",
       "      <td>Big increase in investment hastening arrival o...</td>\n",
       "      <td>454368263</td>\n",
       "      <td>2017-11-14T22:40:40.000Z</td>\n",
       "      <td>0</td>\n",
       "      <td>0</td>\n",
       "      <td>https://www.nytimes.com/2017/11/13/business/se...</td>\n",
       "    </tr>\n",
       "    <tr>\n",
       "      <th>201869</th>\n",
       "      <td>930571261775876097</td>\n",
       "      <td>As readers of https://t.co/ajmt36bUQU already ...</td>\n",
       "      <td>61681958</td>\n",
       "      <td>2017-11-14T23:00:52.000Z</td>\n",
       "      <td>0</td>\n",
       "      <td>0</td>\n",
       "      <td>https://tytnetwork.com/Investigates/; https://...</td>\n",
       "    </tr>\n",
       "    <tr>\n",
       "      <th>201870</th>\n",
       "      <td>930573435343908864</td>\n",
       "      <td>We’ve been reporting on what FedEx and UPS are...</td>\n",
       "      <td>905632398511046656</td>\n",
       "      <td>2017-11-14T23:09:30.000Z</td>\n",
       "      <td>0</td>\n",
       "      <td>0</td>\n",
       "      <td>https://www.nytimes.com/2017/11/13/business/se...</td>\n",
       "    </tr>\n",
       "    <tr>\n",
       "      <th>201871</th>\n",
       "      <td>930582220800233473</td>\n",
       "      <td>Self-Driving Trucks May Be Closer Than They Ap...</td>\n",
       "      <td>831215040</td>\n",
       "      <td>2017-11-14T23:44:25.000Z</td>\n",
       "      <td>0</td>\n",
       "      <td>0</td>\n",
       "      <td>https://www.nytimes.com/2017/11/13/business/se...</td>\n",
       "    </tr>\n",
       "    <tr>\n",
       "      <th>201872</th>\n",
       "      <td>930585398471901184</td>\n",
       "      <td>When it comes to #selfdriving vehicles, trucks...</td>\n",
       "      <td>1149663985</td>\n",
       "      <td>2017-11-14T23:57:03.000Z</td>\n",
       "      <td>0</td>\n",
       "      <td>0</td>\n",
       "      <td>https://www.nytimes.com/2017/11/13/business/se...</td>\n",
       "    </tr>\n",
       "  </tbody>\n",
       "</table>\n",
       "<p>201873 rows × 7 columns</p>\n",
       "</div>"
      ],
      "text/plain": [
       "                  tweet_id  ...                                               urls\n",
       "0       851485433003421701  ...  https://www.vox.com/energy-and-environment/201...\n",
       "1       851514117374398464  ...  https://www.vox.com/energy-and-environment/201...\n",
       "2       855009400670617600  ...  https://www.vox.com/policy-and-politics/2017/4...\n",
       "3       855009683542728704  ...  https://www.vox.com/policy-and-politics/2017/4...\n",
       "4       855011873183342592  ...  https://www.vox.com/policy-and-politics/2017/4...\n",
       "...                    ...  ...                                                ...\n",
       "201868  930566176907853824  ...  https://www.nytimes.com/2017/11/13/business/se...\n",
       "201869  930571261775876097  ...  https://tytnetwork.com/Investigates/; https://...\n",
       "201870  930573435343908864  ...  https://www.nytimes.com/2017/11/13/business/se...\n",
       "201871  930582220800233473  ...  https://www.nytimes.com/2017/11/13/business/se...\n",
       "201872  930585398471901184  ...  https://www.nytimes.com/2017/11/13/business/se...\n",
       "\n",
       "[201873 rows x 7 columns]"
      ]
     },
     "execution_count": 8,
     "metadata": {
      "tags": []
     },
     "output_type": "execute_result"
    }
   ],
   "source": [
    "raw_tweets = pd.read_csv(\"all.csv\")\n",
    "raw_tweets"
   ]
  },
  {
   "cell_type": "code",
   "execution_count": 0,
   "metadata": {
    "colab": {},
    "colab_type": "code",
    "id": "Q8-Ycnj5Zdqh"
   },
   "outputs": [],
   "source": [
    "import os\n",
    "import shutil"
   ]
  },
  {
   "cell_type": "code",
   "execution_count": 0,
   "metadata": {
    "colab": {},
    "colab_type": "code",
    "id": "fIR291sjZdtR"
   },
   "outputs": [],
   "source": [
    "os.makedirs('drive/My Drive/capstone')"
   ]
  },
  {
   "cell_type": "code",
   "execution_count": 13,
   "metadata": {
    "colab": {
     "base_uri": "https://localhost:8080/",
     "height": 34
    },
    "colab_type": "code",
    "id": "e29EROm4aZLz",
    "outputId": "440330b7-3712-4f10-98d4-f8288ff9d432"
   },
   "outputs": [
    {
     "data": {
      "text/plain": [
       "'drive/My Drive/capstone/knight_data_articles.csv'"
      ]
     },
     "execution_count": 13,
     "metadata": {
      "tags": []
     },
     "output_type": "execute_result"
    }
   ],
   "source": [
    "shutil.copy('knight_data_articles.csv','drive/My Drive/capstone')"
   ]
  },
  {
   "cell_type": "code",
   "execution_count": 0,
   "metadata": {
    "colab": {},
    "colab_type": "code",
    "id": "AHM7AuFKcFB6"
   },
   "outputs": [],
   "source": [
    "lst = ['one','two']\n",
    "savedf = pd.DataFrame(data={\"col1\": lst})\n",
    "savedf.to_csv(\"drive/My Drive/capstone/test1.csv\", sep=',',index=False)"
   ]
  },
  {
   "cell_type": "code",
   "execution_count": 16,
   "metadata": {
    "colab": {
     "base_uri": "https://localhost:8080/",
     "height": 111
    },
    "colab_type": "code",
    "id": "rpckVHhncV1k",
    "outputId": "e644dfe1-a8de-4665-fa57-8c96b2ac4402"
   },
   "outputs": [
    {
     "data": {
      "text/html": [
       "<div>\n",
       "<style scoped>\n",
       "    .dataframe tbody tr th:only-of-type {\n",
       "        vertical-align: middle;\n",
       "    }\n",
       "\n",
       "    .dataframe tbody tr th {\n",
       "        vertical-align: top;\n",
       "    }\n",
       "\n",
       "    .dataframe thead th {\n",
       "        text-align: right;\n",
       "    }\n",
       "</style>\n",
       "<table border=\"1\" class=\"dataframe\">\n",
       "  <thead>\n",
       "    <tr style=\"text-align: right;\">\n",
       "      <th></th>\n",
       "      <th>col1</th>\n",
       "    </tr>\n",
       "  </thead>\n",
       "  <tbody>\n",
       "    <tr>\n",
       "      <th>0</th>\n",
       "      <td>one</td>\n",
       "    </tr>\n",
       "    <tr>\n",
       "      <th>1</th>\n",
       "      <td>two</td>\n",
       "    </tr>\n",
       "  </tbody>\n",
       "</table>\n",
       "</div>"
      ],
      "text/plain": [
       "  col1\n",
       "0  one\n",
       "1  two"
      ]
     },
     "execution_count": 16,
     "metadata": {
      "tags": []
     },
     "output_type": "execute_result"
    }
   ],
   "source": [
    "saveddf = pd.read_csv('drive/My Drive/capstone/test1.csv')\n",
    "saveddf"
   ]
  }
 ],
 "metadata": {
  "accelerator": "GPU",
  "colab": {
   "name": "Tweet to Articles.ipynb",
   "provenance": [],
   "toc_visible": true
  },
  "kernelspec": {
   "display_name": "Python 3",
   "language": "python",
   "name": "python3"
  },
  "language_info": {
   "codemirror_mode": {
    "name": "ipython",
    "version": 3
   },
   "file_extension": ".py",
   "mimetype": "text/x-python",
   "name": "python",
   "nbconvert_exporter": "python",
   "pygments_lexer": "ipython3",
   "version": "3.7.4"
  }
 },
 "nbformat": 4,
 "nbformat_minor": 1
}
